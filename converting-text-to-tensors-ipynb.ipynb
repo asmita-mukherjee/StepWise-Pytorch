{
 "cells": [
  {
   "cell_type": "code",
   "execution_count": 1,
   "id": "31e42be3",
   "metadata": {
    "execution": {
     "iopub.execute_input": "2023-05-02T08:59:38.411607Z",
     "iopub.status.busy": "2023-05-02T08:59:38.410583Z",
     "iopub.status.idle": "2023-05-02T08:59:38.419421Z",
     "shell.execute_reply": "2023-05-02T08:59:38.418694Z"
    },
    "id": "UCJ1kIOnjAEG",
    "papermill": {
     "duration": 0.024529,
     "end_time": "2023-05-02T08:59:38.421300",
     "exception": false,
     "start_time": "2023-05-02T08:59:38.396771",
     "status": "completed"
    },
    "tags": []
   },
   "outputs": [],
   "source": [
    "import pandas as pd"
   ]
  },
  {
   "cell_type": "code",
   "execution_count": 2,
   "id": "17f5f7e0",
   "metadata": {
    "execution": {
     "iopub.execute_input": "2023-05-02T08:59:38.443610Z",
     "iopub.status.busy": "2023-05-02T08:59:38.443212Z",
     "iopub.status.idle": "2023-05-02T08:59:41.893831Z",
     "shell.execute_reply": "2023-05-02T08:59:41.892801Z"
    },
    "id": "Zjhgo1NBjKrG",
    "papermill": {
     "duration": 3.464745,
     "end_time": "2023-05-02T08:59:41.896493",
     "exception": false,
     "start_time": "2023-05-02T08:59:38.431748",
     "status": "completed"
    },
    "tags": []
   },
   "outputs": [],
   "source": [
    "import torch"
   ]
  },
  {
   "cell_type": "code",
   "execution_count": 3,
   "id": "f147367a",
   "metadata": {
    "execution": {
     "iopub.execute_input": "2023-05-02T08:59:41.919037Z",
     "iopub.status.busy": "2023-05-02T08:59:41.918465Z",
     "iopub.status.idle": "2023-05-02T08:59:41.922912Z",
     "shell.execute_reply": "2023-05-02T08:59:41.922206Z"
    },
    "id": "eunczWtDjLrz",
    "papermill": {
     "duration": 0.017694,
     "end_time": "2023-05-02T08:59:41.924821",
     "exception": false,
     "start_time": "2023-05-02T08:59:41.907127",
     "status": "completed"
    },
    "tags": []
   },
   "outputs": [],
   "source": [
    "from torch.utils.data import Dataset\n",
    "from torch.utils.data import DataLoader"
   ]
  },
  {
   "cell_type": "code",
   "execution_count": 4,
   "id": "78fa2b8c",
   "metadata": {
    "execution": {
     "iopub.execute_input": "2023-05-02T08:59:41.947816Z",
     "iopub.status.busy": "2023-05-02T08:59:41.946898Z",
     "iopub.status.idle": "2023-05-02T08:59:41.950901Z",
     "shell.execute_reply": "2023-05-02T08:59:41.950240Z"
    },
    "id": "sM3T1oRcmAuF",
    "papermill": {
     "duration": 0.017338,
     "end_time": "2023-05-02T08:59:41.952770",
     "exception": false,
     "start_time": "2023-05-02T08:59:41.935432",
     "status": "completed"
    },
    "tags": []
   },
   "outputs": [],
   "source": [
    "import torch.nn as nn"
   ]
  },
  {
   "cell_type": "code",
   "execution_count": 5,
   "id": "5e1d9ccf",
   "metadata": {
    "execution": {
     "iopub.execute_input": "2023-05-02T08:59:41.974406Z",
     "iopub.status.busy": "2023-05-02T08:59:41.974047Z",
     "iopub.status.idle": "2023-05-02T08:59:41.977999Z",
     "shell.execute_reply": "2023-05-02T08:59:41.977073Z"
    },
    "papermill": {
     "duration": 0.017174,
     "end_time": "2023-05-02T08:59:41.979972",
     "exception": false,
     "start_time": "2023-05-02T08:59:41.962798",
     "status": "completed"
    },
    "tags": []
   },
   "outputs": [],
   "source": [
    "import gc"
   ]
  },
  {
   "cell_type": "code",
   "execution_count": 6,
   "id": "6a1f085f",
   "metadata": {
    "execution": {
     "iopub.execute_input": "2023-05-02T08:59:42.001505Z",
     "iopub.status.busy": "2023-05-02T08:59:42.001137Z",
     "iopub.status.idle": "2023-05-02T08:59:42.005593Z",
     "shell.execute_reply": "2023-05-02T08:59:42.004607Z"
    },
    "id": "YTyMWAFzpLsM",
    "papermill": {
     "duration": 0.017461,
     "end_time": "2023-05-02T08:59:42.007599",
     "exception": false,
     "start_time": "2023-05-02T08:59:41.990138",
     "status": "completed"
    },
    "tags": []
   },
   "outputs": [],
   "source": [
    "from torch.nn.utils.rnn import pack_padded_sequence,pad_packed_sequence"
   ]
  },
  {
   "cell_type": "code",
   "execution_count": 7,
   "id": "84243ad0",
   "metadata": {
    "execution": {
     "iopub.execute_input": "2023-05-02T08:59:42.028922Z",
     "iopub.status.busy": "2023-05-02T08:59:42.028583Z",
     "iopub.status.idle": "2023-05-02T08:59:51.161824Z",
     "shell.execute_reply": "2023-05-02T08:59:51.160845Z"
    },
    "id": "D5hWD4jlp51U",
    "papermill": {
     "duration": 9.146933,
     "end_time": "2023-05-02T08:59:51.164559",
     "exception": false,
     "start_time": "2023-05-02T08:59:42.017626",
     "status": "completed"
    },
    "tags": []
   },
   "outputs": [
    {
     "name": "stderr",
     "output_type": "stream",
     "text": [
      "/opt/conda/lib/python3.10/site-packages/scipy/__init__.py:146: UserWarning: A NumPy version >=1.16.5 and <1.23.0 is required for this version of SciPy (detected version 1.23.5\n",
      "  warnings.warn(f\"A NumPy version >={np_minversion} and <{np_maxversion}\"\n"
     ]
    }
   ],
   "source": [
    "import spacy"
   ]
  },
  {
   "cell_type": "code",
   "execution_count": 8,
   "id": "cc778dc9",
   "metadata": {
    "execution": {
     "iopub.execute_input": "2023-05-02T08:59:51.187585Z",
     "iopub.status.busy": "2023-05-02T08:59:51.186417Z",
     "iopub.status.idle": "2023-05-02T08:59:51.191042Z",
     "shell.execute_reply": "2023-05-02T08:59:51.190223Z"
    },
    "id": "YWLef1b0sOaP",
    "papermill": {
     "duration": 0.017961,
     "end_time": "2023-05-02T08:59:51.192879",
     "exception": false,
     "start_time": "2023-05-02T08:59:51.174918",
     "status": "completed"
    },
    "tags": []
   },
   "outputs": [],
   "source": [
    "import numpy as np"
   ]
  },
  {
   "cell_type": "code",
   "execution_count": 9,
   "id": "5133f1b0",
   "metadata": {
    "execution": {
     "iopub.execute_input": "2023-05-02T08:59:51.215404Z",
     "iopub.status.busy": "2023-05-02T08:59:51.214714Z",
     "iopub.status.idle": "2023-05-02T08:59:51.305189Z",
     "shell.execute_reply": "2023-05-02T08:59:51.304369Z"
    },
    "id": "WOqwnB-6qnZU",
    "papermill": {
     "duration": 0.104413,
     "end_time": "2023-05-02T08:59:51.307535",
     "exception": false,
     "start_time": "2023-05-02T08:59:51.203122",
     "status": "completed"
    },
    "tags": []
   },
   "outputs": [],
   "source": [
    "from tqdm.notebook import tqdm"
   ]
  },
  {
   "cell_type": "code",
   "execution_count": 10,
   "id": "52ea17f3",
   "metadata": {
    "execution": {
     "iopub.execute_input": "2023-05-02T08:59:51.330628Z",
     "iopub.status.busy": "2023-05-02T08:59:51.329928Z",
     "iopub.status.idle": "2023-05-02T08:59:52.414844Z",
     "shell.execute_reply": "2023-05-02T08:59:52.413918Z"
    },
    "id": "gFj2l09bp8CL",
    "papermill": {
     "duration": 1.09908,
     "end_time": "2023-05-02T08:59:52.417149",
     "exception": false,
     "start_time": "2023-05-02T08:59:51.318069",
     "status": "completed"
    },
    "tags": []
   },
   "outputs": [],
   "source": [
    "sp = spacy.load('en_core_web_sm')"
   ]
  },
  {
   "cell_type": "code",
   "execution_count": 11,
   "id": "4a170c34",
   "metadata": {
    "execution": {
     "iopub.execute_input": "2023-05-02T08:59:52.440486Z",
     "iopub.status.busy": "2023-05-02T08:59:52.439810Z",
     "iopub.status.idle": "2023-05-02T08:59:52.444079Z",
     "shell.execute_reply": "2023-05-02T08:59:52.443145Z"
    },
    "id": "QfnZ4drb0uBs",
    "papermill": {
     "duration": 0.01786,
     "end_time": "2023-05-02T08:59:52.446047",
     "exception": false,
     "start_time": "2023-05-02T08:59:52.428187",
     "status": "completed"
    },
    "tags": []
   },
   "outputs": [],
   "source": [
    "import pickle"
   ]
  },
  {
   "cell_type": "code",
   "execution_count": 12,
   "id": "18dd88f5",
   "metadata": {
    "execution": {
     "iopub.execute_input": "2023-05-02T08:59:52.468474Z",
     "iopub.status.busy": "2023-05-02T08:59:52.467804Z",
     "iopub.status.idle": "2023-05-02T08:59:52.472634Z",
     "shell.execute_reply": "2023-05-02T08:59:52.471683Z"
    },
    "papermill": {
     "duration": 0.018498,
     "end_time": "2023-05-02T08:59:52.474659",
     "exception": false,
     "start_time": "2023-05-02T08:59:52.456161",
     "status": "completed"
    },
    "tags": []
   },
   "outputs": [],
   "source": [
    "def pickle_dump(f_name,obj):\n",
    "  with open(f_name,\"wb\") as f:\n",
    "    pickle.dump(file = f, obj = obj)\n"
   ]
  },
  {
   "cell_type": "code",
   "execution_count": 13,
   "id": "44857e33",
   "metadata": {
    "execution": {
     "iopub.execute_input": "2023-05-02T08:59:52.496331Z",
     "iopub.status.busy": "2023-05-02T08:59:52.495972Z",
     "iopub.status.idle": "2023-05-02T08:59:52.500886Z",
     "shell.execute_reply": "2023-05-02T08:59:52.499928Z"
    },
    "papermill": {
     "duration": 0.018012,
     "end_time": "2023-05-02T08:59:52.502900",
     "exception": false,
     "start_time": "2023-05-02T08:59:52.484888",
     "status": "completed"
    },
    "tags": []
   },
   "outputs": [],
   "source": [
    "def pickle_load(f_name):\n",
    "    with open(f_name,\"rb\") as f:\n",
    "        obj = pickle.load(f)\n",
    "    \n",
    "    return obj"
   ]
  },
  {
   "cell_type": "markdown",
   "id": "e275d3f6",
   "metadata": {
    "id": "DJ7DP8wYixiK",
    "papermill": {
     "duration": 0.009701,
     "end_time": "2023-05-02T08:59:52.522736",
     "exception": false,
     "start_time": "2023-05-02T08:59:52.513035",
     "status": "completed"
    },
    "tags": []
   },
   "source": [
    "### Load Data"
   ]
  },
  {
   "cell_type": "code",
   "execution_count": 14,
   "id": "c226baf8",
   "metadata": {
    "execution": {
     "iopub.execute_input": "2023-05-02T08:59:52.544374Z",
     "iopub.status.busy": "2023-05-02T08:59:52.543953Z",
     "iopub.status.idle": "2023-05-02T08:59:52.909012Z",
     "shell.execute_reply": "2023-05-02T08:59:52.907868Z"
    },
    "id": "b1NJ0DvKiuls",
    "papermill": {
     "duration": 0.378823,
     "end_time": "2023-05-02T08:59:52.911485",
     "exception": false,
     "start_time": "2023-05-02T08:59:52.532662",
     "status": "completed"
    },
    "tags": []
   },
   "outputs": [],
   "source": [
    "data = pd.read_csv(\"/kaggle/input/preprocessed-data/preprocessed_data.csv\")"
   ]
  },
  {
   "cell_type": "code",
   "execution_count": 15,
   "id": "65c0ea75",
   "metadata": {
    "execution": {
     "iopub.execute_input": "2023-05-02T08:59:52.933678Z",
     "iopub.status.busy": "2023-05-02T08:59:52.933282Z",
     "iopub.status.idle": "2023-05-02T08:59:52.940266Z",
     "shell.execute_reply": "2023-05-02T08:59:52.939282Z"
    },
    "papermill": {
     "duration": 0.020639,
     "end_time": "2023-05-02T08:59:52.942466",
     "exception": false,
     "start_time": "2023-05-02T08:59:52.921827",
     "status": "completed"
    },
    "tags": []
   },
   "outputs": [
    {
     "data": {
      "text/plain": [
       "172761"
      ]
     },
     "execution_count": 15,
     "metadata": {},
     "output_type": "execute_result"
    }
   ],
   "source": [
    "len(data)"
   ]
  },
  {
   "cell_type": "code",
   "execution_count": 16,
   "id": "97059626",
   "metadata": {
    "execution": {
     "iopub.execute_input": "2023-05-02T08:59:52.964982Z",
     "iopub.status.busy": "2023-05-02T08:59:52.964240Z",
     "iopub.status.idle": "2023-05-02T08:59:52.969063Z",
     "shell.execute_reply": "2023-05-02T08:59:52.968325Z"
    },
    "papermill": {
     "duration": 0.018163,
     "end_time": "2023-05-02T08:59:52.970992",
     "exception": false,
     "start_time": "2023-05-02T08:59:52.952829",
     "status": "completed"
    },
    "tags": []
   },
   "outputs": [],
   "source": [
    "## since the data is too huge for our capacity, currently naively cutting it down to 70% of the original size. latter we will look into better ways to handle this large data\n",
    "data = data[:int(0.7*len(data))]"
   ]
  },
  {
   "cell_type": "code",
   "execution_count": 17,
   "id": "6f9e6cc0",
   "metadata": {
    "execution": {
     "iopub.execute_input": "2023-05-02T08:59:52.993097Z",
     "iopub.status.busy": "2023-05-02T08:59:52.992426Z",
     "iopub.status.idle": "2023-05-02T08:59:52.998619Z",
     "shell.execute_reply": "2023-05-02T08:59:52.997838Z"
    },
    "papermill": {
     "duration": 0.019515,
     "end_time": "2023-05-02T08:59:53.000591",
     "exception": false,
     "start_time": "2023-05-02T08:59:52.981076",
     "status": "completed"
    },
    "tags": []
   },
   "outputs": [
    {
     "data": {
      "text/plain": [
       "120932"
      ]
     },
     "execution_count": 17,
     "metadata": {},
     "output_type": "execute_result"
    }
   ],
   "source": [
    "len(data)"
   ]
  },
  {
   "cell_type": "code",
   "execution_count": 18,
   "id": "e4faa01b",
   "metadata": {
    "execution": {
     "iopub.execute_input": "2023-05-02T08:59:53.023460Z",
     "iopub.status.busy": "2023-05-02T08:59:53.022302Z",
     "iopub.status.idle": "2023-05-02T08:59:53.046285Z",
     "shell.execute_reply": "2023-05-02T08:59:53.045195Z"
    },
    "id": "Ge4CMP-YjCww",
    "outputId": "1df676d1-c79e-4b05-b45d-d9702c3974f9",
    "papermill": {
     "duration": 0.037563,
     "end_time": "2023-05-02T08:59:53.048408",
     "exception": false,
     "start_time": "2023-05-02T08:59:53.010845",
     "status": "completed"
    },
    "tags": []
   },
   "outputs": [
    {
     "data": {
      "text/html": [
       "<div>\n",
       "<style scoped>\n",
       "    .dataframe tbody tr th:only-of-type {\n",
       "        vertical-align: middle;\n",
       "    }\n",
       "\n",
       "    .dataframe tbody tr th {\n",
       "        vertical-align: top;\n",
       "    }\n",
       "\n",
       "    .dataframe thead th {\n",
       "        text-align: right;\n",
       "    }\n",
       "</style>\n",
       "<table border=\"1\" class=\"dataframe\">\n",
       "  <thead>\n",
       "    <tr style=\"text-align: right;\">\n",
       "      <th></th>\n",
       "      <th>text</th>\n",
       "      <th>emotions</th>\n",
       "    </tr>\n",
       "  </thead>\n",
       "  <tbody>\n",
       "    <tr>\n",
       "      <th>0</th>\n",
       "      <td>probably mention feel proud actually keep new ...</td>\n",
       "      <td>joy</td>\n",
       "    </tr>\n",
       "    <tr>\n",
       "      <th>1</th>\n",
       "      <td>people feel like go grm worthwhile hour</td>\n",
       "      <td>joy</td>\n",
       "    </tr>\n",
       "    <tr>\n",
       "      <th>2</th>\n",
       "      <td>feel especially pleased long time come</td>\n",
       "      <td>joy</td>\n",
       "    </tr>\n",
       "    <tr>\n",
       "      <th>3</th>\n",
       "      <td>struggle awful feeling say sweet thing deserve...</td>\n",
       "      <td>joy</td>\n",
       "    </tr>\n",
       "    <tr>\n",
       "      <th>4</th>\n",
       "      <td>mean stupid trip make great album thing go fee...</td>\n",
       "      <td>joy</td>\n",
       "    </tr>\n",
       "  </tbody>\n",
       "</table>\n",
       "</div>"
      ],
      "text/plain": [
       "                                                text emotions\n",
       "0  probably mention feel proud actually keep new ...      joy\n",
       "1            people feel like go grm worthwhile hour      joy\n",
       "2             feel especially pleased long time come      joy\n",
       "3  struggle awful feeling say sweet thing deserve...      joy\n",
       "4  mean stupid trip make great album thing go fee...      joy"
      ]
     },
     "execution_count": 18,
     "metadata": {},
     "output_type": "execute_result"
    }
   ],
   "source": [
    "data.head()"
   ]
  },
  {
   "cell_type": "code",
   "execution_count": 19,
   "id": "0a81617e",
   "metadata": {
    "execution": {
     "iopub.execute_input": "2023-05-02T08:59:53.071535Z",
     "iopub.status.busy": "2023-05-02T08:59:53.071146Z",
     "iopub.status.idle": "2023-05-02T08:59:53.077644Z",
     "shell.execute_reply": "2023-05-02T08:59:53.076637Z"
    },
    "id": "jM6ieqAujy9t",
    "outputId": "a9094e5e-a80d-4c10-e44e-bcd04a73ef2d",
    "papermill": {
     "duration": 0.020677,
     "end_time": "2023-05-02T08:59:53.079736",
     "exception": false,
     "start_time": "2023-05-02T08:59:53.059059",
     "status": "completed"
    },
    "tags": []
   },
   "outputs": [
    {
     "data": {
      "text/plain": [
       "(24186, 96746)"
      ]
     },
     "execution_count": 19,
     "metadata": {},
     "output_type": "execute_result"
    }
   ],
   "source": [
    "test_data_len = int(0.2*len(data))\n",
    "\n",
    "train_data_len = len(data) - test_data_len\n",
    "\n",
    "test_data_len,train_data_len"
   ]
  },
  {
   "cell_type": "code",
   "execution_count": 20,
   "id": "42e5adc5",
   "metadata": {
    "execution": {
     "iopub.execute_input": "2023-05-02T08:59:53.102955Z",
     "iopub.status.busy": "2023-05-02T08:59:53.102239Z",
     "iopub.status.idle": "2023-05-02T08:59:53.128279Z",
     "shell.execute_reply": "2023-05-02T08:59:53.127370Z"
    },
    "id": "3I4TUNnTkGlB",
    "papermill": {
     "duration": 0.040331,
     "end_time": "2023-05-02T08:59:53.130643",
     "exception": false,
     "start_time": "2023-05-02T08:59:53.090312",
     "status": "completed"
    },
    "tags": []
   },
   "outputs": [],
   "source": [
    "data = data.sample(frac = 1).reset_index(drop=True)"
   ]
  },
  {
   "cell_type": "code",
   "execution_count": 21,
   "id": "8061b68e",
   "metadata": {
    "execution": {
     "iopub.execute_input": "2023-05-02T08:59:53.153969Z",
     "iopub.status.busy": "2023-05-02T08:59:53.153249Z",
     "iopub.status.idle": "2023-05-02T08:59:53.161529Z",
     "shell.execute_reply": "2023-05-02T08:59:53.160613Z"
    },
    "id": "pE2e8QFJjwkS",
    "papermill": {
     "duration": 0.022274,
     "end_time": "2023-05-02T08:59:53.163594",
     "exception": false,
     "start_time": "2023-05-02T08:59:53.141320",
     "status": "completed"
    },
    "tags": []
   },
   "outputs": [],
   "source": [
    "train_data,test_data = data.loc[:train_data_len,:],data.loc[train_data_len:train_data_len+test_data_len,:]"
   ]
  },
  {
   "cell_type": "code",
   "execution_count": 22,
   "id": "0bf1b63a",
   "metadata": {
    "execution": {
     "iopub.execute_input": "2023-05-02T08:59:53.186896Z",
     "iopub.status.busy": "2023-05-02T08:59:53.186315Z",
     "iopub.status.idle": "2023-05-02T08:59:53.192552Z",
     "shell.execute_reply": "2023-05-02T08:59:53.191614Z"
    },
    "id": "hic0lpBOkdBr",
    "outputId": "3bced50c-6abe-44ae-f22c-e403c78f8424",
    "papermill": {
     "duration": 0.019909,
     "end_time": "2023-05-02T08:59:53.194422",
     "exception": false,
     "start_time": "2023-05-02T08:59:53.174513",
     "status": "completed"
    },
    "tags": []
   },
   "outputs": [
    {
     "data": {
      "text/plain": [
       "(96747, 24186)"
      ]
     },
     "execution_count": 22,
     "metadata": {},
     "output_type": "execute_result"
    }
   ],
   "source": [
    "len(train_data),len(test_data)"
   ]
  },
  {
   "cell_type": "code",
   "execution_count": 23,
   "id": "6790bf5a",
   "metadata": {
    "execution": {
     "iopub.execute_input": "2023-05-02T08:59:53.217287Z",
     "iopub.status.busy": "2023-05-02T08:59:53.216919Z",
     "iopub.status.idle": "2023-05-02T08:59:53.486568Z",
     "shell.execute_reply": "2023-05-02T08:59:53.485610Z"
    },
    "papermill": {
     "duration": 0.284673,
     "end_time": "2023-05-02T08:59:53.489790",
     "exception": false,
     "start_time": "2023-05-02T08:59:53.205117",
     "status": "completed"
    },
    "tags": []
   },
   "outputs": [
    {
     "data": {
      "text/plain": [
       "515"
      ]
     },
     "execution_count": 23,
     "metadata": {},
     "output_type": "execute_result"
    }
   ],
   "source": [
    "del data\n",
    "gc.collect()"
   ]
  },
  {
   "cell_type": "markdown",
   "id": "cba6bbc2",
   "metadata": {
    "id": "eOjHW88RjFXC",
    "papermill": {
     "duration": 0.010646,
     "end_time": "2023-05-02T08:59:53.511278",
     "exception": false,
     "start_time": "2023-05-02T08:59:53.500632",
     "status": "completed"
    },
    "tags": []
   },
   "source": [
    "### Custom Dataset for handling data"
   ]
  },
  {
   "cell_type": "markdown",
   "id": "22815fb6",
   "metadata": {
    "id": "VoUU77KmHx7l",
    "papermill": {
     "duration": 0.010753,
     "end_time": "2023-05-02T08:59:53.532912",
     "exception": false,
     "start_time": "2023-05-02T08:59:53.522159",
     "status": "completed"
    },
    "tags": []
   },
   "source": [
    "## Generating Vocacb from the text\n",
    "> Why is it required? \n",
    "We cannot feed a string of text to pytorch, it deals with tensors , for which we will need to convert the text to tensor. One method could be to give the index of the word in the vocab\n",
    "\n",
    "For Ex: Text : I have an apple.\n",
    "index of I in vocab : 10\n",
    "index of have in vocab : 20\n",
    "index of an in vocab : 5\n",
    "index of an apple : 6\n",
    "\n",
    "hence,\n",
    "input : [10,20,5,6]"
   ]
  },
  {
   "cell_type": "code",
   "execution_count": 24,
   "id": "cb91e590",
   "metadata": {
    "execution": {
     "iopub.execute_input": "2023-05-02T08:59:53.557051Z",
     "iopub.status.busy": "2023-05-02T08:59:53.556313Z",
     "iopub.status.idle": "2023-05-02T08:59:53.561031Z",
     "shell.execute_reply": "2023-05-02T08:59:53.560235Z"
    },
    "id": "5o5tepmNIpRX",
    "papermill": {
     "duration": 0.019117,
     "end_time": "2023-05-02T08:59:53.563049",
     "exception": false,
     "start_time": "2023-05-02T08:59:53.543932",
     "status": "completed"
    },
    "tags": []
   },
   "outputs": [],
   "source": [
    "def yield_tokens(list_of_text):\n",
    "  '''\n",
    "    Will return an iterator containing the tokens of each sen\n",
    "  '''\n",
    "  for text in list_of_text:\n",
    "    yield text.strip().split()"
   ]
  },
  {
   "cell_type": "code",
   "execution_count": 25,
   "id": "57c19cd9",
   "metadata": {
    "execution": {
     "iopub.execute_input": "2023-05-02T08:59:53.586662Z",
     "iopub.status.busy": "2023-05-02T08:59:53.586284Z",
     "iopub.status.idle": "2023-05-02T08:59:54.710114Z",
     "shell.execute_reply": "2023-05-02T08:59:54.709189Z"
    },
    "id": "iOy5h7l8IcrX",
    "papermill": {
     "duration": 1.138523,
     "end_time": "2023-05-02T08:59:54.712575",
     "exception": false,
     "start_time": "2023-05-02T08:59:53.574052",
     "status": "completed"
    },
    "tags": []
   },
   "outputs": [],
   "source": [
    "from torchtext.vocab import build_vocab_from_iterator\n",
    "vocab = build_vocab_from_iterator(yield_tokens(train_data.text),specials=[\"<unk>\"])\n",
    "\n",
    "vocab.set_default_index(vocab['<unk>'])"
   ]
  },
  {
   "cell_type": "code",
   "execution_count": 26,
   "id": "d142954c",
   "metadata": {
    "execution": {
     "iopub.execute_input": "2023-05-02T08:59:54.736293Z",
     "iopub.status.busy": "2023-05-02T08:59:54.735643Z",
     "iopub.status.idle": "2023-05-02T08:59:54.741122Z",
     "shell.execute_reply": "2023-05-02T08:59:54.740437Z"
    },
    "id": "uvVyd8rHJfyr",
    "outputId": "6e99534e-a120-4016-f1b1-6fd038eafc4d",
    "papermill": {
     "duration": 0.019554,
     "end_time": "2023-05-02T08:59:54.743090",
     "exception": false,
     "start_time": "2023-05-02T08:59:54.723536",
     "status": "completed"
    },
    "tags": []
   },
   "outputs": [
    {
     "data": {
      "text/plain": [
       "575"
      ]
     },
     "execution_count": 26,
     "metadata": {},
     "output_type": "execute_result"
    }
   ],
   "source": [
    "vocab[\"pleased\"]"
   ]
  },
  {
   "cell_type": "code",
   "execution_count": 27,
   "id": "6ab1f878",
   "metadata": {
    "execution": {
     "iopub.execute_input": "2023-05-02T08:59:54.767066Z",
     "iopub.status.busy": "2023-05-02T08:59:54.766448Z",
     "iopub.status.idle": "2023-05-02T08:59:54.771547Z",
     "shell.execute_reply": "2023-05-02T08:59:54.770801Z"
    },
    "papermill": {
     "duration": 0.019143,
     "end_time": "2023-05-02T08:59:54.773313",
     "exception": false,
     "start_time": "2023-05-02T08:59:54.754170",
     "status": "completed"
    },
    "tags": []
   },
   "outputs": [
    {
     "data": {
      "text/plain": [
       "0"
      ]
     },
     "execution_count": 27,
     "metadata": {},
     "output_type": "execute_result"
    }
   ],
   "source": [
    "vocab[\"afda\"]"
   ]
  },
  {
   "cell_type": "code",
   "execution_count": 28,
   "id": "4185c870",
   "metadata": {
    "execution": {
     "iopub.execute_input": "2023-05-02T08:59:54.797490Z",
     "iopub.status.busy": "2023-05-02T08:59:54.796860Z",
     "iopub.status.idle": "2023-05-02T08:59:54.802346Z",
     "shell.execute_reply": "2023-05-02T08:59:54.801371Z"
    },
    "id": "EbIkD8gWJk5t",
    "outputId": "a2c5f8a3-fcf9-4b23-cbd0-aaa3377d4dfb",
    "papermill": {
     "duration": 0.020107,
     "end_time": "2023-05-02T08:59:54.804512",
     "exception": false,
     "start_time": "2023-05-02T08:59:54.784405",
     "status": "completed"
    },
    "tags": []
   },
   "outputs": [
    {
     "data": {
      "text/plain": [
       "18889"
      ]
     },
     "execution_count": 28,
     "metadata": {},
     "output_type": "execute_result"
    }
   ],
   "source": [
    "len(vocab)"
   ]
  },
  {
   "cell_type": "markdown",
   "id": "59a6ae29",
   "metadata": {
    "id": "cl-7hamoCqFB",
    "papermill": {
     "duration": 0.010906,
     "end_time": "2023-05-02T08:59:54.826586",
     "exception": false,
     "start_time": "2023-05-02T08:59:54.815680",
     "status": "completed"
    },
    "tags": []
   },
   "source": [
    "### Convert Text to tensor"
   ]
  },
  {
   "cell_type": "code",
   "execution_count": 29,
   "id": "948556b1",
   "metadata": {
    "execution": {
     "iopub.execute_input": "2023-05-02T08:59:54.851130Z",
     "iopub.status.busy": "2023-05-02T08:59:54.850086Z",
     "iopub.status.idle": "2023-05-02T08:59:54.854835Z",
     "shell.execute_reply": "2023-05-02T08:59:54.854062Z"
    },
    "id": "cSigPiLzxwii",
    "papermill": {
     "duration": 0.01909,
     "end_time": "2023-05-02T08:59:54.856820",
     "exception": false,
     "start_time": "2023-05-02T08:59:54.837730",
     "status": "completed"
    },
    "tags": []
   },
   "outputs": [],
   "source": [
    "import gc"
   ]
  },
  {
   "cell_type": "code",
   "execution_count": 30,
   "id": "97083cde",
   "metadata": {
    "execution": {
     "iopub.execute_input": "2023-05-02T08:59:54.881282Z",
     "iopub.status.busy": "2023-05-02T08:59:54.880582Z",
     "iopub.status.idle": "2023-05-02T08:59:54.886185Z",
     "shell.execute_reply": "2023-05-02T08:59:54.885505Z"
    },
    "id": "5NuXrytqBa9K",
    "papermill": {
     "duration": 0.020102,
     "end_time": "2023-05-02T08:59:54.888107",
     "exception": false,
     "start_time": "2023-05-02T08:59:54.868005",
     "status": "completed"
    },
    "tags": []
   },
   "outputs": [],
   "source": [
    "def convertTextToTensor(list_of_text,vocab):\n",
    "\n",
    "    res_tensor = torch.zeros(len(list_of_text),len(vocab))\n",
    "    \n",
    "    for row,t in tqdm(enumerate(list_of_text)):#loop for each text in list of texts\n",
    "\n",
    "      for col,w in enumerate(t.split()): #loop for each word in text:\n",
    "        res_tensor[row][col] = vocab[w]\n",
    "    \n",
    "    return res_tensor\n"
   ]
  },
  {
   "cell_type": "code",
   "execution_count": 31,
   "id": "0bb35bf3",
   "metadata": {
    "execution": {
     "iopub.execute_input": "2023-05-02T08:59:54.912401Z",
     "iopub.status.busy": "2023-05-02T08:59:54.911800Z",
     "iopub.status.idle": "2023-05-02T09:00:05.240306Z",
     "shell.execute_reply": "2023-05-02T09:00:05.239191Z"
    },
    "id": "VzeSlsMjBuIN",
    "papermill": {
     "duration": 10.343235,
     "end_time": "2023-05-02T09:00:05.242490",
     "exception": false,
     "start_time": "2023-05-02T08:59:54.899255",
     "status": "completed"
    },
    "tags": []
   },
   "outputs": [
    {
     "data": {
      "application/vnd.jupyter.widget-view+json": {
       "model_id": "ab307248bfaf46b0a503de66b93e97ec",
       "version_major": 2,
       "version_minor": 0
      },
      "text/plain": [
       "0it [00:00, ?it/s]"
      ]
     },
     "metadata": {},
     "output_type": "display_data"
    }
   ],
   "source": [
    "#since storing the entire text \n",
    "\n",
    "tensors_text  = convertTextToTensor(list(train_data.text),vocab)\n",
    "\n"
   ]
  },
  {
   "cell_type": "code",
   "execution_count": 32,
   "id": "e1a1d0ac",
   "metadata": {
    "execution": {
     "iopub.execute_input": "2023-05-02T09:00:05.267631Z",
     "iopub.status.busy": "2023-05-02T09:00:05.266717Z",
     "iopub.status.idle": "2023-05-02T09:00:05.273245Z",
     "shell.execute_reply": "2023-05-02T09:00:05.272239Z"
    },
    "papermill": {
     "duration": 0.021402,
     "end_time": "2023-05-02T09:00:05.275479",
     "exception": false,
     "start_time": "2023-05-02T09:00:05.254077",
     "status": "completed"
    },
    "tags": []
   },
   "outputs": [
    {
     "data": {
      "text/plain": [
       "torch.float32"
      ]
     },
     "execution_count": 32,
     "metadata": {},
     "output_type": "execute_result"
    }
   ],
   "source": [
    "tensors_text.dtype"
   ]
  },
  {
   "cell_type": "code",
   "execution_count": 33,
   "id": "af686322",
   "metadata": {
    "execution": {
     "iopub.execute_input": "2023-05-02T09:00:05.300638Z",
     "iopub.status.busy": "2023-05-02T09:00:05.299892Z",
     "iopub.status.idle": "2023-05-02T09:00:33.772105Z",
     "shell.execute_reply": "2023-05-02T09:00:33.770915Z"
    },
    "papermill": {
     "duration": 28.487257,
     "end_time": "2023-05-02T09:00:33.774583",
     "exception": false,
     "start_time": "2023-05-02T09:00:05.287326",
     "status": "completed"
    },
    "tags": []
   },
   "outputs": [
    {
     "data": {
      "text/plain": [
       "86"
      ]
     },
     "execution_count": 33,
     "metadata": {},
     "output_type": "execute_result"
    }
   ],
   "source": [
    "pickle_dump(f_name=\"train_text_tensors.pkl\",obj=tensors_text)\n",
    "\n",
    "del tensors_text\n",
    "gc.collect()"
   ]
  },
  {
   "cell_type": "code",
   "execution_count": 34,
   "id": "edc1f8ac",
   "metadata": {
    "execution": {
     "iopub.execute_input": "2023-05-02T09:00:33.801370Z",
     "iopub.status.busy": "2023-05-02T09:00:33.800979Z",
     "iopub.status.idle": "2023-05-02T09:00:33.807403Z",
     "shell.execute_reply": "2023-05-02T09:00:33.806604Z"
    },
    "papermill": {
     "duration": 0.02245,
     "end_time": "2023-05-02T09:00:33.809739",
     "exception": false,
     "start_time": "2023-05-02T09:00:33.787289",
     "status": "completed"
    },
    "tags": []
   },
   "outputs": [
    {
     "data": {
      "text/plain": [
       "0"
      ]
     },
     "execution_count": 34,
     "metadata": {},
     "output_type": "execute_result"
    }
   ],
   "source": [
    "vocab['<unk>']"
   ]
  },
  {
   "cell_type": "code",
   "execution_count": null,
   "id": "3ee1aded",
   "metadata": {
    "papermill": {
     "duration": 0.011985,
     "end_time": "2023-05-02T09:00:33.833971",
     "exception": false,
     "start_time": "2023-05-02T09:00:33.821986",
     "status": "completed"
    },
    "tags": []
   },
   "outputs": [],
   "source": []
  },
  {
   "cell_type": "code",
   "execution_count": 35,
   "id": "de361fef",
   "metadata": {
    "execution": {
     "iopub.execute_input": "2023-05-02T09:00:33.860519Z",
     "iopub.status.busy": "2023-05-02T09:00:33.859875Z",
     "iopub.status.idle": "2023-05-02T09:00:33.866349Z",
     "shell.execute_reply": "2023-05-02T09:00:33.865421Z"
    },
    "papermill": {
     "duration": 0.022566,
     "end_time": "2023-05-02T09:00:33.868674",
     "exception": false,
     "start_time": "2023-05-02T09:00:33.846108",
     "status": "completed"
    },
    "tags": []
   },
   "outputs": [
    {
     "data": {
      "text/plain": [
       "0"
      ]
     },
     "execution_count": 35,
     "metadata": {},
     "output_type": "execute_result"
    }
   ],
   "source": [
    "vocab[\"absgfd\"]"
   ]
  },
  {
   "cell_type": "code",
   "execution_count": 36,
   "id": "f609104f",
   "metadata": {
    "execution": {
     "iopub.execute_input": "2023-05-02T09:00:33.895312Z",
     "iopub.status.busy": "2023-05-02T09:00:33.894905Z",
     "iopub.status.idle": "2023-05-02T09:00:39.728267Z",
     "shell.execute_reply": "2023-05-02T09:00:39.727266Z"
    },
    "id": "eyW2vYv7Dq4c",
    "papermill": {
     "duration": 5.849857,
     "end_time": "2023-05-02T09:00:39.730889",
     "exception": false,
     "start_time": "2023-05-02T09:00:33.881032",
     "status": "completed"
    },
    "tags": []
   },
   "outputs": [
    {
     "data": {
      "application/vnd.jupyter.widget-view+json": {
       "model_id": "d270ba3338924331ba190147aafc4ee7",
       "version_major": 2,
       "version_minor": 0
      },
      "text/plain": [
       "0it [00:00, ?it/s]"
      ]
     },
     "metadata": {},
     "output_type": "display_data"
    },
    {
     "data": {
      "text/plain": [
       "21"
      ]
     },
     "execution_count": 36,
     "metadata": {},
     "output_type": "execute_result"
    }
   ],
   "source": [
    "tensors_text_test = convertTextToTensor(list(test_data.text),vocab)\n",
    "\n",
    "pickle_dump(f_name=\"test_text_tensors.pkl\",obj=tensors_text_test)\n",
    "\n",
    "del tensors_text_test\n",
    "gc.collect()"
   ]
  },
  {
   "cell_type": "markdown",
   "id": "5aeba56c",
   "metadata": {
    "id": "M61NEUTW9M04",
    "papermill": {
     "duration": 0.044936,
     "end_time": "2023-05-02T09:00:44.546896",
     "exception": false,
     "start_time": "2023-05-02T09:00:44.501960",
     "status": "completed"
    },
    "tags": []
   },
   "source": [
    "##Fitting LabelEncoder for converting labels to tensors"
   ]
  },
  {
   "cell_type": "code",
   "execution_count": 37,
   "id": "ed12d53c",
   "metadata": {
    "execution": {
     "iopub.execute_input": "2023-05-02T09:00:44.817854Z",
     "iopub.status.busy": "2023-05-02T09:00:44.817440Z",
     "iopub.status.idle": "2023-05-02T09:00:45.597451Z",
     "shell.execute_reply": "2023-05-02T09:00:45.596295Z"
    },
    "id": "Uo0PArul9Qe7",
    "outputId": "13d7b89d-1629-4689-f2de-1423c8481ec1",
    "papermill": {
     "duration": 0.82533,
     "end_time": "2023-05-02T09:00:45.599681",
     "exception": false,
     "start_time": "2023-05-02T09:00:44.774351",
     "status": "completed"
    },
    "tags": []
   },
   "outputs": [
    {
     "data": {
      "text/html": [
       "<style>#sk-container-id-1 {color: black;background-color: white;}#sk-container-id-1 pre{padding: 0;}#sk-container-id-1 div.sk-toggleable {background-color: white;}#sk-container-id-1 label.sk-toggleable__label {cursor: pointer;display: block;width: 100%;margin-bottom: 0;padding: 0.3em;box-sizing: border-box;text-align: center;}#sk-container-id-1 label.sk-toggleable__label-arrow:before {content: \"▸\";float: left;margin-right: 0.25em;color: #696969;}#sk-container-id-1 label.sk-toggleable__label-arrow:hover:before {color: black;}#sk-container-id-1 div.sk-estimator:hover label.sk-toggleable__label-arrow:before {color: black;}#sk-container-id-1 div.sk-toggleable__content {max-height: 0;max-width: 0;overflow: hidden;text-align: left;background-color: #f0f8ff;}#sk-container-id-1 div.sk-toggleable__content pre {margin: 0.2em;color: black;border-radius: 0.25em;background-color: #f0f8ff;}#sk-container-id-1 input.sk-toggleable__control:checked~div.sk-toggleable__content {max-height: 200px;max-width: 100%;overflow: auto;}#sk-container-id-1 input.sk-toggleable__control:checked~label.sk-toggleable__label-arrow:before {content: \"▾\";}#sk-container-id-1 div.sk-estimator input.sk-toggleable__control:checked~label.sk-toggleable__label {background-color: #d4ebff;}#sk-container-id-1 div.sk-label input.sk-toggleable__control:checked~label.sk-toggleable__label {background-color: #d4ebff;}#sk-container-id-1 input.sk-hidden--visually {border: 0;clip: rect(1px 1px 1px 1px);clip: rect(1px, 1px, 1px, 1px);height: 1px;margin: -1px;overflow: hidden;padding: 0;position: absolute;width: 1px;}#sk-container-id-1 div.sk-estimator {font-family: monospace;background-color: #f0f8ff;border: 1px dotted black;border-radius: 0.25em;box-sizing: border-box;margin-bottom: 0.5em;}#sk-container-id-1 div.sk-estimator:hover {background-color: #d4ebff;}#sk-container-id-1 div.sk-parallel-item::after {content: \"\";width: 100%;border-bottom: 1px solid gray;flex-grow: 1;}#sk-container-id-1 div.sk-label:hover label.sk-toggleable__label {background-color: #d4ebff;}#sk-container-id-1 div.sk-serial::before {content: \"\";position: absolute;border-left: 1px solid gray;box-sizing: border-box;top: 0;bottom: 0;left: 50%;z-index: 0;}#sk-container-id-1 div.sk-serial {display: flex;flex-direction: column;align-items: center;background-color: white;padding-right: 0.2em;padding-left: 0.2em;position: relative;}#sk-container-id-1 div.sk-item {position: relative;z-index: 1;}#sk-container-id-1 div.sk-parallel {display: flex;align-items: stretch;justify-content: center;background-color: white;position: relative;}#sk-container-id-1 div.sk-item::before, #sk-container-id-1 div.sk-parallel-item::before {content: \"\";position: absolute;border-left: 1px solid gray;box-sizing: border-box;top: 0;bottom: 0;left: 50%;z-index: -1;}#sk-container-id-1 div.sk-parallel-item {display: flex;flex-direction: column;z-index: 1;position: relative;background-color: white;}#sk-container-id-1 div.sk-parallel-item:first-child::after {align-self: flex-end;width: 50%;}#sk-container-id-1 div.sk-parallel-item:last-child::after {align-self: flex-start;width: 50%;}#sk-container-id-1 div.sk-parallel-item:only-child::after {width: 0;}#sk-container-id-1 div.sk-dashed-wrapped {border: 1px dashed gray;margin: 0 0.4em 0.5em 0.4em;box-sizing: border-box;padding-bottom: 0.4em;background-color: white;}#sk-container-id-1 div.sk-label label {font-family: monospace;font-weight: bold;display: inline-block;line-height: 1.2em;}#sk-container-id-1 div.sk-label-container {text-align: center;}#sk-container-id-1 div.sk-container {/* jupyter's `normalize.less` sets `[hidden] { display: none; }` but bootstrap.min.css set `[hidden] { display: none !important; }` so we also need the `!important` here to be able to override the default hidden behavior on the sphinx rendered scikit-learn.org. See: https://github.com/scikit-learn/scikit-learn/issues/21755 */display: inline-block !important;position: relative;}#sk-container-id-1 div.sk-text-repr-fallback {display: none;}</style><div id=\"sk-container-id-1\" class=\"sk-top-container\"><div class=\"sk-text-repr-fallback\"><pre>LabelEncoder()</pre><b>In a Jupyter environment, please rerun this cell to show the HTML representation or trust the notebook. <br />On GitHub, the HTML representation is unable to render, please try loading this page with nbviewer.org.</b></div><div class=\"sk-container\" hidden><div class=\"sk-item\"><div class=\"sk-estimator sk-toggleable\"><input class=\"sk-toggleable__control sk-hidden--visually\" id=\"sk-estimator-id-1\" type=\"checkbox\" checked><label for=\"sk-estimator-id-1\" class=\"sk-toggleable__label sk-toggleable__label-arrow\">LabelEncoder</label><div class=\"sk-toggleable__content\"><pre>LabelEncoder()</pre></div></div></div></div></div>"
      ],
      "text/plain": [
       "LabelEncoder()"
      ]
     },
     "execution_count": 37,
     "metadata": {},
     "output_type": "execute_result"
    }
   ],
   "source": [
    "from sklearn import preprocessing\n",
    "le = preprocessing.LabelEncoder()\n",
    "le.fit(train_data.emotions)\n"
   ]
  },
  {
   "cell_type": "markdown",
   "id": "ad75119c",
   "metadata": {
    "id": "WPBVRsfsC4jK",
    "papermill": {
     "duration": 0.012064,
     "end_time": "2023-05-02T09:00:45.624290",
     "exception": false,
     "start_time": "2023-05-02T09:00:45.612226",
     "status": "completed"
    },
    "tags": []
   },
   "source": [
    "### Converting Labels to tensors"
   ]
  },
  {
   "cell_type": "code",
   "execution_count": 38,
   "id": "6c46b9cb",
   "metadata": {
    "execution": {
     "iopub.execute_input": "2023-05-02T09:00:45.652250Z",
     "iopub.status.busy": "2023-05-02T09:00:45.651880Z",
     "iopub.status.idle": "2023-05-02T09:00:45.657210Z",
     "shell.execute_reply": "2023-05-02T09:00:45.656270Z"
    },
    "id": "in66QKl7DDrl",
    "papermill": {
     "duration": 0.021582,
     "end_time": "2023-05-02T09:00:45.659284",
     "exception": false,
     "start_time": "2023-05-02T09:00:45.637702",
     "status": "completed"
    },
    "tags": []
   },
   "outputs": [],
   "source": [
    "def convertLabelToTensor(labels,label_enc_obj):\n",
    "    labels = label_enc_obj.transform(labels)\n",
    "    return labels"
   ]
  },
  {
   "cell_type": "code",
   "execution_count": 39,
   "id": "a6495c52",
   "metadata": {
    "execution": {
     "iopub.execute_input": "2023-05-02T09:00:45.686322Z",
     "iopub.status.busy": "2023-05-02T09:00:45.685703Z",
     "iopub.status.idle": "2023-05-02T09:00:45.715280Z",
     "shell.execute_reply": "2023-05-02T09:00:45.714413Z"
    },
    "id": "iT-DgOHbDAUc",
    "papermill": {
     "duration": 0.045449,
     "end_time": "2023-05-02T09:00:45.717457",
     "exception": false,
     "start_time": "2023-05-02T09:00:45.672008",
     "status": "completed"
    },
    "tags": []
   },
   "outputs": [],
   "source": [
    "tensors_labels_train = convertLabelToTensor(train_data.emotions,le)\n",
    "tensors_labels_test = convertLabelToTensor(test_data.emotions,le)"
   ]
  },
  {
   "cell_type": "code",
   "execution_count": 40,
   "id": "c146e8db",
   "metadata": {
    "execution": {
     "iopub.execute_input": "2023-05-02T09:00:45.744974Z",
     "iopub.status.busy": "2023-05-02T09:00:45.744606Z",
     "iopub.status.idle": "2023-05-02T09:00:45.750606Z",
     "shell.execute_reply": "2023-05-02T09:00:45.749611Z"
    },
    "id": "1qld-8itDkkL",
    "outputId": "39eccb0b-a80d-44c1-aea3-36f0d70cb709",
    "papermill": {
     "duration": 0.022383,
     "end_time": "2023-05-02T09:00:45.752587",
     "exception": false,
     "start_time": "2023-05-02T09:00:45.730204",
     "status": "completed"
    },
    "tags": []
   },
   "outputs": [
    {
     "data": {
      "text/plain": [
       "(96747,)"
      ]
     },
     "execution_count": 40,
     "metadata": {},
     "output_type": "execute_result"
    }
   ],
   "source": [
    "tensors_labels_train.shape"
   ]
  },
  {
   "cell_type": "code",
   "execution_count": 41,
   "id": "28fdc83e",
   "metadata": {
    "execution": {
     "iopub.execute_input": "2023-05-02T09:00:45.779281Z",
     "iopub.status.busy": "2023-05-02T09:00:45.778877Z",
     "iopub.status.idle": "2023-05-02T09:00:45.785023Z",
     "shell.execute_reply": "2023-05-02T09:00:45.784078Z"
    },
    "id": "HwyTyKmeDmkd",
    "outputId": "3bc09566-aecc-44c6-ea5d-1f7dc5516fd5",
    "papermill": {
     "duration": 0.022379,
     "end_time": "2023-05-02T09:00:45.787504",
     "exception": false,
     "start_time": "2023-05-02T09:00:45.765125",
     "status": "completed"
    },
    "tags": []
   },
   "outputs": [
    {
     "data": {
      "text/plain": [
       "(24186,)"
      ]
     },
     "execution_count": 41,
     "metadata": {},
     "output_type": "execute_result"
    }
   ],
   "source": [
    "tensors_labels_test.shape"
   ]
  },
  {
   "cell_type": "code",
   "execution_count": 42,
   "id": "49d82b35",
   "metadata": {
    "execution": {
     "iopub.execute_input": "2023-05-02T09:00:45.815140Z",
     "iopub.status.busy": "2023-05-02T09:00:45.814415Z",
     "iopub.status.idle": "2023-05-02T09:00:45.820691Z",
     "shell.execute_reply": "2023-05-02T09:00:45.819805Z"
    },
    "id": "WWafjoFBEqCK",
    "papermill": {
     "duration": 0.022646,
     "end_time": "2023-05-02T09:00:45.822817",
     "exception": false,
     "start_time": "2023-05-02T09:00:45.800171",
     "status": "completed"
    },
    "tags": []
   },
   "outputs": [],
   "source": [
    "pickle_dump(f_name = \"train_labels_tensors\",obj=tensors_labels_train)\n",
    "pickle_dump(f_name = \"test_labels_tensors\",obj=tensors_labels_test)"
   ]
  },
  {
   "cell_type": "code",
   "execution_count": null,
   "id": "d39ae041",
   "metadata": {
    "papermill": {
     "duration": 0.012355,
     "end_time": "2023-05-02T09:00:45.848116",
     "exception": false,
     "start_time": "2023-05-02T09:00:45.835761",
     "status": "completed"
    },
    "tags": []
   },
   "outputs": [],
   "source": []
  },
  {
   "cell_type": "code",
   "execution_count": null,
   "id": "2965fdb3",
   "metadata": {
    "papermill": {
     "duration": 0.012685,
     "end_time": "2023-05-02T09:00:45.873559",
     "exception": false,
     "start_time": "2023-05-02T09:00:45.860874",
     "status": "completed"
    },
    "tags": []
   },
   "outputs": [],
   "source": []
  }
 ],
 "metadata": {
  "kernelspec": {
   "display_name": "Python 3",
   "language": "python",
   "name": "python3"
  },
  "language_info": {
   "codemirror_mode": {
    "name": "ipython",
    "version": 3
   },
   "file_extension": ".py",
   "mimetype": "text/x-python",
   "name": "python",
   "nbconvert_exporter": "python",
   "pygments_lexer": "ipython3",
   "version": "3.10.10"
  },
  "papermill": {
   "default_parameters": {},
   "duration": 80.525298,
   "end_time": "2023-05-02T09:00:49.023802",
   "environment_variables": {},
   "exception": null,
   "input_path": "__notebook__.ipynb",
   "output_path": "__notebook__.ipynb",
   "parameters": {},
   "start_time": "2023-05-02T08:59:28.498504",
   "version": "2.4.0"
  },
  "widgets": {
   "application/vnd.jupyter.widget-state+json": {
    "state": {
     "012bcb7c1d5e40e7949bde3f1fab47b0": {
      "model_module": "@jupyter-widgets/controls",
      "model_module_version": "1.5.0",
      "model_name": "DescriptionStyleModel",
      "state": {
       "_model_module": "@jupyter-widgets/controls",
       "_model_module_version": "1.5.0",
       "_model_name": "DescriptionStyleModel",
       "_view_count": null,
       "_view_module": "@jupyter-widgets/base",
       "_view_module_version": "1.2.0",
       "_view_name": "StyleView",
       "description_width": ""
      }
     },
     "02cd81af8c084d6cb99c23de72146c19": {
      "model_module": "@jupyter-widgets/controls",
      "model_module_version": "1.5.0",
      "model_name": "HTMLModel",
      "state": {
       "_dom_classes": [],
       "_model_module": "@jupyter-widgets/controls",
       "_model_module_version": "1.5.0",
       "_model_name": "HTMLModel",
       "_view_count": null,
       "_view_module": "@jupyter-widgets/controls",
       "_view_module_version": "1.5.0",
       "_view_name": "HTMLView",
       "description": "",
       "description_tooltip": null,
       "layout": "IPY_MODEL_2f8f809b7f8649448db48402653aa252",
       "placeholder": "​",
       "style": "IPY_MODEL_012bcb7c1d5e40e7949bde3f1fab47b0",
       "value": " 24186/? [00:01&lt;00:00, 14458.26it/s]"
      }
     },
     "191beccb8aee4f9d81d477b61633e99e": {
      "model_module": "@jupyter-widgets/controls",
      "model_module_version": "1.5.0",
      "model_name": "DescriptionStyleModel",
      "state": {
       "_model_module": "@jupyter-widgets/controls",
       "_model_module_version": "1.5.0",
       "_model_name": "DescriptionStyleModel",
       "_view_count": null,
       "_view_module": "@jupyter-widgets/base",
       "_view_module_version": "1.2.0",
       "_view_name": "StyleView",
       "description_width": ""
      }
     },
     "1f5d94ce40ac4398810fcff5d470c7cd": {
      "model_module": "@jupyter-widgets/controls",
      "model_module_version": "1.5.0",
      "model_name": "FloatProgressModel",
      "state": {
       "_dom_classes": [],
       "_model_module": "@jupyter-widgets/controls",
       "_model_module_version": "1.5.0",
       "_model_name": "FloatProgressModel",
       "_view_count": null,
       "_view_module": "@jupyter-widgets/controls",
       "_view_module_version": "1.5.0",
       "_view_name": "ProgressView",
       "bar_style": "success",
       "description": "",
       "description_tooltip": null,
       "layout": "IPY_MODEL_aacbac4622f044dcb659d5435006daf2",
       "max": 1.0,
       "min": 0.0,
       "orientation": "horizontal",
       "style": "IPY_MODEL_e651815bcb1c476987a14075d6e2d555",
       "value": 1.0
      }
     },
     "2e54d3d2620b401684fc5178a94bdfba": {
      "model_module": "@jupyter-widgets/controls",
      "model_module_version": "1.5.0",
      "model_name": "ProgressStyleModel",
      "state": {
       "_model_module": "@jupyter-widgets/controls",
       "_model_module_version": "1.5.0",
       "_model_name": "ProgressStyleModel",
       "_view_count": null,
       "_view_module": "@jupyter-widgets/base",
       "_view_module_version": "1.2.0",
       "_view_name": "StyleView",
       "bar_color": null,
       "description_width": ""
      }
     },
     "2f8f809b7f8649448db48402653aa252": {
      "model_module": "@jupyter-widgets/base",
      "model_module_version": "1.2.0",
      "model_name": "LayoutModel",
      "state": {
       "_model_module": "@jupyter-widgets/base",
       "_model_module_version": "1.2.0",
       "_model_name": "LayoutModel",
       "_view_count": null,
       "_view_module": "@jupyter-widgets/base",
       "_view_module_version": "1.2.0",
       "_view_name": "LayoutView",
       "align_content": null,
       "align_items": null,
       "align_self": null,
       "border": null,
       "bottom": null,
       "display": null,
       "flex": null,
       "flex_flow": null,
       "grid_area": null,
       "grid_auto_columns": null,
       "grid_auto_flow": null,
       "grid_auto_rows": null,
       "grid_column": null,
       "grid_gap": null,
       "grid_row": null,
       "grid_template_areas": null,
       "grid_template_columns": null,
       "grid_template_rows": null,
       "height": null,
       "justify_content": null,
       "justify_items": null,
       "left": null,
       "margin": null,
       "max_height": null,
       "max_width": null,
       "min_height": null,
       "min_width": null,
       "object_fit": null,
       "object_position": null,
       "order": null,
       "overflow": null,
       "overflow_x": null,
       "overflow_y": null,
       "padding": null,
       "right": null,
       "top": null,
       "visibility": null,
       "width": null
      }
     },
     "3095be002cea41f2acca1307d23107c3": {
      "model_module": "@jupyter-widgets/base",
      "model_module_version": "1.2.0",
      "model_name": "LayoutModel",
      "state": {
       "_model_module": "@jupyter-widgets/base",
       "_model_module_version": "1.2.0",
       "_model_name": "LayoutModel",
       "_view_count": null,
       "_view_module": "@jupyter-widgets/base",
       "_view_module_version": "1.2.0",
       "_view_name": "LayoutView",
       "align_content": null,
       "align_items": null,
       "align_self": null,
       "border": null,
       "bottom": null,
       "display": null,
       "flex": null,
       "flex_flow": null,
       "grid_area": null,
       "grid_auto_columns": null,
       "grid_auto_flow": null,
       "grid_auto_rows": null,
       "grid_column": null,
       "grid_gap": null,
       "grid_row": null,
       "grid_template_areas": null,
       "grid_template_columns": null,
       "grid_template_rows": null,
       "height": null,
       "justify_content": null,
       "justify_items": null,
       "left": null,
       "margin": null,
       "max_height": null,
       "max_width": null,
       "min_height": null,
       "min_width": null,
       "object_fit": null,
       "object_position": null,
       "order": null,
       "overflow": null,
       "overflow_x": null,
       "overflow_y": null,
       "padding": null,
       "right": null,
       "top": null,
       "visibility": null,
       "width": null
      }
     },
     "47e6646faf6d4955b742d47fb7b0d370": {
      "model_module": "@jupyter-widgets/base",
      "model_module_version": "1.2.0",
      "model_name": "LayoutModel",
      "state": {
       "_model_module": "@jupyter-widgets/base",
       "_model_module_version": "1.2.0",
       "_model_name": "LayoutModel",
       "_view_count": null,
       "_view_module": "@jupyter-widgets/base",
       "_view_module_version": "1.2.0",
       "_view_name": "LayoutView",
       "align_content": null,
       "align_items": null,
       "align_self": null,
       "border": null,
       "bottom": null,
       "display": null,
       "flex": null,
       "flex_flow": null,
       "grid_area": null,
       "grid_auto_columns": null,
       "grid_auto_flow": null,
       "grid_auto_rows": null,
       "grid_column": null,
       "grid_gap": null,
       "grid_row": null,
       "grid_template_areas": null,
       "grid_template_columns": null,
       "grid_template_rows": null,
       "height": null,
       "justify_content": null,
       "justify_items": null,
       "left": null,
       "margin": null,
       "max_height": null,
       "max_width": null,
       "min_height": null,
       "min_width": null,
       "object_fit": null,
       "object_position": null,
       "order": null,
       "overflow": null,
       "overflow_x": null,
       "overflow_y": null,
       "padding": null,
       "right": null,
       "top": null,
       "visibility": null,
       "width": null
      }
     },
     "84ebef59753c4fdaa1b1ef472609eddb": {
      "model_module": "@jupyter-widgets/base",
      "model_module_version": "1.2.0",
      "model_name": "LayoutModel",
      "state": {
       "_model_module": "@jupyter-widgets/base",
       "_model_module_version": "1.2.0",
       "_model_name": "LayoutModel",
       "_view_count": null,
       "_view_module": "@jupyter-widgets/base",
       "_view_module_version": "1.2.0",
       "_view_name": "LayoutView",
       "align_content": null,
       "align_items": null,
       "align_self": null,
       "border": null,
       "bottom": null,
       "display": null,
       "flex": null,
       "flex_flow": null,
       "grid_area": null,
       "grid_auto_columns": null,
       "grid_auto_flow": null,
       "grid_auto_rows": null,
       "grid_column": null,
       "grid_gap": null,
       "grid_row": null,
       "grid_template_areas": null,
       "grid_template_columns": null,
       "grid_template_rows": null,
       "height": null,
       "justify_content": null,
       "justify_items": null,
       "left": null,
       "margin": null,
       "max_height": null,
       "max_width": null,
       "min_height": null,
       "min_width": null,
       "object_fit": null,
       "object_position": null,
       "order": null,
       "overflow": null,
       "overflow_x": null,
       "overflow_y": null,
       "padding": null,
       "right": null,
       "top": null,
       "visibility": null,
       "width": null
      }
     },
     "99b51a760416445e8e907df391f5d4e8": {
      "model_module": "@jupyter-widgets/base",
      "model_module_version": "1.2.0",
      "model_name": "LayoutModel",
      "state": {
       "_model_module": "@jupyter-widgets/base",
       "_model_module_version": "1.2.0",
       "_model_name": "LayoutModel",
       "_view_count": null,
       "_view_module": "@jupyter-widgets/base",
       "_view_module_version": "1.2.0",
       "_view_name": "LayoutView",
       "align_content": null,
       "align_items": null,
       "align_self": null,
       "border": null,
       "bottom": null,
       "display": null,
       "flex": null,
       "flex_flow": null,
       "grid_area": null,
       "grid_auto_columns": null,
       "grid_auto_flow": null,
       "grid_auto_rows": null,
       "grid_column": null,
       "grid_gap": null,
       "grid_row": null,
       "grid_template_areas": null,
       "grid_template_columns": null,
       "grid_template_rows": null,
       "height": null,
       "justify_content": null,
       "justify_items": null,
       "left": null,
       "margin": null,
       "max_height": null,
       "max_width": null,
       "min_height": null,
       "min_width": null,
       "object_fit": null,
       "object_position": null,
       "order": null,
       "overflow": null,
       "overflow_x": null,
       "overflow_y": null,
       "padding": null,
       "right": null,
       "top": null,
       "visibility": null,
       "width": null
      }
     },
     "9d8033dc44704e76b551c921ad5a4aee": {
      "model_module": "@jupyter-widgets/controls",
      "model_module_version": "1.5.0",
      "model_name": "DescriptionStyleModel",
      "state": {
       "_model_module": "@jupyter-widgets/controls",
       "_model_module_version": "1.5.0",
       "_model_name": "DescriptionStyleModel",
       "_view_count": null,
       "_view_module": "@jupyter-widgets/base",
       "_view_module_version": "1.2.0",
       "_view_name": "StyleView",
       "description_width": ""
      }
     },
     "a7ea0ee1d82c4408a78c40f8650ae380": {
      "model_module": "@jupyter-widgets/controls",
      "model_module_version": "1.5.0",
      "model_name": "DescriptionStyleModel",
      "state": {
       "_model_module": "@jupyter-widgets/controls",
       "_model_module_version": "1.5.0",
       "_model_name": "DescriptionStyleModel",
       "_view_count": null,
       "_view_module": "@jupyter-widgets/base",
       "_view_module_version": "1.2.0",
       "_view_name": "StyleView",
       "description_width": ""
      }
     },
     "aacbac4622f044dcb659d5435006daf2": {
      "model_module": "@jupyter-widgets/base",
      "model_module_version": "1.2.0",
      "model_name": "LayoutModel",
      "state": {
       "_model_module": "@jupyter-widgets/base",
       "_model_module_version": "1.2.0",
       "_model_name": "LayoutModel",
       "_view_count": null,
       "_view_module": "@jupyter-widgets/base",
       "_view_module_version": "1.2.0",
       "_view_name": "LayoutView",
       "align_content": null,
       "align_items": null,
       "align_self": null,
       "border": null,
       "bottom": null,
       "display": null,
       "flex": null,
       "flex_flow": null,
       "grid_area": null,
       "grid_auto_columns": null,
       "grid_auto_flow": null,
       "grid_auto_rows": null,
       "grid_column": null,
       "grid_gap": null,
       "grid_row": null,
       "grid_template_areas": null,
       "grid_template_columns": null,
       "grid_template_rows": null,
       "height": null,
       "justify_content": null,
       "justify_items": null,
       "left": null,
       "margin": null,
       "max_height": null,
       "max_width": null,
       "min_height": null,
       "min_width": null,
       "object_fit": null,
       "object_position": null,
       "order": null,
       "overflow": null,
       "overflow_x": null,
       "overflow_y": null,
       "padding": null,
       "right": null,
       "top": null,
       "visibility": null,
       "width": "20px"
      }
     },
     "ab307248bfaf46b0a503de66b93e97ec": {
      "model_module": "@jupyter-widgets/controls",
      "model_module_version": "1.5.0",
      "model_name": "HBoxModel",
      "state": {
       "_dom_classes": [],
       "_model_module": "@jupyter-widgets/controls",
       "_model_module_version": "1.5.0",
       "_model_name": "HBoxModel",
       "_view_count": null,
       "_view_module": "@jupyter-widgets/controls",
       "_view_module_version": "1.5.0",
       "_view_name": "HBoxView",
       "box_style": "",
       "children": [
        "IPY_MODEL_e395b353b76d4b4a8e442da313014381",
        "IPY_MODEL_cc4bc9daf863455bad0a8c9a19fab272",
        "IPY_MODEL_ac87368f9aab48a395d3c72806d0c40a"
       ],
       "layout": "IPY_MODEL_99b51a760416445e8e907df391f5d4e8"
      }
     },
     "ac87368f9aab48a395d3c72806d0c40a": {
      "model_module": "@jupyter-widgets/controls",
      "model_module_version": "1.5.0",
      "model_name": "HTMLModel",
      "state": {
       "_dom_classes": [],
       "_model_module": "@jupyter-widgets/controls",
       "_model_module_version": "1.5.0",
       "_model_name": "HTMLModel",
       "_view_count": null,
       "_view_module": "@jupyter-widgets/controls",
       "_view_module_version": "1.5.0",
       "_view_name": "HTMLView",
       "description": "",
       "description_tooltip": null,
       "layout": "IPY_MODEL_b518ba094c7f4d42a9f7edbfc944f37c",
       "placeholder": "​",
       "style": "IPY_MODEL_9d8033dc44704e76b551c921ad5a4aee",
       "value": " 96747/? [00:06&lt;00:00, 14148.19it/s]"
      }
     },
     "b518ba094c7f4d42a9f7edbfc944f37c": {
      "model_module": "@jupyter-widgets/base",
      "model_module_version": "1.2.0",
      "model_name": "LayoutModel",
      "state": {
       "_model_module": "@jupyter-widgets/base",
       "_model_module_version": "1.2.0",
       "_model_name": "LayoutModel",
       "_view_count": null,
       "_view_module": "@jupyter-widgets/base",
       "_view_module_version": "1.2.0",
       "_view_name": "LayoutView",
       "align_content": null,
       "align_items": null,
       "align_self": null,
       "border": null,
       "bottom": null,
       "display": null,
       "flex": null,
       "flex_flow": null,
       "grid_area": null,
       "grid_auto_columns": null,
       "grid_auto_flow": null,
       "grid_auto_rows": null,
       "grid_column": null,
       "grid_gap": null,
       "grid_row": null,
       "grid_template_areas": null,
       "grid_template_columns": null,
       "grid_template_rows": null,
       "height": null,
       "justify_content": null,
       "justify_items": null,
       "left": null,
       "margin": null,
       "max_height": null,
       "max_width": null,
       "min_height": null,
       "min_width": null,
       "object_fit": null,
       "object_position": null,
       "order": null,
       "overflow": null,
       "overflow_x": null,
       "overflow_y": null,
       "padding": null,
       "right": null,
       "top": null,
       "visibility": null,
       "width": null
      }
     },
     "b635a46508ac4a85b9934ea0b2637a2c": {
      "model_module": "@jupyter-widgets/controls",
      "model_module_version": "1.5.0",
      "model_name": "HTMLModel",
      "state": {
       "_dom_classes": [],
       "_model_module": "@jupyter-widgets/controls",
       "_model_module_version": "1.5.0",
       "_model_name": "HTMLModel",
       "_view_count": null,
       "_view_module": "@jupyter-widgets/controls",
       "_view_module_version": "1.5.0",
       "_view_name": "HTMLView",
       "description": "",
       "description_tooltip": null,
       "layout": "IPY_MODEL_84ebef59753c4fdaa1b1ef472609eddb",
       "placeholder": "​",
       "style": "IPY_MODEL_a7ea0ee1d82c4408a78c40f8650ae380",
       "value": ""
      }
     },
     "cc4bc9daf863455bad0a8c9a19fab272": {
      "model_module": "@jupyter-widgets/controls",
      "model_module_version": "1.5.0",
      "model_name": "FloatProgressModel",
      "state": {
       "_dom_classes": [],
       "_model_module": "@jupyter-widgets/controls",
       "_model_module_version": "1.5.0",
       "_model_name": "FloatProgressModel",
       "_view_count": null,
       "_view_module": "@jupyter-widgets/controls",
       "_view_module_version": "1.5.0",
       "_view_name": "ProgressView",
       "bar_style": "success",
       "description": "",
       "description_tooltip": null,
       "layout": "IPY_MODEL_df98a8dc56f047ce9a875f44c0141af3",
       "max": 1.0,
       "min": 0.0,
       "orientation": "horizontal",
       "style": "IPY_MODEL_2e54d3d2620b401684fc5178a94bdfba",
       "value": 1.0
      }
     },
     "d270ba3338924331ba190147aafc4ee7": {
      "model_module": "@jupyter-widgets/controls",
      "model_module_version": "1.5.0",
      "model_name": "HBoxModel",
      "state": {
       "_dom_classes": [],
       "_model_module": "@jupyter-widgets/controls",
       "_model_module_version": "1.5.0",
       "_model_name": "HBoxModel",
       "_view_count": null,
       "_view_module": "@jupyter-widgets/controls",
       "_view_module_version": "1.5.0",
       "_view_name": "HBoxView",
       "box_style": "",
       "children": [
        "IPY_MODEL_b635a46508ac4a85b9934ea0b2637a2c",
        "IPY_MODEL_1f5d94ce40ac4398810fcff5d470c7cd",
        "IPY_MODEL_02cd81af8c084d6cb99c23de72146c19"
       ],
       "layout": "IPY_MODEL_47e6646faf6d4955b742d47fb7b0d370"
      }
     },
     "df98a8dc56f047ce9a875f44c0141af3": {
      "model_module": "@jupyter-widgets/base",
      "model_module_version": "1.2.0",
      "model_name": "LayoutModel",
      "state": {
       "_model_module": "@jupyter-widgets/base",
       "_model_module_version": "1.2.0",
       "_model_name": "LayoutModel",
       "_view_count": null,
       "_view_module": "@jupyter-widgets/base",
       "_view_module_version": "1.2.0",
       "_view_name": "LayoutView",
       "align_content": null,
       "align_items": null,
       "align_self": null,
       "border": null,
       "bottom": null,
       "display": null,
       "flex": null,
       "flex_flow": null,
       "grid_area": null,
       "grid_auto_columns": null,
       "grid_auto_flow": null,
       "grid_auto_rows": null,
       "grid_column": null,
       "grid_gap": null,
       "grid_row": null,
       "grid_template_areas": null,
       "grid_template_columns": null,
       "grid_template_rows": null,
       "height": null,
       "justify_content": null,
       "justify_items": null,
       "left": null,
       "margin": null,
       "max_height": null,
       "max_width": null,
       "min_height": null,
       "min_width": null,
       "object_fit": null,
       "object_position": null,
       "order": null,
       "overflow": null,
       "overflow_x": null,
       "overflow_y": null,
       "padding": null,
       "right": null,
       "top": null,
       "visibility": null,
       "width": "20px"
      }
     },
     "e395b353b76d4b4a8e442da313014381": {
      "model_module": "@jupyter-widgets/controls",
      "model_module_version": "1.5.0",
      "model_name": "HTMLModel",
      "state": {
       "_dom_classes": [],
       "_model_module": "@jupyter-widgets/controls",
       "_model_module_version": "1.5.0",
       "_model_name": "HTMLModel",
       "_view_count": null,
       "_view_module": "@jupyter-widgets/controls",
       "_view_module_version": "1.5.0",
       "_view_name": "HTMLView",
       "description": "",
       "description_tooltip": null,
       "layout": "IPY_MODEL_3095be002cea41f2acca1307d23107c3",
       "placeholder": "​",
       "style": "IPY_MODEL_191beccb8aee4f9d81d477b61633e99e",
       "value": ""
      }
     },
     "e651815bcb1c476987a14075d6e2d555": {
      "model_module": "@jupyter-widgets/controls",
      "model_module_version": "1.5.0",
      "model_name": "ProgressStyleModel",
      "state": {
       "_model_module": "@jupyter-widgets/controls",
       "_model_module_version": "1.5.0",
       "_model_name": "ProgressStyleModel",
       "_view_count": null,
       "_view_module": "@jupyter-widgets/base",
       "_view_module_version": "1.2.0",
       "_view_name": "StyleView",
       "bar_color": null,
       "description_width": ""
      }
     }
    },
    "version_major": 2,
    "version_minor": 0
   }
  }
 },
 "nbformat": 4,
 "nbformat_minor": 5
}
