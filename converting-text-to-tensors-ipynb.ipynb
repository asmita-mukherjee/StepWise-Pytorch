{
 "cells": [
  {
   "cell_type": "code",
   "execution_count": 1,
   "id": "b45c9341",
   "metadata": {
    "execution": {
     "iopub.execute_input": "2023-05-03T08:18:09.946658Z",
     "iopub.status.busy": "2023-05-03T08:18:09.946096Z",
     "iopub.status.idle": "2023-05-03T08:18:09.958104Z",
     "shell.execute_reply": "2023-05-03T08:18:09.957123Z"
    },
    "id": "UCJ1kIOnjAEG",
    "papermill": {
     "duration": 0.030063,
     "end_time": "2023-05-03T08:18:09.960420",
     "exception": false,
     "start_time": "2023-05-03T08:18:09.930357",
     "status": "completed"
    },
    "tags": []
   },
   "outputs": [],
   "source": [
    "import pandas as pd"
   ]
  },
  {
   "cell_type": "code",
   "execution_count": 2,
   "id": "fb67a863",
   "metadata": {
    "execution": {
     "iopub.execute_input": "2023-05-03T08:18:09.984636Z",
     "iopub.status.busy": "2023-05-03T08:18:09.984187Z",
     "iopub.status.idle": "2023-05-03T08:18:13.731339Z",
     "shell.execute_reply": "2023-05-03T08:18:13.730436Z"
    },
    "id": "Zjhgo1NBjKrG",
    "papermill": {
     "duration": 3.76245,
     "end_time": "2023-05-03T08:18:13.734066",
     "exception": false,
     "start_time": "2023-05-03T08:18:09.971616",
     "status": "completed"
    },
    "tags": []
   },
   "outputs": [],
   "source": [
    "import torch"
   ]
  },
  {
   "cell_type": "code",
   "execution_count": 3,
   "id": "82ae3f12",
   "metadata": {
    "execution": {
     "iopub.execute_input": "2023-05-03T08:18:13.758613Z",
     "iopub.status.busy": "2023-05-03T08:18:13.757859Z",
     "iopub.status.idle": "2023-05-03T08:18:13.762938Z",
     "shell.execute_reply": "2023-05-03T08:18:13.762118Z"
    },
    "id": "eunczWtDjLrz",
    "papermill": {
     "duration": 0.019505,
     "end_time": "2023-05-03T08:18:13.764831",
     "exception": false,
     "start_time": "2023-05-03T08:18:13.745326",
     "status": "completed"
    },
    "tags": []
   },
   "outputs": [],
   "source": [
    "from torch.utils.data import Dataset\n",
    "from torch.utils.data import DataLoader"
   ]
  },
  {
   "cell_type": "markdown",
   "id": "417ae52e",
   "metadata": {
    "papermill": {
     "duration": 0.010557,
     "end_time": "2023-05-03T08:18:13.786438",
     "exception": false,
     "start_time": "2023-05-03T08:18:13.775881",
     "status": "completed"
    },
    "tags": []
   },
   "source": []
  },
  {
   "cell_type": "code",
   "execution_count": 4,
   "id": "e9717498",
   "metadata": {
    "execution": {
     "iopub.execute_input": "2023-05-03T08:18:13.810529Z",
     "iopub.status.busy": "2023-05-03T08:18:13.809333Z",
     "iopub.status.idle": "2023-05-03T08:18:13.814042Z",
     "shell.execute_reply": "2023-05-03T08:18:13.813291Z"
    },
    "id": "sM3T1oRcmAuF",
    "papermill": {
     "duration": 0.018845,
     "end_time": "2023-05-03T08:18:13.816046",
     "exception": false,
     "start_time": "2023-05-03T08:18:13.797201",
     "status": "completed"
    },
    "tags": []
   },
   "outputs": [],
   "source": [
    "import torch.nn as nn"
   ]
  },
  {
   "cell_type": "code",
   "execution_count": 5,
   "id": "361689fc",
   "metadata": {
    "execution": {
     "iopub.execute_input": "2023-05-03T08:18:13.840809Z",
     "iopub.status.busy": "2023-05-03T08:18:13.839821Z",
     "iopub.status.idle": "2023-05-03T08:18:13.844898Z",
     "shell.execute_reply": "2023-05-03T08:18:13.843879Z"
    },
    "papermill": {
     "duration": 0.020043,
     "end_time": "2023-05-03T08:18:13.847030",
     "exception": false,
     "start_time": "2023-05-03T08:18:13.826987",
     "status": "completed"
    },
    "tags": []
   },
   "outputs": [],
   "source": [
    "import gc"
   ]
  },
  {
   "cell_type": "code",
   "execution_count": 6,
   "id": "2c38932d",
   "metadata": {
    "execution": {
     "iopub.execute_input": "2023-05-03T08:18:13.870929Z",
     "iopub.status.busy": "2023-05-03T08:18:13.870522Z",
     "iopub.status.idle": "2023-05-03T08:18:13.874989Z",
     "shell.execute_reply": "2023-05-03T08:18:13.873893Z"
    },
    "id": "YTyMWAFzpLsM",
    "papermill": {
     "duration": 0.019148,
     "end_time": "2023-05-03T08:18:13.877241",
     "exception": false,
     "start_time": "2023-05-03T08:18:13.858093",
     "status": "completed"
    },
    "tags": []
   },
   "outputs": [],
   "source": [
    "from torch.nn.utils.rnn import pack_padded_sequence,pad_packed_sequence"
   ]
  },
  {
   "cell_type": "code",
   "execution_count": 7,
   "id": "eaa7c270",
   "metadata": {
    "execution": {
     "iopub.execute_input": "2023-05-03T08:18:13.903368Z",
     "iopub.status.busy": "2023-05-03T08:18:13.902621Z",
     "iopub.status.idle": "2023-05-03T08:18:22.765293Z",
     "shell.execute_reply": "2023-05-03T08:18:22.764085Z"
    },
    "id": "D5hWD4jlp51U",
    "papermill": {
     "duration": 8.877665,
     "end_time": "2023-05-03T08:18:22.767861",
     "exception": false,
     "start_time": "2023-05-03T08:18:13.890196",
     "status": "completed"
    },
    "tags": []
   },
   "outputs": [
    {
     "name": "stderr",
     "output_type": "stream",
     "text": [
      "/opt/conda/lib/python3.10/site-packages/scipy/__init__.py:146: UserWarning: A NumPy version >=1.16.5 and <1.23.0 is required for this version of SciPy (detected version 1.23.5\n",
      "  warnings.warn(f\"A NumPy version >={np_minversion} and <{np_maxversion}\"\n"
     ]
    }
   ],
   "source": [
    "import spacy"
   ]
  },
  {
   "cell_type": "code",
   "execution_count": 8,
   "id": "a75f5573",
   "metadata": {
    "execution": {
     "iopub.execute_input": "2023-05-03T08:18:22.792847Z",
     "iopub.status.busy": "2023-05-03T08:18:22.791995Z",
     "iopub.status.idle": "2023-05-03T08:18:22.797481Z",
     "shell.execute_reply": "2023-05-03T08:18:22.796539Z"
    },
    "id": "YWLef1b0sOaP",
    "papermill": {
     "duration": 0.020196,
     "end_time": "2023-05-03T08:18:22.799612",
     "exception": false,
     "start_time": "2023-05-03T08:18:22.779416",
     "status": "completed"
    },
    "tags": []
   },
   "outputs": [],
   "source": [
    "import numpy as np"
   ]
  },
  {
   "cell_type": "code",
   "execution_count": 9,
   "id": "d631069b",
   "metadata": {
    "execution": {
     "iopub.execute_input": "2023-05-03T08:18:22.824192Z",
     "iopub.status.busy": "2023-05-03T08:18:22.823288Z",
     "iopub.status.idle": "2023-05-03T08:18:22.917958Z",
     "shell.execute_reply": "2023-05-03T08:18:22.916977Z"
    },
    "id": "WOqwnB-6qnZU",
    "papermill": {
     "duration": 0.109688,
     "end_time": "2023-05-03T08:18:22.920546",
     "exception": false,
     "start_time": "2023-05-03T08:18:22.810858",
     "status": "completed"
    },
    "tags": []
   },
   "outputs": [],
   "source": [
    "from tqdm.notebook import tqdm"
   ]
  },
  {
   "cell_type": "code",
   "execution_count": 10,
   "id": "f5e9655f",
   "metadata": {
    "execution": {
     "iopub.execute_input": "2023-05-03T08:18:22.944487Z",
     "iopub.status.busy": "2023-05-03T08:18:22.944030Z",
     "iopub.status.idle": "2023-05-03T08:18:24.079309Z",
     "shell.execute_reply": "2023-05-03T08:18:24.078280Z"
    },
    "id": "gFj2l09bp8CL",
    "papermill": {
     "duration": 1.15014,
     "end_time": "2023-05-03T08:18:24.081759",
     "exception": false,
     "start_time": "2023-05-03T08:18:22.931619",
     "status": "completed"
    },
    "tags": []
   },
   "outputs": [],
   "source": [
    "sp = spacy.load('en_core_web_sm')"
   ]
  },
  {
   "cell_type": "code",
   "execution_count": 11,
   "id": "7fa25e05",
   "metadata": {
    "execution": {
     "iopub.execute_input": "2023-05-03T08:18:24.105849Z",
     "iopub.status.busy": "2023-05-03T08:18:24.105035Z",
     "iopub.status.idle": "2023-05-03T08:18:24.110277Z",
     "shell.execute_reply": "2023-05-03T08:18:24.109089Z"
    },
    "id": "QfnZ4drb0uBs",
    "papermill": {
     "duration": 0.019793,
     "end_time": "2023-05-03T08:18:24.112611",
     "exception": false,
     "start_time": "2023-05-03T08:18:24.092818",
     "status": "completed"
    },
    "tags": []
   },
   "outputs": [],
   "source": [
    "import pickle"
   ]
  },
  {
   "cell_type": "code",
   "execution_count": 12,
   "id": "83f067c0",
   "metadata": {
    "execution": {
     "iopub.execute_input": "2023-05-03T08:18:24.136547Z",
     "iopub.status.busy": "2023-05-03T08:18:24.135596Z",
     "iopub.status.idle": "2023-05-03T08:18:24.140788Z",
     "shell.execute_reply": "2023-05-03T08:18:24.139836Z"
    },
    "papermill": {
     "duration": 0.019363,
     "end_time": "2023-05-03T08:18:24.142840",
     "exception": false,
     "start_time": "2023-05-03T08:18:24.123477",
     "status": "completed"
    },
    "tags": []
   },
   "outputs": [],
   "source": [
    "def pickle_dump(f_name,obj):\n",
    "  with open(f_name,\"wb\") as f:\n",
    "    pickle.dump(file = f, obj = obj)\n"
   ]
  },
  {
   "cell_type": "code",
   "execution_count": 13,
   "id": "efed61df",
   "metadata": {
    "execution": {
     "iopub.execute_input": "2023-05-03T08:18:24.166237Z",
     "iopub.status.busy": "2023-05-03T08:18:24.165798Z",
     "iopub.status.idle": "2023-05-03T08:18:24.170903Z",
     "shell.execute_reply": "2023-05-03T08:18:24.170019Z"
    },
    "papermill": {
     "duration": 0.019076,
     "end_time": "2023-05-03T08:18:24.172818",
     "exception": false,
     "start_time": "2023-05-03T08:18:24.153742",
     "status": "completed"
    },
    "tags": []
   },
   "outputs": [],
   "source": [
    "def pickle_load(f_name):\n",
    "    with open(f_name,\"rb\") as f:\n",
    "        obj = pickle.load(f)\n",
    "    \n",
    "    return obj"
   ]
  },
  {
   "cell_type": "markdown",
   "id": "b7f3320a",
   "metadata": {
    "id": "DJ7DP8wYixiK",
    "papermill": {
     "duration": 0.010592,
     "end_time": "2023-05-03T08:18:24.194293",
     "exception": false,
     "start_time": "2023-05-03T08:18:24.183701",
     "status": "completed"
    },
    "tags": []
   },
   "source": [
    "### Load Data"
   ]
  },
  {
   "cell_type": "code",
   "execution_count": 14,
   "id": "f262c89e",
   "metadata": {
    "execution": {
     "iopub.execute_input": "2023-05-03T08:18:24.217974Z",
     "iopub.status.busy": "2023-05-03T08:18:24.216775Z",
     "iopub.status.idle": "2023-05-03T08:18:24.676816Z",
     "shell.execute_reply": "2023-05-03T08:18:24.675635Z"
    },
    "id": "b1NJ0DvKiuls",
    "papermill": {
     "duration": 0.474546,
     "end_time": "2023-05-03T08:18:24.679536",
     "exception": false,
     "start_time": "2023-05-03T08:18:24.204990",
     "status": "completed"
    },
    "tags": []
   },
   "outputs": [],
   "source": [
    "data = pd.read_csv(\"/kaggle/input/preprocessed-data/preprocessed_data.csv\")"
   ]
  },
  {
   "cell_type": "code",
   "execution_count": 15,
   "id": "8f9ab0fc",
   "metadata": {
    "execution": {
     "iopub.execute_input": "2023-05-03T08:18:24.704688Z",
     "iopub.status.busy": "2023-05-03T08:18:24.703665Z",
     "iopub.status.idle": "2023-05-03T08:18:24.710750Z",
     "shell.execute_reply": "2023-05-03T08:18:24.710014Z"
    },
    "papermill": {
     "duration": 0.021712,
     "end_time": "2023-05-03T08:18:24.712775",
     "exception": false,
     "start_time": "2023-05-03T08:18:24.691063",
     "status": "completed"
    },
    "tags": []
   },
   "outputs": [
    {
     "data": {
      "text/plain": [
       "172761"
      ]
     },
     "execution_count": 15,
     "metadata": {},
     "output_type": "execute_result"
    }
   ],
   "source": [
    "len(data)"
   ]
  },
  {
   "cell_type": "code",
   "execution_count": 16,
   "id": "2fecdec0",
   "metadata": {
    "execution": {
     "iopub.execute_input": "2023-05-03T08:18:24.736849Z",
     "iopub.status.busy": "2023-05-03T08:18:24.736443Z",
     "iopub.status.idle": "2023-05-03T08:18:24.741665Z",
     "shell.execute_reply": "2023-05-03T08:18:24.740524Z"
    },
    "papermill": {
     "duration": 0.019828,
     "end_time": "2023-05-03T08:18:24.743869",
     "exception": false,
     "start_time": "2023-05-03T08:18:24.724041",
     "status": "completed"
    },
    "tags": []
   },
   "outputs": [],
   "source": [
    "## since the data is too huge for our capacity, currently naively cutting it down to 50% of the original size. latter we will look into better ways to handle this large data\n",
    "data = data[:int(0.5*len(data))]"
   ]
  },
  {
   "cell_type": "code",
   "execution_count": 17,
   "id": "cf7f84be",
   "metadata": {
    "execution": {
     "iopub.execute_input": "2023-05-03T08:18:24.768014Z",
     "iopub.status.busy": "2023-05-03T08:18:24.767226Z",
     "iopub.status.idle": "2023-05-03T08:18:24.773411Z",
     "shell.execute_reply": "2023-05-03T08:18:24.772648Z"
    },
    "papermill": {
     "duration": 0.020193,
     "end_time": "2023-05-03T08:18:24.775279",
     "exception": false,
     "start_time": "2023-05-03T08:18:24.755086",
     "status": "completed"
    },
    "tags": []
   },
   "outputs": [
    {
     "data": {
      "text/plain": [
       "86380"
      ]
     },
     "execution_count": 17,
     "metadata": {},
     "output_type": "execute_result"
    }
   ],
   "source": [
    "len(data)"
   ]
  },
  {
   "cell_type": "code",
   "execution_count": 18,
   "id": "76d538c0",
   "metadata": {
    "execution": {
     "iopub.execute_input": "2023-05-03T08:18:24.799559Z",
     "iopub.status.busy": "2023-05-03T08:18:24.799049Z",
     "iopub.status.idle": "2023-05-03T08:18:24.823394Z",
     "shell.execute_reply": "2023-05-03T08:18:24.822285Z"
    },
    "id": "Ge4CMP-YjCww",
    "outputId": "1df676d1-c79e-4b05-b45d-d9702c3974f9",
    "papermill": {
     "duration": 0.039142,
     "end_time": "2023-05-03T08:18:24.825517",
     "exception": false,
     "start_time": "2023-05-03T08:18:24.786375",
     "status": "completed"
    },
    "tags": []
   },
   "outputs": [
    {
     "data": {
      "text/html": [
       "<div>\n",
       "<style scoped>\n",
       "    .dataframe tbody tr th:only-of-type {\n",
       "        vertical-align: middle;\n",
       "    }\n",
       "\n",
       "    .dataframe tbody tr th {\n",
       "        vertical-align: top;\n",
       "    }\n",
       "\n",
       "    .dataframe thead th {\n",
       "        text-align: right;\n",
       "    }\n",
       "</style>\n",
       "<table border=\"1\" class=\"dataframe\">\n",
       "  <thead>\n",
       "    <tr style=\"text-align: right;\">\n",
       "      <th></th>\n",
       "      <th>text</th>\n",
       "      <th>emotions</th>\n",
       "    </tr>\n",
       "  </thead>\n",
       "  <tbody>\n",
       "    <tr>\n",
       "      <th>0</th>\n",
       "      <td>probably mention feel proud actually keep new ...</td>\n",
       "      <td>joy</td>\n",
       "    </tr>\n",
       "    <tr>\n",
       "      <th>1</th>\n",
       "      <td>people feel like go grm worthwhile hour</td>\n",
       "      <td>joy</td>\n",
       "    </tr>\n",
       "    <tr>\n",
       "      <th>2</th>\n",
       "      <td>feel especially pleased long time come</td>\n",
       "      <td>joy</td>\n",
       "    </tr>\n",
       "    <tr>\n",
       "      <th>3</th>\n",
       "      <td>struggle awful feeling say sweet thing deserve...</td>\n",
       "      <td>joy</td>\n",
       "    </tr>\n",
       "    <tr>\n",
       "      <th>4</th>\n",
       "      <td>mean stupid trip make great album thing go fee...</td>\n",
       "      <td>joy</td>\n",
       "    </tr>\n",
       "  </tbody>\n",
       "</table>\n",
       "</div>"
      ],
      "text/plain": [
       "                                                text emotions\n",
       "0  probably mention feel proud actually keep new ...      joy\n",
       "1            people feel like go grm worthwhile hour      joy\n",
       "2             feel especially pleased long time come      joy\n",
       "3  struggle awful feeling say sweet thing deserve...      joy\n",
       "4  mean stupid trip make great album thing go fee...      joy"
      ]
     },
     "execution_count": 18,
     "metadata": {},
     "output_type": "execute_result"
    }
   ],
   "source": [
    "data.head()"
   ]
  },
  {
   "cell_type": "code",
   "execution_count": 19,
   "id": "c0477fc4",
   "metadata": {
    "execution": {
     "iopub.execute_input": "2023-05-03T08:18:24.850739Z",
     "iopub.status.busy": "2023-05-03T08:18:24.849934Z",
     "iopub.status.idle": "2023-05-03T08:18:24.858123Z",
     "shell.execute_reply": "2023-05-03T08:18:24.857039Z"
    },
    "id": "jM6ieqAujy9t",
    "outputId": "a9094e5e-a80d-4c10-e44e-bcd04a73ef2d",
    "papermill": {
     "duration": 0.023313,
     "end_time": "2023-05-03T08:18:24.860261",
     "exception": false,
     "start_time": "2023-05-03T08:18:24.836948",
     "status": "completed"
    },
    "tags": []
   },
   "outputs": [
    {
     "data": {
      "text/plain": [
       "(17276, 69104)"
      ]
     },
     "execution_count": 19,
     "metadata": {},
     "output_type": "execute_result"
    }
   ],
   "source": [
    "test_data_len = int(0.2*len(data))\n",
    "\n",
    "train_data_len = len(data) - test_data_len\n",
    "\n",
    "test_data_len,train_data_len"
   ]
  },
  {
   "cell_type": "code",
   "execution_count": 20,
   "id": "5ff1c25c",
   "metadata": {
    "execution": {
     "iopub.execute_input": "2023-05-03T08:18:24.885354Z",
     "iopub.status.busy": "2023-05-03T08:18:24.884895Z",
     "iopub.status.idle": "2023-05-03T08:18:24.911133Z",
     "shell.execute_reply": "2023-05-03T08:18:24.909834Z"
    },
    "id": "3I4TUNnTkGlB",
    "papermill": {
     "duration": 0.042514,
     "end_time": "2023-05-03T08:18:24.914291",
     "exception": false,
     "start_time": "2023-05-03T08:18:24.871777",
     "status": "completed"
    },
    "tags": []
   },
   "outputs": [],
   "source": [
    "data = data.sample(frac = 1).reset_index(drop=True)"
   ]
  },
  {
   "cell_type": "code",
   "execution_count": 21,
   "id": "956a6e25",
   "metadata": {
    "execution": {
     "iopub.execute_input": "2023-05-03T08:18:24.940965Z",
     "iopub.status.busy": "2023-05-03T08:18:24.940523Z",
     "iopub.status.idle": "2023-05-03T08:18:24.955363Z",
     "shell.execute_reply": "2023-05-03T08:18:24.954466Z"
    },
    "id": "pE2e8QFJjwkS",
    "papermill": {
     "duration": 0.030831,
     "end_time": "2023-05-03T08:18:24.957533",
     "exception": false,
     "start_time": "2023-05-03T08:18:24.926702",
     "status": "completed"
    },
    "tags": []
   },
   "outputs": [],
   "source": [
    "train_data,test_data = data.loc[:train_data_len,:],data.loc[train_data_len:train_data_len+test_data_len,:]"
   ]
  },
  {
   "cell_type": "code",
   "execution_count": 22,
   "id": "19e19e8a",
   "metadata": {
    "execution": {
     "iopub.execute_input": "2023-05-03T08:18:24.983073Z",
     "iopub.status.busy": "2023-05-03T08:18:24.982417Z",
     "iopub.status.idle": "2023-05-03T08:18:24.988691Z",
     "shell.execute_reply": "2023-05-03T08:18:24.987901Z"
    },
    "id": "hic0lpBOkdBr",
    "outputId": "3bced50c-6abe-44ae-f22c-e403c78f8424",
    "papermill": {
     "duration": 0.021311,
     "end_time": "2023-05-03T08:18:24.990577",
     "exception": false,
     "start_time": "2023-05-03T08:18:24.969266",
     "status": "completed"
    },
    "tags": []
   },
   "outputs": [
    {
     "data": {
      "text/plain": [
       "(69105, 17276)"
      ]
     },
     "execution_count": 22,
     "metadata": {},
     "output_type": "execute_result"
    }
   ],
   "source": [
    "len(train_data),len(test_data)"
   ]
  },
  {
   "cell_type": "code",
   "execution_count": 23,
   "id": "770a76a9",
   "metadata": {
    "execution": {
     "iopub.execute_input": "2023-05-03T08:18:25.015938Z",
     "iopub.status.busy": "2023-05-03T08:18:25.015286Z",
     "iopub.status.idle": "2023-05-03T08:18:25.443359Z",
     "shell.execute_reply": "2023-05-03T08:18:25.442081Z"
    },
    "papermill": {
     "duration": 0.443077,
     "end_time": "2023-05-03T08:18:25.445470",
     "exception": false,
     "start_time": "2023-05-03T08:18:25.002393",
     "status": "completed"
    },
    "tags": []
   },
   "outputs": [
    {
     "data": {
      "text/plain": [
       "515"
      ]
     },
     "execution_count": 23,
     "metadata": {},
     "output_type": "execute_result"
    }
   ],
   "source": [
    "del data\n",
    "gc.collect()"
   ]
  },
  {
   "cell_type": "markdown",
   "id": "94e535b5",
   "metadata": {
    "id": "eOjHW88RjFXC",
    "papermill": {
     "duration": 0.011935,
     "end_time": "2023-05-03T08:18:25.469286",
     "exception": false,
     "start_time": "2023-05-03T08:18:25.457351",
     "status": "completed"
    },
    "tags": []
   },
   "source": [
    "### Custom Dataset for handling data"
   ]
  },
  {
   "cell_type": "markdown",
   "id": "4b08a9de",
   "metadata": {
    "id": "VoUU77KmHx7l",
    "papermill": {
     "duration": 0.011386,
     "end_time": "2023-05-03T08:18:25.492232",
     "exception": false,
     "start_time": "2023-05-03T08:18:25.480846",
     "status": "completed"
    },
    "tags": []
   },
   "source": [
    "## Generating Vocacb from the text\n",
    "> Why is it required? \n",
    "We cannot feed a string of text to pytorch, it deals with tensors , for which we will need to convert the text to tensor. One method could be to give the index of the word in the vocab\n",
    "\n",
    "For Ex: Text : I have an apple.\n",
    "index of I in vocab : 10\n",
    "index of have in vocab : 20\n",
    "index of an in vocab : 5\n",
    "index of an apple : 6\n",
    "\n",
    "hence,\n",
    "input : [10,20,5,6]"
   ]
  },
  {
   "cell_type": "code",
   "execution_count": 24,
   "id": "c1fd847f",
   "metadata": {
    "execution": {
     "iopub.execute_input": "2023-05-03T08:18:25.517367Z",
     "iopub.status.busy": "2023-05-03T08:18:25.516681Z",
     "iopub.status.idle": "2023-05-03T08:18:25.522194Z",
     "shell.execute_reply": "2023-05-03T08:18:25.521318Z"
    },
    "id": "5o5tepmNIpRX",
    "papermill": {
     "duration": 0.020463,
     "end_time": "2023-05-03T08:18:25.524277",
     "exception": false,
     "start_time": "2023-05-03T08:18:25.503814",
     "status": "completed"
    },
    "tags": []
   },
   "outputs": [],
   "source": [
    "def yield_tokens(list_of_text):\n",
    "  '''\n",
    "    Will return an iterator containing the tokens of each sen\n",
    "  '''\n",
    "  for text in list_of_text:\n",
    "    yield text.strip().split()"
   ]
  },
  {
   "cell_type": "code",
   "execution_count": 25,
   "id": "1e429c5f",
   "metadata": {
    "execution": {
     "iopub.execute_input": "2023-05-03T08:18:25.550531Z",
     "iopub.status.busy": "2023-05-03T08:18:25.549696Z",
     "iopub.status.idle": "2023-05-03T08:18:26.669510Z",
     "shell.execute_reply": "2023-05-03T08:18:26.668434Z"
    },
    "id": "iOy5h7l8IcrX",
    "papermill": {
     "duration": 1.135891,
     "end_time": "2023-05-03T08:18:26.672168",
     "exception": false,
     "start_time": "2023-05-03T08:18:25.536277",
     "status": "completed"
    },
    "tags": []
   },
   "outputs": [],
   "source": [
    "from torchtext.vocab import build_vocab_from_iterator\n",
    "vocab = build_vocab_from_iterator(yield_tokens(train_data.text),specials=[\"<unk>\"])\n",
    "\n",
    "vocab.set_default_index(vocab['<unk>'])"
   ]
  },
  {
   "cell_type": "code",
   "execution_count": 26,
   "id": "f35f6ee6",
   "metadata": {
    "execution": {
     "iopub.execute_input": "2023-05-03T08:18:26.697857Z",
     "iopub.status.busy": "2023-05-03T08:18:26.697024Z",
     "iopub.status.idle": "2023-05-03T08:18:26.704519Z",
     "shell.execute_reply": "2023-05-03T08:18:26.703421Z"
    },
    "id": "uvVyd8rHJfyr",
    "outputId": "6e99534e-a120-4016-f1b1-6fd038eafc4d",
    "papermill": {
     "duration": 0.022716,
     "end_time": "2023-05-03T08:18:26.706681",
     "exception": false,
     "start_time": "2023-05-03T08:18:26.683965",
     "status": "completed"
    },
    "tags": []
   },
   "outputs": [
    {
     "data": {
      "text/plain": [
       "417"
      ]
     },
     "execution_count": 26,
     "metadata": {},
     "output_type": "execute_result"
    }
   ],
   "source": [
    "vocab[\"pleased\"]"
   ]
  },
  {
   "cell_type": "code",
   "execution_count": 27,
   "id": "96d47e1a",
   "metadata": {
    "execution": {
     "iopub.execute_input": "2023-05-03T08:18:26.734285Z",
     "iopub.status.busy": "2023-05-03T08:18:26.733882Z",
     "iopub.status.idle": "2023-05-03T08:18:26.740917Z",
     "shell.execute_reply": "2023-05-03T08:18:26.739784Z"
    },
    "papermill": {
     "duration": 0.022559,
     "end_time": "2023-05-03T08:18:26.742926",
     "exception": false,
     "start_time": "2023-05-03T08:18:26.720367",
     "status": "completed"
    },
    "tags": []
   },
   "outputs": [
    {
     "data": {
      "text/plain": [
       "0"
      ]
     },
     "execution_count": 27,
     "metadata": {},
     "output_type": "execute_result"
    }
   ],
   "source": [
    "vocab[\"afda\"]"
   ]
  },
  {
   "cell_type": "code",
   "execution_count": 28,
   "id": "f6caef4a",
   "metadata": {
    "execution": {
     "iopub.execute_input": "2023-05-03T08:18:26.768528Z",
     "iopub.status.busy": "2023-05-03T08:18:26.768129Z",
     "iopub.status.idle": "2023-05-03T08:18:26.774566Z",
     "shell.execute_reply": "2023-05-03T08:18:26.773561Z"
    },
    "id": "EbIkD8gWJk5t",
    "outputId": "a2c5f8a3-fcf9-4b23-cbd0-aaa3377d4dfb",
    "papermill": {
     "duration": 0.021683,
     "end_time": "2023-05-03T08:18:26.776631",
     "exception": false,
     "start_time": "2023-05-03T08:18:26.754948",
     "status": "completed"
    },
    "tags": []
   },
   "outputs": [
    {
     "data": {
      "text/plain": [
       "16788"
      ]
     },
     "execution_count": 28,
     "metadata": {},
     "output_type": "execute_result"
    }
   ],
   "source": [
    "len(vocab)"
   ]
  },
  {
   "cell_type": "markdown",
   "id": "39af39a0",
   "metadata": {
    "id": "cl-7hamoCqFB",
    "papermill": {
     "duration": 0.011634,
     "end_time": "2023-05-03T08:18:26.800330",
     "exception": false,
     "start_time": "2023-05-03T08:18:26.788696",
     "status": "completed"
    },
    "tags": []
   },
   "source": [
    "### Convert Text to tensor"
   ]
  },
  {
   "cell_type": "code",
   "execution_count": 29,
   "id": "550869c6",
   "metadata": {
    "execution": {
     "iopub.execute_input": "2023-05-03T08:18:26.825524Z",
     "iopub.status.busy": "2023-05-03T08:18:26.825081Z",
     "iopub.status.idle": "2023-05-03T08:18:26.829833Z",
     "shell.execute_reply": "2023-05-03T08:18:26.828587Z"
    },
    "id": "cSigPiLzxwii",
    "papermill": {
     "duration": 0.020137,
     "end_time": "2023-05-03T08:18:26.832045",
     "exception": false,
     "start_time": "2023-05-03T08:18:26.811908",
     "status": "completed"
    },
    "tags": []
   },
   "outputs": [],
   "source": [
    "import gc"
   ]
  },
  {
   "cell_type": "code",
   "execution_count": 30,
   "id": "eef09949",
   "metadata": {
    "execution": {
     "iopub.execute_input": "2023-05-03T08:18:26.857829Z",
     "iopub.status.busy": "2023-05-03T08:18:26.857395Z",
     "iopub.status.idle": "2023-05-03T08:18:26.863512Z",
     "shell.execute_reply": "2023-05-03T08:18:26.862553Z"
    },
    "id": "5NuXrytqBa9K",
    "papermill": {
     "duration": 0.021277,
     "end_time": "2023-05-03T08:18:26.865535",
     "exception": false,
     "start_time": "2023-05-03T08:18:26.844258",
     "status": "completed"
    },
    "tags": []
   },
   "outputs": [],
   "source": [
    "def convertTextToTensor(list_of_text,vocab):\n",
    "\n",
    "    res_tensor = torch.zeros(len(list_of_text),len(vocab))\n",
    "    \n",
    "    for row,t in tqdm(enumerate(list_of_text)):#loop for each text in list of texts\n",
    "\n",
    "      for col,w in enumerate(t.split()): #loop for each word in text:\n",
    "        res_tensor[row][col] = vocab[w]\n",
    "    \n",
    "    return res_tensor\n"
   ]
  },
  {
   "cell_type": "code",
   "execution_count": 31,
   "id": "4ea8f3d6",
   "metadata": {
    "execution": {
     "iopub.execute_input": "2023-05-03T08:18:26.891516Z",
     "iopub.status.busy": "2023-05-03T08:18:26.891098Z",
     "iopub.status.idle": "2023-05-03T08:18:34.861200Z",
     "shell.execute_reply": "2023-05-03T08:18:34.859915Z"
    },
    "id": "VzeSlsMjBuIN",
    "papermill": {
     "duration": 7.985765,
     "end_time": "2023-05-03T08:18:34.863408",
     "exception": false,
     "start_time": "2023-05-03T08:18:26.877643",
     "status": "completed"
    },
    "tags": []
   },
   "outputs": [
    {
     "data": {
      "application/vnd.jupyter.widget-view+json": {
       "model_id": "e7eacb8ac03f47db905f8b0d2bdcda94",
       "version_major": 2,
       "version_minor": 0
      },
      "text/plain": [
       "0it [00:00, ?it/s]"
      ]
     },
     "metadata": {},
     "output_type": "display_data"
    }
   ],
   "source": [
    "#since storing the entire text \n",
    "\n",
    "tensors_text  = convertTextToTensor(list(train_data.text),vocab)\n",
    "\n"
   ]
  },
  {
   "cell_type": "code",
   "execution_count": 32,
   "id": "4c234310",
   "metadata": {
    "execution": {
     "iopub.execute_input": "2023-05-03T08:18:34.890305Z",
     "iopub.status.busy": "2023-05-03T08:18:34.889867Z",
     "iopub.status.idle": "2023-05-03T08:18:34.896376Z",
     "shell.execute_reply": "2023-05-03T08:18:34.895369Z"
    },
    "papermill": {
     "duration": 0.022446,
     "end_time": "2023-05-03T08:18:34.898444",
     "exception": false,
     "start_time": "2023-05-03T08:18:34.875998",
     "status": "completed"
    },
    "tags": []
   },
   "outputs": [
    {
     "data": {
      "text/plain": [
       "torch.float32"
      ]
     },
     "execution_count": 32,
     "metadata": {},
     "output_type": "execute_result"
    }
   ],
   "source": [
    "tensors_text.dtype"
   ]
  },
  {
   "cell_type": "code",
   "execution_count": 33,
   "id": "c64ca302",
   "metadata": {
    "execution": {
     "iopub.execute_input": "2023-05-03T08:18:34.924865Z",
     "iopub.status.busy": "2023-05-03T08:18:34.924447Z",
     "iopub.status.idle": "2023-05-03T08:18:52.633116Z",
     "shell.execute_reply": "2023-05-03T08:18:52.632034Z"
    },
    "papermill": {
     "duration": 17.724626,
     "end_time": "2023-05-03T08:18:52.635341",
     "exception": false,
     "start_time": "2023-05-03T08:18:34.910715",
     "status": "completed"
    },
    "tags": []
   },
   "outputs": [
    {
     "data": {
      "text/plain": [
       "86"
      ]
     },
     "execution_count": 33,
     "metadata": {},
     "output_type": "execute_result"
    }
   ],
   "source": [
    "pickle_dump(f_name=\"train_text_tensors.pkl\",obj=tensors_text)\n",
    "\n",
    "del tensors_text\n",
    "gc.collect()"
   ]
  },
  {
   "cell_type": "code",
   "execution_count": 34,
   "id": "339f4c05",
   "metadata": {
    "execution": {
     "iopub.execute_input": "2023-05-03T08:18:52.727633Z",
     "iopub.status.busy": "2023-05-03T08:18:52.726766Z",
     "iopub.status.idle": "2023-05-03T08:18:52.733835Z",
     "shell.execute_reply": "2023-05-03T08:18:52.732967Z"
    },
    "papermill": {
     "duration": 0.070405,
     "end_time": "2023-05-03T08:18:52.736012",
     "exception": false,
     "start_time": "2023-05-03T08:18:52.665607",
     "status": "completed"
    },
    "tags": []
   },
   "outputs": [
    {
     "data": {
      "text/plain": [
       "0"
      ]
     },
     "execution_count": 34,
     "metadata": {},
     "output_type": "execute_result"
    }
   ],
   "source": [
    "vocab['<unk>']"
   ]
  },
  {
   "cell_type": "code",
   "execution_count": null,
   "id": "b068f0c9",
   "metadata": {
    "papermill": {
     "duration": 0.059194,
     "end_time": "2023-05-03T08:18:52.842908",
     "exception": false,
     "start_time": "2023-05-03T08:18:52.783714",
     "status": "completed"
    },
    "tags": []
   },
   "outputs": [],
   "source": []
  },
  {
   "cell_type": "code",
   "execution_count": 35,
   "id": "3d33bd32",
   "metadata": {
    "execution": {
     "iopub.execute_input": "2023-05-03T08:18:52.963572Z",
     "iopub.status.busy": "2023-05-03T08:18:52.962782Z",
     "iopub.status.idle": "2023-05-03T08:18:52.969976Z",
     "shell.execute_reply": "2023-05-03T08:18:52.969084Z"
    },
    "papermill": {
     "duration": 0.070502,
     "end_time": "2023-05-03T08:18:52.972357",
     "exception": false,
     "start_time": "2023-05-03T08:18:52.901855",
     "status": "completed"
    },
    "tags": []
   },
   "outputs": [
    {
     "data": {
      "text/plain": [
       "0"
      ]
     },
     "execution_count": 35,
     "metadata": {},
     "output_type": "execute_result"
    }
   ],
   "source": [
    "vocab[\"absgfd\"]"
   ]
  },
  {
   "cell_type": "code",
   "execution_count": 36,
   "id": "86d5a915",
   "metadata": {
    "execution": {
     "iopub.execute_input": "2023-05-03T08:18:53.084196Z",
     "iopub.status.busy": "2023-05-03T08:18:53.083051Z",
     "iopub.status.idle": "2023-05-03T08:18:57.988020Z",
     "shell.execute_reply": "2023-05-03T08:18:57.986968Z"
    },
    "id": "eyW2vYv7Dq4c",
    "papermill": {
     "duration": 4.969451,
     "end_time": "2023-05-03T08:18:57.990581",
     "exception": false,
     "start_time": "2023-05-03T08:18:53.021130",
     "status": "completed"
    },
    "tags": []
   },
   "outputs": [
    {
     "data": {
      "application/vnd.jupyter.widget-view+json": {
       "model_id": "9821d00b654e48bca19bd9d73b62ac48",
       "version_major": 2,
       "version_minor": 0
      },
      "text/plain": [
       "0it [00:00, ?it/s]"
      ]
     },
     "metadata": {},
     "output_type": "display_data"
    },
    {
     "data": {
      "text/plain": [
       "21"
      ]
     },
     "execution_count": 36,
     "metadata": {},
     "output_type": "execute_result"
    }
   ],
   "source": [
    "tensors_text_test = convertTextToTensor(list(test_data.text),vocab)\n",
    "\n",
    "pickle_dump(f_name=\"test_text_tensors.pkl\",obj=tensors_text_test)\n",
    "\n",
    "del tensors_text_test\n",
    "gc.collect()"
   ]
  },
  {
   "cell_type": "markdown",
   "id": "21d18ffe",
   "metadata": {
    "id": "M61NEUTW9M04",
    "papermill": {
     "duration": 0.066866,
     "end_time": "2023-05-03T08:19:05.305713",
     "exception": false,
     "start_time": "2023-05-03T08:19:05.238847",
     "status": "completed"
    },
    "tags": []
   },
   "source": [
    "##Fitting LabelEncoder for converting labels to tensors"
   ]
  },
  {
   "cell_type": "code",
   "execution_count": 37,
   "id": "befcba87",
   "metadata": {
    "execution": {
     "iopub.execute_input": "2023-05-03T08:19:05.445758Z",
     "iopub.status.busy": "2023-05-03T08:19:05.444639Z",
     "iopub.status.idle": "2023-05-03T08:19:06.497917Z",
     "shell.execute_reply": "2023-05-03T08:19:06.496818Z"
    },
    "id": "Uo0PArul9Qe7",
    "outputId": "13d7b89d-1629-4689-f2de-1423c8481ec1",
    "papermill": {
     "duration": 1.126316,
     "end_time": "2023-05-03T08:19:06.500362",
     "exception": false,
     "start_time": "2023-05-03T08:19:05.374046",
     "status": "completed"
    },
    "tags": []
   },
   "outputs": [
    {
     "data": {
      "text/html": [
       "<style>#sk-container-id-1 {color: black;background-color: white;}#sk-container-id-1 pre{padding: 0;}#sk-container-id-1 div.sk-toggleable {background-color: white;}#sk-container-id-1 label.sk-toggleable__label {cursor: pointer;display: block;width: 100%;margin-bottom: 0;padding: 0.3em;box-sizing: border-box;text-align: center;}#sk-container-id-1 label.sk-toggleable__label-arrow:before {content: \"▸\";float: left;margin-right: 0.25em;color: #696969;}#sk-container-id-1 label.sk-toggleable__label-arrow:hover:before {color: black;}#sk-container-id-1 div.sk-estimator:hover label.sk-toggleable__label-arrow:before {color: black;}#sk-container-id-1 div.sk-toggleable__content {max-height: 0;max-width: 0;overflow: hidden;text-align: left;background-color: #f0f8ff;}#sk-container-id-1 div.sk-toggleable__content pre {margin: 0.2em;color: black;border-radius: 0.25em;background-color: #f0f8ff;}#sk-container-id-1 input.sk-toggleable__control:checked~div.sk-toggleable__content {max-height: 200px;max-width: 100%;overflow: auto;}#sk-container-id-1 input.sk-toggleable__control:checked~label.sk-toggleable__label-arrow:before {content: \"▾\";}#sk-container-id-1 div.sk-estimator input.sk-toggleable__control:checked~label.sk-toggleable__label {background-color: #d4ebff;}#sk-container-id-1 div.sk-label input.sk-toggleable__control:checked~label.sk-toggleable__label {background-color: #d4ebff;}#sk-container-id-1 input.sk-hidden--visually {border: 0;clip: rect(1px 1px 1px 1px);clip: rect(1px, 1px, 1px, 1px);height: 1px;margin: -1px;overflow: hidden;padding: 0;position: absolute;width: 1px;}#sk-container-id-1 div.sk-estimator {font-family: monospace;background-color: #f0f8ff;border: 1px dotted black;border-radius: 0.25em;box-sizing: border-box;margin-bottom: 0.5em;}#sk-container-id-1 div.sk-estimator:hover {background-color: #d4ebff;}#sk-container-id-1 div.sk-parallel-item::after {content: \"\";width: 100%;border-bottom: 1px solid gray;flex-grow: 1;}#sk-container-id-1 div.sk-label:hover label.sk-toggleable__label {background-color: #d4ebff;}#sk-container-id-1 div.sk-serial::before {content: \"\";position: absolute;border-left: 1px solid gray;box-sizing: border-box;top: 0;bottom: 0;left: 50%;z-index: 0;}#sk-container-id-1 div.sk-serial {display: flex;flex-direction: column;align-items: center;background-color: white;padding-right: 0.2em;padding-left: 0.2em;position: relative;}#sk-container-id-1 div.sk-item {position: relative;z-index: 1;}#sk-container-id-1 div.sk-parallel {display: flex;align-items: stretch;justify-content: center;background-color: white;position: relative;}#sk-container-id-1 div.sk-item::before, #sk-container-id-1 div.sk-parallel-item::before {content: \"\";position: absolute;border-left: 1px solid gray;box-sizing: border-box;top: 0;bottom: 0;left: 50%;z-index: -1;}#sk-container-id-1 div.sk-parallel-item {display: flex;flex-direction: column;z-index: 1;position: relative;background-color: white;}#sk-container-id-1 div.sk-parallel-item:first-child::after {align-self: flex-end;width: 50%;}#sk-container-id-1 div.sk-parallel-item:last-child::after {align-self: flex-start;width: 50%;}#sk-container-id-1 div.sk-parallel-item:only-child::after {width: 0;}#sk-container-id-1 div.sk-dashed-wrapped {border: 1px dashed gray;margin: 0 0.4em 0.5em 0.4em;box-sizing: border-box;padding-bottom: 0.4em;background-color: white;}#sk-container-id-1 div.sk-label label {font-family: monospace;font-weight: bold;display: inline-block;line-height: 1.2em;}#sk-container-id-1 div.sk-label-container {text-align: center;}#sk-container-id-1 div.sk-container {/* jupyter's `normalize.less` sets `[hidden] { display: none; }` but bootstrap.min.css set `[hidden] { display: none !important; }` so we also need the `!important` here to be able to override the default hidden behavior on the sphinx rendered scikit-learn.org. See: https://github.com/scikit-learn/scikit-learn/issues/21755 */display: inline-block !important;position: relative;}#sk-container-id-1 div.sk-text-repr-fallback {display: none;}</style><div id=\"sk-container-id-1\" class=\"sk-top-container\"><div class=\"sk-text-repr-fallback\"><pre>LabelEncoder()</pre><b>In a Jupyter environment, please rerun this cell to show the HTML representation or trust the notebook. <br />On GitHub, the HTML representation is unable to render, please try loading this page with nbviewer.org.</b></div><div class=\"sk-container\" hidden><div class=\"sk-item\"><div class=\"sk-estimator sk-toggleable\"><input class=\"sk-toggleable__control sk-hidden--visually\" id=\"sk-estimator-id-1\" type=\"checkbox\" checked><label for=\"sk-estimator-id-1\" class=\"sk-toggleable__label sk-toggleable__label-arrow\">LabelEncoder</label><div class=\"sk-toggleable__content\"><pre>LabelEncoder()</pre></div></div></div></div></div>"
      ],
      "text/plain": [
       "LabelEncoder()"
      ]
     },
     "execution_count": 37,
     "metadata": {},
     "output_type": "execute_result"
    }
   ],
   "source": [
    "from sklearn import preprocessing\n",
    "le = preprocessing.LabelEncoder()\n",
    "le.fit(train_data.emotions)\n"
   ]
  },
  {
   "cell_type": "markdown",
   "id": "44208676",
   "metadata": {
    "id": "WPBVRsfsC4jK",
    "papermill": {
     "duration": 0.056226,
     "end_time": "2023-05-03T08:19:06.598958",
     "exception": false,
     "start_time": "2023-05-03T08:19:06.542732",
     "status": "completed"
    },
    "tags": []
   },
   "source": [
    "### Converting Labels to tensors"
   ]
  },
  {
   "cell_type": "code",
   "execution_count": 38,
   "id": "316e60f9",
   "metadata": {
    "execution": {
     "iopub.execute_input": "2023-05-03T08:19:06.715688Z",
     "iopub.status.busy": "2023-05-03T08:19:06.715027Z",
     "iopub.status.idle": "2023-05-03T08:19:06.725577Z",
     "shell.execute_reply": "2023-05-03T08:19:06.724145Z"
    },
    "id": "in66QKl7DDrl",
    "papermill": {
     "duration": 0.072817,
     "end_time": "2023-05-03T08:19:06.727789",
     "exception": false,
     "start_time": "2023-05-03T08:19:06.654972",
     "status": "completed"
    },
    "tags": []
   },
   "outputs": [],
   "source": [
    "def convertLabelToTensor(labels,label_enc_obj):\n",
    "    labels = label_enc_obj.transform(labels)\n",
    "    \n",
    "    num_labels = len(np.unique(labels))\n",
    "    \n",
    "    res = torch.zeros(len(labels),num_labels)#dim = nosOfinstance*nos of classes\n",
    "    \n",
    "    res = res.to(torch.int)\n",
    "    \n",
    "    for idx,label in enumerate(labels):\n",
    "        res[idx][label-1] = 1\n",
    "        \n",
    "        \n",
    "    return res"
   ]
  },
  {
   "cell_type": "code",
   "execution_count": 39,
   "id": "b0b8abeb",
   "metadata": {
    "execution": {
     "iopub.execute_input": "2023-05-03T08:19:06.828098Z",
     "iopub.status.busy": "2023-05-03T08:19:06.827354Z",
     "iopub.status.idle": "2023-05-03T08:19:06.832176Z",
     "shell.execute_reply": "2023-05-03T08:19:06.831466Z"
    },
    "papermill": {
     "duration": 0.063683,
     "end_time": "2023-05-03T08:19:06.834346",
     "exception": false,
     "start_time": "2023-05-03T08:19:06.770663",
     "status": "completed"
    },
    "tags": []
   },
   "outputs": [],
   "source": [
    "# np.unique(test_data.emotions)"
   ]
  },
  {
   "cell_type": "code",
   "execution_count": 40,
   "id": "c35c1ab3",
   "metadata": {
    "execution": {
     "iopub.execute_input": "2023-05-03T08:19:06.947200Z",
     "iopub.status.busy": "2023-05-03T08:19:06.946546Z",
     "iopub.status.idle": "2023-05-03T08:19:07.594848Z",
     "shell.execute_reply": "2023-05-03T08:19:07.593880Z"
    },
    "id": "iT-DgOHbDAUc",
    "papermill": {
     "duration": 0.714517,
     "end_time": "2023-05-03T08:19:07.597181",
     "exception": false,
     "start_time": "2023-05-03T08:19:06.882664",
     "status": "completed"
    },
    "tags": []
   },
   "outputs": [],
   "source": [
    "tensors_labels_train = convertLabelToTensor(train_data.emotions,le)\n",
    "tensors_labels_test = convertLabelToTensor(test_data.emotions,le)"
   ]
  },
  {
   "cell_type": "code",
   "execution_count": 41,
   "id": "9dca025e",
   "metadata": {
    "execution": {
     "iopub.execute_input": "2023-05-03T08:19:07.626219Z",
     "iopub.status.busy": "2023-05-03T08:19:07.625766Z",
     "iopub.status.idle": "2023-05-03T08:19:07.632943Z",
     "shell.execute_reply": "2023-05-03T08:19:07.632056Z"
    },
    "id": "1qld-8itDkkL",
    "outputId": "39eccb0b-a80d-44c1-aea3-36f0d70cb709",
    "papermill": {
     "duration": 0.024153,
     "end_time": "2023-05-03T08:19:07.634839",
     "exception": false,
     "start_time": "2023-05-03T08:19:07.610686",
     "status": "completed"
    },
    "tags": []
   },
   "outputs": [
    {
     "data": {
      "text/plain": [
       "torch.Size([69105, 3])"
      ]
     },
     "execution_count": 41,
     "metadata": {},
     "output_type": "execute_result"
    }
   ],
   "source": [
    "tensors_labels_train.shape"
   ]
  },
  {
   "cell_type": "code",
   "execution_count": 42,
   "id": "e67951ef",
   "metadata": {
    "execution": {
     "iopub.execute_input": "2023-05-03T08:19:07.664393Z",
     "iopub.status.busy": "2023-05-03T08:19:07.662570Z",
     "iopub.status.idle": "2023-05-03T08:19:07.669555Z",
     "shell.execute_reply": "2023-05-03T08:19:07.668560Z"
    },
    "id": "HwyTyKmeDmkd",
    "outputId": "3bc09566-aecc-44c6-ea5d-1f7dc5516fd5",
    "papermill": {
     "duration": 0.023665,
     "end_time": "2023-05-03T08:19:07.671640",
     "exception": false,
     "start_time": "2023-05-03T08:19:07.647975",
     "status": "completed"
    },
    "tags": []
   },
   "outputs": [
    {
     "data": {
      "text/plain": [
       "torch.Size([17276, 3])"
      ]
     },
     "execution_count": 42,
     "metadata": {},
     "output_type": "execute_result"
    }
   ],
   "source": [
    "tensors_labels_test.shape"
   ]
  },
  {
   "cell_type": "code",
   "execution_count": 43,
   "id": "8a2b9b79",
   "metadata": {
    "execution": {
     "iopub.execute_input": "2023-05-03T08:19:07.700679Z",
     "iopub.status.busy": "2023-05-03T08:19:07.700240Z",
     "iopub.status.idle": "2023-05-03T08:19:07.722869Z",
     "shell.execute_reply": "2023-05-03T08:19:07.721868Z"
    },
    "papermill": {
     "duration": 0.039916,
     "end_time": "2023-05-03T08:19:07.725022",
     "exception": false,
     "start_time": "2023-05-03T08:19:07.685106",
     "status": "completed"
    },
    "tags": []
   },
   "outputs": [
    {
     "data": {
      "text/plain": [
       "tensor([0, 1, 0], dtype=torch.int32)"
      ]
     },
     "execution_count": 43,
     "metadata": {},
     "output_type": "execute_result"
    }
   ],
   "source": [
    "tensors_labels_train[1]"
   ]
  },
  {
   "cell_type": "code",
   "execution_count": 44,
   "id": "27e7273e",
   "metadata": {
    "execution": {
     "iopub.execute_input": "2023-05-03T08:19:07.756036Z",
     "iopub.status.busy": "2023-05-03T08:19:07.754744Z",
     "iopub.status.idle": "2023-05-03T08:19:07.763626Z",
     "shell.execute_reply": "2023-05-03T08:19:07.762005Z"
    },
    "id": "WWafjoFBEqCK",
    "papermill": {
     "duration": 0.027004,
     "end_time": "2023-05-03T08:19:07.766024",
     "exception": false,
     "start_time": "2023-05-03T08:19:07.739020",
     "status": "completed"
    },
    "tags": []
   },
   "outputs": [],
   "source": [
    "pickle_dump(f_name = \"train_labels_tensors\",obj=tensors_labels_train)\n",
    "pickle_dump(f_name = \"test_labels_tensors\",obj=tensors_labels_test)"
   ]
  },
  {
   "cell_type": "code",
   "execution_count": null,
   "id": "6f40356f",
   "metadata": {
    "papermill": {
     "duration": 0.013626,
     "end_time": "2023-05-03T08:19:07.793799",
     "exception": false,
     "start_time": "2023-05-03T08:19:07.780173",
     "status": "completed"
    },
    "tags": []
   },
   "outputs": [],
   "source": []
  },
  {
   "cell_type": "code",
   "execution_count": null,
   "id": "828c6c4e",
   "metadata": {
    "papermill": {
     "duration": 0.014444,
     "end_time": "2023-05-03T08:19:07.824011",
     "exception": false,
     "start_time": "2023-05-03T08:19:07.809567",
     "status": "completed"
    },
    "tags": []
   },
   "outputs": [],
   "source": []
  }
 ],
 "metadata": {
  "kernelspec": {
   "display_name": "Python 3",
   "language": "python",
   "name": "python3"
  },
  "language_info": {
   "codemirror_mode": {
    "name": "ipython",
    "version": 3
   },
   "file_extension": ".py",
   "mimetype": "text/x-python",
   "name": "python",
   "nbconvert_exporter": "python",
   "pygments_lexer": "ipython3",
   "version": "3.10.10"
  },
  "papermill": {
   "default_parameters": {},
   "duration": 71.607794,
   "end_time": "2023-05-03T08:19:11.027830",
   "environment_variables": {},
   "exception": null,
   "input_path": "__notebook__.ipynb",
   "output_path": "__notebook__.ipynb",
   "parameters": {},
   "start_time": "2023-05-03T08:17:59.420036",
   "version": "2.4.0"
  },
  "widgets": {
   "application/vnd.jupyter.widget-state+json": {
    "state": {
     "00a81a6e1f1641f1b831ac9fc630ec78": {
      "model_module": "@jupyter-widgets/base",
      "model_module_version": "1.2.0",
      "model_name": "LayoutModel",
      "state": {
       "_model_module": "@jupyter-widgets/base",
       "_model_module_version": "1.2.0",
       "_model_name": "LayoutModel",
       "_view_count": null,
       "_view_module": "@jupyter-widgets/base",
       "_view_module_version": "1.2.0",
       "_view_name": "LayoutView",
       "align_content": null,
       "align_items": null,
       "align_self": null,
       "border": null,
       "bottom": null,
       "display": null,
       "flex": null,
       "flex_flow": null,
       "grid_area": null,
       "grid_auto_columns": null,
       "grid_auto_flow": null,
       "grid_auto_rows": null,
       "grid_column": null,
       "grid_gap": null,
       "grid_row": null,
       "grid_template_areas": null,
       "grid_template_columns": null,
       "grid_template_rows": null,
       "height": null,
       "justify_content": null,
       "justify_items": null,
       "left": null,
       "margin": null,
       "max_height": null,
       "max_width": null,
       "min_height": null,
       "min_width": null,
       "object_fit": null,
       "object_position": null,
       "order": null,
       "overflow": null,
       "overflow_x": null,
       "overflow_y": null,
       "padding": null,
       "right": null,
       "top": null,
       "visibility": null,
       "width": null
      }
     },
     "0e3629cdae9b467ea76881f9087e5b5f": {
      "model_module": "@jupyter-widgets/base",
      "model_module_version": "1.2.0",
      "model_name": "LayoutModel",
      "state": {
       "_model_module": "@jupyter-widgets/base",
       "_model_module_version": "1.2.0",
       "_model_name": "LayoutModel",
       "_view_count": null,
       "_view_module": "@jupyter-widgets/base",
       "_view_module_version": "1.2.0",
       "_view_name": "LayoutView",
       "align_content": null,
       "align_items": null,
       "align_self": null,
       "border": null,
       "bottom": null,
       "display": null,
       "flex": null,
       "flex_flow": null,
       "grid_area": null,
       "grid_auto_columns": null,
       "grid_auto_flow": null,
       "grid_auto_rows": null,
       "grid_column": null,
       "grid_gap": null,
       "grid_row": null,
       "grid_template_areas": null,
       "grid_template_columns": null,
       "grid_template_rows": null,
       "height": null,
       "justify_content": null,
       "justify_items": null,
       "left": null,
       "margin": null,
       "max_height": null,
       "max_width": null,
       "min_height": null,
       "min_width": null,
       "object_fit": null,
       "object_position": null,
       "order": null,
       "overflow": null,
       "overflow_x": null,
       "overflow_y": null,
       "padding": null,
       "right": null,
       "top": null,
       "visibility": null,
       "width": null
      }
     },
     "17c331986f3946e0bb1dc5bb7c3f2443": {
      "model_module": "@jupyter-widgets/controls",
      "model_module_version": "1.5.0",
      "model_name": "HTMLModel",
      "state": {
       "_dom_classes": [],
       "_model_module": "@jupyter-widgets/controls",
       "_model_module_version": "1.5.0",
       "_model_name": "HTMLModel",
       "_view_count": null,
       "_view_module": "@jupyter-widgets/controls",
       "_view_module_version": "1.5.0",
       "_view_name": "HTMLView",
       "description": "",
       "description_tooltip": null,
       "layout": "IPY_MODEL_fca7c17502f74cff99a8637697902e51",
       "placeholder": "​",
       "style": "IPY_MODEL_e23e96d7c421431699aa1ecb7159f55c",
       "value": " 69105/? [00:04&lt;00:00, 14980.86it/s]"
      }
     },
     "19de7efba1a24a7da28b2c368a2c1610": {
      "model_module": "@jupyter-widgets/controls",
      "model_module_version": "1.5.0",
      "model_name": "FloatProgressModel",
      "state": {
       "_dom_classes": [],
       "_model_module": "@jupyter-widgets/controls",
       "_model_module_version": "1.5.0",
       "_model_name": "FloatProgressModel",
       "_view_count": null,
       "_view_module": "@jupyter-widgets/controls",
       "_view_module_version": "1.5.0",
       "_view_name": "ProgressView",
       "bar_style": "success",
       "description": "",
       "description_tooltip": null,
       "layout": "IPY_MODEL_1bf250e4f31241b4964b6761e4d3bf99",
       "max": 1.0,
       "min": 0.0,
       "orientation": "horizontal",
       "style": "IPY_MODEL_583675fffaf34045b8395904304a347a",
       "value": 1.0
      }
     },
     "1bf250e4f31241b4964b6761e4d3bf99": {
      "model_module": "@jupyter-widgets/base",
      "model_module_version": "1.2.0",
      "model_name": "LayoutModel",
      "state": {
       "_model_module": "@jupyter-widgets/base",
       "_model_module_version": "1.2.0",
       "_model_name": "LayoutModel",
       "_view_count": null,
       "_view_module": "@jupyter-widgets/base",
       "_view_module_version": "1.2.0",
       "_view_name": "LayoutView",
       "align_content": null,
       "align_items": null,
       "align_self": null,
       "border": null,
       "bottom": null,
       "display": null,
       "flex": null,
       "flex_flow": null,
       "grid_area": null,
       "grid_auto_columns": null,
       "grid_auto_flow": null,
       "grid_auto_rows": null,
       "grid_column": null,
       "grid_gap": null,
       "grid_row": null,
       "grid_template_areas": null,
       "grid_template_columns": null,
       "grid_template_rows": null,
       "height": null,
       "justify_content": null,
       "justify_items": null,
       "left": null,
       "margin": null,
       "max_height": null,
       "max_width": null,
       "min_height": null,
       "min_width": null,
       "object_fit": null,
       "object_position": null,
       "order": null,
       "overflow": null,
       "overflow_x": null,
       "overflow_y": null,
       "padding": null,
       "right": null,
       "top": null,
       "visibility": null,
       "width": "20px"
      }
     },
     "583675fffaf34045b8395904304a347a": {
      "model_module": "@jupyter-widgets/controls",
      "model_module_version": "1.5.0",
      "model_name": "ProgressStyleModel",
      "state": {
       "_model_module": "@jupyter-widgets/controls",
       "_model_module_version": "1.5.0",
       "_model_name": "ProgressStyleModel",
       "_view_count": null,
       "_view_module": "@jupyter-widgets/base",
       "_view_module_version": "1.2.0",
       "_view_name": "StyleView",
       "bar_color": null,
       "description_width": ""
      }
     },
     "6b8c460cc3154f3bb270b070c66d9c3c": {
      "model_module": "@jupyter-widgets/base",
      "model_module_version": "1.2.0",
      "model_name": "LayoutModel",
      "state": {
       "_model_module": "@jupyter-widgets/base",
       "_model_module_version": "1.2.0",
       "_model_name": "LayoutModel",
       "_view_count": null,
       "_view_module": "@jupyter-widgets/base",
       "_view_module_version": "1.2.0",
       "_view_name": "LayoutView",
       "align_content": null,
       "align_items": null,
       "align_self": null,
       "border": null,
       "bottom": null,
       "display": null,
       "flex": null,
       "flex_flow": null,
       "grid_area": null,
       "grid_auto_columns": null,
       "grid_auto_flow": null,
       "grid_auto_rows": null,
       "grid_column": null,
       "grid_gap": null,
       "grid_row": null,
       "grid_template_areas": null,
       "grid_template_columns": null,
       "grid_template_rows": null,
       "height": null,
       "justify_content": null,
       "justify_items": null,
       "left": null,
       "margin": null,
       "max_height": null,
       "max_width": null,
       "min_height": null,
       "min_width": null,
       "object_fit": null,
       "object_position": null,
       "order": null,
       "overflow": null,
       "overflow_x": null,
       "overflow_y": null,
       "padding": null,
       "right": null,
       "top": null,
       "visibility": null,
       "width": null
      }
     },
     "6e64e1fa2df142f38abe26ba01f22241": {
      "model_module": "@jupyter-widgets/controls",
      "model_module_version": "1.5.0",
      "model_name": "ProgressStyleModel",
      "state": {
       "_model_module": "@jupyter-widgets/controls",
       "_model_module_version": "1.5.0",
       "_model_name": "ProgressStyleModel",
       "_view_count": null,
       "_view_module": "@jupyter-widgets/base",
       "_view_module_version": "1.2.0",
       "_view_name": "StyleView",
       "bar_color": null,
       "description_width": ""
      }
     },
     "813058266cab44a7bba52411f1bfaa12": {
      "model_module": "@jupyter-widgets/controls",
      "model_module_version": "1.5.0",
      "model_name": "DescriptionStyleModel",
      "state": {
       "_model_module": "@jupyter-widgets/controls",
       "_model_module_version": "1.5.0",
       "_model_name": "DescriptionStyleModel",
       "_view_count": null,
       "_view_module": "@jupyter-widgets/base",
       "_view_module_version": "1.2.0",
       "_view_name": "StyleView",
       "description_width": ""
      }
     },
     "86a06b91d81e412d8a5598655d2620da": {
      "model_module": "@jupyter-widgets/base",
      "model_module_version": "1.2.0",
      "model_name": "LayoutModel",
      "state": {
       "_model_module": "@jupyter-widgets/base",
       "_model_module_version": "1.2.0",
       "_model_name": "LayoutModel",
       "_view_count": null,
       "_view_module": "@jupyter-widgets/base",
       "_view_module_version": "1.2.0",
       "_view_name": "LayoutView",
       "align_content": null,
       "align_items": null,
       "align_self": null,
       "border": null,
       "bottom": null,
       "display": null,
       "flex": null,
       "flex_flow": null,
       "grid_area": null,
       "grid_auto_columns": null,
       "grid_auto_flow": null,
       "grid_auto_rows": null,
       "grid_column": null,
       "grid_gap": null,
       "grid_row": null,
       "grid_template_areas": null,
       "grid_template_columns": null,
       "grid_template_rows": null,
       "height": null,
       "justify_content": null,
       "justify_items": null,
       "left": null,
       "margin": null,
       "max_height": null,
       "max_width": null,
       "min_height": null,
       "min_width": null,
       "object_fit": null,
       "object_position": null,
       "order": null,
       "overflow": null,
       "overflow_x": null,
       "overflow_y": null,
       "padding": null,
       "right": null,
       "top": null,
       "visibility": null,
       "width": "20px"
      }
     },
     "9821d00b654e48bca19bd9d73b62ac48": {
      "model_module": "@jupyter-widgets/controls",
      "model_module_version": "1.5.0",
      "model_name": "HBoxModel",
      "state": {
       "_dom_classes": [],
       "_model_module": "@jupyter-widgets/controls",
       "_model_module_version": "1.5.0",
       "_model_name": "HBoxModel",
       "_view_count": null,
       "_view_module": "@jupyter-widgets/controls",
       "_view_module_version": "1.5.0",
       "_view_name": "HBoxView",
       "box_style": "",
       "children": [
        "IPY_MODEL_bacefd65986645ec97c42616646ac463",
        "IPY_MODEL_fd7a1957d00d4935b7c3c948e7347f90",
        "IPY_MODEL_b1d4003588034f66aa4e6e2d7788bf22"
       ],
       "layout": "IPY_MODEL_00a81a6e1f1641f1b831ac9fc630ec78"
      }
     },
     "9889281416064e5483119bb1417e5d72": {
      "model_module": "@jupyter-widgets/controls",
      "model_module_version": "1.5.0",
      "model_name": "DescriptionStyleModel",
      "state": {
       "_model_module": "@jupyter-widgets/controls",
       "_model_module_version": "1.5.0",
       "_model_name": "DescriptionStyleModel",
       "_view_count": null,
       "_view_module": "@jupyter-widgets/base",
       "_view_module_version": "1.2.0",
       "_view_name": "StyleView",
       "description_width": ""
      }
     },
     "b1d4003588034f66aa4e6e2d7788bf22": {
      "model_module": "@jupyter-widgets/controls",
      "model_module_version": "1.5.0",
      "model_name": "HTMLModel",
      "state": {
       "_dom_classes": [],
       "_model_module": "@jupyter-widgets/controls",
       "_model_module_version": "1.5.0",
       "_model_name": "HTMLModel",
       "_view_count": null,
       "_view_module": "@jupyter-widgets/controls",
       "_view_module_version": "1.5.0",
       "_view_name": "HTMLView",
       "description": "",
       "description_tooltip": null,
       "layout": "IPY_MODEL_f5c50027123b4f4aa37521357bb1964c",
       "placeholder": "​",
       "style": "IPY_MODEL_813058266cab44a7bba52411f1bfaa12",
       "value": " 17276/? [00:01&lt;00:00, 14409.69it/s]"
      }
     },
     "bacefd65986645ec97c42616646ac463": {
      "model_module": "@jupyter-widgets/controls",
      "model_module_version": "1.5.0",
      "model_name": "HTMLModel",
      "state": {
       "_dom_classes": [],
       "_model_module": "@jupyter-widgets/controls",
       "_model_module_version": "1.5.0",
       "_model_name": "HTMLModel",
       "_view_count": null,
       "_view_module": "@jupyter-widgets/controls",
       "_view_module_version": "1.5.0",
       "_view_name": "HTMLView",
       "description": "",
       "description_tooltip": null,
       "layout": "IPY_MODEL_6b8c460cc3154f3bb270b070c66d9c3c",
       "placeholder": "​",
       "style": "IPY_MODEL_fd68a3bfdd144b5e975e2372f16a048c",
       "value": ""
      }
     },
     "bb2e583bde884492bc0b3765c7f12d41": {
      "model_module": "@jupyter-widgets/base",
      "model_module_version": "1.2.0",
      "model_name": "LayoutModel",
      "state": {
       "_model_module": "@jupyter-widgets/base",
       "_model_module_version": "1.2.0",
       "_model_name": "LayoutModel",
       "_view_count": null,
       "_view_module": "@jupyter-widgets/base",
       "_view_module_version": "1.2.0",
       "_view_name": "LayoutView",
       "align_content": null,
       "align_items": null,
       "align_self": null,
       "border": null,
       "bottom": null,
       "display": null,
       "flex": null,
       "flex_flow": null,
       "grid_area": null,
       "grid_auto_columns": null,
       "grid_auto_flow": null,
       "grid_auto_rows": null,
       "grid_column": null,
       "grid_gap": null,
       "grid_row": null,
       "grid_template_areas": null,
       "grid_template_columns": null,
       "grid_template_rows": null,
       "height": null,
       "justify_content": null,
       "justify_items": null,
       "left": null,
       "margin": null,
       "max_height": null,
       "max_width": null,
       "min_height": null,
       "min_width": null,
       "object_fit": null,
       "object_position": null,
       "order": null,
       "overflow": null,
       "overflow_x": null,
       "overflow_y": null,
       "padding": null,
       "right": null,
       "top": null,
       "visibility": null,
       "width": null
      }
     },
     "e23e96d7c421431699aa1ecb7159f55c": {
      "model_module": "@jupyter-widgets/controls",
      "model_module_version": "1.5.0",
      "model_name": "DescriptionStyleModel",
      "state": {
       "_model_module": "@jupyter-widgets/controls",
       "_model_module_version": "1.5.0",
       "_model_name": "DescriptionStyleModel",
       "_view_count": null,
       "_view_module": "@jupyter-widgets/base",
       "_view_module_version": "1.2.0",
       "_view_name": "StyleView",
       "description_width": ""
      }
     },
     "e4958654693c49158510cf81d4a0a77e": {
      "model_module": "@jupyter-widgets/controls",
      "model_module_version": "1.5.0",
      "model_name": "HTMLModel",
      "state": {
       "_dom_classes": [],
       "_model_module": "@jupyter-widgets/controls",
       "_model_module_version": "1.5.0",
       "_model_name": "HTMLModel",
       "_view_count": null,
       "_view_module": "@jupyter-widgets/controls",
       "_view_module_version": "1.5.0",
       "_view_name": "HTMLView",
       "description": "",
       "description_tooltip": null,
       "layout": "IPY_MODEL_bb2e583bde884492bc0b3765c7f12d41",
       "placeholder": "​",
       "style": "IPY_MODEL_9889281416064e5483119bb1417e5d72",
       "value": ""
      }
     },
     "e7eacb8ac03f47db905f8b0d2bdcda94": {
      "model_module": "@jupyter-widgets/controls",
      "model_module_version": "1.5.0",
      "model_name": "HBoxModel",
      "state": {
       "_dom_classes": [],
       "_model_module": "@jupyter-widgets/controls",
       "_model_module_version": "1.5.0",
       "_model_name": "HBoxModel",
       "_view_count": null,
       "_view_module": "@jupyter-widgets/controls",
       "_view_module_version": "1.5.0",
       "_view_name": "HBoxView",
       "box_style": "",
       "children": [
        "IPY_MODEL_e4958654693c49158510cf81d4a0a77e",
        "IPY_MODEL_19de7efba1a24a7da28b2c368a2c1610",
        "IPY_MODEL_17c331986f3946e0bb1dc5bb7c3f2443"
       ],
       "layout": "IPY_MODEL_0e3629cdae9b467ea76881f9087e5b5f"
      }
     },
     "f5c50027123b4f4aa37521357bb1964c": {
      "model_module": "@jupyter-widgets/base",
      "model_module_version": "1.2.0",
      "model_name": "LayoutModel",
      "state": {
       "_model_module": "@jupyter-widgets/base",
       "_model_module_version": "1.2.0",
       "_model_name": "LayoutModel",
       "_view_count": null,
       "_view_module": "@jupyter-widgets/base",
       "_view_module_version": "1.2.0",
       "_view_name": "LayoutView",
       "align_content": null,
       "align_items": null,
       "align_self": null,
       "border": null,
       "bottom": null,
       "display": null,
       "flex": null,
       "flex_flow": null,
       "grid_area": null,
       "grid_auto_columns": null,
       "grid_auto_flow": null,
       "grid_auto_rows": null,
       "grid_column": null,
       "grid_gap": null,
       "grid_row": null,
       "grid_template_areas": null,
       "grid_template_columns": null,
       "grid_template_rows": null,
       "height": null,
       "justify_content": null,
       "justify_items": null,
       "left": null,
       "margin": null,
       "max_height": null,
       "max_width": null,
       "min_height": null,
       "min_width": null,
       "object_fit": null,
       "object_position": null,
       "order": null,
       "overflow": null,
       "overflow_x": null,
       "overflow_y": null,
       "padding": null,
       "right": null,
       "top": null,
       "visibility": null,
       "width": null
      }
     },
     "fca7c17502f74cff99a8637697902e51": {
      "model_module": "@jupyter-widgets/base",
      "model_module_version": "1.2.0",
      "model_name": "LayoutModel",
      "state": {
       "_model_module": "@jupyter-widgets/base",
       "_model_module_version": "1.2.0",
       "_model_name": "LayoutModel",
       "_view_count": null,
       "_view_module": "@jupyter-widgets/base",
       "_view_module_version": "1.2.0",
       "_view_name": "LayoutView",
       "align_content": null,
       "align_items": null,
       "align_self": null,
       "border": null,
       "bottom": null,
       "display": null,
       "flex": null,
       "flex_flow": null,
       "grid_area": null,
       "grid_auto_columns": null,
       "grid_auto_flow": null,
       "grid_auto_rows": null,
       "grid_column": null,
       "grid_gap": null,
       "grid_row": null,
       "grid_template_areas": null,
       "grid_template_columns": null,
       "grid_template_rows": null,
       "height": null,
       "justify_content": null,
       "justify_items": null,
       "left": null,
       "margin": null,
       "max_height": null,
       "max_width": null,
       "min_height": null,
       "min_width": null,
       "object_fit": null,
       "object_position": null,
       "order": null,
       "overflow": null,
       "overflow_x": null,
       "overflow_y": null,
       "padding": null,
       "right": null,
       "top": null,
       "visibility": null,
       "width": null
      }
     },
     "fd68a3bfdd144b5e975e2372f16a048c": {
      "model_module": "@jupyter-widgets/controls",
      "model_module_version": "1.5.0",
      "model_name": "DescriptionStyleModel",
      "state": {
       "_model_module": "@jupyter-widgets/controls",
       "_model_module_version": "1.5.0",
       "_model_name": "DescriptionStyleModel",
       "_view_count": null,
       "_view_module": "@jupyter-widgets/base",
       "_view_module_version": "1.2.0",
       "_view_name": "StyleView",
       "description_width": ""
      }
     },
     "fd7a1957d00d4935b7c3c948e7347f90": {
      "model_module": "@jupyter-widgets/controls",
      "model_module_version": "1.5.0",
      "model_name": "FloatProgressModel",
      "state": {
       "_dom_classes": [],
       "_model_module": "@jupyter-widgets/controls",
       "_model_module_version": "1.5.0",
       "_model_name": "FloatProgressModel",
       "_view_count": null,
       "_view_module": "@jupyter-widgets/controls",
       "_view_module_version": "1.5.0",
       "_view_name": "ProgressView",
       "bar_style": "success",
       "description": "",
       "description_tooltip": null,
       "layout": "IPY_MODEL_86a06b91d81e412d8a5598655d2620da",
       "max": 1.0,
       "min": 0.0,
       "orientation": "horizontal",
       "style": "IPY_MODEL_6e64e1fa2df142f38abe26ba01f22241",
       "value": 1.0
      }
     }
    },
    "version_major": 2,
    "version_minor": 0
   }
  }
 },
 "nbformat": 4,
 "nbformat_minor": 5
}
