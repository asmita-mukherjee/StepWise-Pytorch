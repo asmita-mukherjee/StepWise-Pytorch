{
 "cells": [
  {
   "cell_type": "code",
   "execution_count": 1,
   "id": "a89c013c",
   "metadata": {
    "execution": {
     "iopub.execute_input": "2023-05-02T09:20:31.705287Z",
     "iopub.status.busy": "2023-05-02T09:20:31.704910Z",
     "iopub.status.idle": "2023-05-02T09:20:31.716769Z",
     "shell.execute_reply": "2023-05-02T09:20:31.715585Z"
    },
    "id": "UCJ1kIOnjAEG",
    "papermill": {
     "duration": 0.031058,
     "end_time": "2023-05-02T09:20:31.719082",
     "exception": false,
     "start_time": "2023-05-02T09:20:31.688024",
     "status": "completed"
    },
    "tags": []
   },
   "outputs": [],
   "source": [
    "import pandas as pd"
   ]
  },
  {
   "cell_type": "code",
   "execution_count": 2,
   "id": "60486a6e",
   "metadata": {
    "execution": {
     "iopub.execute_input": "2023-05-02T09:20:31.742095Z",
     "iopub.status.busy": "2023-05-02T09:20:31.741689Z",
     "iopub.status.idle": "2023-05-02T09:20:35.163944Z",
     "shell.execute_reply": "2023-05-02T09:20:35.162429Z"
    },
    "id": "Zjhgo1NBjKrG",
    "papermill": {
     "duration": 3.43683,
     "end_time": "2023-05-02T09:20:35.166605",
     "exception": false,
     "start_time": "2023-05-02T09:20:31.729775",
     "status": "completed"
    },
    "tags": []
   },
   "outputs": [],
   "source": [
    "import torch"
   ]
  },
  {
   "cell_type": "code",
   "execution_count": 3,
   "id": "bcebed04",
   "metadata": {
    "execution": {
     "iopub.execute_input": "2023-05-02T09:20:35.189393Z",
     "iopub.status.busy": "2023-05-02T09:20:35.188738Z",
     "iopub.status.idle": "2023-05-02T09:20:35.193796Z",
     "shell.execute_reply": "2023-05-02T09:20:35.192751Z"
    },
    "id": "eunczWtDjLrz",
    "papermill": {
     "duration": 0.018961,
     "end_time": "2023-05-02T09:20:35.196061",
     "exception": false,
     "start_time": "2023-05-02T09:20:35.177100",
     "status": "completed"
    },
    "tags": []
   },
   "outputs": [],
   "source": [
    "from torch.utils.data import Dataset\n",
    "from torch.utils.data import DataLoader"
   ]
  },
  {
   "cell_type": "code",
   "execution_count": 4,
   "id": "922545d4",
   "metadata": {
    "execution": {
     "iopub.execute_input": "2023-05-02T09:20:35.218487Z",
     "iopub.status.busy": "2023-05-02T09:20:35.218045Z",
     "iopub.status.idle": "2023-05-02T09:20:35.222887Z",
     "shell.execute_reply": "2023-05-02T09:20:35.221813Z"
    },
    "id": "sM3T1oRcmAuF",
    "papermill": {
     "duration": 0.018779,
     "end_time": "2023-05-02T09:20:35.225281",
     "exception": false,
     "start_time": "2023-05-02T09:20:35.206502",
     "status": "completed"
    },
    "tags": []
   },
   "outputs": [],
   "source": [
    "import torch.nn as nn"
   ]
  },
  {
   "cell_type": "code",
   "execution_count": 5,
   "id": "c130978b",
   "metadata": {
    "execution": {
     "iopub.execute_input": "2023-05-02T09:20:35.247629Z",
     "iopub.status.busy": "2023-05-02T09:20:35.247224Z",
     "iopub.status.idle": "2023-05-02T09:20:35.251954Z",
     "shell.execute_reply": "2023-05-02T09:20:35.250897Z"
    },
    "papermill": {
     "duration": 0.018727,
     "end_time": "2023-05-02T09:20:35.254328",
     "exception": false,
     "start_time": "2023-05-02T09:20:35.235601",
     "status": "completed"
    },
    "tags": []
   },
   "outputs": [],
   "source": [
    "import gc"
   ]
  },
  {
   "cell_type": "code",
   "execution_count": 6,
   "id": "3c13fd19",
   "metadata": {
    "execution": {
     "iopub.execute_input": "2023-05-02T09:20:35.277165Z",
     "iopub.status.busy": "2023-05-02T09:20:35.276410Z",
     "iopub.status.idle": "2023-05-02T09:20:35.281153Z",
     "shell.execute_reply": "2023-05-02T09:20:35.280426Z"
    },
    "id": "YTyMWAFzpLsM",
    "papermill": {
     "duration": 0.018661,
     "end_time": "2023-05-02T09:20:35.283273",
     "exception": false,
     "start_time": "2023-05-02T09:20:35.264612",
     "status": "completed"
    },
    "tags": []
   },
   "outputs": [],
   "source": [
    "from torch.nn.utils.rnn import pack_padded_sequence,pad_packed_sequence"
   ]
  },
  {
   "cell_type": "code",
   "execution_count": 7,
   "id": "2b2e936c",
   "metadata": {
    "execution": {
     "iopub.execute_input": "2023-05-02T09:20:35.306028Z",
     "iopub.status.busy": "2023-05-02T09:20:35.305283Z",
     "iopub.status.idle": "2023-05-02T09:20:44.948816Z",
     "shell.execute_reply": "2023-05-02T09:20:44.947605Z"
    },
    "id": "D5hWD4jlp51U",
    "papermill": {
     "duration": 9.658037,
     "end_time": "2023-05-02T09:20:44.951549",
     "exception": false,
     "start_time": "2023-05-02T09:20:35.293512",
     "status": "completed"
    },
    "tags": []
   },
   "outputs": [
    {
     "name": "stderr",
     "output_type": "stream",
     "text": [
      "/opt/conda/lib/python3.10/site-packages/scipy/__init__.py:146: UserWarning: A NumPy version >=1.16.5 and <1.23.0 is required for this version of SciPy (detected version 1.23.5\n",
      "  warnings.warn(f\"A NumPy version >={np_minversion} and <{np_maxversion}\"\n"
     ]
    }
   ],
   "source": [
    "import spacy"
   ]
  },
  {
   "cell_type": "code",
   "execution_count": 8,
   "id": "84b142c3",
   "metadata": {
    "execution": {
     "iopub.execute_input": "2023-05-02T09:20:44.974716Z",
     "iopub.status.busy": "2023-05-02T09:20:44.973880Z",
     "iopub.status.idle": "2023-05-02T09:20:44.979405Z",
     "shell.execute_reply": "2023-05-02T09:20:44.978224Z"
    },
    "id": "YWLef1b0sOaP",
    "papermill": {
     "duration": 0.019922,
     "end_time": "2023-05-02T09:20:44.981952",
     "exception": false,
     "start_time": "2023-05-02T09:20:44.962030",
     "status": "completed"
    },
    "tags": []
   },
   "outputs": [],
   "source": [
    "import numpy as np"
   ]
  },
  {
   "cell_type": "code",
   "execution_count": 9,
   "id": "d37cda4b",
   "metadata": {
    "execution": {
     "iopub.execute_input": "2023-05-02T09:20:45.004661Z",
     "iopub.status.busy": "2023-05-02T09:20:45.004266Z",
     "iopub.status.idle": "2023-05-02T09:20:45.096951Z",
     "shell.execute_reply": "2023-05-02T09:20:45.096081Z"
    },
    "id": "WOqwnB-6qnZU",
    "papermill": {
     "duration": 0.107045,
     "end_time": "2023-05-02T09:20:45.099529",
     "exception": false,
     "start_time": "2023-05-02T09:20:44.992484",
     "status": "completed"
    },
    "tags": []
   },
   "outputs": [],
   "source": [
    "from tqdm.notebook import tqdm"
   ]
  },
  {
   "cell_type": "code",
   "execution_count": 10,
   "id": "7d0d2d65",
   "metadata": {
    "execution": {
     "iopub.execute_input": "2023-05-02T09:20:45.123166Z",
     "iopub.status.busy": "2023-05-02T09:20:45.122164Z",
     "iopub.status.idle": "2023-05-02T09:20:46.236875Z",
     "shell.execute_reply": "2023-05-02T09:20:46.235595Z"
    },
    "id": "gFj2l09bp8CL",
    "papermill": {
     "duration": 1.129048,
     "end_time": "2023-05-02T09:20:46.239643",
     "exception": false,
     "start_time": "2023-05-02T09:20:45.110595",
     "status": "completed"
    },
    "tags": []
   },
   "outputs": [],
   "source": [
    "sp = spacy.load('en_core_web_sm')"
   ]
  },
  {
   "cell_type": "code",
   "execution_count": 11,
   "id": "da85612d",
   "metadata": {
    "execution": {
     "iopub.execute_input": "2023-05-02T09:20:46.262095Z",
     "iopub.status.busy": "2023-05-02T09:20:46.261704Z",
     "iopub.status.idle": "2023-05-02T09:20:46.266344Z",
     "shell.execute_reply": "2023-05-02T09:20:46.265268Z"
    },
    "id": "QfnZ4drb0uBs",
    "papermill": {
     "duration": 0.018608,
     "end_time": "2023-05-02T09:20:46.268543",
     "exception": false,
     "start_time": "2023-05-02T09:20:46.249935",
     "status": "completed"
    },
    "tags": []
   },
   "outputs": [],
   "source": [
    "import pickle"
   ]
  },
  {
   "cell_type": "code",
   "execution_count": 12,
   "id": "ac93563e",
   "metadata": {
    "execution": {
     "iopub.execute_input": "2023-05-02T09:20:46.291191Z",
     "iopub.status.busy": "2023-05-02T09:20:46.290777Z",
     "iopub.status.idle": "2023-05-02T09:20:46.295613Z",
     "shell.execute_reply": "2023-05-02T09:20:46.294506Z"
    },
    "papermill": {
     "duration": 0.01885,
     "end_time": "2023-05-02T09:20:46.297897",
     "exception": false,
     "start_time": "2023-05-02T09:20:46.279047",
     "status": "completed"
    },
    "tags": []
   },
   "outputs": [],
   "source": [
    "def pickle_dump(f_name,obj):\n",
    "  with open(f_name,\"wb\") as f:\n",
    "    pickle.dump(file = f, obj = obj)\n"
   ]
  },
  {
   "cell_type": "code",
   "execution_count": 13,
   "id": "31c5c958",
   "metadata": {
    "execution": {
     "iopub.execute_input": "2023-05-02T09:20:46.320804Z",
     "iopub.status.busy": "2023-05-02T09:20:46.319985Z",
     "iopub.status.idle": "2023-05-02T09:20:46.325221Z",
     "shell.execute_reply": "2023-05-02T09:20:46.324458Z"
    },
    "papermill": {
     "duration": 0.019271,
     "end_time": "2023-05-02T09:20:46.327418",
     "exception": false,
     "start_time": "2023-05-02T09:20:46.308147",
     "status": "completed"
    },
    "tags": []
   },
   "outputs": [],
   "source": [
    "def pickle_load(f_name):\n",
    "    with open(f_name,\"rb\") as f:\n",
    "        obj = pickle.load(f)\n",
    "    \n",
    "    return obj"
   ]
  },
  {
   "cell_type": "markdown",
   "id": "dce68bb8",
   "metadata": {
    "id": "DJ7DP8wYixiK",
    "papermill": {
     "duration": 0.010014,
     "end_time": "2023-05-02T09:20:46.347576",
     "exception": false,
     "start_time": "2023-05-02T09:20:46.337562",
     "status": "completed"
    },
    "tags": []
   },
   "source": [
    "### Load Data"
   ]
  },
  {
   "cell_type": "code",
   "execution_count": 14,
   "id": "74b827d4",
   "metadata": {
    "execution": {
     "iopub.execute_input": "2023-05-02T09:20:46.370510Z",
     "iopub.status.busy": "2023-05-02T09:20:46.369702Z",
     "iopub.status.idle": "2023-05-02T09:20:46.776400Z",
     "shell.execute_reply": "2023-05-02T09:20:46.775090Z"
    },
    "id": "b1NJ0DvKiuls",
    "papermill": {
     "duration": 0.421646,
     "end_time": "2023-05-02T09:20:46.779477",
     "exception": false,
     "start_time": "2023-05-02T09:20:46.357831",
     "status": "completed"
    },
    "tags": []
   },
   "outputs": [],
   "source": [
    "data = pd.read_csv(\"/kaggle/input/preprocessed-data/preprocessed_data.csv\")"
   ]
  },
  {
   "cell_type": "code",
   "execution_count": 15,
   "id": "ce2c0f3a",
   "metadata": {
    "execution": {
     "iopub.execute_input": "2023-05-02T09:20:46.803213Z",
     "iopub.status.busy": "2023-05-02T09:20:46.802572Z",
     "iopub.status.idle": "2023-05-02T09:20:46.810232Z",
     "shell.execute_reply": "2023-05-02T09:20:46.808959Z"
    },
    "papermill": {
     "duration": 0.022179,
     "end_time": "2023-05-02T09:20:46.812537",
     "exception": false,
     "start_time": "2023-05-02T09:20:46.790358",
     "status": "completed"
    },
    "tags": []
   },
   "outputs": [
    {
     "data": {
      "text/plain": [
       "172761"
      ]
     },
     "execution_count": 15,
     "metadata": {},
     "output_type": "execute_result"
    }
   ],
   "source": [
    "len(data)"
   ]
  },
  {
   "cell_type": "code",
   "execution_count": 16,
   "id": "0dc28185",
   "metadata": {
    "execution": {
     "iopub.execute_input": "2023-05-02T09:20:46.836415Z",
     "iopub.status.busy": "2023-05-02T09:20:46.836015Z",
     "iopub.status.idle": "2023-05-02T09:20:46.840591Z",
     "shell.execute_reply": "2023-05-02T09:20:46.839845Z"
    },
    "papermill": {
     "duration": 0.019304,
     "end_time": "2023-05-02T09:20:46.842590",
     "exception": false,
     "start_time": "2023-05-02T09:20:46.823286",
     "status": "completed"
    },
    "tags": []
   },
   "outputs": [],
   "source": [
    "## since the data is too huge for our capacity, currently naively cutting it down to 50% of the original size. latter we will look into better ways to handle this large data\n",
    "data = data[:int(0.5*len(data))]"
   ]
  },
  {
   "cell_type": "code",
   "execution_count": 17,
   "id": "8543e616",
   "metadata": {
    "execution": {
     "iopub.execute_input": "2023-05-02T09:20:46.865262Z",
     "iopub.status.busy": "2023-05-02T09:20:46.864519Z",
     "iopub.status.idle": "2023-05-02T09:20:46.871223Z",
     "shell.execute_reply": "2023-05-02T09:20:46.870224Z"
    },
    "papermill": {
     "duration": 0.020219,
     "end_time": "2023-05-02T09:20:46.873236",
     "exception": false,
     "start_time": "2023-05-02T09:20:46.853017",
     "status": "completed"
    },
    "tags": []
   },
   "outputs": [
    {
     "data": {
      "text/plain": [
       "86380"
      ]
     },
     "execution_count": 17,
     "metadata": {},
     "output_type": "execute_result"
    }
   ],
   "source": [
    "len(data)"
   ]
  },
  {
   "cell_type": "code",
   "execution_count": 18,
   "id": "bbab2c8d",
   "metadata": {
    "execution": {
     "iopub.execute_input": "2023-05-02T09:20:46.897627Z",
     "iopub.status.busy": "2023-05-02T09:20:46.896459Z",
     "iopub.status.idle": "2023-05-02T09:20:46.920375Z",
     "shell.execute_reply": "2023-05-02T09:20:46.919361Z"
    },
    "id": "Ge4CMP-YjCww",
    "outputId": "1df676d1-c79e-4b05-b45d-d9702c3974f9",
    "papermill": {
     "duration": 0.038083,
     "end_time": "2023-05-02T09:20:46.922451",
     "exception": false,
     "start_time": "2023-05-02T09:20:46.884368",
     "status": "completed"
    },
    "tags": []
   },
   "outputs": [
    {
     "data": {
      "text/html": [
       "<div>\n",
       "<style scoped>\n",
       "    .dataframe tbody tr th:only-of-type {\n",
       "        vertical-align: middle;\n",
       "    }\n",
       "\n",
       "    .dataframe tbody tr th {\n",
       "        vertical-align: top;\n",
       "    }\n",
       "\n",
       "    .dataframe thead th {\n",
       "        text-align: right;\n",
       "    }\n",
       "</style>\n",
       "<table border=\"1\" class=\"dataframe\">\n",
       "  <thead>\n",
       "    <tr style=\"text-align: right;\">\n",
       "      <th></th>\n",
       "      <th>text</th>\n",
       "      <th>emotions</th>\n",
       "    </tr>\n",
       "  </thead>\n",
       "  <tbody>\n",
       "    <tr>\n",
       "      <th>0</th>\n",
       "      <td>probably mention feel proud actually keep new ...</td>\n",
       "      <td>joy</td>\n",
       "    </tr>\n",
       "    <tr>\n",
       "      <th>1</th>\n",
       "      <td>people feel like go grm worthwhile hour</td>\n",
       "      <td>joy</td>\n",
       "    </tr>\n",
       "    <tr>\n",
       "      <th>2</th>\n",
       "      <td>feel especially pleased long time come</td>\n",
       "      <td>joy</td>\n",
       "    </tr>\n",
       "    <tr>\n",
       "      <th>3</th>\n",
       "      <td>struggle awful feeling say sweet thing deserve...</td>\n",
       "      <td>joy</td>\n",
       "    </tr>\n",
       "    <tr>\n",
       "      <th>4</th>\n",
       "      <td>mean stupid trip make great album thing go fee...</td>\n",
       "      <td>joy</td>\n",
       "    </tr>\n",
       "  </tbody>\n",
       "</table>\n",
       "</div>"
      ],
      "text/plain": [
       "                                                text emotions\n",
       "0  probably mention feel proud actually keep new ...      joy\n",
       "1            people feel like go grm worthwhile hour      joy\n",
       "2             feel especially pleased long time come      joy\n",
       "3  struggle awful feeling say sweet thing deserve...      joy\n",
       "4  mean stupid trip make great album thing go fee...      joy"
      ]
     },
     "execution_count": 18,
     "metadata": {},
     "output_type": "execute_result"
    }
   ],
   "source": [
    "data.head()"
   ]
  },
  {
   "cell_type": "code",
   "execution_count": 19,
   "id": "582dac28",
   "metadata": {
    "execution": {
     "iopub.execute_input": "2023-05-02T09:20:46.946199Z",
     "iopub.status.busy": "2023-05-02T09:20:46.945517Z",
     "iopub.status.idle": "2023-05-02T09:20:46.951457Z",
     "shell.execute_reply": "2023-05-02T09:20:46.950525Z"
    },
    "id": "jM6ieqAujy9t",
    "outputId": "a9094e5e-a80d-4c10-e44e-bcd04a73ef2d",
    "papermill": {
     "duration": 0.019934,
     "end_time": "2023-05-02T09:20:46.953324",
     "exception": false,
     "start_time": "2023-05-02T09:20:46.933390",
     "status": "completed"
    },
    "tags": []
   },
   "outputs": [
    {
     "data": {
      "text/plain": [
       "(17276, 69104)"
      ]
     },
     "execution_count": 19,
     "metadata": {},
     "output_type": "execute_result"
    }
   ],
   "source": [
    "test_data_len = int(0.2*len(data))\n",
    "\n",
    "train_data_len = len(data) - test_data_len\n",
    "\n",
    "test_data_len,train_data_len"
   ]
  },
  {
   "cell_type": "code",
   "execution_count": 20,
   "id": "194d21c4",
   "metadata": {
    "execution": {
     "iopub.execute_input": "2023-05-02T09:20:46.976866Z",
     "iopub.status.busy": "2023-05-02T09:20:46.976225Z",
     "iopub.status.idle": "2023-05-02T09:20:46.996467Z",
     "shell.execute_reply": "2023-05-02T09:20:46.995476Z"
    },
    "id": "3I4TUNnTkGlB",
    "papermill": {
     "duration": 0.035011,
     "end_time": "2023-05-02T09:20:46.999045",
     "exception": false,
     "start_time": "2023-05-02T09:20:46.964034",
     "status": "completed"
    },
    "tags": []
   },
   "outputs": [],
   "source": [
    "data = data.sample(frac = 1).reset_index(drop=True)"
   ]
  },
  {
   "cell_type": "code",
   "execution_count": 21,
   "id": "9eaa1aec",
   "metadata": {
    "execution": {
     "iopub.execute_input": "2023-05-02T09:20:47.022873Z",
     "iopub.status.busy": "2023-05-02T09:20:47.022472Z",
     "iopub.status.idle": "2023-05-02T09:20:47.030339Z",
     "shell.execute_reply": "2023-05-02T09:20:47.029544Z"
    },
    "id": "pE2e8QFJjwkS",
    "papermill": {
     "duration": 0.022545,
     "end_time": "2023-05-02T09:20:47.032461",
     "exception": false,
     "start_time": "2023-05-02T09:20:47.009916",
     "status": "completed"
    },
    "tags": []
   },
   "outputs": [],
   "source": [
    "train_data,test_data = data.loc[:train_data_len,:],data.loc[train_data_len:train_data_len+test_data_len,:]"
   ]
  },
  {
   "cell_type": "code",
   "execution_count": 22,
   "id": "e2be3268",
   "metadata": {
    "execution": {
     "iopub.execute_input": "2023-05-02T09:20:47.056317Z",
     "iopub.status.busy": "2023-05-02T09:20:47.055699Z",
     "iopub.status.idle": "2023-05-02T09:20:47.061928Z",
     "shell.execute_reply": "2023-05-02T09:20:47.060961Z"
    },
    "id": "hic0lpBOkdBr",
    "outputId": "3bced50c-6abe-44ae-f22c-e403c78f8424",
    "papermill": {
     "duration": 0.020916,
     "end_time": "2023-05-02T09:20:47.064299",
     "exception": false,
     "start_time": "2023-05-02T09:20:47.043383",
     "status": "completed"
    },
    "tags": []
   },
   "outputs": [
    {
     "data": {
      "text/plain": [
       "(69105, 17276)"
      ]
     },
     "execution_count": 22,
     "metadata": {},
     "output_type": "execute_result"
    }
   ],
   "source": [
    "len(train_data),len(test_data)"
   ]
  },
  {
   "cell_type": "code",
   "execution_count": 23,
   "id": "6d7b9c0b",
   "metadata": {
    "execution": {
     "iopub.execute_input": "2023-05-02T09:20:47.088117Z",
     "iopub.status.busy": "2023-05-02T09:20:47.087717Z",
     "iopub.status.idle": "2023-05-02T09:20:47.384488Z",
     "shell.execute_reply": "2023-05-02T09:20:47.383419Z"
    },
    "papermill": {
     "duration": 0.311233,
     "end_time": "2023-05-02T09:20:47.386716",
     "exception": false,
     "start_time": "2023-05-02T09:20:47.075483",
     "status": "completed"
    },
    "tags": []
   },
   "outputs": [
    {
     "data": {
      "text/plain": [
       "197"
      ]
     },
     "execution_count": 23,
     "metadata": {},
     "output_type": "execute_result"
    }
   ],
   "source": [
    "del data\n",
    "gc.collect()"
   ]
  },
  {
   "cell_type": "markdown",
   "id": "d5d5942e",
   "metadata": {
    "id": "eOjHW88RjFXC",
    "papermill": {
     "duration": 0.010619,
     "end_time": "2023-05-02T09:20:47.408466",
     "exception": false,
     "start_time": "2023-05-02T09:20:47.397847",
     "status": "completed"
    },
    "tags": []
   },
   "source": [
    "### Custom Dataset for handling data"
   ]
  },
  {
   "cell_type": "markdown",
   "id": "42332659",
   "metadata": {
    "id": "VoUU77KmHx7l",
    "papermill": {
     "duration": 0.010442,
     "end_time": "2023-05-02T09:20:47.429802",
     "exception": false,
     "start_time": "2023-05-02T09:20:47.419360",
     "status": "completed"
    },
    "tags": []
   },
   "source": [
    "## Generating Vocacb from the text\n",
    "> Why is it required? \n",
    "We cannot feed a string of text to pytorch, it deals with tensors , for which we will need to convert the text to tensor. One method could be to give the index of the word in the vocab\n",
    "\n",
    "For Ex: Text : I have an apple.\n",
    "index of I in vocab : 10\n",
    "index of have in vocab : 20\n",
    "index of an in vocab : 5\n",
    "index of an apple : 6\n",
    "\n",
    "hence,\n",
    "input : [10,20,5,6]"
   ]
  },
  {
   "cell_type": "code",
   "execution_count": 24,
   "id": "341d4bc5",
   "metadata": {
    "execution": {
     "iopub.execute_input": "2023-05-02T09:20:47.453240Z",
     "iopub.status.busy": "2023-05-02T09:20:47.452822Z",
     "iopub.status.idle": "2023-05-02T09:20:47.458567Z",
     "shell.execute_reply": "2023-05-02T09:20:47.457448Z"
    },
    "id": "5o5tepmNIpRX",
    "papermill": {
     "duration": 0.020158,
     "end_time": "2023-05-02T09:20:47.460791",
     "exception": false,
     "start_time": "2023-05-02T09:20:47.440633",
     "status": "completed"
    },
    "tags": []
   },
   "outputs": [],
   "source": [
    "def yield_tokens(list_of_text):\n",
    "  '''\n",
    "    Will return an iterator containing the tokens of each sen\n",
    "  '''\n",
    "  for text in list_of_text:\n",
    "    yield text.strip().split()"
   ]
  },
  {
   "cell_type": "code",
   "execution_count": 25,
   "id": "d3a10404",
   "metadata": {
    "execution": {
     "iopub.execute_input": "2023-05-02T09:20:47.485275Z",
     "iopub.status.busy": "2023-05-02T09:20:47.484896Z",
     "iopub.status.idle": "2023-05-02T09:20:48.527735Z",
     "shell.execute_reply": "2023-05-02T09:20:48.526588Z"
    },
    "id": "iOy5h7l8IcrX",
    "papermill": {
     "duration": 1.05854,
     "end_time": "2023-05-02T09:20:48.530481",
     "exception": false,
     "start_time": "2023-05-02T09:20:47.471941",
     "status": "completed"
    },
    "tags": []
   },
   "outputs": [],
   "source": [
    "from torchtext.vocab import build_vocab_from_iterator\n",
    "vocab = build_vocab_from_iterator(yield_tokens(train_data.text),specials=[\"<unk>\"])\n",
    "\n",
    "vocab.set_default_index(vocab['<unk>'])"
   ]
  },
  {
   "cell_type": "code",
   "execution_count": 26,
   "id": "1991f88d",
   "metadata": {
    "execution": {
     "iopub.execute_input": "2023-05-02T09:20:48.554369Z",
     "iopub.status.busy": "2023-05-02T09:20:48.553666Z",
     "iopub.status.idle": "2023-05-02T09:20:48.560279Z",
     "shell.execute_reply": "2023-05-02T09:20:48.559246Z"
    },
    "id": "uvVyd8rHJfyr",
    "outputId": "6e99534e-a120-4016-f1b1-6fd038eafc4d",
    "papermill": {
     "duration": 0.020795,
     "end_time": "2023-05-02T09:20:48.562293",
     "exception": false,
     "start_time": "2023-05-02T09:20:48.541498",
     "status": "completed"
    },
    "tags": []
   },
   "outputs": [
    {
     "data": {
      "text/plain": [
       "421"
      ]
     },
     "execution_count": 26,
     "metadata": {},
     "output_type": "execute_result"
    }
   ],
   "source": [
    "vocab[\"pleased\"]"
   ]
  },
  {
   "cell_type": "code",
   "execution_count": 27,
   "id": "844d95c5",
   "metadata": {
    "execution": {
     "iopub.execute_input": "2023-05-02T09:20:48.586330Z",
     "iopub.status.busy": "2023-05-02T09:20:48.585694Z",
     "iopub.status.idle": "2023-05-02T09:20:48.591988Z",
     "shell.execute_reply": "2023-05-02T09:20:48.590895Z"
    },
    "papermill": {
     "duration": 0.020748,
     "end_time": "2023-05-02T09:20:48.594014",
     "exception": false,
     "start_time": "2023-05-02T09:20:48.573266",
     "status": "completed"
    },
    "tags": []
   },
   "outputs": [
    {
     "data": {
      "text/plain": [
       "0"
      ]
     },
     "execution_count": 27,
     "metadata": {},
     "output_type": "execute_result"
    }
   ],
   "source": [
    "vocab[\"afda\"]"
   ]
  },
  {
   "cell_type": "code",
   "execution_count": 28,
   "id": "c82ec9b8",
   "metadata": {
    "execution": {
     "iopub.execute_input": "2023-05-02T09:20:48.618214Z",
     "iopub.status.busy": "2023-05-02T09:20:48.617822Z",
     "iopub.status.idle": "2023-05-02T09:20:48.624029Z",
     "shell.execute_reply": "2023-05-02T09:20:48.622922Z"
    },
    "id": "EbIkD8gWJk5t",
    "outputId": "a2c5f8a3-fcf9-4b23-cbd0-aaa3377d4dfb",
    "papermill": {
     "duration": 0.021083,
     "end_time": "2023-05-02T09:20:48.626209",
     "exception": false,
     "start_time": "2023-05-02T09:20:48.605126",
     "status": "completed"
    },
    "tags": []
   },
   "outputs": [
    {
     "data": {
      "text/plain": [
       "16772"
      ]
     },
     "execution_count": 28,
     "metadata": {},
     "output_type": "execute_result"
    }
   ],
   "source": [
    "len(vocab)"
   ]
  },
  {
   "cell_type": "markdown",
   "id": "9881e114",
   "metadata": {
    "id": "cl-7hamoCqFB",
    "papermill": {
     "duration": 0.01083,
     "end_time": "2023-05-02T09:20:48.648278",
     "exception": false,
     "start_time": "2023-05-02T09:20:48.637448",
     "status": "completed"
    },
    "tags": []
   },
   "source": [
    "### Convert Text to tensor"
   ]
  },
  {
   "cell_type": "code",
   "execution_count": 29,
   "id": "84866ed8",
   "metadata": {
    "execution": {
     "iopub.execute_input": "2023-05-02T09:20:48.672623Z",
     "iopub.status.busy": "2023-05-02T09:20:48.671981Z",
     "iopub.status.idle": "2023-05-02T09:20:48.675713Z",
     "shell.execute_reply": "2023-05-02T09:20:48.675023Z"
    },
    "id": "cSigPiLzxwii",
    "papermill": {
     "duration": 0.018297,
     "end_time": "2023-05-02T09:20:48.677689",
     "exception": false,
     "start_time": "2023-05-02T09:20:48.659392",
     "status": "completed"
    },
    "tags": []
   },
   "outputs": [],
   "source": [
    "import gc"
   ]
  },
  {
   "cell_type": "code",
   "execution_count": 30,
   "id": "f44da4d4",
   "metadata": {
    "execution": {
     "iopub.execute_input": "2023-05-02T09:20:48.702669Z",
     "iopub.status.busy": "2023-05-02T09:20:48.702013Z",
     "iopub.status.idle": "2023-05-02T09:20:48.707105Z",
     "shell.execute_reply": "2023-05-02T09:20:48.706286Z"
    },
    "id": "5NuXrytqBa9K",
    "papermill": {
     "duration": 0.019975,
     "end_time": "2023-05-02T09:20:48.709112",
     "exception": false,
     "start_time": "2023-05-02T09:20:48.689137",
     "status": "completed"
    },
    "tags": []
   },
   "outputs": [],
   "source": [
    "def convertTextToTensor(list_of_text,vocab):\n",
    "\n",
    "    res_tensor = torch.zeros(len(list_of_text),len(vocab))\n",
    "    \n",
    "    for row,t in tqdm(enumerate(list_of_text)):#loop for each text in list of texts\n",
    "\n",
    "      for col,w in enumerate(t.split()): #loop for each word in text:\n",
    "        res_tensor[row][col] = vocab[w]\n",
    "    \n",
    "    return res_tensor\n"
   ]
  },
  {
   "cell_type": "code",
   "execution_count": 31,
   "id": "01ac3b0d",
   "metadata": {
    "execution": {
     "iopub.execute_input": "2023-05-02T09:20:48.734386Z",
     "iopub.status.busy": "2023-05-02T09:20:48.733966Z",
     "iopub.status.idle": "2023-05-02T09:20:56.303016Z",
     "shell.execute_reply": "2023-05-02T09:20:56.301887Z"
    },
    "id": "VzeSlsMjBuIN",
    "papermill": {
     "duration": 7.584948,
     "end_time": "2023-05-02T09:20:56.305487",
     "exception": false,
     "start_time": "2023-05-02T09:20:48.720539",
     "status": "completed"
    },
    "tags": []
   },
   "outputs": [
    {
     "data": {
      "application/vnd.jupyter.widget-view+json": {
       "model_id": "6ac9a3277cad429f9dd74afd45586985",
       "version_major": 2,
       "version_minor": 0
      },
      "text/plain": [
       "0it [00:00, ?it/s]"
      ]
     },
     "metadata": {},
     "output_type": "display_data"
    }
   ],
   "source": [
    "#since storing the entire text \n",
    "\n",
    "tensors_text  = convertTextToTensor(list(train_data.text),vocab)\n",
    "\n"
   ]
  },
  {
   "cell_type": "code",
   "execution_count": 32,
   "id": "13c32f58",
   "metadata": {
    "execution": {
     "iopub.execute_input": "2023-05-02T09:20:56.330594Z",
     "iopub.status.busy": "2023-05-02T09:20:56.330157Z",
     "iopub.status.idle": "2023-05-02T09:20:56.337245Z",
     "shell.execute_reply": "2023-05-02T09:20:56.336021Z"
    },
    "papermill": {
     "duration": 0.022449,
     "end_time": "2023-05-02T09:20:56.339562",
     "exception": false,
     "start_time": "2023-05-02T09:20:56.317113",
     "status": "completed"
    },
    "tags": []
   },
   "outputs": [
    {
     "data": {
      "text/plain": [
       "torch.float32"
      ]
     },
     "execution_count": 32,
     "metadata": {},
     "output_type": "execute_result"
    }
   ],
   "source": [
    "tensors_text.dtype"
   ]
  },
  {
   "cell_type": "code",
   "execution_count": 33,
   "id": "c032f089",
   "metadata": {
    "execution": {
     "iopub.execute_input": "2023-05-02T09:20:56.364576Z",
     "iopub.status.busy": "2023-05-02T09:20:56.364143Z",
     "iopub.status.idle": "2023-05-02T09:21:12.591415Z",
     "shell.execute_reply": "2023-05-02T09:21:12.590216Z"
    },
    "papermill": {
     "duration": 16.244118,
     "end_time": "2023-05-02T09:21:12.595395",
     "exception": false,
     "start_time": "2023-05-02T09:20:56.351277",
     "status": "completed"
    },
    "tags": []
   },
   "outputs": [
    {
     "data": {
      "text/plain": [
       "86"
      ]
     },
     "execution_count": 33,
     "metadata": {},
     "output_type": "execute_result"
    }
   ],
   "source": [
    "pickle_dump(f_name=\"train_text_tensors.pkl\",obj=tensors_text)\n",
    "\n",
    "del tensors_text\n",
    "gc.collect()"
   ]
  },
  {
   "cell_type": "code",
   "execution_count": 34,
   "id": "ad4e5204",
   "metadata": {
    "execution": {
     "iopub.execute_input": "2023-05-02T09:21:12.709243Z",
     "iopub.status.busy": "2023-05-02T09:21:12.708255Z",
     "iopub.status.idle": "2023-05-02T09:21:12.718097Z",
     "shell.execute_reply": "2023-05-02T09:21:12.717345Z"
    },
    "papermill": {
     "duration": 0.073762,
     "end_time": "2023-05-02T09:21:12.720510",
     "exception": false,
     "start_time": "2023-05-02T09:21:12.646748",
     "status": "completed"
    },
    "tags": []
   },
   "outputs": [
    {
     "data": {
      "text/plain": [
       "0"
      ]
     },
     "execution_count": 34,
     "metadata": {},
     "output_type": "execute_result"
    }
   ],
   "source": [
    "vocab['<unk>']"
   ]
  },
  {
   "cell_type": "code",
   "execution_count": null,
   "id": "35a07e41",
   "metadata": {
    "papermill": {
     "duration": 0.059133,
     "end_time": "2023-05-02T09:21:12.823678",
     "exception": false,
     "start_time": "2023-05-02T09:21:12.764545",
     "status": "completed"
    },
    "tags": []
   },
   "outputs": [],
   "source": []
  },
  {
   "cell_type": "code",
   "execution_count": 35,
   "id": "40726911",
   "metadata": {
    "execution": {
     "iopub.execute_input": "2023-05-02T09:21:12.945153Z",
     "iopub.status.busy": "2023-05-02T09:21:12.944641Z",
     "iopub.status.idle": "2023-05-02T09:21:12.952825Z",
     "shell.execute_reply": "2023-05-02T09:21:12.951699Z"
    },
    "papermill": {
     "duration": 0.074915,
     "end_time": "2023-05-02T09:21:12.957671",
     "exception": false,
     "start_time": "2023-05-02T09:21:12.882756",
     "status": "completed"
    },
    "tags": []
   },
   "outputs": [
    {
     "data": {
      "text/plain": [
       "0"
      ]
     },
     "execution_count": 35,
     "metadata": {},
     "output_type": "execute_result"
    }
   ],
   "source": [
    "vocab[\"absgfd\"]"
   ]
  },
  {
   "cell_type": "code",
   "execution_count": 36,
   "id": "a6b39249",
   "metadata": {
    "execution": {
     "iopub.execute_input": "2023-05-02T09:21:13.068525Z",
     "iopub.status.busy": "2023-05-02T09:21:13.067463Z",
     "iopub.status.idle": "2023-05-02T09:21:17.897612Z",
     "shell.execute_reply": "2023-05-02T09:21:17.896431Z"
    },
    "id": "eyW2vYv7Dq4c",
    "papermill": {
     "duration": 4.895988,
     "end_time": "2023-05-02T09:21:17.901728",
     "exception": false,
     "start_time": "2023-05-02T09:21:13.005740",
     "status": "completed"
    },
    "tags": []
   },
   "outputs": [
    {
     "data": {
      "application/vnd.jupyter.widget-view+json": {
       "model_id": "a48737deb17f4afb904a1bb424d32b56",
       "version_major": 2,
       "version_minor": 0
      },
      "text/plain": [
       "0it [00:00, ?it/s]"
      ]
     },
     "metadata": {},
     "output_type": "display_data"
    },
    {
     "data": {
      "text/plain": [
       "21"
      ]
     },
     "execution_count": 36,
     "metadata": {},
     "output_type": "execute_result"
    }
   ],
   "source": [
    "tensors_text_test = convertTextToTensor(list(test_data.text),vocab)\n",
    "\n",
    "pickle_dump(f_name=\"test_text_tensors.pkl\",obj=tensors_text_test)\n",
    "\n",
    "del tensors_text_test\n",
    "gc.collect()"
   ]
  },
  {
   "cell_type": "markdown",
   "id": "14741a04",
   "metadata": {
    "id": "M61NEUTW9M04",
    "papermill": {
     "duration": 0.057151,
     "end_time": "2023-05-02T09:21:18.056778",
     "exception": false,
     "start_time": "2023-05-02T09:21:17.999627",
     "status": "completed"
    },
    "tags": []
   },
   "source": [
    "##Fitting LabelEncoder for converting labels to tensors"
   ]
  },
  {
   "cell_type": "code",
   "execution_count": 37,
   "id": "84fa86cc",
   "metadata": {
    "execution": {
     "iopub.execute_input": "2023-05-02T09:21:18.286323Z",
     "iopub.status.busy": "2023-05-02T09:21:18.285623Z",
     "iopub.status.idle": "2023-05-02T09:21:19.285298Z",
     "shell.execute_reply": "2023-05-02T09:21:19.284200Z"
    },
    "id": "Uo0PArul9Qe7",
    "outputId": "13d7b89d-1629-4689-f2de-1423c8481ec1",
    "papermill": {
     "duration": 1.063847,
     "end_time": "2023-05-02T09:21:19.287646",
     "exception": false,
     "start_time": "2023-05-02T09:21:18.223799",
     "status": "completed"
    },
    "tags": []
   },
   "outputs": [
    {
     "data": {
      "text/html": [
       "<style>#sk-container-id-1 {color: black;background-color: white;}#sk-container-id-1 pre{padding: 0;}#sk-container-id-1 div.sk-toggleable {background-color: white;}#sk-container-id-1 label.sk-toggleable__label {cursor: pointer;display: block;width: 100%;margin-bottom: 0;padding: 0.3em;box-sizing: border-box;text-align: center;}#sk-container-id-1 label.sk-toggleable__label-arrow:before {content: \"▸\";float: left;margin-right: 0.25em;color: #696969;}#sk-container-id-1 label.sk-toggleable__label-arrow:hover:before {color: black;}#sk-container-id-1 div.sk-estimator:hover label.sk-toggleable__label-arrow:before {color: black;}#sk-container-id-1 div.sk-toggleable__content {max-height: 0;max-width: 0;overflow: hidden;text-align: left;background-color: #f0f8ff;}#sk-container-id-1 div.sk-toggleable__content pre {margin: 0.2em;color: black;border-radius: 0.25em;background-color: #f0f8ff;}#sk-container-id-1 input.sk-toggleable__control:checked~div.sk-toggleable__content {max-height: 200px;max-width: 100%;overflow: auto;}#sk-container-id-1 input.sk-toggleable__control:checked~label.sk-toggleable__label-arrow:before {content: \"▾\";}#sk-container-id-1 div.sk-estimator input.sk-toggleable__control:checked~label.sk-toggleable__label {background-color: #d4ebff;}#sk-container-id-1 div.sk-label input.sk-toggleable__control:checked~label.sk-toggleable__label {background-color: #d4ebff;}#sk-container-id-1 input.sk-hidden--visually {border: 0;clip: rect(1px 1px 1px 1px);clip: rect(1px, 1px, 1px, 1px);height: 1px;margin: -1px;overflow: hidden;padding: 0;position: absolute;width: 1px;}#sk-container-id-1 div.sk-estimator {font-family: monospace;background-color: #f0f8ff;border: 1px dotted black;border-radius: 0.25em;box-sizing: border-box;margin-bottom: 0.5em;}#sk-container-id-1 div.sk-estimator:hover {background-color: #d4ebff;}#sk-container-id-1 div.sk-parallel-item::after {content: \"\";width: 100%;border-bottom: 1px solid gray;flex-grow: 1;}#sk-container-id-1 div.sk-label:hover label.sk-toggleable__label {background-color: #d4ebff;}#sk-container-id-1 div.sk-serial::before {content: \"\";position: absolute;border-left: 1px solid gray;box-sizing: border-box;top: 0;bottom: 0;left: 50%;z-index: 0;}#sk-container-id-1 div.sk-serial {display: flex;flex-direction: column;align-items: center;background-color: white;padding-right: 0.2em;padding-left: 0.2em;position: relative;}#sk-container-id-1 div.sk-item {position: relative;z-index: 1;}#sk-container-id-1 div.sk-parallel {display: flex;align-items: stretch;justify-content: center;background-color: white;position: relative;}#sk-container-id-1 div.sk-item::before, #sk-container-id-1 div.sk-parallel-item::before {content: \"\";position: absolute;border-left: 1px solid gray;box-sizing: border-box;top: 0;bottom: 0;left: 50%;z-index: -1;}#sk-container-id-1 div.sk-parallel-item {display: flex;flex-direction: column;z-index: 1;position: relative;background-color: white;}#sk-container-id-1 div.sk-parallel-item:first-child::after {align-self: flex-end;width: 50%;}#sk-container-id-1 div.sk-parallel-item:last-child::after {align-self: flex-start;width: 50%;}#sk-container-id-1 div.sk-parallel-item:only-child::after {width: 0;}#sk-container-id-1 div.sk-dashed-wrapped {border: 1px dashed gray;margin: 0 0.4em 0.5em 0.4em;box-sizing: border-box;padding-bottom: 0.4em;background-color: white;}#sk-container-id-1 div.sk-label label {font-family: monospace;font-weight: bold;display: inline-block;line-height: 1.2em;}#sk-container-id-1 div.sk-label-container {text-align: center;}#sk-container-id-1 div.sk-container {/* jupyter's `normalize.less` sets `[hidden] { display: none; }` but bootstrap.min.css set `[hidden] { display: none !important; }` so we also need the `!important` here to be able to override the default hidden behavior on the sphinx rendered scikit-learn.org. See: https://github.com/scikit-learn/scikit-learn/issues/21755 */display: inline-block !important;position: relative;}#sk-container-id-1 div.sk-text-repr-fallback {display: none;}</style><div id=\"sk-container-id-1\" class=\"sk-top-container\"><div class=\"sk-text-repr-fallback\"><pre>LabelEncoder()</pre><b>In a Jupyter environment, please rerun this cell to show the HTML representation or trust the notebook. <br />On GitHub, the HTML representation is unable to render, please try loading this page with nbviewer.org.</b></div><div class=\"sk-container\" hidden><div class=\"sk-item\"><div class=\"sk-estimator sk-toggleable\"><input class=\"sk-toggleable__control sk-hidden--visually\" id=\"sk-estimator-id-1\" type=\"checkbox\" checked><label for=\"sk-estimator-id-1\" class=\"sk-toggleable__label sk-toggleable__label-arrow\">LabelEncoder</label><div class=\"sk-toggleable__content\"><pre>LabelEncoder()</pre></div></div></div></div></div>"
      ],
      "text/plain": [
       "LabelEncoder()"
      ]
     },
     "execution_count": 37,
     "metadata": {},
     "output_type": "execute_result"
    }
   ],
   "source": [
    "from sklearn import preprocessing\n",
    "le = preprocessing.LabelEncoder()\n",
    "le.fit(train_data.emotions)\n"
   ]
  },
  {
   "cell_type": "markdown",
   "id": "7d4b76eb",
   "metadata": {
    "id": "WPBVRsfsC4jK",
    "papermill": {
     "duration": 0.012089,
     "end_time": "2023-05-02T09:21:19.312294",
     "exception": false,
     "start_time": "2023-05-02T09:21:19.300205",
     "status": "completed"
    },
    "tags": []
   },
   "source": [
    "### Converting Labels to tensors"
   ]
  },
  {
   "cell_type": "code",
   "execution_count": 38,
   "id": "4815e5fc",
   "metadata": {
    "execution": {
     "iopub.execute_input": "2023-05-02T09:21:19.340115Z",
     "iopub.status.busy": "2023-05-02T09:21:19.339166Z",
     "iopub.status.idle": "2023-05-02T09:21:19.344227Z",
     "shell.execute_reply": "2023-05-02T09:21:19.343508Z"
    },
    "id": "in66QKl7DDrl",
    "papermill": {
     "duration": 0.021016,
     "end_time": "2023-05-02T09:21:19.346378",
     "exception": false,
     "start_time": "2023-05-02T09:21:19.325362",
     "status": "completed"
    },
    "tags": []
   },
   "outputs": [],
   "source": [
    "def convertLabelToTensor(labels,label_enc_obj):\n",
    "    labels = label_enc_obj.transform(labels)\n",
    "    return labels"
   ]
  },
  {
   "cell_type": "code",
   "execution_count": 39,
   "id": "5f254b4a",
   "metadata": {
    "execution": {
     "iopub.execute_input": "2023-05-02T09:21:19.374493Z",
     "iopub.status.busy": "2023-05-02T09:21:19.373953Z",
     "iopub.status.idle": "2023-05-02T09:21:19.395686Z",
     "shell.execute_reply": "2023-05-02T09:21:19.394628Z"
    },
    "id": "iT-DgOHbDAUc",
    "papermill": {
     "duration": 0.040823,
     "end_time": "2023-05-02T09:21:19.400372",
     "exception": false,
     "start_time": "2023-05-02T09:21:19.359549",
     "status": "completed"
    },
    "tags": []
   },
   "outputs": [],
   "source": [
    "tensors_labels_train = convertLabelToTensor(train_data.emotions,le)\n",
    "tensors_labels_test = convertLabelToTensor(test_data.emotions,le)"
   ]
  },
  {
   "cell_type": "code",
   "execution_count": 40,
   "id": "2c1c9063",
   "metadata": {
    "execution": {
     "iopub.execute_input": "2023-05-02T09:21:19.426980Z",
     "iopub.status.busy": "2023-05-02T09:21:19.426538Z",
     "iopub.status.idle": "2023-05-02T09:21:19.433303Z",
     "shell.execute_reply": "2023-05-02T09:21:19.432208Z"
    },
    "id": "1qld-8itDkkL",
    "outputId": "39eccb0b-a80d-44c1-aea3-36f0d70cb709",
    "papermill": {
     "duration": 0.022652,
     "end_time": "2023-05-02T09:21:19.435538",
     "exception": false,
     "start_time": "2023-05-02T09:21:19.412886",
     "status": "completed"
    },
    "tags": []
   },
   "outputs": [
    {
     "data": {
      "text/plain": [
       "(69105,)"
      ]
     },
     "execution_count": 40,
     "metadata": {},
     "output_type": "execute_result"
    }
   ],
   "source": [
    "tensors_labels_train.shape"
   ]
  },
  {
   "cell_type": "code",
   "execution_count": 41,
   "id": "65587980",
   "metadata": {
    "execution": {
     "iopub.execute_input": "2023-05-02T09:21:19.464186Z",
     "iopub.status.busy": "2023-05-02T09:21:19.463746Z",
     "iopub.status.idle": "2023-05-02T09:21:19.470216Z",
     "shell.execute_reply": "2023-05-02T09:21:19.469043Z"
    },
    "id": "HwyTyKmeDmkd",
    "outputId": "3bc09566-aecc-44c6-ea5d-1f7dc5516fd5",
    "papermill": {
     "duration": 0.023167,
     "end_time": "2023-05-02T09:21:19.472168",
     "exception": false,
     "start_time": "2023-05-02T09:21:19.449001",
     "status": "completed"
    },
    "tags": []
   },
   "outputs": [
    {
     "data": {
      "text/plain": [
       "(17276,)"
      ]
     },
     "execution_count": 41,
     "metadata": {},
     "output_type": "execute_result"
    }
   ],
   "source": [
    "tensors_labels_test.shape"
   ]
  },
  {
   "cell_type": "code",
   "execution_count": 42,
   "id": "f50cf4f2",
   "metadata": {
    "execution": {
     "iopub.execute_input": "2023-05-02T09:21:19.501220Z",
     "iopub.status.busy": "2023-05-02T09:21:19.500141Z",
     "iopub.status.idle": "2023-05-02T09:21:19.506680Z",
     "shell.execute_reply": "2023-05-02T09:21:19.505914Z"
    },
    "id": "WWafjoFBEqCK",
    "papermill": {
     "duration": 0.022999,
     "end_time": "2023-05-02T09:21:19.508889",
     "exception": false,
     "start_time": "2023-05-02T09:21:19.485890",
     "status": "completed"
    },
    "tags": []
   },
   "outputs": [],
   "source": [
    "pickle_dump(f_name = \"train_labels_tensors\",obj=tensors_labels_train)\n",
    "pickle_dump(f_name = \"test_labels_tensors\",obj=tensors_labels_test)"
   ]
  },
  {
   "cell_type": "code",
   "execution_count": null,
   "id": "3a9387db",
   "metadata": {
    "papermill": {
     "duration": 0.012192,
     "end_time": "2023-05-02T09:21:19.533776",
     "exception": false,
     "start_time": "2023-05-02T09:21:19.521584",
     "status": "completed"
    },
    "tags": []
   },
   "outputs": [],
   "source": []
  },
  {
   "cell_type": "code",
   "execution_count": null,
   "id": "fd77f9a9",
   "metadata": {
    "papermill": {
     "duration": 0.012152,
     "end_time": "2023-05-02T09:21:19.558457",
     "exception": false,
     "start_time": "2023-05-02T09:21:19.546305",
     "status": "completed"
    },
    "tags": []
   },
   "outputs": [],
   "source": []
  }
 ],
 "metadata": {
  "kernelspec": {
   "display_name": "Python 3",
   "language": "python",
   "name": "python3"
  },
  "language_info": {
   "codemirror_mode": {
    "name": "ipython",
    "version": 3
   },
   "file_extension": ".py",
   "mimetype": "text/x-python",
   "name": "python",
   "nbconvert_exporter": "python",
   "pygments_lexer": "ipython3",
   "version": "3.10.10"
  },
  "papermill": {
   "default_parameters": {},
   "duration": 61.595064,
   "end_time": "2023-05-02T09:21:23.077358",
   "environment_variables": {},
   "exception": null,
   "input_path": "__notebook__.ipynb",
   "output_path": "__notebook__.ipynb",
   "parameters": {},
   "start_time": "2023-05-02T09:20:21.482294",
   "version": "2.4.0"
  },
  "widgets": {
   "application/vnd.jupyter.widget-state+json": {
    "state": {
     "0a9f41ad8b5c45afb4df9b8e7bdfcb99": {
      "model_module": "@jupyter-widgets/controls",
      "model_module_version": "1.5.0",
      "model_name": "DescriptionStyleModel",
      "state": {
       "_model_module": "@jupyter-widgets/controls",
       "_model_module_version": "1.5.0",
       "_model_name": "DescriptionStyleModel",
       "_view_count": null,
       "_view_module": "@jupyter-widgets/base",
       "_view_module_version": "1.2.0",
       "_view_name": "StyleView",
       "description_width": ""
      }
     },
     "142ab54ed89f49e7957a4858ccee3951": {
      "model_module": "@jupyter-widgets/base",
      "model_module_version": "1.2.0",
      "model_name": "LayoutModel",
      "state": {
       "_model_module": "@jupyter-widgets/base",
       "_model_module_version": "1.2.0",
       "_model_name": "LayoutModel",
       "_view_count": null,
       "_view_module": "@jupyter-widgets/base",
       "_view_module_version": "1.2.0",
       "_view_name": "LayoutView",
       "align_content": null,
       "align_items": null,
       "align_self": null,
       "border": null,
       "bottom": null,
       "display": null,
       "flex": null,
       "flex_flow": null,
       "grid_area": null,
       "grid_auto_columns": null,
       "grid_auto_flow": null,
       "grid_auto_rows": null,
       "grid_column": null,
       "grid_gap": null,
       "grid_row": null,
       "grid_template_areas": null,
       "grid_template_columns": null,
       "grid_template_rows": null,
       "height": null,
       "justify_content": null,
       "justify_items": null,
       "left": null,
       "margin": null,
       "max_height": null,
       "max_width": null,
       "min_height": null,
       "min_width": null,
       "object_fit": null,
       "object_position": null,
       "order": null,
       "overflow": null,
       "overflow_x": null,
       "overflow_y": null,
       "padding": null,
       "right": null,
       "top": null,
       "visibility": null,
       "width": null
      }
     },
     "342a53968c6148618acb82f98b089c41": {
      "model_module": "@jupyter-widgets/controls",
      "model_module_version": "1.5.0",
      "model_name": "DescriptionStyleModel",
      "state": {
       "_model_module": "@jupyter-widgets/controls",
       "_model_module_version": "1.5.0",
       "_model_name": "DescriptionStyleModel",
       "_view_count": null,
       "_view_module": "@jupyter-widgets/base",
       "_view_module_version": "1.2.0",
       "_view_name": "StyleView",
       "description_width": ""
      }
     },
     "358fdbab13c44b4d8f5e921ea89d0ed1": {
      "model_module": "@jupyter-widgets/controls",
      "model_module_version": "1.5.0",
      "model_name": "HTMLModel",
      "state": {
       "_dom_classes": [],
       "_model_module": "@jupyter-widgets/controls",
       "_model_module_version": "1.5.0",
       "_model_name": "HTMLModel",
       "_view_count": null,
       "_view_module": "@jupyter-widgets/controls",
       "_view_module_version": "1.5.0",
       "_view_name": "HTMLView",
       "description": "",
       "description_tooltip": null,
       "layout": "IPY_MODEL_f25a06b56b3a4d858d1d645587605374",
       "placeholder": "​",
       "style": "IPY_MODEL_76aa85f7a2044296a9732aa5d8f8ef4c",
       "value": ""
      }
     },
     "4463fc07b3b24e1c899690c59f0a31da": {
      "model_module": "@jupyter-widgets/controls",
      "model_module_version": "1.5.0",
      "model_name": "ProgressStyleModel",
      "state": {
       "_model_module": "@jupyter-widgets/controls",
       "_model_module_version": "1.5.0",
       "_model_name": "ProgressStyleModel",
       "_view_count": null,
       "_view_module": "@jupyter-widgets/base",
       "_view_module_version": "1.2.0",
       "_view_name": "StyleView",
       "bar_color": null,
       "description_width": ""
      }
     },
     "6ac9a3277cad429f9dd74afd45586985": {
      "model_module": "@jupyter-widgets/controls",
      "model_module_version": "1.5.0",
      "model_name": "HBoxModel",
      "state": {
       "_dom_classes": [],
       "_model_module": "@jupyter-widgets/controls",
       "_model_module_version": "1.5.0",
       "_model_name": "HBoxModel",
       "_view_count": null,
       "_view_module": "@jupyter-widgets/controls",
       "_view_module_version": "1.5.0",
       "_view_name": "HBoxView",
       "box_style": "",
       "children": [
        "IPY_MODEL_a712229df7e94a69bf205161aa37594a",
        "IPY_MODEL_7da2cbfd78504e7f897cea4b6ad0ddca",
        "IPY_MODEL_b6e3247650f14f2dadf1a2ef4c16e398"
       ],
       "layout": "IPY_MODEL_d301db0edffa44eba8094a89b3c9bc89"
      }
     },
     "76aa85f7a2044296a9732aa5d8f8ef4c": {
      "model_module": "@jupyter-widgets/controls",
      "model_module_version": "1.5.0",
      "model_name": "DescriptionStyleModel",
      "state": {
       "_model_module": "@jupyter-widgets/controls",
       "_model_module_version": "1.5.0",
       "_model_name": "DescriptionStyleModel",
       "_view_count": null,
       "_view_module": "@jupyter-widgets/base",
       "_view_module_version": "1.2.0",
       "_view_name": "StyleView",
       "description_width": ""
      }
     },
     "79d8c4a22f024c1e9437938dd596a917": {
      "model_module": "@jupyter-widgets/base",
      "model_module_version": "1.2.0",
      "model_name": "LayoutModel",
      "state": {
       "_model_module": "@jupyter-widgets/base",
       "_model_module_version": "1.2.0",
       "_model_name": "LayoutModel",
       "_view_count": null,
       "_view_module": "@jupyter-widgets/base",
       "_view_module_version": "1.2.0",
       "_view_name": "LayoutView",
       "align_content": null,
       "align_items": null,
       "align_self": null,
       "border": null,
       "bottom": null,
       "display": null,
       "flex": null,
       "flex_flow": null,
       "grid_area": null,
       "grid_auto_columns": null,
       "grid_auto_flow": null,
       "grid_auto_rows": null,
       "grid_column": null,
       "grid_gap": null,
       "grid_row": null,
       "grid_template_areas": null,
       "grid_template_columns": null,
       "grid_template_rows": null,
       "height": null,
       "justify_content": null,
       "justify_items": null,
       "left": null,
       "margin": null,
       "max_height": null,
       "max_width": null,
       "min_height": null,
       "min_width": null,
       "object_fit": null,
       "object_position": null,
       "order": null,
       "overflow": null,
       "overflow_x": null,
       "overflow_y": null,
       "padding": null,
       "right": null,
       "top": null,
       "visibility": null,
       "width": null
      }
     },
     "7da2cbfd78504e7f897cea4b6ad0ddca": {
      "model_module": "@jupyter-widgets/controls",
      "model_module_version": "1.5.0",
      "model_name": "FloatProgressModel",
      "state": {
       "_dom_classes": [],
       "_model_module": "@jupyter-widgets/controls",
       "_model_module_version": "1.5.0",
       "_model_name": "FloatProgressModel",
       "_view_count": null,
       "_view_module": "@jupyter-widgets/controls",
       "_view_module_version": "1.5.0",
       "_view_name": "ProgressView",
       "bar_style": "success",
       "description": "",
       "description_tooltip": null,
       "layout": "IPY_MODEL_89be9eac875b47ddb11a78b2a88ad897",
       "max": 1.0,
       "min": 0.0,
       "orientation": "horizontal",
       "style": "IPY_MODEL_b32d1e7f5e484341b19ebdc0c9acecac",
       "value": 1.0
      }
     },
     "8009590ab1364a5a8383139c6563e6ad": {
      "model_module": "@jupyter-widgets/controls",
      "model_module_version": "1.5.0",
      "model_name": "FloatProgressModel",
      "state": {
       "_dom_classes": [],
       "_model_module": "@jupyter-widgets/controls",
       "_model_module_version": "1.5.0",
       "_model_name": "FloatProgressModel",
       "_view_count": null,
       "_view_module": "@jupyter-widgets/controls",
       "_view_module_version": "1.5.0",
       "_view_name": "ProgressView",
       "bar_style": "success",
       "description": "",
       "description_tooltip": null,
       "layout": "IPY_MODEL_b9724f7624a3455583e9bfc2791bb61c",
       "max": 1.0,
       "min": 0.0,
       "orientation": "horizontal",
       "style": "IPY_MODEL_4463fc07b3b24e1c899690c59f0a31da",
       "value": 1.0
      }
     },
     "89be9eac875b47ddb11a78b2a88ad897": {
      "model_module": "@jupyter-widgets/base",
      "model_module_version": "1.2.0",
      "model_name": "LayoutModel",
      "state": {
       "_model_module": "@jupyter-widgets/base",
       "_model_module_version": "1.2.0",
       "_model_name": "LayoutModel",
       "_view_count": null,
       "_view_module": "@jupyter-widgets/base",
       "_view_module_version": "1.2.0",
       "_view_name": "LayoutView",
       "align_content": null,
       "align_items": null,
       "align_self": null,
       "border": null,
       "bottom": null,
       "display": null,
       "flex": null,
       "flex_flow": null,
       "grid_area": null,
       "grid_auto_columns": null,
       "grid_auto_flow": null,
       "grid_auto_rows": null,
       "grid_column": null,
       "grid_gap": null,
       "grid_row": null,
       "grid_template_areas": null,
       "grid_template_columns": null,
       "grid_template_rows": null,
       "height": null,
       "justify_content": null,
       "justify_items": null,
       "left": null,
       "margin": null,
       "max_height": null,
       "max_width": null,
       "min_height": null,
       "min_width": null,
       "object_fit": null,
       "object_position": null,
       "order": null,
       "overflow": null,
       "overflow_x": null,
       "overflow_y": null,
       "padding": null,
       "right": null,
       "top": null,
       "visibility": null,
       "width": "20px"
      }
     },
     "8eb15dcbc8404306bd9e4f9a772eb32d": {
      "model_module": "@jupyter-widgets/base",
      "model_module_version": "1.2.0",
      "model_name": "LayoutModel",
      "state": {
       "_model_module": "@jupyter-widgets/base",
       "_model_module_version": "1.2.0",
       "_model_name": "LayoutModel",
       "_view_count": null,
       "_view_module": "@jupyter-widgets/base",
       "_view_module_version": "1.2.0",
       "_view_name": "LayoutView",
       "align_content": null,
       "align_items": null,
       "align_self": null,
       "border": null,
       "bottom": null,
       "display": null,
       "flex": null,
       "flex_flow": null,
       "grid_area": null,
       "grid_auto_columns": null,
       "grid_auto_flow": null,
       "grid_auto_rows": null,
       "grid_column": null,
       "grid_gap": null,
       "grid_row": null,
       "grid_template_areas": null,
       "grid_template_columns": null,
       "grid_template_rows": null,
       "height": null,
       "justify_content": null,
       "justify_items": null,
       "left": null,
       "margin": null,
       "max_height": null,
       "max_width": null,
       "min_height": null,
       "min_width": null,
       "object_fit": null,
       "object_position": null,
       "order": null,
       "overflow": null,
       "overflow_x": null,
       "overflow_y": null,
       "padding": null,
       "right": null,
       "top": null,
       "visibility": null,
       "width": null
      }
     },
     "a48737deb17f4afb904a1bb424d32b56": {
      "model_module": "@jupyter-widgets/controls",
      "model_module_version": "1.5.0",
      "model_name": "HBoxModel",
      "state": {
       "_dom_classes": [],
       "_model_module": "@jupyter-widgets/controls",
       "_model_module_version": "1.5.0",
       "_model_name": "HBoxModel",
       "_view_count": null,
       "_view_module": "@jupyter-widgets/controls",
       "_view_module_version": "1.5.0",
       "_view_name": "HBoxView",
       "box_style": "",
       "children": [
        "IPY_MODEL_358fdbab13c44b4d8f5e921ea89d0ed1",
        "IPY_MODEL_8009590ab1364a5a8383139c6563e6ad",
        "IPY_MODEL_e9f3362015784f8993683c61da9ffbca"
       ],
       "layout": "IPY_MODEL_a56505c0ebd94a6689ca449c1708982a"
      }
     },
     "a56505c0ebd94a6689ca449c1708982a": {
      "model_module": "@jupyter-widgets/base",
      "model_module_version": "1.2.0",
      "model_name": "LayoutModel",
      "state": {
       "_model_module": "@jupyter-widgets/base",
       "_model_module_version": "1.2.0",
       "_model_name": "LayoutModel",
       "_view_count": null,
       "_view_module": "@jupyter-widgets/base",
       "_view_module_version": "1.2.0",
       "_view_name": "LayoutView",
       "align_content": null,
       "align_items": null,
       "align_self": null,
       "border": null,
       "bottom": null,
       "display": null,
       "flex": null,
       "flex_flow": null,
       "grid_area": null,
       "grid_auto_columns": null,
       "grid_auto_flow": null,
       "grid_auto_rows": null,
       "grid_column": null,
       "grid_gap": null,
       "grid_row": null,
       "grid_template_areas": null,
       "grid_template_columns": null,
       "grid_template_rows": null,
       "height": null,
       "justify_content": null,
       "justify_items": null,
       "left": null,
       "margin": null,
       "max_height": null,
       "max_width": null,
       "min_height": null,
       "min_width": null,
       "object_fit": null,
       "object_position": null,
       "order": null,
       "overflow": null,
       "overflow_x": null,
       "overflow_y": null,
       "padding": null,
       "right": null,
       "top": null,
       "visibility": null,
       "width": null
      }
     },
     "a712229df7e94a69bf205161aa37594a": {
      "model_module": "@jupyter-widgets/controls",
      "model_module_version": "1.5.0",
      "model_name": "HTMLModel",
      "state": {
       "_dom_classes": [],
       "_model_module": "@jupyter-widgets/controls",
       "_model_module_version": "1.5.0",
       "_model_name": "HTMLModel",
       "_view_count": null,
       "_view_module": "@jupyter-widgets/controls",
       "_view_module_version": "1.5.0",
       "_view_name": "HTMLView",
       "description": "",
       "description_tooltip": null,
       "layout": "IPY_MODEL_79d8c4a22f024c1e9437938dd596a917",
       "placeholder": "​",
       "style": "IPY_MODEL_ab08aadbee85444f93d0d4fa65b034c8",
       "value": ""
      }
     },
     "ab08aadbee85444f93d0d4fa65b034c8": {
      "model_module": "@jupyter-widgets/controls",
      "model_module_version": "1.5.0",
      "model_name": "DescriptionStyleModel",
      "state": {
       "_model_module": "@jupyter-widgets/controls",
       "_model_module_version": "1.5.0",
       "_model_name": "DescriptionStyleModel",
       "_view_count": null,
       "_view_module": "@jupyter-widgets/base",
       "_view_module_version": "1.2.0",
       "_view_name": "StyleView",
       "description_width": ""
      }
     },
     "b32d1e7f5e484341b19ebdc0c9acecac": {
      "model_module": "@jupyter-widgets/controls",
      "model_module_version": "1.5.0",
      "model_name": "ProgressStyleModel",
      "state": {
       "_model_module": "@jupyter-widgets/controls",
       "_model_module_version": "1.5.0",
       "_model_name": "ProgressStyleModel",
       "_view_count": null,
       "_view_module": "@jupyter-widgets/base",
       "_view_module_version": "1.2.0",
       "_view_name": "StyleView",
       "bar_color": null,
       "description_width": ""
      }
     },
     "b6e3247650f14f2dadf1a2ef4c16e398": {
      "model_module": "@jupyter-widgets/controls",
      "model_module_version": "1.5.0",
      "model_name": "HTMLModel",
      "state": {
       "_dom_classes": [],
       "_model_module": "@jupyter-widgets/controls",
       "_model_module_version": "1.5.0",
       "_model_name": "HTMLModel",
       "_view_count": null,
       "_view_module": "@jupyter-widgets/controls",
       "_view_module_version": "1.5.0",
       "_view_name": "HTMLView",
       "description": "",
       "description_tooltip": null,
       "layout": "IPY_MODEL_142ab54ed89f49e7957a4858ccee3951",
       "placeholder": "​",
       "style": "IPY_MODEL_342a53968c6148618acb82f98b089c41",
       "value": " 69105/? [00:04&lt;00:00, 14718.17it/s]"
      }
     },
     "b9724f7624a3455583e9bfc2791bb61c": {
      "model_module": "@jupyter-widgets/base",
      "model_module_version": "1.2.0",
      "model_name": "LayoutModel",
      "state": {
       "_model_module": "@jupyter-widgets/base",
       "_model_module_version": "1.2.0",
       "_model_name": "LayoutModel",
       "_view_count": null,
       "_view_module": "@jupyter-widgets/base",
       "_view_module_version": "1.2.0",
       "_view_name": "LayoutView",
       "align_content": null,
       "align_items": null,
       "align_self": null,
       "border": null,
       "bottom": null,
       "display": null,
       "flex": null,
       "flex_flow": null,
       "grid_area": null,
       "grid_auto_columns": null,
       "grid_auto_flow": null,
       "grid_auto_rows": null,
       "grid_column": null,
       "grid_gap": null,
       "grid_row": null,
       "grid_template_areas": null,
       "grid_template_columns": null,
       "grid_template_rows": null,
       "height": null,
       "justify_content": null,
       "justify_items": null,
       "left": null,
       "margin": null,
       "max_height": null,
       "max_width": null,
       "min_height": null,
       "min_width": null,
       "object_fit": null,
       "object_position": null,
       "order": null,
       "overflow": null,
       "overflow_x": null,
       "overflow_y": null,
       "padding": null,
       "right": null,
       "top": null,
       "visibility": null,
       "width": "20px"
      }
     },
     "d301db0edffa44eba8094a89b3c9bc89": {
      "model_module": "@jupyter-widgets/base",
      "model_module_version": "1.2.0",
      "model_name": "LayoutModel",
      "state": {
       "_model_module": "@jupyter-widgets/base",
       "_model_module_version": "1.2.0",
       "_model_name": "LayoutModel",
       "_view_count": null,
       "_view_module": "@jupyter-widgets/base",
       "_view_module_version": "1.2.0",
       "_view_name": "LayoutView",
       "align_content": null,
       "align_items": null,
       "align_self": null,
       "border": null,
       "bottom": null,
       "display": null,
       "flex": null,
       "flex_flow": null,
       "grid_area": null,
       "grid_auto_columns": null,
       "grid_auto_flow": null,
       "grid_auto_rows": null,
       "grid_column": null,
       "grid_gap": null,
       "grid_row": null,
       "grid_template_areas": null,
       "grid_template_columns": null,
       "grid_template_rows": null,
       "height": null,
       "justify_content": null,
       "justify_items": null,
       "left": null,
       "margin": null,
       "max_height": null,
       "max_width": null,
       "min_height": null,
       "min_width": null,
       "object_fit": null,
       "object_position": null,
       "order": null,
       "overflow": null,
       "overflow_x": null,
       "overflow_y": null,
       "padding": null,
       "right": null,
       "top": null,
       "visibility": null,
       "width": null
      }
     },
     "e9f3362015784f8993683c61da9ffbca": {
      "model_module": "@jupyter-widgets/controls",
      "model_module_version": "1.5.0",
      "model_name": "HTMLModel",
      "state": {
       "_dom_classes": [],
       "_model_module": "@jupyter-widgets/controls",
       "_model_module_version": "1.5.0",
       "_model_name": "HTMLModel",
       "_view_count": null,
       "_view_module": "@jupyter-widgets/controls",
       "_view_module_version": "1.5.0",
       "_view_name": "HTMLView",
       "description": "",
       "description_tooltip": null,
       "layout": "IPY_MODEL_8eb15dcbc8404306bd9e4f9a772eb32d",
       "placeholder": "​",
       "style": "IPY_MODEL_0a9f41ad8b5c45afb4df9b8e7bdfcb99",
       "value": " 17276/? [00:01&lt;00:00, 14095.78it/s]"
      }
     },
     "f25a06b56b3a4d858d1d645587605374": {
      "model_module": "@jupyter-widgets/base",
      "model_module_version": "1.2.0",
      "model_name": "LayoutModel",
      "state": {
       "_model_module": "@jupyter-widgets/base",
       "_model_module_version": "1.2.0",
       "_model_name": "LayoutModel",
       "_view_count": null,
       "_view_module": "@jupyter-widgets/base",
       "_view_module_version": "1.2.0",
       "_view_name": "LayoutView",
       "align_content": null,
       "align_items": null,
       "align_self": null,
       "border": null,
       "bottom": null,
       "display": null,
       "flex": null,
       "flex_flow": null,
       "grid_area": null,
       "grid_auto_columns": null,
       "grid_auto_flow": null,
       "grid_auto_rows": null,
       "grid_column": null,
       "grid_gap": null,
       "grid_row": null,
       "grid_template_areas": null,
       "grid_template_columns": null,
       "grid_template_rows": null,
       "height": null,
       "justify_content": null,
       "justify_items": null,
       "left": null,
       "margin": null,
       "max_height": null,
       "max_width": null,
       "min_height": null,
       "min_width": null,
       "object_fit": null,
       "object_position": null,
       "order": null,
       "overflow": null,
       "overflow_x": null,
       "overflow_y": null,
       "padding": null,
       "right": null,
       "top": null,
       "visibility": null,
       "width": null
      }
     }
    },
    "version_major": 2,
    "version_minor": 0
   }
  }
 },
 "nbformat": 4,
 "nbformat_minor": 5
}
