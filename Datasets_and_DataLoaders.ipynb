{
  "nbformat": 4,
  "nbformat_minor": 0,
  "metadata": {
    "colab": {
      "provenance": [],
      "authorship_tag": "ABX9TyNNhuiAZOD1lDm/K8WRC2bP",
      "include_colab_link": true
    },
    "kernelspec": {
      "name": "python3",
      "display_name": "Python 3"
    },
    "language_info": {
      "name": "python"
    }
  },
  "cells": [
    {
      "cell_type": "markdown",
      "metadata": {
        "id": "view-in-github",
        "colab_type": "text"
      },
      "source": [
        "<a href=\"https://colab.research.google.com/github/asmita-mukherjee/StepWise-Pytorch/blob/main/Datasets_and_DataLoaders.ipynb\" target=\"_parent\"><img src=\"https://colab.research.google.com/assets/colab-badge.svg\" alt=\"Open In Colab\"/></a>"
      ]
    },
    {
      "cell_type": "code",
      "source": [
        "from google.colab import drive\n",
        "\n",
        "drive.mount(\"/content/drive/\")"
      ],
      "metadata": {
        "colab": {
          "base_uri": "https://localhost:8080/"
        },
        "id": "3PNayYaNmrfY",
        "outputId": "a7764781-7960-436f-abc6-437a46dcad2d"
      },
      "execution_count": 1,
      "outputs": [
        {
          "output_type": "stream",
          "name": "stdout",
          "text": [
            "Mounted at /content/drive/\n"
          ]
        }
      ]
    },
    {
      "cell_type": "markdown",
      "source": [
        "# Project Description:\n",
        "\n",
        "Exploring the utility of Datasets and Dataloaders for image and text datasets:\n",
        "\n",
        "\n",
        "Text Dataset : https://github.com/dair-ai/emotion_dataset\n",
        "\n"
      ],
      "metadata": {
        "id": "eMRJ6_btjTuH"
      }
    },
    {
      "cell_type": "markdown",
      "source": [
        "# Why to use them\n",
        "\n",
        "\n",
        "\n",
        "> Decouples the code for handling data from the training ,helps in modularizing and readability \n",
        "\n",
        "# What is the utility of Datasets and DataLoaders class\n",
        "\n",
        "> torch.utils.data.Datasets : Stores the data and their labels.\n",
        "\n",
        "> torch.utils.data.DataLoader : Wraps an iterable around the dataset class and makes it easier to access them.\n",
        "\n",
        "\n",
        "\n",
        "\n",
        "\n"
      ],
      "metadata": {
        "id": "E_cGfnnKfynW"
      }
    },
    {
      "cell_type": "markdown",
      "source": [
        "# Text dataset"
      ],
      "metadata": {
        "id": "IsaFwmLWjzni"
      }
    },
    {
      "cell_type": "markdown",
      "source": [
        "### Read the text file"
      ],
      "metadata": {
        "id": "M8zZt57zjxK5"
      }
    },
    {
      "cell_type": "code",
      "source": [
        "from sklearn.model_selection import train_test_split"
      ],
      "metadata": {
        "id": "AZVrxh6jBT47"
      },
      "execution_count": 40,
      "outputs": []
    },
    {
      "cell_type": "code",
      "source": [
        "from tqdm.notebook import tqdm"
      ],
      "metadata": {
        "id": "lkFrs4R5-DxQ"
      },
      "execution_count": 14,
      "outputs": []
    },
    {
      "cell_type": "code",
      "execution_count": 2,
      "metadata": {
        "id": "I9qhPgDncJq6"
      },
      "outputs": [],
      "source": [
        "import pickle"
      ]
    },
    {
      "cell_type": "code",
      "source": [
        "import pandas as pd"
      ],
      "metadata": {
        "id": "pSgnRau5lJ01"
      },
      "execution_count": 3,
      "outputs": []
    },
    {
      "cell_type": "code",
      "source": [
        "import re\n",
        "import spacy\n",
        "import string\n",
        "from textblob import TextBlob"
      ],
      "metadata": {
        "id": "Ko3iyis3o8mE"
      },
      "execution_count": 4,
      "outputs": []
    },
    {
      "cell_type": "code",
      "source": [
        "\n",
        "en = spacy.load('en_core_web_sm')\n",
        "stopwords = en.Defaults.stop_words"
      ],
      "metadata": {
        "id": "97lQRv7373Fz"
      },
      "execution_count": 9,
      "outputs": []
    },
    {
      "cell_type": "code",
      "source": [
        "data = pd.read_csv(\"/content/drive/MyDrive/Practising Pytorch/preprocessed_data.csv\")"
      ],
      "metadata": {
        "id": "Q_4fosh0lD7B"
      },
      "execution_count": 60,
      "outputs": []
    },
    {
      "cell_type": "code",
      "source": [
        "#shuffle\n",
        "data = data.sample(frac=1,random_state=42).reset_index(drop=True)"
      ],
      "metadata": {
        "id": "CNREYIUGlLEZ"
      },
      "execution_count": 61,
      "outputs": []
    },
    {
      "cell_type": "code",
      "source": [
        "test_data_size = int(0.2*len(data))"
      ],
      "metadata": {
        "id": "aSdw4Ku5CFi7"
      },
      "execution_count": 62,
      "outputs": []
    },
    {
      "cell_type": "code",
      "source": [
        "test_data_size"
      ],
      "metadata": {
        "colab": {
          "base_uri": "https://localhost:8080/"
        },
        "id": "-btMl3pMDB5v",
        "outputId": "8dd54401-7fac-42d6-9bd6-cffe88b55003"
      },
      "execution_count": 63,
      "outputs": [
        {
          "output_type": "execute_result",
          "data": {
            "text/plain": [
              "32578"
            ]
          },
          "metadata": {},
          "execution_count": 63
        }
      ]
    },
    {
      "cell_type": "code",
      "source": [
        "train_data_size = len(data) - test_data_size"
      ],
      "metadata": {
        "id": "qtSCtggSCQnx"
      },
      "execution_count": 64,
      "outputs": []
    },
    {
      "cell_type": "code",
      "source": [
        "train_data_size"
      ],
      "metadata": {
        "colab": {
          "base_uri": "https://localhost:8080/"
        },
        "id": "UTUJfaZMDLcz",
        "outputId": "0e9dcfec-553f-4d07-b4a8-cdf3e7157a6e"
      },
      "execution_count": 65,
      "outputs": [
        {
          "output_type": "execute_result",
          "data": {
            "text/plain": [
              "130314"
            ]
          },
          "metadata": {},
          "execution_count": 65
        }
      ]
    },
    {
      "cell_type": "code",
      "source": [
        "list1 = [1,2,3,4]\n",
        "list1[:2]"
      ],
      "metadata": {
        "colab": {
          "base_uri": "https://localhost:8080/"
        },
        "id": "HWqG0G1EC0gk",
        "outputId": "0cd229a9-4e2d-4709-9be8-1de60eaa8ed7"
      },
      "execution_count": 66,
      "outputs": [
        {
          "output_type": "execute_result",
          "data": {
            "text/plain": [
              "[1, 2]"
            ]
          },
          "metadata": {},
          "execution_count": 66
        }
      ]
    },
    {
      "cell_type": "code",
      "source": [
        "train_data,test_data = data.loc[:train_data_size,:],data.loc[train_data_size:train_data_size+test_data_size,:]"
      ],
      "metadata": {
        "id": "r_RABXMbCA_2"
      },
      "execution_count": 68,
      "outputs": []
    },
    {
      "cell_type": "code",
      "source": [
        "len(train_data)"
      ],
      "metadata": {
        "colab": {
          "base_uri": "https://localhost:8080/"
        },
        "id": "98ZxgHJECdXQ",
        "outputId": "bce9e142-1681-4406-900e-e1ffc71c3e11"
      },
      "execution_count": 69,
      "outputs": [
        {
          "output_type": "execute_result",
          "data": {
            "text/plain": [
              "130315"
            ]
          },
          "metadata": {},
          "execution_count": 69
        }
      ]
    },
    {
      "cell_type": "code",
      "source": [
        "len(test_data)"
      ],
      "metadata": {
        "colab": {
          "base_uri": "https://localhost:8080/"
        },
        "id": "zQIENuL6CnIR",
        "outputId": "17062e57-81f9-4b02-8779-6a8c1f8b11f0"
      },
      "execution_count": 70,
      "outputs": [
        {
          "output_type": "execute_result",
          "data": {
            "text/plain": [
              "32578"
            ]
          },
          "metadata": {},
          "execution_count": 70
        }
      ]
    },
    {
      "cell_type": "markdown",
      "source": [
        "##Dataset class for text"
      ],
      "metadata": {
        "id": "F2Cbo9MTngl7"
      }
    },
    {
      "cell_type": "code",
      "source": [
        "from torch.utils.data import Dataset\n",
        "\n",
        "from torch.utils.data import DataLoader"
      ],
      "metadata": {
        "id": "ViNVyZbsoJI2"
      },
      "execution_count": 7,
      "outputs": []
    },
    {
      "cell_type": "code",
      "source": [
        "class CustomTextDataset(Dataset):\n",
        "\n",
        "  def __init__(self,df):\n",
        "    self.data = df\n",
        "    self.text = list(self.data.text) #it is imp to make it into list or else idx does not work\n",
        "    self.labels = list(self.data.emotions)\n",
        "    print(\"Creating\")\n",
        "\n",
        "  def __len__(self):\n",
        "    return len(self.data)\n",
        "\n",
        "  def __getitem__(self,idx):\n",
        "    return self.text[idx],self.labels[idx]\n",
        "\n"
      ],
      "metadata": {
        "id": "vlnoPQcynGmv"
      },
      "execution_count": 90,
      "outputs": []
    },
    {
      "cell_type": "code",
      "source": [
        "train_dataset = CustomTextDataset(train_data)"
      ],
      "metadata": {
        "colab": {
          "base_uri": "https://localhost:8080/"
        },
        "id": "1xLk_EDD8M-X",
        "outputId": "75c88483-24c8-4fad-c7cc-e5b3c6fd265d"
      },
      "execution_count": 91,
      "outputs": [
        {
          "output_type": "stream",
          "name": "stdout",
          "text": [
            "Creating\n"
          ]
        }
      ]
    },
    {
      "cell_type": "code",
      "source": [
        "test_dataset = CustomTextDataset(test_data)"
      ],
      "metadata": {
        "colab": {
          "base_uri": "https://localhost:8080/"
        },
        "id": "S4dQR3gCEHLB",
        "outputId": "2575ef1f-55e7-40dc-95d3-c0437f4a19db"
      },
      "execution_count": 92,
      "outputs": [
        {
          "output_type": "stream",
          "name": "stdout",
          "text": [
            "Creating\n"
          ]
        }
      ]
    },
    {
      "cell_type": "code",
      "source": [
        "len(train_dataset),len(test_dataset)"
      ],
      "metadata": {
        "colab": {
          "base_uri": "https://localhost:8080/"
        },
        "id": "Y3oW-ydc9xFg",
        "outputId": "d35ba95e-d14f-4beb-90a9-618162e61b54"
      },
      "execution_count": 93,
      "outputs": [
        {
          "output_type": "execute_result",
          "data": {
            "text/plain": [
              "(130315, 32578)"
            ]
          },
          "metadata": {},
          "execution_count": 93
        }
      ]
    },
    {
      "cell_type": "code",
      "source": [
        "train_dataset[10]"
      ],
      "metadata": {
        "colab": {
          "base_uri": "https://localhost:8080/"
        },
        "id": "PkEV0Vct_rGQ",
        "outputId": "852e5138-f496-48ec-b54b-34ca3f9c9ca0"
      },
      "execution_count": 94,
      "outputs": [
        {
          "output_type": "execute_result",
          "data": {
            "text/plain": [
              "('feel unhappy home parent split don t step dad', 'sadness')"
            ]
          },
          "metadata": {},
          "execution_count": 94
        }
      ]
    },
    {
      "cell_type": "code",
      "source": [
        "test_dataset[10]"
      ],
      "metadata": {
        "colab": {
          "base_uri": "https://localhost:8080/"
        },
        "id": "d2uuGKXBERud",
        "outputId": "2243ba7c-ca7d-468b-a199-d8786b12420c"
      },
      "execution_count": 95,
      "outputs": [
        {
          "output_type": "execute_result",
          "data": {
            "text/plain": [
              "('think crazy think thing time feel like annoy basically self worth issue',\n",
              " 'anger')"
            ]
          },
          "metadata": {},
          "execution_count": 95
        }
      ]
    },
    {
      "cell_type": "markdown",
      "source": [
        "## Dataloaders"
      ],
      "metadata": {
        "id": "tMTsXcylE51F"
      }
    },
    {
      "cell_type": "code",
      "source": [
        "train_loader = DataLoader(train_dataset,batch_size=32,shuffle=True)"
      ],
      "metadata": {
        "id": "1sFdgGSgEYB7"
      },
      "execution_count": 96,
      "outputs": []
    },
    {
      "cell_type": "code",
      "source": [
        "test_loader = DataLoader(test_dataset,batch_size=32,shuffle=True)"
      ],
      "metadata": {
        "id": "ySo7OtFrFJp8"
      },
      "execution_count": 97,
      "outputs": []
    },
    {
      "cell_type": "code",
      "source": [
        "for idx,data in enumerate(train_loader):\n",
        "  \n",
        "  text,label = data\n",
        "\n",
        "  print(\"Batch number\",idx)\n",
        "  print(\"text\",text)\n",
        "\n",
        "  print(\"label\",label)\n",
        "\n",
        "  print(\"batch size\",len(text))\n",
        "\n",
        "  break\n"
      ],
      "metadata": {
        "colab": {
          "base_uri": "https://localhost:8080/"
        },
        "id": "CZ8-Ex6AFQX-",
        "outputId": "22a29a53-3237-441e-d685-af48e923bfed"
      },
      "execution_count": 100,
      "outputs": [
        {
          "output_type": "stream",
          "name": "stdout",
          "text": [
            "Batch number 0\n",
            "text ('feel crank', 'generally feel hopeful', 'feel entertained diet come work magic bladder ready explode', 'feel like threaten see hot upper hand equation', 'feel shawshank give valuable insight human being discover influence compound effect manipulate environment desire outcome', 'happy feel peaceful feeling inspire', 'home feeling totally invigorated long doubt drive season', 'feel agitated n grumpy', 'think d think d find place situation feel uncertain scared lay ahead', 'feel acceptable', 'feel like perfect missionary teach not accept gospel fault shoulder case long strive good', 'feel restless lately', 'know come way time meet probably billion year later couldn help feel bitter', 'feel wrong bit bitter people condition', 'mon vent whine daughter alas hang feel homesick', 'know feel like past trust people feel like everytime trust somebody go let hurt', 'feel burdened tonight interrupt prayer ask pray foster care situation china specifically begin province child begin include', 'feel dissatisfied lately', 'feel valuable explain reason word', 'question feel maybe insecure person', 'lot old son m angry god father give want feel ve pretty faithful ve screw plenty', 'spend good time work garden feel dirty tired walk car carry garden tool', 'suffer drive home feeling like naughty tap dog collar', 'feel happy learn qualified grade', 'feel bit bitch today look free doesn concern read critic mamma ma', 'feel angry fight hard', 'feel disheartened reason need hug', 'feel carefree beg trouble listen', 'feel little uncomfortable take stuff desk dresser drawer go', 'realize feel crank haven exercise', 'feel like m watch scene movie lovely music scenery', 'feel thrilled great team fabulous challenge')\n",
            "label ('anger', 'joy', 'joy', 'fear', 'joy', 'joy', 'joy', 'fear', 'fear', 'joy', 'joy', 'fear', 'anger', 'anger', 'sadness', 'joy', 'sadness', 'anger', 'joy', 'fear', 'love', 'sadness', 'love', 'joy', 'anger', 'anger', 'sadness', 'joy', 'fear', 'anger', 'love', 'joy')\n",
            "batch size 32\n"
          ]
        }
      ]
    },
    {
      "cell_type": "code",
      "source": [],
      "metadata": {
        "id": "XPczT2XuFhaj"
      },
      "execution_count": null,
      "outputs": []
    }
  ]
}