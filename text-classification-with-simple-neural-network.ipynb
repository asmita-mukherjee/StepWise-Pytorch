{
 "cells": [
  {
   "cell_type": "markdown",
   "id": "b16614f1",
   "metadata": {
    "papermill": {
     "duration": 0.008766,
     "end_time": "2023-05-08T18:17:43.898082",
     "exception": false,
     "start_time": "2023-05-08T18:17:43.889316",
     "status": "completed"
    },
    "tags": []
   },
   "source": [
    "## Imports"
   ]
  },
  {
   "cell_type": "code",
   "execution_count": 1,
   "id": "4ccd5b1b",
   "metadata": {
    "execution": {
     "iopub.execute_input": "2023-05-08T18:17:43.916632Z",
     "iopub.status.busy": "2023-05-08T18:17:43.916261Z",
     "iopub.status.idle": "2023-05-08T18:17:43.926125Z",
     "shell.execute_reply": "2023-05-08T18:17:43.925335Z"
    },
    "papermill": {
     "duration": 0.021091,
     "end_time": "2023-05-08T18:17:43.927857",
     "exception": false,
     "start_time": "2023-05-08T18:17:43.906766",
     "status": "completed"
    },
    "tags": []
   },
   "outputs": [],
   "source": [
    "import pickle"
   ]
  },
  {
   "cell_type": "code",
   "execution_count": 2,
   "id": "2f63f9b5",
   "metadata": {
    "execution": {
     "iopub.execute_input": "2023-05-08T18:17:43.945574Z",
     "iopub.status.busy": "2023-05-08T18:17:43.945347Z",
     "iopub.status.idle": "2023-05-08T18:17:47.596467Z",
     "shell.execute_reply": "2023-05-08T18:17:47.595514Z"
    },
    "papermill": {
     "duration": 3.662989,
     "end_time": "2023-05-08T18:17:47.599119",
     "exception": false,
     "start_time": "2023-05-08T18:17:43.936130",
     "status": "completed"
    },
    "tags": []
   },
   "outputs": [],
   "source": [
    "import torch\n",
    "import torch.nn as nn"
   ]
  },
  {
   "cell_type": "code",
   "execution_count": 3,
   "id": "c88c865e",
   "metadata": {
    "execution": {
     "iopub.execute_input": "2023-05-08T18:17:47.619756Z",
     "iopub.status.busy": "2023-05-08T18:17:47.618673Z",
     "iopub.status.idle": "2023-05-08T18:17:47.623758Z",
     "shell.execute_reply": "2023-05-08T18:17:47.622965Z"
    },
    "papermill": {
     "duration": 0.016867,
     "end_time": "2023-05-08T18:17:47.625644",
     "exception": false,
     "start_time": "2023-05-08T18:17:47.608777",
     "status": "completed"
    },
    "tags": []
   },
   "outputs": [],
   "source": [
    "from torch.utils.data import Dataset\n",
    "from torch.utils.data import DataLoader"
   ]
  },
  {
   "cell_type": "code",
   "execution_count": 4,
   "id": "8e1a328c",
   "metadata": {
    "execution": {
     "iopub.execute_input": "2023-05-08T18:17:47.645203Z",
     "iopub.status.busy": "2023-05-08T18:17:47.644418Z",
     "iopub.status.idle": "2023-05-08T18:17:47.648896Z",
     "shell.execute_reply": "2023-05-08T18:17:47.648085Z"
    },
    "papermill": {
     "duration": 0.01617,
     "end_time": "2023-05-08T18:17:47.650634",
     "exception": false,
     "start_time": "2023-05-08T18:17:47.634464",
     "status": "completed"
    },
    "tags": []
   },
   "outputs": [],
   "source": [
    "import gc"
   ]
  },
  {
   "cell_type": "markdown",
   "id": "382fd898",
   "metadata": {
    "papermill": {
     "duration": 0.008785,
     "end_time": "2023-05-08T18:17:47.668106",
     "exception": false,
     "start_time": "2023-05-08T18:17:47.659321",
     "status": "completed"
    },
    "tags": []
   },
   "source": [
    "## Playground\n"
   ]
  },
  {
   "cell_type": "markdown",
   "id": "6ac1b4e5",
   "metadata": {
    "papermill": {
     "duration": 0.008627,
     "end_time": "2023-05-08T18:17:47.685531",
     "exception": false,
     "start_time": "2023-05-08T18:17:47.676904",
     "status": "completed"
    },
    "tags": []
   },
   "source": [
    "#### Trying out nn.Flatten"
   ]
  },
  {
   "cell_type": "code",
   "execution_count": 5,
   "id": "e507b4dd",
   "metadata": {
    "execution": {
     "iopub.execute_input": "2023-05-08T18:17:47.704192Z",
     "iopub.status.busy": "2023-05-08T18:17:47.703407Z",
     "iopub.status.idle": "2023-05-08T18:17:47.742682Z",
     "shell.execute_reply": "2023-05-08T18:17:47.741879Z"
    },
    "papermill": {
     "duration": 0.050644,
     "end_time": "2023-05-08T18:17:47.744495",
     "exception": false,
     "start_time": "2023-05-08T18:17:47.693851",
     "status": "completed"
    },
    "tags": []
   },
   "outputs": [
    {
     "data": {
      "text/plain": [
       "torch.Size([32, 50])"
      ]
     },
     "execution_count": 5,
     "metadata": {},
     "output_type": "execute_result"
    }
   ],
   "source": [
    "m = nn.Flatten()\n",
    "\n",
    "input = torch.randn(32,2,5,5)\n",
    "output = m(input) # flattens from the dim 1 to -1 i.e (2,5,5)\n",
    "\n",
    "output.size()\n"
   ]
  },
  {
   "cell_type": "code",
   "execution_count": 6,
   "id": "34c02c6a",
   "metadata": {
    "execution": {
     "iopub.execute_input": "2023-05-08T18:17:47.763721Z",
     "iopub.status.busy": "2023-05-08T18:17:47.763183Z",
     "iopub.status.idle": "2023-05-08T18:17:47.769615Z",
     "shell.execute_reply": "2023-05-08T18:17:47.768712Z"
    },
    "papermill": {
     "duration": 0.018342,
     "end_time": "2023-05-08T18:17:47.771430",
     "exception": false,
     "start_time": "2023-05-08T18:17:47.753088",
     "status": "completed"
    },
    "tags": []
   },
   "outputs": [
    {
     "data": {
      "text/plain": [
       "torch.Size([320, 5])"
      ]
     },
     "execution_count": 6,
     "metadata": {},
     "output_type": "execute_result"
    }
   ],
   "source": [
    "m = nn.Flatten(0,2)#flattens from the dim 0 to 2 (32,2,5)\n",
    "output = m(input)\n",
    "output.shape"
   ]
  },
  {
   "cell_type": "markdown",
   "id": "80e4a364",
   "metadata": {
    "papermill": {
     "duration": 0.009183,
     "end_time": "2023-05-08T18:17:47.789221",
     "exception": false,
     "start_time": "2023-05-08T18:17:47.780038",
     "status": "completed"
    },
    "tags": []
   },
   "source": [
    "Hence the flatten layer combines the elments along the axis start to end index"
   ]
  },
  {
   "cell_type": "markdown",
   "id": "0634d6ec",
   "metadata": {
    "papermill": {
     "duration": 0.00854,
     "end_time": "2023-05-08T18:17:47.806478",
     "exception": false,
     "start_time": "2023-05-08T18:17:47.797938",
     "status": "completed"
    },
    "tags": []
   },
   "source": [
    "### Set the device"
   ]
  },
  {
   "cell_type": "markdown",
   "id": "4a7d334a",
   "metadata": {
    "papermill": {
     "duration": 0.008578,
     "end_time": "2023-05-08T18:17:47.823655",
     "exception": false,
     "start_time": "2023-05-08T18:17:47.815077",
     "status": "completed"
    },
    "tags": []
   },
   "source": [
    "> This is the most important step!!"
   ]
  },
  {
   "cell_type": "code",
   "execution_count": 7,
   "id": "29cd50d1",
   "metadata": {
    "execution": {
     "iopub.execute_input": "2023-05-08T18:17:47.842326Z",
     "iopub.status.busy": "2023-05-08T18:17:47.842016Z",
     "iopub.status.idle": "2023-05-08T18:17:47.947009Z",
     "shell.execute_reply": "2023-05-08T18:17:47.946029Z"
    },
    "papermill": {
     "duration": 0.116604,
     "end_time": "2023-05-08T18:17:47.948714",
     "exception": false,
     "start_time": "2023-05-08T18:17:47.832110",
     "status": "completed"
    },
    "tags": []
   },
   "outputs": [],
   "source": [
    "device = \"cuda\" if torch.cuda.is_available() else \"cpu\""
   ]
  },
  {
   "cell_type": "markdown",
   "id": "23429c3e",
   "metadata": {
    "papermill": {
     "duration": 0.008689,
     "end_time": "2023-05-08T18:17:47.966324",
     "exception": false,
     "start_time": "2023-05-08T18:17:47.957635",
     "status": "completed"
    },
    "tags": []
   },
   "source": [
    "#### Load the tensors"
   ]
  },
  {
   "cell_type": "code",
   "execution_count": 8,
   "id": "7a1e52f1",
   "metadata": {
    "execution": {
     "iopub.execute_input": "2023-05-08T18:17:47.985172Z",
     "iopub.status.busy": "2023-05-08T18:17:47.984623Z",
     "iopub.status.idle": "2023-05-08T18:17:47.990585Z",
     "shell.execute_reply": "2023-05-08T18:17:47.989690Z"
    },
    "papermill": {
     "duration": 0.017783,
     "end_time": "2023-05-08T18:17:47.992563",
     "exception": false,
     "start_time": "2023-05-08T18:17:47.974780",
     "status": "completed"
    },
    "tags": []
   },
   "outputs": [],
   "source": [
    "def load_pickle(f_name):\n",
    "    with open(f_name,\"rb\") as f:\n",
    "        obj = pickle.load(f)\n",
    "    \n",
    "    return obj"
   ]
  },
  {
   "cell_type": "code",
   "execution_count": 9,
   "id": "c82a3e42",
   "metadata": {
    "execution": {
     "iopub.execute_input": "2023-05-08T18:17:48.012085Z",
     "iopub.status.busy": "2023-05-08T18:17:48.011768Z",
     "iopub.status.idle": "2023-05-08T18:18:19.260578Z",
     "shell.execute_reply": "2023-05-08T18:18:19.259610Z"
    },
    "papermill": {
     "duration": 31.261458,
     "end_time": "2023-05-08T18:18:19.262959",
     "exception": false,
     "start_time": "2023-05-08T18:17:48.001501",
     "status": "completed"
    },
    "tags": []
   },
   "outputs": [],
   "source": [
    "train_text_tensors = load_pickle(\"/kaggle/input/converting-text-to-tensors-ipynb/train_text_tensors.pkl\")"
   ]
  },
  {
   "cell_type": "code",
   "execution_count": 10,
   "id": "68ae8776",
   "metadata": {
    "execution": {
     "iopub.execute_input": "2023-05-08T18:18:19.284506Z",
     "iopub.status.busy": "2023-05-08T18:18:19.282892Z",
     "iopub.status.idle": "2023-05-08T18:18:27.137603Z",
     "shell.execute_reply": "2023-05-08T18:18:27.136695Z"
    },
    "papermill": {
     "duration": 7.867762,
     "end_time": "2023-05-08T18:18:27.140178",
     "exception": false,
     "start_time": "2023-05-08T18:18:19.272416",
     "status": "completed"
    },
    "tags": []
   },
   "outputs": [],
   "source": [
    "test_text_tensors = load_pickle(\"/kaggle/input/converting-text-to-tensors-ipynb/test_text_tensors.pkl\")"
   ]
  },
  {
   "cell_type": "code",
   "execution_count": 11,
   "id": "5caaa9fc",
   "metadata": {
    "execution": {
     "iopub.execute_input": "2023-05-08T18:18:27.159004Z",
     "iopub.status.busy": "2023-05-08T18:18:27.158703Z",
     "iopub.status.idle": "2023-05-08T18:18:27.176556Z",
     "shell.execute_reply": "2023-05-08T18:18:27.175741Z"
    },
    "papermill": {
     "duration": 0.029383,
     "end_time": "2023-05-08T18:18:27.178569",
     "exception": false,
     "start_time": "2023-05-08T18:18:27.149186",
     "status": "completed"
    },
    "tags": []
   },
   "outputs": [],
   "source": [
    "train_labels_tensors = load_pickle(\"/kaggle/input/converting-text-to-tensors-ipynb/train_labels_tensors\")"
   ]
  },
  {
   "cell_type": "code",
   "execution_count": 12,
   "id": "3c607ee9",
   "metadata": {
    "execution": {
     "iopub.execute_input": "2023-05-08T18:18:27.197095Z",
     "iopub.status.busy": "2023-05-08T18:18:27.196775Z",
     "iopub.status.idle": "2023-05-08T18:18:27.207483Z",
     "shell.execute_reply": "2023-05-08T18:18:27.206659Z"
    },
    "papermill": {
     "duration": 0.022294,
     "end_time": "2023-05-08T18:18:27.209547",
     "exception": false,
     "start_time": "2023-05-08T18:18:27.187253",
     "status": "completed"
    },
    "tags": []
   },
   "outputs": [],
   "source": [
    "test_labels_tensors = load_pickle(\"/kaggle/input/converting-text-to-tensors-ipynb/test_labels_tensors\")"
   ]
  },
  {
   "cell_type": "markdown",
   "id": "b8ebe6f2",
   "metadata": {
    "papermill": {
     "duration": 0.008913,
     "end_time": "2023-05-08T18:18:27.227531",
     "exception": false,
     "start_time": "2023-05-08T18:18:27.218618",
     "status": "completed"
    },
    "tags": []
   },
   "source": [
    "## Custom Dataset and DataLoaders"
   ]
  },
  {
   "cell_type": "code",
   "execution_count": 13,
   "id": "d94500cc",
   "metadata": {
    "execution": {
     "iopub.execute_input": "2023-05-08T18:18:27.246658Z",
     "iopub.status.busy": "2023-05-08T18:18:27.246384Z",
     "iopub.status.idle": "2023-05-08T18:18:27.251573Z",
     "shell.execute_reply": "2023-05-08T18:18:27.250652Z"
    },
    "papermill": {
     "duration": 0.016954,
     "end_time": "2023-05-08T18:18:27.253455",
     "exception": false,
     "start_time": "2023-05-08T18:18:27.236501",
     "status": "completed"
    },
    "tags": []
   },
   "outputs": [],
   "source": [
    "class TextLabelDataset(Dataset):\n",
    "    def __init__(self,text_tensor,label_tensor):\n",
    "        \n",
    "        self.text_tensor = text_tensor\n",
    "        self.label_tensor = label_tensor\n",
    "    \n",
    "    def __len__(self):\n",
    "        return len(self.text_tensor)\n",
    "    \n",
    "    def __getitem__(self,idx):\n",
    "        return self.text_tensor[idx],self.label_tensor[idx]"
   ]
  },
  {
   "cell_type": "code",
   "execution_count": 14,
   "id": "c6b572ad",
   "metadata": {
    "execution": {
     "iopub.execute_input": "2023-05-08T18:18:27.272107Z",
     "iopub.status.busy": "2023-05-08T18:18:27.271869Z",
     "iopub.status.idle": "2023-05-08T18:18:27.276543Z",
     "shell.execute_reply": "2023-05-08T18:18:27.275745Z"
    },
    "papermill": {
     "duration": 0.01589,
     "end_time": "2023-05-08T18:18:27.278336",
     "exception": false,
     "start_time": "2023-05-08T18:18:27.262446",
     "status": "completed"
    },
    "tags": []
   },
   "outputs": [],
   "source": [
    "train_dataset = TextLabelDataset(train_text_tensors,train_labels_tensors)"
   ]
  },
  {
   "cell_type": "code",
   "execution_count": 15,
   "id": "ba7b1de2",
   "metadata": {
    "execution": {
     "iopub.execute_input": "2023-05-08T18:18:27.297316Z",
     "iopub.status.busy": "2023-05-08T18:18:27.297035Z",
     "iopub.status.idle": "2023-05-08T18:18:27.302838Z",
     "shell.execute_reply": "2023-05-08T18:18:27.301992Z"
    },
    "papermill": {
     "duration": 0.017458,
     "end_time": "2023-05-08T18:18:27.304653",
     "exception": false,
     "start_time": "2023-05-08T18:18:27.287195",
     "status": "completed"
    },
    "tags": []
   },
   "outputs": [
    {
     "data": {
      "text/plain": [
       "<function gc.collect(generation=2)>"
      ]
     },
     "execution_count": 15,
     "metadata": {},
     "output_type": "execute_result"
    }
   ],
   "source": [
    "del train_text_tensors\n",
    "del train_labels_tensors\n",
    "gc.collect"
   ]
  },
  {
   "cell_type": "code",
   "execution_count": 16,
   "id": "7e11651c",
   "metadata": {
    "execution": {
     "iopub.execute_input": "2023-05-08T18:18:27.325065Z",
     "iopub.status.busy": "2023-05-08T18:18:27.324333Z",
     "iopub.status.idle": "2023-05-08T18:18:27.328959Z",
     "shell.execute_reply": "2023-05-08T18:18:27.328165Z"
    },
    "papermill": {
     "duration": 0.016671,
     "end_time": "2023-05-08T18:18:27.330846",
     "exception": false,
     "start_time": "2023-05-08T18:18:27.314175",
     "status": "completed"
    },
    "tags": []
   },
   "outputs": [],
   "source": [
    "test_dataset = TextLabelDataset(test_text_tensors,test_labels_tensors)"
   ]
  },
  {
   "cell_type": "code",
   "execution_count": 17,
   "id": "04b9dd41",
   "metadata": {
    "execution": {
     "iopub.execute_input": "2023-05-08T18:18:27.350339Z",
     "iopub.status.busy": "2023-05-08T18:18:27.350080Z",
     "iopub.status.idle": "2023-05-08T18:18:27.711701Z",
     "shell.execute_reply": "2023-05-08T18:18:27.709518Z"
    },
    "papermill": {
     "duration": 0.376297,
     "end_time": "2023-05-08T18:18:27.716442",
     "exception": false,
     "start_time": "2023-05-08T18:18:27.340145",
     "status": "completed"
    },
    "tags": []
   },
   "outputs": [
    {
     "data": {
      "text/plain": [
       "63"
      ]
     },
     "execution_count": 17,
     "metadata": {},
     "output_type": "execute_result"
    }
   ],
   "source": [
    "del test_text_tensors\n",
    "del test_labels_tensors\n",
    "gc.collect()"
   ]
  },
  {
   "cell_type": "code",
   "execution_count": 18,
   "id": "cb223a1f",
   "metadata": {
    "execution": {
     "iopub.execute_input": "2023-05-08T18:18:27.771633Z",
     "iopub.status.busy": "2023-05-08T18:18:27.771284Z",
     "iopub.status.idle": "2023-05-08T18:18:27.776607Z",
     "shell.execute_reply": "2023-05-08T18:18:27.775625Z"
    },
    "papermill": {
     "duration": 0.034007,
     "end_time": "2023-05-08T18:18:27.778700",
     "exception": false,
     "start_time": "2023-05-08T18:18:27.744693",
     "status": "completed"
    },
    "tags": []
   },
   "outputs": [],
   "source": [
    "#batch size of 32 is too large for kaggle mem, reducing it to 4\n",
    "#if you are reducing the size of batch , also reduce the learning rate! because sgd will update after each batch. and since now the batches are small,hence more frequent updates,hence the lr should be less\n",
    "train_loader = DataLoader(train_dataset,batch_size=4,shuffle=True)"
   ]
  },
  {
   "cell_type": "code",
   "execution_count": 19,
   "id": "ff5ec265",
   "metadata": {
    "execution": {
     "iopub.execute_input": "2023-05-08T18:18:27.798323Z",
     "iopub.status.busy": "2023-05-08T18:18:27.798065Z",
     "iopub.status.idle": "2023-05-08T18:18:27.945498Z",
     "shell.execute_reply": "2023-05-08T18:18:27.944547Z"
    },
    "papermill": {
     "duration": 0.159217,
     "end_time": "2023-05-08T18:18:27.947382",
     "exception": false,
     "start_time": "2023-05-08T18:18:27.788165",
     "status": "completed"
    },
    "tags": []
   },
   "outputs": [
    {
     "data": {
      "text/plain": [
       "0"
      ]
     },
     "execution_count": 19,
     "metadata": {},
     "output_type": "execute_result"
    }
   ],
   "source": [
    "del train_dataset\n",
    "gc.collect()"
   ]
  },
  {
   "cell_type": "code",
   "execution_count": 20,
   "id": "87795dca",
   "metadata": {
    "execution": {
     "iopub.execute_input": "2023-05-08T18:18:27.967281Z",
     "iopub.status.busy": "2023-05-08T18:18:27.966537Z",
     "iopub.status.idle": "2023-05-08T18:18:27.970984Z",
     "shell.execute_reply": "2023-05-08T18:18:27.970175Z"
    },
    "papermill": {
     "duration": 0.016198,
     "end_time": "2023-05-08T18:18:27.972851",
     "exception": false,
     "start_time": "2023-05-08T18:18:27.956653",
     "status": "completed"
    },
    "tags": []
   },
   "outputs": [],
   "source": [
    "test_loader = DataLoader(test_dataset,batch_size=4,shuffle=True)"
   ]
  },
  {
   "cell_type": "code",
   "execution_count": 21,
   "id": "a705cf52",
   "metadata": {
    "execution": {
     "iopub.execute_input": "2023-05-08T18:18:27.991522Z",
     "iopub.status.busy": "2023-05-08T18:18:27.991284Z",
     "iopub.status.idle": "2023-05-08T18:18:28.126074Z",
     "shell.execute_reply": "2023-05-08T18:18:28.125137Z"
    },
    "papermill": {
     "duration": 0.146573,
     "end_time": "2023-05-08T18:18:28.128108",
     "exception": false,
     "start_time": "2023-05-08T18:18:27.981535",
     "status": "completed"
    },
    "tags": []
   },
   "outputs": [
    {
     "data": {
      "text/plain": [
       "0"
      ]
     },
     "execution_count": 21,
     "metadata": {},
     "output_type": "execute_result"
    }
   ],
   "source": [
    "del test_dataset\n",
    "gc.collect()"
   ]
  },
  {
   "cell_type": "code",
   "execution_count": 22,
   "id": "e8e52404",
   "metadata": {
    "execution": {
     "iopub.execute_input": "2023-05-08T18:18:28.147391Z",
     "iopub.status.busy": "2023-05-08T18:18:28.147131Z",
     "iopub.status.idle": "2023-05-08T18:18:28.198186Z",
     "shell.execute_reply": "2023-05-08T18:18:28.196646Z"
    },
    "papermill": {
     "duration": 0.062904,
     "end_time": "2023-05-08T18:18:28.200223",
     "exception": false,
     "start_time": "2023-05-08T18:18:28.137319",
     "status": "completed"
    },
    "tags": []
   },
   "outputs": [
    {
     "name": "stdout",
     "output_type": "stream",
     "text": [
      "Shape of text tensor torch.Size([4, 16793])\n",
      "Shape of label tensor torch.Size([4, 3])\n"
     ]
    }
   ],
   "source": [
    "##having a sneak at one train batch\n",
    "\n",
    "for idx,data in enumerate(train_loader):\n",
    "    text_tensor,label_tensor = data\n",
    "    \n",
    "    print(f\"Shape of text tensor {text_tensor.shape}\")\n",
    "    print(f\"Shape of label tensor {label_tensor.shape}\")\n",
    "    break"
   ]
  },
  {
   "cell_type": "markdown",
   "id": "f51bb51a",
   "metadata": {
    "papermill": {
     "duration": 0.009085,
     "end_time": "2023-05-08T18:18:28.218673",
     "exception": false,
     "start_time": "2023-05-08T18:18:28.209588",
     "status": "completed"
    },
    "tags": []
   },
   "source": [
    "## Building a Custom Model using Model parallelism"
   ]
  },
  {
   "cell_type": "code",
   "execution_count": 23,
   "id": "c4da1835",
   "metadata": {
    "execution": {
     "iopub.execute_input": "2023-05-08T18:18:28.238061Z",
     "iopub.status.busy": "2023-05-08T18:18:28.237750Z",
     "iopub.status.idle": "2023-05-08T18:18:28.244809Z",
     "shell.execute_reply": "2023-05-08T18:18:28.243877Z"
    },
    "papermill": {
     "duration": 0.018983,
     "end_time": "2023-05-08T18:18:28.246792",
     "exception": false,
     "start_time": "2023-05-08T18:18:28.227809",
     "status": "completed"
    },
    "tags": []
   },
   "outputs": [],
   "source": [
    "class TextClassification(nn.Module):\n",
    "    \n",
    "    def __init__(self,vocab_size,embed_dim,hidden_dim):\n",
    "        \n",
    "        super().__init__()\n",
    "        \n",
    "        self.embed = nn.Embedding(vocab_size,hidden_dim,padding_idx=0) #output dim = batch_size*vocab_size*hidden_dim\n",
    "        \n",
    "        #now since our matrix has the embeddings of each word in the batch of the sentences and we need the embeddings of each sentence\n",
    "        #hence we can flatten the last 2 dim\n",
    "        self.flatten = nn.Flatten() # batch_size * (vocab_size*hidden_dim)\n",
    "        \n",
    "        self.gelu1 = nn.GELU()\n",
    "        self.linear = nn.Linear(vocab_size*hidden_dim,32) #output dim = batch_size*32\n",
    "        self.gelu2 = nn.GELU()\n",
    "        \n",
    "        \n",
    "        self.final = nn.Linear(32,3)#output dim = batch_size*3\n",
    " \n",
    "    def forward(self,text_tensor):\n",
    "        output = self.embed(text_tensor)\n",
    "        output = self.flatten(output)\n",
    "        output = self.gelu1(output)\n",
    "        output = self.linear(output)\n",
    "        output = self.gelu2(output)\n",
    "        output = self.final(output)\n",
    "        \n",
    "        return output"
   ]
  },
  {
   "cell_type": "markdown",
   "id": "e4ecde04",
   "metadata": {
    "papermill": {
     "duration": 0.009585,
     "end_time": "2023-05-08T18:18:28.265800",
     "exception": false,
     "start_time": "2023-05-08T18:18:28.256215",
     "status": "completed"
    },
    "tags": []
   },
   "source": [
    "### Okay then! we can proceed with writing the training loop"
   ]
  },
  {
   "cell_type": "markdown",
   "id": "c535971b",
   "metadata": {
    "papermill": {
     "duration": 0.009346,
     "end_time": "2023-05-08T18:18:28.285118",
     "exception": false,
     "start_time": "2023-05-08T18:18:28.275772",
     "status": "completed"
    },
    "tags": []
   },
   "source": [
    "##### But wait a min!! we still have bunch of things left to do"
   ]
  },
  {
   "cell_type": "markdown",
   "id": "45dda110",
   "metadata": {
    "papermill": {
     "duration": 0.009335,
     "end_time": "2023-05-08T18:18:28.304184",
     "exception": false,
     "start_time": "2023-05-08T18:18:28.294849",
     "status": "completed"
    },
    "tags": []
   },
   "source": [
    "### Set the model to the current device i.e cpu or gpu\n",
    "\n",
    "> note: we have already set the input tensors to the device"
   ]
  },
  {
   "cell_type": "markdown",
   "id": "6080b290",
   "metadata": {
    "papermill": {
     "duration": 0.008953,
     "end_time": "2023-05-08T18:18:28.322670",
     "exception": false,
     "start_time": "2023-05-08T18:18:28.313717",
     "status": "completed"
    },
    "tags": []
   },
   "source": [
    "Check the length of the vocab "
   ]
  },
  {
   "cell_type": "code",
   "execution_count": 24,
   "id": "faa3caf6",
   "metadata": {
    "execution": {
     "iopub.execute_input": "2023-05-08T18:18:28.342438Z",
     "iopub.status.busy": "2023-05-08T18:18:28.342136Z",
     "iopub.status.idle": "2023-05-08T18:18:29.381479Z",
     "shell.execute_reply": "2023-05-08T18:18:29.380518Z"
    },
    "papermill": {
     "duration": 1.051882,
     "end_time": "2023-05-08T18:18:29.384034",
     "exception": false,
     "start_time": "2023-05-08T18:18:28.332152",
     "status": "completed"
    },
    "tags": []
   },
   "outputs": [],
   "source": [
    "vocab = load_pickle(\"/kaggle/input/converting-text-to-tensors-ipynb/vocab.pkl\")\n",
    "vocab_len = len(vocab)"
   ]
  },
  {
   "cell_type": "code",
   "execution_count": 25,
   "id": "aa6de391",
   "metadata": {
    "execution": {
     "iopub.execute_input": "2023-05-08T18:18:29.405851Z",
     "iopub.status.busy": "2023-05-08T18:18:29.405263Z",
     "iopub.status.idle": "2023-05-08T18:18:33.589150Z",
     "shell.execute_reply": "2023-05-08T18:18:33.587865Z"
    },
    "papermill": {
     "duration": 4.19723,
     "end_time": "2023-05-08T18:18:33.591515",
     "exception": false,
     "start_time": "2023-05-08T18:18:29.394285",
     "status": "completed"
    },
    "tags": []
   },
   "outputs": [],
   "source": [
    "model = TextClassification(vocab_size = vocab_len,embed_dim=512,hidden_dim=128)\n",
    "model = model.to(device)\n"
   ]
  },
  {
   "cell_type": "markdown",
   "id": "9fdc2719",
   "metadata": {
    "papermill": {
     "duration": 0.009376,
     "end_time": "2023-05-08T18:18:33.610786",
     "exception": false,
     "start_time": "2023-05-08T18:18:33.601410",
     "status": "completed"
    },
    "tags": []
   },
   "source": [
    "# Set the loss function:\n",
    "\n",
    "Since we are dealing with a classification problem here , we will use cross entopy loss function\n",
    "which basically calculates the entropy between the probability distribuition which is outputed by the model and the gold probability distribuition.\n",
    "\n",
    "The more similar the probability distribution the less will the entropy i.e the loss\n",
    "\n",
    "> Foumula for binary classification for a single instance\n",
    "loss = -(p(gold output)*log(p(predicted output)) - (1-p(gold output))*log(1-p(predicted output)))\n",
    "\n",
    "> The above can be be generalized for multiple classes\n",
    "loss = -sum for each class(p(gold output)*log(p(predicted output)))\n"
   ]
  },
  {
   "cell_type": "code",
   "execution_count": 26,
   "id": "966dcb25",
   "metadata": {
    "execution": {
     "iopub.execute_input": "2023-05-08T18:18:33.631284Z",
     "iopub.status.busy": "2023-05-08T18:18:33.630455Z",
     "iopub.status.idle": "2023-05-08T18:18:33.635137Z",
     "shell.execute_reply": "2023-05-08T18:18:33.634215Z"
    },
    "papermill": {
     "duration": 0.017255,
     "end_time": "2023-05-08T18:18:33.637329",
     "exception": false,
     "start_time": "2023-05-08T18:18:33.620074",
     "status": "completed"
    },
    "tags": []
   },
   "outputs": [],
   "source": [
    "loss_fn = nn.CrossEntropyLoss()"
   ]
  },
  {
   "cell_type": "markdown",
   "id": "aa19c1b1",
   "metadata": {
    "papermill": {
     "duration": 0.00922,
     "end_time": "2023-05-08T18:18:33.656301",
     "exception": false,
     "start_time": "2023-05-08T18:18:33.647081",
     "status": "completed"
    },
    "tags": []
   },
   "source": [
    "# Set the optimizer\n",
    "\n",
    "The optimizer decides how the gradient will be updated in backpropagation.Some of the commonly known optimizers are :\n",
    "\n",
    "> 1) SGD : This is the same as mini batch gradient descent .w_new = W_old - grad_of_loss_wrt_w\n",
    "\n",
    "> 2) SGD with momentum : Now SGD can get stuck it local minima,this borrows the intuition of momentum in physics, where the momentum due to previous gradient updates can push the parameter out of its local minima and lead towards global minima.  w_new = W_old + momentum, where momentum = function(grad_wrt_w_old, previous momentum)\n",
    "\n",
    "> 3) Adagrad : Often times, using only momentum might be slow, as the gradients of many paprameters might tend to zero and not contirbute to gradient descent. Here we maintain the sums of squares of gradient and divide the learning rate of each paramater by the square root of the accualted sums of gradients for that particular parameter. Hence unlike momentum , different parameters will have different learning rates , which is better.\n",
    "\n",
    "> 4) RMSProp : Since Adagrad uses squares of gradients, it can accumulate gradients too quickly and thus cause the learning rates to drop too rapidly. RMSProp thus handles the problem of Adagrad.\n",
    "\n",
    "> 5) Adam : Adam basically combines the adavantages of momentum and rmsProp. With momentum it acheives the speed of convergence and with rmsprop every parameter gets to have its own learning rate.\n"
   ]
  },
  {
   "cell_type": "code",
   "execution_count": 27,
   "id": "db4c320b",
   "metadata": {
    "execution": {
     "iopub.execute_input": "2023-05-08T18:18:33.675329Z",
     "iopub.status.busy": "2023-05-08T18:18:33.675054Z",
     "iopub.status.idle": "2023-05-08T18:18:33.679478Z",
     "shell.execute_reply": "2023-05-08T18:18:33.678492Z"
    },
    "papermill": {
     "duration": 0.016046,
     "end_time": "2023-05-08T18:18:33.681344",
     "exception": false,
     "start_time": "2023-05-08T18:18:33.665298",
     "status": "completed"
    },
    "tags": []
   },
   "outputs": [],
   "source": [
    "#setting sgd with momentum\n",
    "optimizer = torch.optim.SGD(model.parameters(),lr=0.0001,momentum=0.9)\n"
   ]
  },
  {
   "cell_type": "code",
   "execution_count": 28,
   "id": "83abbd5f",
   "metadata": {
    "execution": {
     "iopub.execute_input": "2023-05-08T18:18:33.700584Z",
     "iopub.status.busy": "2023-05-08T18:18:33.700349Z",
     "iopub.status.idle": "2023-05-08T18:18:33.708471Z",
     "shell.execute_reply": "2023-05-08T18:18:33.707646Z"
    },
    "papermill": {
     "duration": 0.019978,
     "end_time": "2023-05-08T18:18:33.710390",
     "exception": false,
     "start_time": "2023-05-08T18:18:33.690412",
     "status": "completed"
    },
    "tags": []
   },
   "outputs": [],
   "source": [
    "def training_for_one_epoch(dataloader,epoch_nos):\n",
    "    '''\n",
    "        One epoch will do forward pass and backward pass for the model for the entire dataset for one iteration.\n",
    "        For convergence, we would have do forward and backward pass multiple times for the dataset\n",
    "\n",
    "    '''\n",
    "    loss_for_the_epoch = 0\n",
    "    \n",
    "    #iterate through the dataset in batches, i.e we will at a time load the chuncks(of size = batch size) of dataset\n",
    "    for idx,data in enumerate(dataloader):\n",
    "        \n",
    "        input_tensors,label_tensors = data\n",
    "        \n",
    "        input_tensors = input_tensors.to(device)\n",
    "        label_tensors = label_tensors.to(device)\n",
    "        \n",
    "        #embedding layer needs the input to be of int\n",
    "        input_tensors = input_tensors.to(torch.int)\n",
    "        \n",
    "        #label tensor required by the loss function is to be float\n",
    "        label_tensors = label_tensors.to(torch.float)\n",
    "        \n",
    "        #refer to the notebook on autograd in the repository and recall how we calculate gradients.\n",
    "        #optimizer will store the .grad value of all the parameters, hence at the start of our iteration, we will set the grads to 0\n",
    "        #this is important, as we do not want to accumulate the gradients for each batch.\n",
    "        #since we are doing sgd, we will update the gradients(via backprop) at the end of each batch and clear the gradients at the begining of each batch\n",
    "        \n",
    "        optimizer.zero_grad()\n",
    "        \n",
    "        #get the ouput of the model by doing forward pass\n",
    "        model_output = model(input_tensors)\n",
    "        \n",
    "        #compute the loss\n",
    "        loss = loss_fn(model_output,label_tensors)\n",
    "        \n",
    "        #now that we have the loss!, we would want to update all the parameters of our model by backprop\n",
    "        #and recall this step from the autograd notebook as well\n",
    "        #hence this step will calculate and update the .grad values of all the parameters in our model\n",
    "        loss.backward()\n",
    "        \n",
    "        \n",
    "        #and now that we have the gradient values of all our parameter, we would do gradient descent for the parameters. i.e upate the parameter values\n",
    "        optimizer.step()\n",
    "        \n",
    "        loss_for_the_epoch += loss.item() \n",
    "        \n",
    "        #print the loss for every 500th batch\n",
    "        if idx % 1000 == 999:\n",
    "            curr_loss = loss_for_the_epoch/1000 # loss per batch\n",
    "            print('  batch {} loss: {}'.format(idx + 1, curr_loss))\n",
    "    \n",
    "    \n",
    "    return loss_for_the_epoch/len(dataloader)\n",
    "        \n",
    "        \n",
    "        \n",
    "    "
   ]
  },
  {
   "cell_type": "markdown",
   "id": "121a7d48",
   "metadata": {
    "papermill": {
     "duration": 0.009513,
     "end_time": "2023-05-08T18:18:33.729138",
     "exception": false,
     "start_time": "2023-05-08T18:18:33.719625",
     "status": "completed"
    },
    "tags": []
   },
   "source": [
    "Code for Validation"
   ]
  },
  {
   "cell_type": "code",
   "execution_count": 29,
   "id": "0174599b",
   "metadata": {
    "execution": {
     "iopub.execute_input": "2023-05-08T18:18:33.750465Z",
     "iopub.status.busy": "2023-05-08T18:18:33.750189Z",
     "iopub.status.idle": "2023-05-08T18:18:33.755954Z",
     "shell.execute_reply": "2023-05-08T18:18:33.754887Z"
    },
    "papermill": {
     "duration": 0.01852,
     "end_time": "2023-05-08T18:18:33.757849",
     "exception": false,
     "start_time": "2023-05-08T18:18:33.739329",
     "status": "completed"
    },
    "tags": []
   },
   "outputs": [],
   "source": [
    "def validate(dataloader):\n",
    "    \n",
    "    running_loss = 0\n",
    "    \n",
    "    for idx,data in enumerate(dataloader):\n",
    "        input_tensor,label = data\n",
    "        \n",
    "        input_tensor = input_tensor.to(device)\n",
    "        label = label.to(device)\n",
    "        \n",
    "        #setting the datatype of the tensors that the model expects. Certain layers say embedding layer, requires the tensor to be of a specific datatype\n",
    "        #embedding layer needs the input to be of int\n",
    "        input_tensor = input_tensor.to(torch.int)\n",
    "        #label tensor required by the loss function is to be float as it expects logits\n",
    "        label = label.to(torch.float)\n",
    "        output = model(input_tensor)\n",
    "        \n",
    "        loss = loss_fn(output,label)\n",
    "        \n",
    "        #Hey! if you simply add loss and not loss.item() this causes a mem leak as the memory cannot be freed for the the next batch!\n",
    "        running_loss += loss.item()\n",
    "    \n",
    "    return running_loss/len(dataloader)"
   ]
  },
  {
   "cell_type": "markdown",
   "id": "ab144bed",
   "metadata": {
    "papermill": {
     "duration": 0.009341,
     "end_time": "2023-05-08T18:18:33.776718",
     "exception": false,
     "start_time": "2023-05-08T18:18:33.767377",
     "status": "completed"
    },
    "tags": []
   },
   "source": [
    "## Wuhunn!! now we can actually train our model"
   ]
  },
  {
   "cell_type": "markdown",
   "id": "78672c1c",
   "metadata": {
    "papermill": {
     "duration": 0.01033,
     "end_time": "2023-05-08T18:18:33.796638",
     "exception": false,
     "start_time": "2023-05-08T18:18:33.786308",
     "status": "completed"
    },
    "tags": []
   },
   "source": [
    "lets have a sneak whether it actually works\n"
   ]
  },
  {
   "cell_type": "code",
   "execution_count": 30,
   "id": "75b4b29c",
   "metadata": {
    "execution": {
     "iopub.execute_input": "2023-05-08T18:18:33.818397Z",
     "iopub.status.busy": "2023-05-08T18:18:33.817478Z",
     "iopub.status.idle": "2023-05-08T18:18:36.054456Z",
     "shell.execute_reply": "2023-05-08T18:18:36.053420Z"
    },
    "papermill": {
     "duration": 2.250505,
     "end_time": "2023-05-08T18:18:36.057172",
     "exception": false,
     "start_time": "2023-05-08T18:18:33.806667",
     "status": "completed"
    },
    "tags": []
   },
   "outputs": [
    {
     "name": "stdout",
     "output_type": "stream",
     "text": [
      "tensor([[0.0813, 0.0543, 0.0033],\n",
      "        [0.0815, 0.0485, 0.0060],\n",
      "        [0.0819, 0.0523, 0.0058],\n",
      "        [0.0829, 0.0458, 0.0073]], device='cuda:0', grad_fn=<AddmmBackward0>)\n",
      "Loss 1.0819886922836304\n"
     ]
    }
   ],
   "source": [
    "## test forward pass for one batch\n",
    "##having a sneak at one train batch\n",
    "\n",
    "for idx,data in enumerate(train_loader):\n",
    "    text_tensor,label = data\n",
    "    \n",
    "    text_tensor = text_tensor.to(device)\n",
    "    label = label.to(device)\n",
    "    \n",
    "    text_tensor = text_tensor.to(torch.int)\n",
    "    label = label.to(torch.float)\n",
    "    output = model(text_tensor)\n",
    "    print(output)\n",
    "    loss_val = loss_fn(output,label)\n",
    "    \n",
    "    print(\"Loss\",loss_val.item())\n",
    "    break"
   ]
  },
  {
   "cell_type": "code",
   "execution_count": 31,
   "id": "49ff631a",
   "metadata": {
    "execution": {
     "iopub.execute_input": "2023-05-08T18:18:36.077143Z",
     "iopub.status.busy": "2023-05-08T18:18:36.076363Z",
     "iopub.status.idle": "2023-05-08T18:18:36.080776Z",
     "shell.execute_reply": "2023-05-08T18:18:36.080003Z"
    },
    "papermill": {
     "duration": 0.016139,
     "end_time": "2023-05-08T18:18:36.082578",
     "exception": false,
     "start_time": "2023-05-08T18:18:36.066439",
     "status": "completed"
    },
    "tags": []
   },
   "outputs": [],
   "source": [
    "from datetime import datetime"
   ]
  },
  {
   "cell_type": "code",
   "execution_count": 32,
   "id": "834ca1ca",
   "metadata": {
    "execution": {
     "iopub.execute_input": "2023-05-08T18:18:36.101933Z",
     "iopub.status.busy": "2023-05-08T18:18:36.101142Z",
     "iopub.status.idle": "2023-05-08T18:18:36.105577Z",
     "shell.execute_reply": "2023-05-08T18:18:36.104718Z"
    },
    "papermill": {
     "duration": 0.015929,
     "end_time": "2023-05-08T18:18:36.107366",
     "exception": false,
     "start_time": "2023-05-08T18:18:36.091437",
     "status": "completed"
    },
    "tags": []
   },
   "outputs": [],
   "source": [
    "from tqdm.notebook import tqdm"
   ]
  },
  {
   "cell_type": "code",
   "execution_count": 33,
   "id": "f3c2d485",
   "metadata": {
    "execution": {
     "iopub.execute_input": "2023-05-08T18:18:36.126937Z",
     "iopub.status.busy": "2023-05-08T18:18:36.126078Z",
     "iopub.status.idle": "2023-05-08T22:31:51.429794Z",
     "shell.execute_reply": "2023-05-08T22:31:51.428737Z"
    },
    "papermill": {
     "duration": 15195.315498,
     "end_time": "2023-05-08T22:31:51.431848",
     "exception": false,
     "start_time": "2023-05-08T18:18:36.116350",
     "status": "completed"
    },
    "tags": []
   },
   "outputs": [
    {
     "data": {
      "application/vnd.jupyter.widget-view+json": {
       "model_id": "07bd2d823a1f4c0fa54105d83c26d37a",
       "version_major": 2,
       "version_minor": 0
      },
      "text/plain": [
       "  0%|          | 0/50 [00:00<?, ?it/s]"
      ]
     },
     "metadata": {},
     "output_type": "display_data"
    },
    {
     "name": "stdout",
     "output_type": "stream",
     "text": [
      "The Epoch number 1\n",
      "  batch 1000 loss: 1.0660855302214622\n",
      "  batch 2000 loss: 2.114125219464302\n",
      "  batch 3000 loss: 3.1636332222819328\n",
      "  batch 4000 loss: 4.210202537596226\n",
      "  batch 5000 loss: 5.249041060864926\n",
      "  batch 6000 loss: 6.276072546362877\n",
      "  batch 7000 loss: 7.309770360469818\n",
      "  batch 8000 loss: 8.337427041888237\n",
      "  batch 9000 loss: 9.35395716804266\n",
      "  batch 10000 loss: 10.378794834196567\n",
      "  batch 11000 loss: 11.397775155723094\n",
      "  batch 12000 loss: 12.411666133344173\n",
      "  batch 13000 loss: 13.404989504933358\n",
      "  batch 14000 loss: 14.39107644289732\n",
      "  batch 15000 loss: 15.378611477226018\n",
      "  batch 16000 loss: 16.35961835345626\n",
      "  batch 17000 loss: 17.338641578912735\n",
      "Validation loss for the epoch 0.9706103516676603\n",
      "Time take by the epoch 1 is 0:05:04.565185\n",
      "The Epoch number 2\n",
      "  batch 1000 loss: 0.9431188066005707\n",
      "  batch 2000 loss: 1.9043447607457638\n",
      "  batch 3000 loss: 2.8614585027098656\n",
      "  batch 4000 loss: 3.806080325126648\n",
      "  batch 5000 loss: 4.75023053741455\n",
      "  batch 6000 loss: 5.6938894682228565\n",
      "  batch 7000 loss: 6.627761617213488\n",
      "  batch 8000 loss: 7.573408653646707\n",
      "  batch 9000 loss: 8.504691408604383\n",
      "  batch 10000 loss: 9.443617068618536\n",
      "  batch 11000 loss: 10.377073073923588\n",
      "  batch 12000 loss: 11.293166906893253\n",
      "  batch 13000 loss: 12.217621504038572\n",
      "  batch 14000 loss: 13.134022613078356\n",
      "  batch 15000 loss: 14.057129316747188\n",
      "  batch 16000 loss: 14.983284633606672\n",
      "  batch 17000 loss: 15.884426710247993\n",
      "Validation loss for the epoch 0.9288897667874559\n",
      "Time take by the epoch 2 is 0:05:04.565444\n",
      "The Epoch number 3\n",
      "  batch 1000 loss: 0.8838898040056229\n",
      "  batch 2000 loss: 1.777595064252615\n",
      "  batch 3000 loss: 2.664706699639559\n",
      "  batch 4000 loss: 3.5720365650951864\n",
      "  batch 5000 loss: 4.456960002481938\n",
      "  batch 6000 loss: 5.355594251334667\n",
      "  batch 7000 loss: 6.252725182890892\n",
      "  batch 8000 loss: 7.129483457922936\n",
      "  batch 9000 loss: 8.02041045886278\n",
      "  batch 10000 loss: 8.906817133024335\n",
      "  batch 11000 loss: 9.788688289061188\n",
      "  batch 12000 loss: 10.686414018034935\n",
      "  batch 13000 loss: 11.573195090174675\n",
      "  batch 14000 loss: 12.452662691742182\n",
      "  batch 15000 loss: 13.335380507290363\n",
      "  batch 16000 loss: 14.23007935088873\n",
      "  batch 17000 loss: 15.109101413518191\n",
      "Validation loss for the epoch 0.8973334110923099\n",
      "Time take by the epoch 3 is 0:05:04.253356\n",
      "The Epoch number 4\n",
      "  batch 1000 loss: 0.8571349649429322\n",
      "  batch 2000 loss: 1.7091466758549214\n",
      "  batch 3000 loss: 2.572783372566104\n",
      "  batch 4000 loss: 3.423363821193576\n",
      "  batch 5000 loss: 4.291876738682389\n",
      "  batch 6000 loss: 5.153561081454158\n",
      "  batch 7000 loss: 6.0246352963596586\n",
      "  batch 8000 loss: 6.879318071514368\n",
      "  batch 9000 loss: 7.739455139994622\n",
      "  batch 10000 loss: 8.613318364858626\n",
      "  batch 11000 loss: 9.480133270144462\n",
      "  batch 12000 loss: 10.324519930422307\n",
      "  batch 13000 loss: 11.173550382897258\n",
      "  batch 14000 loss: 12.040177151337266\n",
      "  batch 15000 loss: 12.890941256463528\n",
      "  batch 16000 loss: 13.744597677096724\n",
      "  batch 17000 loss: 14.59865647187829\n",
      "Validation loss for the epoch 0.8862230101892258\n",
      "Time take by the epoch 4 is 0:05:04.283592\n",
      "The Epoch number 5\n",
      "  batch 1000 loss: 0.8205640629380941\n",
      "  batch 2000 loss: 1.6456188628524542\n",
      "  batch 3000 loss: 2.4764896107017993\n",
      "  batch 4000 loss: 3.3092522207796575\n",
      "  batch 5000 loss: 4.137478539600968\n",
      "  batch 6000 loss: 4.9790516932308675\n",
      "  batch 7000 loss: 5.815567190214992\n",
      "  batch 8000 loss: 6.647261280938983\n",
      "  batch 9000 loss: 7.490074237942696\n",
      "  batch 10000 loss: 8.319799520686269\n",
      "  batch 11000 loss: 9.148393191576004\n",
      "  batch 12000 loss: 9.989579231366514\n",
      "  batch 13000 loss: 10.815500384896994\n",
      "  batch 14000 loss: 11.64374160437286\n",
      "  batch 15000 loss: 12.469547148033977\n",
      "  batch 16000 loss: 13.31105781251192\n",
      "  batch 17000 loss: 14.121109798237681\n",
      "Validation loss for the epoch 0.8630412573766366\n",
      "Time take by the epoch 5 is 0:05:04.441191\n",
      "The Epoch number 6\n",
      "  batch 1000 loss: 0.8071897278130055\n",
      "  batch 2000 loss: 1.6196776808053255\n",
      "  batch 3000 loss: 2.42142022536695\n",
      "  batch 4000 loss: 3.213965492874384\n",
      "  batch 5000 loss: 4.0267388375476\n",
      "  batch 6000 loss: 4.823793143734336\n",
      "  batch 7000 loss: 5.627797336831689\n",
      "  batch 8000 loss: 6.435373553171754\n",
      "  batch 9000 loss: 7.237159708499909\n",
      "  batch 10000 loss: 8.047120613388717\n",
      "  batch 11000 loss: 8.842734575666487\n",
      "  batch 12000 loss: 9.654370470769704\n",
      "  batch 13000 loss: 10.451864703945816\n",
      "  batch 14000 loss: 11.254210153155029\n",
      "  batch 15000 loss: 12.062234290339052\n",
      "  batch 16000 loss: 12.846017574302852\n",
      "  batch 17000 loss: 13.627417747370899\n",
      "Validation loss for the epoch 0.8417197389355217\n",
      "Time take by the epoch 6 is 0:05:03.887842\n",
      "The Epoch number 7\n",
      "  batch 1000 loss: 0.7738237015604973\n",
      "  batch 2000 loss: 1.5520382890105247\n",
      "  batch 3000 loss: 2.3196900754272938\n",
      "  batch 4000 loss: 3.1093418776243924\n",
      "  batch 5000 loss: 3.8746102337390185\n",
      "  batch 6000 loss: 4.644208358705044\n",
      "  batch 7000 loss: 5.400863487660885\n",
      "  batch 8000 loss: 6.159346545532346\n",
      "  batch 9000 loss: 6.9360638270303605\n",
      "  batch 10000 loss: 7.7142653046920895\n",
      "  batch 11000 loss: 8.49762645340711\n",
      "  batch 12000 loss: 9.268983770035208\n",
      "  batch 13000 loss: 10.051412017650902\n",
      "  batch 14000 loss: 10.836803761698306\n",
      "  batch 15000 loss: 11.59977511011064\n",
      "  batch 16000 loss: 12.352090912304819\n",
      "  batch 17000 loss: 13.117864600382745\n",
      "Validation loss for the epoch 0.8248822875571047\n",
      "Time take by the epoch 7 is 0:05:03.657281\n",
      "The Epoch number 8\n",
      "  batch 1000 loss: 0.7148397721350193\n",
      "  batch 2000 loss: 1.4501796803548932\n",
      "  batch 3000 loss: 2.186916711971164\n",
      "  batch 4000 loss: 2.9305077383741738\n",
      "  batch 5000 loss: 3.6652511096447706\n",
      "  batch 6000 loss: 4.402041887551546\n",
      "  batch 7000 loss: 5.142041578866541\n",
      "  batch 8000 loss: 5.888450104512274\n",
      "  batch 9000 loss: 6.6359549022838475\n",
      "  batch 10000 loss: 7.368847087278962\n",
      "  batch 11000 loss: 8.12041646783799\n",
      "  batch 12000 loss: 8.874405046485364\n",
      "  batch 13000 loss: 9.639296079389752\n",
      "  batch 14000 loss: 10.392347441069782\n",
      "  batch 15000 loss: 11.149510206207633\n",
      "  batch 16000 loss: 11.88077673112601\n",
      "  batch 17000 loss: 12.615492882620543\n",
      "Validation loss for the epoch 0.804185976939542\n",
      "Time take by the epoch 8 is 0:05:03.732248\n",
      "The Epoch number 9\n",
      "  batch 1000 loss: 0.7163438942506909\n",
      "  batch 2000 loss: 1.4193963026478886\n",
      "  batch 3000 loss: 2.1438702357560397\n",
      "  batch 4000 loss: 2.8507684486880898\n",
      "  batch 5000 loss: 3.566086795404553\n",
      "  batch 6000 loss: 4.278140919327736\n",
      "  batch 7000 loss: 4.992773838207126\n",
      "  batch 8000 loss: 5.714864169426263\n",
      "  batch 9000 loss: 6.405005811437965\n",
      "  batch 10000 loss: 7.119667361058295\n",
      "  batch 11000 loss: 7.8333956920057535\n",
      "  batch 12000 loss: 8.539894805900753\n",
      "  batch 13000 loss: 9.24916183527559\n",
      "  batch 14000 loss: 9.964542854428291\n",
      "  batch 15000 loss: 10.697188628599047\n",
      "  batch 16000 loss: 11.395358136922122\n",
      "  batch 17000 loss: 12.100504541873931\n",
      "Validation loss for the epoch 0.7890520817232535\n",
      "Time take by the epoch 9 is 0:05:03.669022\n",
      "The Epoch number 10\n",
      "  batch 1000 loss: 0.6592209185119718\n",
      "  batch 2000 loss: 1.332511211855337\n",
      "  batch 3000 loss: 2.0229965194445105\n",
      "  batch 4000 loss: 2.699728384779766\n",
      "  batch 5000 loss: 3.375774123908952\n",
      "  batch 6000 loss: 4.065641112932935\n",
      "  batch 7000 loss: 4.724981389438733\n",
      "  batch 8000 loss: 5.41425904291682\n",
      "  batch 9000 loss: 6.09883282010071\n",
      "  batch 10000 loss: 6.792949512442574\n",
      "  batch 11000 loss: 7.464797895899043\n",
      "  batch 12000 loss: 8.138963198041543\n",
      "  batch 13000 loss: 8.809834042137489\n",
      "  batch 14000 loss: 9.493151230840013\n",
      "  batch 15000 loss: 10.181219048349186\n",
      "  batch 16000 loss: 10.89289347874932\n",
      "  batch 17000 loss: 11.585310143610462\n",
      "Validation loss for the epoch 0.7726448769481694\n",
      "Time take by the epoch 10 is 0:05:03.641161\n",
      "The Epoch number 11\n",
      "  batch 1000 loss: 0.6503880752883852\n",
      "  batch 2000 loss: 1.2953480486832558\n",
      "  batch 3000 loss: 1.9293640457056462\n",
      "  batch 4000 loss: 2.5851889136508106\n",
      "  batch 5000 loss: 3.230543455462903\n",
      "  batch 6000 loss: 3.8930753640197215\n",
      "  batch 7000 loss: 4.537690431360155\n",
      "  batch 8000 loss: 5.18409451630339\n",
      "  batch 9000 loss: 5.8459839217625555\n",
      "  batch 10000 loss: 6.500714900244027\n",
      "  batch 11000 loss: 7.17854865032062\n",
      "  batch 12000 loss: 7.823413429733366\n",
      "  batch 13000 loss: 8.4803449662067\n",
      "  batch 14000 loss: 9.118743150368333\n",
      "  batch 15000 loss: 9.769680211760104\n",
      "  batch 16000 loss: 10.429484077759087\n",
      "  batch 17000 loss: 11.083400129452349\n",
      "Validation loss for the epoch 0.7584619233067746\n",
      "Time take by the epoch 11 is 0:05:03.665397\n",
      "The Epoch number 12\n",
      "  batch 1000 loss: 0.6003746138289571\n",
      "  batch 2000 loss: 1.1931669291444122\n",
      "  batch 3000 loss: 1.813618362415582\n",
      "  batch 4000 loss: 2.4322372799776493\n",
      "  batch 5000 loss: 3.074371224252507\n",
      "  batch 6000 loss: 3.686911827823147\n",
      "  batch 7000 loss: 4.31079217395559\n",
      "  batch 8000 loss: 4.9305088200047615\n",
      "  batch 9000 loss: 5.549982542399317\n",
      "  batch 10000 loss: 6.164027285149321\n",
      "  batch 11000 loss: 6.798338439328596\n",
      "  batch 12000 loss: 7.421048776920885\n",
      "  batch 13000 loss: 8.047733830507845\n",
      "  batch 14000 loss: 8.666551025930792\n",
      "  batch 15000 loss: 9.300731846336275\n",
      "  batch 16000 loss: 9.946756362441928\n",
      "  batch 17000 loss: 10.579720602992921\n",
      "Validation loss for the epoch 0.7494193922433313\n",
      "Time take by the epoch 12 is 0:05:03.763354\n",
      "The Epoch number 13\n",
      "  batch 1000 loss: 0.5966633880361915\n",
      "  batch 2000 loss: 1.167774133399129\n",
      "  batch 3000 loss: 1.7678425415735692\n",
      "  batch 4000 loss: 2.352417892286554\n",
      "  batch 5000 loss: 2.945423924613744\n",
      "  batch 6000 loss: 3.531624559253454\n",
      "  batch 7000 loss: 4.12777129073441\n",
      "  batch 8000 loss: 4.717461009815335\n",
      "  batch 9000 loss: 5.305642198156566\n",
      "  batch 10000 loss: 5.890782805930823\n",
      "  batch 11000 loss: 6.503275623764843\n",
      "  batch 12000 loss: 7.108155836030841\n",
      "  batch 13000 loss: 7.703784049231559\n",
      "  batch 14000 loss: 8.299655686841346\n",
      "  batch 15000 loss: 8.875460123668425\n",
      "  batch 16000 loss: 9.473125035419129\n",
      "  batch 17000 loss: 10.071644927944057\n",
      "Validation loss for the epoch 0.7342111827867309\n",
      "Time take by the epoch 13 is 0:05:03.762021\n",
      "The Epoch number 14\n",
      "  batch 1000 loss: 0.5326544893719256\n",
      "  batch 2000 loss: 1.109094166006893\n",
      "  batch 3000 loss: 1.6442261559404432\n",
      "  batch 4000 loss: 2.197810818903148\n",
      "  batch 5000 loss: 2.7537216052580624\n",
      "  batch 6000 loss: 3.326157825671136\n",
      "  batch 7000 loss: 3.883424524720758\n",
      "  batch 8000 loss: 4.4496641335720195\n",
      "  batch 9000 loss: 5.011743855486624\n",
      "  batch 10000 loss: 5.5779884994644675\n",
      "  batch 11000 loss: 6.145571528339759\n",
      "  batch 12000 loss: 6.738354388663545\n",
      "  batch 13000 loss: 7.308753948632628\n",
      "  batch 14000 loss: 7.872759339001029\n",
      "  batch 15000 loss: 8.437921790191904\n",
      "  batch 16000 loss: 9.013991374693811\n",
      "  batch 17000 loss: 9.578710665460676\n",
      "Validation loss for the epoch 0.7249198063684472\n",
      "Time take by the epoch 14 is 0:05:03.777272\n",
      "The Epoch number 15\n",
      "  batch 1000 loss: 0.5211735756918788\n",
      "  batch 2000 loss: 1.0395367695186286\n",
      "  batch 3000 loss: 1.570221579763107\n",
      "  batch 4000 loss: 2.111243181888945\n",
      "  batch 5000 loss: 2.6444894115896895\n",
      "  batch 6000 loss: 3.1728137211715803\n",
      "  batch 7000 loss: 3.700396775986068\n",
      "  batch 8000 loss: 4.222171459822915\n",
      "  batch 9000 loss: 4.766192187949084\n",
      "  batch 10000 loss: 5.320962753966916\n",
      "  batch 11000 loss: 5.8629604090568606\n",
      "  batch 12000 loss: 6.405356840111781\n",
      "  batch 13000 loss: 6.939773856521119\n",
      "  batch 14000 loss: 7.467038770789746\n",
      "  batch 15000 loss: 8.016210331397597\n",
      "  batch 16000 loss: 8.569923194834496\n",
      "  batch 17000 loss: 9.104842688625213\n",
      "Validation loss for the epoch 0.724541303332318\n",
      "Time take by the epoch 15 is 0:05:03.733557\n",
      "The Epoch number 16\n",
      "  batch 1000 loss: 0.4898310425169766\n",
      "  batch 2000 loss: 1.0047973532313481\n",
      "  batch 3000 loss: 1.4921306624347344\n",
      "  batch 4000 loss: 2.005964437735267\n",
      "  batch 5000 loss: 2.510965939908288\n",
      "  batch 6000 loss: 3.0317184994956476\n",
      "  batch 7000 loss: 3.536881843284704\n",
      "  batch 8000 loss: 4.059547260467895\n",
      "  batch 9000 loss: 4.5496815528320145\n",
      "  batch 10000 loss: 5.056665227293037\n",
      "  batch 11000 loss: 5.568641846823506\n",
      "  batch 12000 loss: 6.088137294945307\n",
      "  batch 13000 loss: 6.592681224484928\n",
      "  batch 14000 loss: 7.10180691650603\n",
      "  batch 15000 loss: 7.6250392674971375\n",
      "  batch 16000 loss: 8.123796598464251\n",
      "  batch 17000 loss: 8.638913762480021\n",
      "Validation loss for the epoch 0.7095924582165041\n",
      "Time take by the epoch 16 is 0:05:03.792544\n",
      "The Epoch number 17\n",
      "  batch 1000 loss: 0.4565677690729499\n",
      "  batch 2000 loss: 0.9350317542050034\n",
      "  batch 3000 loss: 1.3753956288360059\n",
      "  batch 4000 loss: 1.8516206526383758\n",
      "  batch 5000 loss: 2.3223874064944683\n",
      "  batch 6000 loss: 2.815739360961132\n",
      "  batch 7000 loss: 3.311040834444575\n",
      "  batch 8000 loss: 3.7870904635721816\n",
      "  batch 9000 loss: 4.271412219184916\n",
      "  batch 10000 loss: 4.765894690612797\n",
      "  batch 11000 loss: 5.263267731544096\n",
      "  batch 12000 loss: 5.7574340142696165\n",
      "  batch 13000 loss: 6.240325036976021\n",
      "  batch 14000 loss: 6.7406248698323035\n",
      "  batch 15000 loss: 7.236330121399137\n",
      "  batch 16000 loss: 7.714239656350808\n",
      "  batch 17000 loss: 8.197430044467794\n",
      "Validation loss for the epoch 0.7087631700273658\n",
      "Time take by the epoch 17 is 0:05:03.686223\n",
      "The Epoch number 18\n",
      "  batch 1000 loss: 0.44016436231695116\n",
      "  batch 2000 loss: 0.8846620937855915\n",
      "  batch 3000 loss: 1.3136834822585806\n",
      "  batch 4000 loss: 1.761136030071415\n",
      "  batch 5000 loss: 2.1980141372038053\n",
      "  batch 6000 loss: 2.646317349073477\n",
      "  batch 7000 loss: 3.112575102635659\n",
      "  batch 8000 loss: 3.5718005445050074\n",
      "  batch 9000 loss: 4.030087672130205\n",
      "  batch 10000 loss: 4.502976540376898\n",
      "  batch 11000 loss: 4.982797695479821\n",
      "  batch 12000 loss: 5.4380085266488605\n",
      "  batch 13000 loss: 5.903608285741415\n",
      "  batch 14000 loss: 6.359396691064816\n",
      "  batch 15000 loss: 6.833570872663055\n",
      "  batch 16000 loss: 7.297950488282833\n",
      "  batch 17000 loss: 7.765414388396311\n",
      "Validation loss for the epoch 0.7013964657845335\n",
      "Time take by the epoch 18 is 0:05:03.686708\n",
      "The Epoch number 19\n",
      "  batch 1000 loss: 0.41858327711222226\n",
      "  batch 2000 loss: 0.8352789088584249\n",
      "  batch 3000 loss: 1.2820589819386368\n",
      "  batch 4000 loss: 1.7007921187722823\n",
      "  batch 5000 loss: 2.131466053477838\n",
      "  batch 6000 loss: 2.551204598698183\n",
      "  batch 7000 loss: 2.9713676472803345\n",
      "  batch 8000 loss: 3.4075800966316603\n",
      "  batch 9000 loss: 3.845589075980126\n",
      "  batch 10000 loss: 4.287304070957354\n",
      "  batch 11000 loss: 4.72568915371818\n",
      "  batch 12000 loss: 5.157551236068247\n",
      "  batch 13000 loss: 5.592102143903612\n",
      "  batch 14000 loss: 6.037070725095807\n",
      "  batch 15000 loss: 6.4789751095998795\n",
      "  batch 16000 loss: 6.906869996927097\n",
      "  batch 17000 loss: 7.358676839286811\n",
      "Validation loss for the epoch 0.6991705754833284\n",
      "Time take by the epoch 19 is 0:05:03.777784\n",
      "The Epoch number 20\n",
      "  batch 1000 loss: 0.38424249334819616\n",
      "  batch 2000 loss: 0.7818905636491253\n",
      "  batch 3000 loss: 1.1938631931841373\n",
      "  batch 4000 loss: 1.6016955429129303\n",
      "  batch 5000 loss: 1.9990723885158077\n",
      "  batch 6000 loss: 2.409195513792336\n",
      "  batch 7000 loss: 2.8112771862223744\n",
      "  batch 8000 loss: 3.2175216665286572\n",
      "  batch 9000 loss: 3.628084443408996\n",
      "  batch 10000 loss: 4.0387876670146365\n",
      "  batch 11000 loss: 4.4561642503319305\n",
      "  batch 12000 loss: 4.877969484049827\n",
      "  batch 13000 loss: 5.297370847634971\n",
      "  batch 14000 loss: 5.714736707303673\n",
      "  batch 15000 loss: 6.121043246882036\n",
      "  batch 16000 loss: 6.554568407318555\n",
      "  batch 17000 loss: 6.97151805478707\n",
      "Validation loss for the epoch 0.699230282577684\n",
      "Time take by the epoch 20 is 0:05:03.914030\n",
      "The Epoch number 21\n",
      "  batch 1000 loss: 0.37037767879199235\n",
      "  batch 2000 loss: 0.7505499989534729\n",
      "  batch 3000 loss: 1.1354768829853275\n",
      "  batch 4000 loss: 1.507597578607034\n",
      "  batch 5000 loss: 1.889251775722485\n",
      "  batch 6000 loss: 2.269472388806287\n",
      "  batch 7000 loss: 2.6536072332547045\n",
      "  batch 8000 loss: 3.0280372264492326\n",
      "  batch 9000 loss: 3.419308719488792\n",
      "  batch 10000 loss: 3.8019118159280625\n",
      "  batch 11000 loss: 4.201699708030326\n",
      "  batch 12000 loss: 4.592737839667825\n",
      "  batch 13000 loss: 4.99793119073729\n",
      "  batch 14000 loss: 5.4012533817563675\n",
      "  batch 15000 loss: 5.79353181942855\n",
      "  batch 16000 loss: 6.178331700747134\n",
      "  batch 17000 loss: 6.590571745951893\n",
      "Validation loss for the epoch 0.6947959819830166\n",
      "Time take by the epoch 21 is 0:05:03.716567\n",
      "The Epoch number 22\n",
      "  batch 1000 loss: 0.35055328530259433\n",
      "  batch 2000 loss: 0.7204242716310546\n",
      "  batch 3000 loss: 1.063813635579776\n",
      "  batch 4000 loss: 1.4190667097601108\n",
      "  batch 5000 loss: 1.7867265782312025\n",
      "  batch 6000 loss: 2.1371828954906085\n",
      "  batch 7000 loss: 2.5107014656036046\n",
      "  batch 8000 loss: 2.874957056896936\n",
      "  batch 9000 loss: 3.248966975564777\n",
      "  batch 10000 loss: 3.6051879522713715\n",
      "  batch 11000 loss: 3.9700977374545183\n",
      "  batch 12000 loss: 4.342733547549404\n",
      "  batch 13000 loss: 4.71265984119632\n",
      "  batch 14000 loss: 5.08289197669219\n",
      "  batch 15000 loss: 5.461578810605162\n",
      "  batch 16000 loss: 5.844882200894354\n",
      "  batch 17000 loss: 6.21684605420701\n",
      "Validation loss for the epoch 0.6990843459410266\n",
      "Time take by the epoch 22 is 0:05:03.936020\n",
      "The Epoch number 23\n",
      "  batch 1000 loss: 0.33128899364126846\n",
      "  batch 2000 loss: 0.6589422491830773\n",
      "  batch 3000 loss: 0.9952906600530259\n",
      "  batch 4000 loss: 1.3324768493394368\n",
      "  batch 5000 loss: 1.6628601115918717\n",
      "  batch 6000 loss: 2.0130735822389836\n",
      "  batch 7000 loss: 2.3560958415702915\n",
      "  batch 8000 loss: 2.6893374578792137\n",
      "  batch 9000 loss: 3.0367543647454585\n",
      "  batch 10000 loss: 3.409400644753361\n",
      "  batch 11000 loss: 3.770293686837191\n",
      "  batch 12000 loss: 4.106368344601127\n",
      "  batch 13000 loss: 4.468286334734294\n",
      "  batch 14000 loss: 4.810307070871699\n",
      "  batch 15000 loss: 5.164875292280107\n",
      "  batch 16000 loss: 5.51840756309859\n",
      "  batch 17000 loss: 5.89344011020998\n",
      "Validation loss for the epoch 0.7054529322834087\n",
      "Time take by the epoch 23 is 0:05:03.852147\n",
      "The Epoch number 24\n",
      "  batch 1000 loss: 0.3145218179686926\n",
      "  batch 2000 loss: 0.6175590181476437\n",
      "  batch 3000 loss: 0.9327638070215472\n",
      "  batch 4000 loss: 1.24851400183863\n",
      "  batch 5000 loss: 1.5736158492923715\n",
      "  batch 6000 loss: 1.9135357443587855\n",
      "  batch 7000 loss: 2.2205476199812257\n",
      "  batch 8000 loss: 2.5645427181459963\n",
      "  batch 9000 loss: 2.907703139211633\n",
      "  batch 10000 loss: 3.2574654828856002\n",
      "  batch 11000 loss: 3.57885378388979\n",
      "  batch 12000 loss: 3.8976209600792497\n",
      "  batch 13000 loss: 4.239658495386481\n",
      "  batch 14000 loss: 4.564339035255718\n",
      "  batch 15000 loss: 4.900180972477305\n",
      "  batch 16000 loss: 5.237845988771995\n",
      "  batch 17000 loss: 5.5595550131556815\n",
      "Validation loss for the epoch 0.7184751211486811\n",
      "Time take by the epoch 24 is 0:05:03.881092\n",
      "The Epoch number 25\n",
      "  batch 1000 loss: 0.3076646762380842\n",
      "  batch 2000 loss: 0.6016178095606156\n",
      "  batch 3000 loss: 0.8939163478775881\n",
      "  batch 4000 loss: 1.18005057056644\n",
      "  batch 5000 loss: 1.4886049810848199\n",
      "  batch 6000 loss: 1.7848138605910353\n",
      "  batch 7000 loss: 2.0922539011435584\n",
      "  batch 8000 loss: 2.414430000014487\n",
      "  batch 9000 loss: 2.7333976180168102\n",
      "  batch 10000 loss: 3.0372384342049483\n",
      "  batch 11000 loss: 3.3382366321337176\n",
      "  batch 12000 loss: 3.6538528770428385\n",
      "  batch 13000 loss: 3.9674990773191676\n",
      "  batch 14000 loss: 4.282414423825685\n",
      "  batch 15000 loss: 4.594949826524826\n",
      "  batch 16000 loss: 4.931509979997529\n",
      "  batch 17000 loss: 5.257005486887182\n",
      "Validation loss for the epoch 0.7134423282619115\n",
      "Time take by the epoch 25 is 0:05:03.832990\n",
      "The Epoch number 26\n",
      "  batch 1000 loss: 0.27867335797299164\n",
      "  batch 2000 loss: 0.5535579675288173\n",
      "  batch 3000 loss: 0.825287075011991\n",
      "  batch 4000 loss: 1.115423811502522\n",
      "  batch 5000 loss: 1.4008919350560753\n",
      "  batch 6000 loss: 1.6882717614944558\n",
      "  batch 7000 loss: 1.9917616488698404\n",
      "  batch 8000 loss: 2.281963313922286\n",
      "  batch 9000 loss: 2.572969805991044\n",
      "  batch 10000 loss: 2.8670841841024814\n",
      "  batch 11000 loss: 3.152819846985396\n",
      "  batch 12000 loss: 3.4435112577856053\n",
      "  batch 13000 loss: 3.7385168924536556\n",
      "  batch 14000 loss: 4.031267835769744\n",
      "  batch 15000 loss: 4.33294597522117\n",
      "  batch 16000 loss: 4.641145831673348\n",
      "  batch 17000 loss: 4.949972673378594\n",
      "Validation loss for the epoch 0.7230725180242115\n",
      "Time take by the epoch 26 is 0:05:03.804052\n",
      "The Epoch number 27\n",
      "  batch 1000 loss: 0.26166819947760084\n",
      "  batch 2000 loss: 0.5295742487279931\n",
      "  batch 3000 loss: 0.7844600838088663\n",
      "  batch 4000 loss: 1.040278327611857\n",
      "  batch 5000 loss: 1.321006640035659\n",
      "  batch 6000 loss: 1.5960685053241905\n",
      "  batch 7000 loss: 1.8616779003733537\n",
      "  batch 8000 loss: 2.130987130352878\n",
      "  batch 9000 loss: 2.4220779521713265\n",
      "  batch 10000 loss: 2.6819800464714643\n",
      "  batch 11000 loss: 2.958045346640516\n",
      "  batch 12000 loss: 3.238038736675633\n",
      "  batch 13000 loss: 3.5234467046989595\n",
      "  batch 14000 loss: 3.7975312575993594\n",
      "  batch 15000 loss: 4.08342380958749\n",
      "  batch 16000 loss: 4.370588532925351\n",
      "  batch 17000 loss: 4.663797850923496\n",
      "Validation loss for the epoch 0.7228382468271766\n",
      "Time take by the epoch 27 is 0:05:03.780985\n",
      "The Epoch number 28\n",
      "  batch 1000 loss: 0.24179641975834965\n",
      "  batch 2000 loss: 0.48697489227727053\n",
      "  batch 3000 loss: 0.7348289178539998\n",
      "  batch 4000 loss: 0.9837387122146319\n",
      "  batch 5000 loss: 1.223270308286883\n",
      "  batch 6000 loss: 1.487715621398762\n",
      "  batch 7000 loss: 1.7302198073549662\n",
      "  batch 8000 loss: 1.9716443904340704\n",
      "  batch 9000 loss: 2.242815699917832\n",
      "  batch 10000 loss: 2.501696971399113\n",
      "  batch 11000 loss: 2.7465369927703724\n",
      "  batch 12000 loss: 3.0207676288980148\n",
      "  batch 13000 loss: 3.2954359010631307\n",
      "  batch 14000 loss: 3.5492132859650156\n",
      "  batch 15000 loss: 3.8387099414215045\n",
      "  batch 16000 loss: 4.101881892254678\n",
      "  batch 17000 loss: 4.382730346602024\n",
      "Validation loss for the epoch 0.7319308130339328\n",
      "Time take by the epoch 28 is 0:05:03.947999\n",
      "The Epoch number 29\n",
      "  batch 1000 loss: 0.22597368512116373\n",
      "  batch 2000 loss: 0.44967628115718256\n",
      "  batch 3000 loss: 0.6840246931134024\n",
      "  batch 4000 loss: 0.9176580916021485\n",
      "  batch 5000 loss: 1.1555055667527485\n",
      "  batch 6000 loss: 1.3862941535871942\n",
      "  batch 7000 loss: 1.619084476386255\n",
      "  batch 8000 loss: 1.8651447601696127\n",
      "  batch 9000 loss: 2.1008920970131295\n",
      "  batch 10000 loss: 2.3605470164229048\n",
      "  batch 11000 loss: 2.616880828555382\n",
      "  batch 12000 loss: 2.8709859151075072\n",
      "  batch 13000 loss: 3.1239869621023244\n",
      "  batch 14000 loss: 3.3792823709185176\n",
      "  batch 15000 loss: 3.6351953332180567\n",
      "  batch 16000 loss: 3.900822380744474\n",
      "  batch 17000 loss: 4.144122003225464\n",
      "Validation loss for the epoch 0.7497091292134419\n",
      "Time take by the epoch 29 is 0:05:03.835925\n",
      "The Epoch number 30\n",
      "  batch 1000 loss: 0.21204039024817758\n",
      "  batch 2000 loss: 0.4340580473527079\n",
      "  batch 3000 loss: 0.6448424055034994\n",
      "  batch 4000 loss: 0.8754593893915881\n",
      "  batch 5000 loss: 1.105307970221853\n",
      "  batch 6000 loss: 1.3216573618420515\n",
      "  batch 7000 loss: 1.5391786133980494\n",
      "  batch 8000 loss: 1.776595806825033\n",
      "  batch 9000 loss: 2.016850963183562\n",
      "  batch 10000 loss: 2.24131397710857\n",
      "  batch 11000 loss: 2.477470564637799\n",
      "  batch 12000 loss: 2.715088294191635\n",
      "  batch 13000 loss: 2.9351456699586995\n",
      "  batch 14000 loss: 3.165357406349649\n",
      "  batch 15000 loss: 3.409023545454169\n",
      "  batch 16000 loss: 3.661213025606034\n",
      "  batch 17000 loss: 3.9019144168987987\n",
      "Validation loss for the epoch 0.7612874516493962\n",
      "Time take by the epoch 30 is 0:05:03.821267\n",
      "The Epoch number 31\n",
      "  batch 1000 loss: 0.22130490620722412\n",
      "  batch 2000 loss: 0.4144479225557006\n",
      "  batch 3000 loss: 0.6108655198552587\n",
      "  batch 4000 loss: 0.8145267293311772\n",
      "  batch 5000 loss: 1.015345851942373\n",
      "  batch 6000 loss: 1.2374395172415533\n",
      "  batch 7000 loss: 1.441421873388288\n",
      "  batch 8000 loss: 1.6521052450488205\n",
      "  batch 9000 loss: 1.8637162061908166\n",
      "  batch 10000 loss: 2.072226320417889\n",
      "  batch 11000 loss: 2.306185868307657\n",
      "  batch 12000 loss: 2.526285029721388\n",
      "  batch 13000 loss: 2.7607901237327024\n",
      "  batch 14000 loss: 2.9906366947058705\n",
      "  batch 15000 loss: 3.2212842276525335\n",
      "  batch 16000 loss: 3.4410517894983057\n",
      "  batch 17000 loss: 3.662402069324395\n",
      "Validation loss for the epoch 0.7583368775901586\n",
      "Time take by the epoch 31 is 0:05:03.798882\n",
      "The Epoch number 32\n",
      "  batch 1000 loss: 0.18388246733602137\n",
      "  batch 2000 loss: 0.37292195730248934\n",
      "  batch 3000 loss: 0.5756972600404406\n",
      "  batch 4000 loss: 0.7712438050048659\n",
      "  batch 5000 loss: 0.9786709778390359\n",
      "  batch 6000 loss: 1.18028941218376\n",
      "  batch 7000 loss: 1.3801575471999967\n",
      "  batch 8000 loss: 1.5867996992969566\n",
      "  batch 9000 loss: 1.782499425543836\n",
      "  batch 10000 loss: 1.9856905031937786\n",
      "  batch 11000 loss: 2.204192381229703\n",
      "  batch 12000 loss: 2.4144865547403316\n",
      "  batch 13000 loss: 2.614326033898251\n",
      "  batch 14000 loss: 2.8190857040979607\n",
      "  batch 15000 loss: 3.03041604392507\n",
      "  batch 16000 loss: 3.241786885254696\n",
      "  batch 17000 loss: 3.456312950955442\n",
      "Validation loss for the epoch 0.7809371932979556\n",
      "Time take by the epoch 32 is 0:05:03.844348\n",
      "The Epoch number 33\n",
      "  batch 1000 loss: 0.17943826910640928\n",
      "  batch 2000 loss: 0.36331602278203357\n",
      "  batch 3000 loss: 0.5392776625715197\n",
      "  batch 4000 loss: 0.7175771490315674\n",
      "  batch 5000 loss: 0.9113041781745705\n",
      "  batch 6000 loss: 1.0943570514225138\n",
      "  batch 7000 loss: 1.2751296544596988\n",
      "  batch 8000 loss: 1.4765462484450982\n",
      "  batch 9000 loss: 1.6720636939730467\n",
      "  batch 10000 loss: 1.8460896799501934\n",
      "  batch 11000 loss: 2.0339208958158705\n",
      "  batch 12000 loss: 2.2268982693546424\n",
      "  batch 13000 loss: 2.431250191369196\n",
      "  batch 14000 loss: 2.6210066447206044\n",
      "  batch 15000 loss: 2.8239934977806844\n",
      "  batch 16000 loss: 3.0398283021256067\n",
      "  batch 17000 loss: 3.2483277110334456\n",
      "Validation loss for the epoch 0.7822656039791582\n",
      "Time take by the epoch 33 is 0:05:03.802270\n",
      "The Epoch number 34\n",
      "  batch 1000 loss: 0.16403382528119254\n",
      "  batch 2000 loss: 0.3383716904832981\n",
      "  batch 3000 loss: 0.5000768841429962\n",
      "  batch 4000 loss: 0.6784384197622422\n",
      "  batch 5000 loss: 0.8478364863999013\n",
      "  batch 6000 loss: 1.0147009462561982\n",
      "  batch 7000 loss: 1.1954414390265011\n",
      "  batch 8000 loss: 1.3759393841371783\n",
      "  batch 9000 loss: 1.561106721304255\n",
      "  batch 10000 loss: 1.745097713754294\n",
      "  batch 11000 loss: 1.922751564087608\n",
      "  batch 12000 loss: 2.109230232602211\n",
      "  batch 13000 loss: 2.2978196230751564\n",
      "  batch 14000 loss: 2.4927441724414456\n",
      "  batch 15000 loss: 2.6881036702604835\n",
      "  batch 16000 loss: 2.8721068965392407\n",
      "  batch 17000 loss: 3.0589444653145548\n",
      "Validation loss for the epoch 0.7943737914263309\n",
      "Time take by the epoch 34 is 0:05:03.795313\n",
      "The Epoch number 35\n",
      "  batch 1000 loss: 0.15516344741068314\n",
      "  batch 2000 loss: 0.3104316181280301\n",
      "  batch 3000 loss: 0.47293977329238257\n",
      "  batch 4000 loss: 0.6354682172116664\n",
      "  batch 5000 loss: 0.8081311594975196\n",
      "  batch 6000 loss: 0.9691070466202291\n",
      "  batch 7000 loss: 1.1393434761212047\n",
      "  batch 8000 loss: 1.2999025564211844\n",
      "  batch 9000 loss: 1.4705585344229695\n",
      "  batch 10000 loss: 1.6412403863255969\n",
      "  batch 11000 loss: 1.8065364980487137\n",
      "  batch 12000 loss: 1.9789950506199603\n",
      "  batch 13000 loss: 2.141231325110326\n",
      "  batch 14000 loss: 2.332194177101679\n",
      "  batch 15000 loss: 2.5224129756421245\n",
      "  batch 16000 loss: 2.687657329820322\n",
      "  batch 17000 loss: 2.8695702662134934\n",
      "Validation loss for the epoch 0.8165195421640747\n",
      "Time take by the epoch 35 is 0:05:04.165972\n",
      "The Epoch number 36\n",
      "  batch 1000 loss: 0.14032266399345827\n",
      "  batch 2000 loss: 0.29115676426235587\n",
      "  batch 3000 loss: 0.4539891077880311\n",
      "  batch 4000 loss: 0.5975996673756017\n",
      "  batch 5000 loss: 0.7703514749085735\n",
      "  batch 6000 loss: 0.9216277653905545\n",
      "  batch 7000 loss: 1.0771652149850253\n",
      "  batch 8000 loss: 1.2421332626600614\n",
      "  batch 9000 loss: 1.4008477744014216\n",
      "  batch 10000 loss: 1.5572916344237147\n",
      "  batch 11000 loss: 1.722359979364379\n",
      "  batch 12000 loss: 1.8831911540360289\n",
      "  batch 13000 loss: 2.0476507417202794\n",
      "  batch 14000 loss: 2.2137827513788633\n",
      "  batch 15000 loss: 2.376502950399268\n",
      "  batch 16000 loss: 2.5496121136091516\n",
      "  batch 17000 loss: 2.704675923905086\n",
      "Validation loss for the epoch 0.8190949360097629\n",
      "Time take by the epoch 36 is 0:05:04.645323\n",
      "The Epoch number 37\n",
      "  batch 1000 loss: 0.1316306032888824\n",
      "  batch 2000 loss: 0.27321747002119084\n",
      "  batch 3000 loss: 0.42385924911950135\n",
      "  batch 4000 loss: 0.5729752798573172\n",
      "  batch 5000 loss: 0.7124385470392081\n",
      "  batch 6000 loss: 0.8575513576897574\n",
      "  batch 7000 loss: 1.0103013917072459\n",
      "  batch 8000 loss: 1.1643266717154692\n",
      "  batch 9000 loss: 1.3067063473785165\n",
      "  batch 10000 loss: 1.454534568068826\n",
      "  batch 11000 loss: 1.6011258670981552\n",
      "  batch 12000 loss: 1.7676104275553226\n",
      "  batch 13000 loss: 1.925647361798823\n",
      "  batch 14000 loss: 2.076023715702511\n",
      "  batch 15000 loss: 2.2394546075831023\n",
      "  batch 16000 loss: 2.389736309565211\n",
      "  batch 17000 loss: 2.5495265380997445\n",
      "Validation loss for the epoch 0.8319614163837739\n",
      "Time take by the epoch 37 is 0:05:04.000171\n",
      "The Epoch number 38\n",
      "  batch 1000 loss: 0.1283635295815766\n",
      "  batch 2000 loss: 0.25420679360223586\n",
      "  batch 3000 loss: 0.39156549476238434\n",
      "  batch 4000 loss: 0.5282994057409378\n",
      "  batch 5000 loss: 0.6684625674584677\n",
      "  batch 6000 loss: 0.803539455912367\n",
      "  batch 7000 loss: 0.9482296144452703\n",
      "  batch 8000 loss: 1.0898693326741196\n",
      "  batch 9000 loss: 1.2251559624104267\n",
      "  batch 10000 loss: 1.3692190628356475\n",
      "  batch 11000 loss: 1.5128705517920462\n",
      "  batch 12000 loss: 1.659282688646592\n",
      "  batch 13000 loss: 1.8035485665869382\n",
      "  batch 14000 loss: 1.939187845679673\n",
      "  batch 15000 loss: 2.0913204606513647\n",
      "  batch 16000 loss: 2.2375816569798954\n",
      "  batch 17000 loss: 2.3866722788708903\n",
      "Validation loss for the epoch 0.8448819690444853\n",
      "Time take by the epoch 38 is 0:05:04.055345\n",
      "The Epoch number 39\n",
      "  batch 1000 loss: 0.12070147595337767\n",
      "  batch 2000 loss: 0.24797173143339024\n",
      "  batch 3000 loss: 0.37276385442273025\n",
      "  batch 4000 loss: 0.5002807914285077\n",
      "  batch 5000 loss: 0.629439740599817\n",
      "  batch 6000 loss: 0.7588868995578377\n",
      "  batch 7000 loss: 0.8911801498786371\n",
      "  batch 8000 loss: 1.0318783685068282\n",
      "  batch 9000 loss: 1.1721891335756172\n",
      "  batch 10000 loss: 1.3083349884773143\n",
      "  batch 11000 loss: 1.4346944459463429\n",
      "  batch 12000 loss: 1.5623232879964508\n",
      "  batch 13000 loss: 1.70184524881172\n",
      "  batch 14000 loss: 1.8396255495398819\n",
      "  batch 15000 loss: 1.9791075892255703\n",
      "  batch 16000 loss: 2.1163040590057736\n",
      "  batch 17000 loss: 2.2515428315183397\n",
      "Validation loss for the epoch 0.8634306422966025\n",
      "Time take by the epoch 39 is 0:05:04.078231\n",
      "The Epoch number 40\n",
      "  batch 1000 loss: 0.11320392142434867\n",
      "  batch 2000 loss: 0.22264598793500046\n",
      "  batch 3000 loss: 0.3307780582371415\n",
      "  batch 4000 loss: 0.45660965784405927\n",
      "  batch 5000 loss: 0.5755052112103695\n",
      "  batch 6000 loss: 0.6996876817293923\n",
      "  batch 7000 loss: 0.8268363433508894\n",
      "  batch 8000 loss: 0.9586829303777741\n",
      "  batch 9000 loss: 1.0820544490821011\n",
      "  batch 10000 loss: 1.2129559760538577\n",
      "  batch 11000 loss: 1.351298697214126\n",
      "  batch 12000 loss: 1.4876692596958856\n",
      "  batch 13000 loss: 1.6126977295117249\n",
      "  batch 14000 loss: 1.7294248472793334\n",
      "  batch 15000 loss: 1.8567571975041866\n",
      "  batch 16000 loss: 1.9812539973776948\n",
      "  batch 17000 loss: 2.1192911963363947\n",
      "Validation loss for the epoch 0.8661532494152534\n",
      "Time take by the epoch 40 is 0:05:03.899596\n",
      "The Epoch number 41\n",
      "  batch 1000 loss: 0.10289718729926244\n",
      "  batch 2000 loss: 0.20901224911904137\n",
      "  batch 3000 loss: 0.3160929514663003\n",
      "  batch 4000 loss: 0.4265988261856946\n",
      "  batch 5000 loss: 0.536261182031205\n",
      "  batch 6000 loss: 0.6568560130858859\n",
      "  batch 7000 loss: 0.7769198571713314\n",
      "  batch 8000 loss: 0.8994619095664966\n",
      "  batch 9000 loss: 1.0299632036929907\n",
      "  batch 10000 loss: 1.1371243511549036\n",
      "  batch 11000 loss: 1.2652518189115654\n",
      "  batch 12000 loss: 1.384630338309842\n",
      "  batch 13000 loss: 1.5037150567996869\n",
      "  batch 14000 loss: 1.6245305125805827\n",
      "  batch 15000 loss: 1.750189912010559\n",
      "  batch 16000 loss: 1.883911771123745\n",
      "  batch 17000 loss: 1.996145062087995\n",
      "Validation loss for the epoch 0.8818847025058729\n",
      "Time take by the epoch 41 is 0:05:03.844000\n",
      "The Epoch number 42\n",
      "  batch 1000 loss: 0.10600097610597732\n",
      "  batch 2000 loss: 0.2075338666851312\n",
      "  batch 3000 loss: 0.2996637759881489\n",
      "  batch 4000 loss: 0.3991165446234447\n",
      "  batch 5000 loss: 0.5034063366284974\n",
      "  batch 6000 loss: 0.5999761954128919\n",
      "  batch 7000 loss: 0.7117094649828943\n",
      "  batch 8000 loss: 0.8348843913933672\n",
      "  batch 9000 loss: 0.9479337855287597\n",
      "  batch 10000 loss: 1.0598280003986877\n",
      "  batch 11000 loss: 1.1629754699176513\n",
      "  batch 12000 loss: 1.2864592650816586\n",
      "  batch 13000 loss: 1.4005198588810701\n",
      "  batch 14000 loss: 1.5140602809044752\n",
      "  batch 15000 loss: 1.632028571671198\n",
      "  batch 16000 loss: 1.7552008345759051\n",
      "  batch 17000 loss: 1.871880908028524\n",
      "Validation loss for the epoch 0.8909923082151664\n",
      "Time take by the epoch 42 is 0:05:03.892610\n",
      "The Epoch number 43\n",
      "  batch 1000 loss: 0.09083526549485396\n",
      "  batch 2000 loss: 0.18040168423501018\n",
      "  batch 3000 loss: 0.28272374407480677\n",
      "  batch 4000 loss: 0.3769897413768922\n",
      "  batch 5000 loss: 0.4848325507251939\n",
      "  batch 6000 loss: 0.5885676173728934\n",
      "  batch 7000 loss: 0.6911033006421822\n",
      "  batch 8000 loss: 0.7974212180748181\n",
      "  batch 9000 loss: 0.8992589755368717\n",
      "  batch 10000 loss: 1.0039343568578587\n",
      "  batch 11000 loss: 1.1133681051141866\n",
      "  batch 12000 loss: 1.2251236647304942\n",
      "  batch 13000 loss: 1.3422500434360736\n",
      "  batch 14000 loss: 1.4506503001557394\n",
      "  batch 15000 loss: 1.5559055524405885\n",
      "  batch 16000 loss: 1.6667656138731581\n",
      "  batch 17000 loss: 1.7695259706081161\n",
      "Validation loss for the epoch 0.9086418686654298\n",
      "Time take by the epoch 43 is 0:05:03.796874\n",
      "The Epoch number 44\n",
      "  batch 1000 loss: 0.0842000737729395\n",
      "  batch 2000 loss: 0.1709321394742183\n",
      "  batch 3000 loss: 0.2719307403146704\n",
      "  batch 4000 loss: 0.3712121328914254\n",
      "  batch 5000 loss: 0.4684255073380846\n",
      "  batch 6000 loss: 0.5587841417115851\n",
      "  batch 7000 loss: 0.6597652581253642\n",
      "  batch 8000 loss: 0.7514279354696537\n",
      "  batch 9000 loss: 0.8454152174726296\n",
      "  batch 10000 loss: 0.9532633689468967\n",
      "  batch 11000 loss: 1.0473018267690095\n",
      "  batch 12000 loss: 1.1549988242199325\n",
      "  batch 13000 loss: 1.2555840223146952\n",
      "  batch 14000 loss: 1.3569821968401965\n",
      "  batch 15000 loss: 1.4562873469378255\n",
      "  batch 16000 loss: 1.5638679262691448\n",
      "  batch 17000 loss: 1.6690714393672323\n",
      "Validation loss for the epoch 0.9182796148360538\n",
      "Time take by the epoch 44 is 0:05:03.901597\n",
      "The Epoch number 45\n",
      "  batch 1000 loss: 0.08704691079229088\n",
      "  batch 2000 loss: 0.17448931804758466\n",
      "  batch 3000 loss: 0.25438926663880373\n",
      "  batch 4000 loss: 0.3410643916961549\n",
      "  batch 5000 loss: 0.4298487846938283\n",
      "  batch 6000 loss: 0.5174030927305271\n",
      "  batch 7000 loss: 0.6077293492836712\n",
      "  batch 8000 loss: 0.6997887493215189\n",
      "  batch 9000 loss: 0.7976104879969812\n",
      "  batch 10000 loss: 0.8918444769379608\n",
      "  batch 11000 loss: 0.9910268365780908\n",
      "  batch 12000 loss: 1.0877040043464334\n",
      "  batch 13000 loss: 1.1794142814291448\n",
      "  batch 14000 loss: 1.2700482472716017\n",
      "  batch 15000 loss: 1.369244030322609\n",
      "  batch 16000 loss: 1.4704818308081435\n",
      "  batch 17000 loss: 1.5697837725867563\n",
      "Validation loss for the epoch 0.9339786595999029\n",
      "Time take by the epoch 45 is 0:05:03.866832\n",
      "The Epoch number 46\n",
      "  batch 1000 loss: 0.07976177574776375\n",
      "  batch 2000 loss: 0.1517020588087107\n",
      "  batch 3000 loss: 0.23436872794172087\n",
      "  batch 4000 loss: 0.31727967019603964\n",
      "  batch 5000 loss: 0.3954753135287974\n",
      "  batch 6000 loss: 0.48337199765810873\n",
      "  batch 7000 loss: 0.5714926664345585\n",
      "  batch 8000 loss: 0.6650165316978418\n",
      "  batch 9000 loss: 0.7586874024917252\n",
      "  batch 10000 loss: 0.8455083209577587\n",
      "  batch 11000 loss: 0.9388659259847646\n",
      "  batch 12000 loss: 1.0238457869849098\n",
      "  batch 13000 loss: 1.1126064157424462\n",
      "  batch 14000 loss: 1.2057780369279698\n",
      "  batch 15000 loss: 1.2916946026238456\n",
      "  batch 16000 loss: 1.3817304209253725\n",
      "  batch 17000 loss: 1.4786027189345932\n",
      "Validation loss for the epoch 0.9419992792963852\n",
      "Time take by the epoch 46 is 0:05:03.816633\n",
      "The Epoch number 47\n",
      "  batch 1000 loss: 0.07753950132543469\n",
      "  batch 2000 loss: 0.15272392726120598\n",
      "  batch 3000 loss: 0.22672870023952238\n",
      "  batch 4000 loss: 0.3020437143293075\n",
      "  batch 5000 loss: 0.3837008992045794\n",
      "  batch 6000 loss: 0.46072127784352596\n",
      "  batch 7000 loss: 0.5377646747909657\n",
      "  batch 8000 loss: 0.6270197582820947\n",
      "  batch 9000 loss: 0.7035792065460083\n",
      "  batch 10000 loss: 0.7928033773438183\n",
      "  batch 11000 loss: 0.8749773580789441\n",
      "  batch 12000 loss: 0.9663913197201807\n",
      "  batch 13000 loss: 1.0518484156076926\n",
      "  batch 14000 loss: 1.1428253226610585\n",
      "  batch 15000 loss: 1.241197729374039\n",
      "  batch 16000 loss: 1.325272853326577\n",
      "  batch 17000 loss: 1.4133434049413196\n",
      "Validation loss for the epoch 0.9626737013761426\n",
      "Time take by the epoch 47 is 0:05:03.781346\n",
      "The Epoch number 48\n",
      "  batch 1000 loss: 0.06442796863770127\n",
      "  batch 2000 loss: 0.13530035434203\n",
      "  batch 3000 loss: 0.20208608575752895\n",
      "  batch 4000 loss: 0.2785664597744708\n",
      "  batch 5000 loss: 0.3510083730622255\n",
      "  batch 6000 loss: 0.42479593014967487\n",
      "  batch 7000 loss: 0.5027746526669152\n",
      "  batch 8000 loss: 0.5878868073151762\n",
      "  batch 9000 loss: 0.6685540528058364\n",
      "  batch 10000 loss: 0.7487467100793538\n",
      "  batch 11000 loss: 0.8303582452400711\n",
      "  batch 12000 loss: 0.9056873214549646\n",
      "  batch 13000 loss: 0.9910941795466547\n",
      "  batch 14000 loss: 1.0765284381870857\n",
      "  batch 15000 loss: 1.1601434280077352\n",
      "  batch 16000 loss: 1.252866535641007\n",
      "  batch 17000 loss: 1.3396931198687902\n",
      "Validation loss for the epoch 0.9640201231018098\n",
      "Time take by the epoch 48 is 0:05:03.884429\n",
      "The Epoch number 49\n",
      "  batch 1000 loss: 0.06824362443206883\n",
      "  batch 2000 loss: 0.13579371042076127\n",
      "  batch 3000 loss: 0.2022696037803089\n",
      "  batch 4000 loss: 0.27459360123818805\n",
      "  batch 5000 loss: 0.3481319111261855\n",
      "  batch 6000 loss: 0.4198599133223297\n",
      "  batch 7000 loss: 0.4925478161463877\n",
      "  batch 8000 loss: 0.5697459802290857\n",
      "  batch 9000 loss: 0.6461808341370586\n",
      "  batch 10000 loss: 0.7207330804932706\n",
      "  batch 11000 loss: 0.7909580110431023\n",
      "  batch 12000 loss: 0.8751857492283568\n",
      "  batch 13000 loss: 0.9459678982170578\n",
      "  batch 14000 loss: 1.0182155726226054\n",
      "  batch 15000 loss: 1.0930457113255259\n",
      "  batch 16000 loss: 1.1733260190436587\n",
      "  batch 17000 loss: 1.2604543890438793\n",
      "Validation loss for the epoch 0.9723612914324503\n",
      "Time take by the epoch 49 is 0:05:03.785662\n",
      "The Epoch number 50\n",
      "  batch 1000 loss: 0.061041360040569995\n",
      "  batch 2000 loss: 0.1263404732478466\n",
      "  batch 3000 loss: 0.19813520618649635\n",
      "  batch 4000 loss: 0.262679719149216\n",
      "  batch 5000 loss: 0.3231926305359402\n",
      "  batch 6000 loss: 0.3854490944425115\n",
      "  batch 7000 loss: 0.45317731268994155\n",
      "  batch 8000 loss: 0.5234017451699101\n",
      "  batch 9000 loss: 0.5952772891041505\n",
      "  batch 10000 loss: 0.6633056494081402\n",
      "  batch 11000 loss: 0.7361557418096432\n",
      "  batch 12000 loss: 0.8116719716863858\n",
      "  batch 13000 loss: 0.8868560979195513\n",
      "  batch 14000 loss: 0.9651253204914224\n",
      "  batch 15000 loss: 1.04284972377626\n",
      "  batch 16000 loss: 1.1173184384672845\n",
      "  batch 17000 loss: 1.2007551400408052\n",
      "Validation loss for the epoch 0.9896721263447714\n",
      "Time take by the epoch 50 is 0:05:03.864665\n"
     ]
    }
   ],
   "source": [
    "num_epochs = 50\n",
    "best_vloss = 1000000\n",
    "best_model = None\n",
    "\n",
    "list_of_train_loss = []\n",
    "list_of_val_loss = []\n",
    "\n",
    "for epoch in tqdm(range(num_epochs)):\n",
    "    \n",
    "    start_time = datetime.now()\n",
    "    print(f\"The Epoch number {epoch + 1}\")\n",
    "    \n",
    "    ############ Training Mode ##############################3\n",
    "    \n",
    "    #setting the model to traning mode. Now, certain layers such as batchNorm and dropout behave differently in\n",
    "    #in training and evaluation mode, hence this call helps to acheive it.\n",
    "    model.train()\n",
    "    \n",
    "    avg_loss_for_batch = training_for_one_epoch(train_loader,epoch)\n",
    "    list_of_train_loss.append(avg_loss_for_batch)\n",
    "    \n",
    "    ################ Evaluation Mode ####################\n",
    "    #turns off dropout, batchnorm, adjusts the calculations\n",
    "    \n",
    "    model.eval()\n",
    "    torch.cuda.empty_cache()\n",
    "    avg_val_loss = validate(test_loader)\n",
    "    list_of_val_loss.append(avg_val_loss)\n",
    "    \n",
    "    print(f\"Validation loss for the epoch\",avg_val_loss)\n",
    "    \n",
    "    #Saving the best model!\n",
    "    if avg_val_loss<best_vloss:\n",
    "        #clearly our model is performing better for test set now! \n",
    "        # this might be our best performance\n",
    "        best_model = model\n",
    "        best_vloss = avg_val_loss\n",
    "        model_path = \"model_{}\".format(epoch+1)\n",
    "        \n",
    "        \n",
    "    # if you are only going to use the saved model for inference save the state_dict() this does not save parameters,buffers,etc and thus saves space.\n",
    "    #hoewever if you are going to use the model for fine tuning , do torch.save(model)\n",
    "    \n",
    "    #Save the final best model\n",
    "    torch.save(best_model.state_dict(),model_path)\n",
    "    \n",
    "    \n",
    "    \n",
    "    end_time = datetime.now()\n",
    "    \n",
    "    print(f\"Time take by the epoch {epoch + 1} is {end_time-start_time}\")\n",
    "        "
   ]
  },
  {
   "cell_type": "markdown",
   "id": "e9c89951",
   "metadata": {
    "papermill": {
     "duration": 0.054542,
     "end_time": "2023-05-08T22:31:51.542750",
     "exception": false,
     "start_time": "2023-05-08T22:31:51.488208",
     "status": "completed"
    },
    "tags": []
   },
   "source": [
    "## Plot the train and val loss"
   ]
  },
  {
   "cell_type": "code",
   "execution_count": 34,
   "id": "ea43897c",
   "metadata": {
    "execution": {
     "iopub.execute_input": "2023-05-08T22:31:51.652232Z",
     "iopub.status.busy": "2023-05-08T22:31:51.651946Z",
     "iopub.status.idle": "2023-05-08T22:31:52.002786Z",
     "shell.execute_reply": "2023-05-08T22:31:52.001779Z"
    },
    "papermill": {
     "duration": 0.407907,
     "end_time": "2023-05-08T22:31:52.004785",
     "exception": false,
     "start_time": "2023-05-08T22:31:51.596878",
     "status": "completed"
    },
    "tags": []
   },
   "outputs": [
    {
     "data": {
      "image/png": "[encoded data removed]",
      "text/plain": [
       "<Figure size 640x480 with 1 Axes>"
      ]
     },
     "metadata": {},
     "output_type": "display_data"
    }
   ],
   "source": [
    "import matplotlib.pyplot as plt\n",
    "\n",
    "x_axis = list(range(1,num_epochs+1))\n",
    "\n",
    "\n",
    "plt.plot(x_axis,list_of_train_loss,color=\"green\",label=\"train_loss\")\n",
    "plt.plot(x_axis,list_of_val_loss,color=\"blue\",label=\"val_loss\")\n",
    "\n",
    "plt.xlabel(\"Epochs\")\n",
    "plt.ylabel(\"Loss\")\n",
    "plt.title(\"Train vs Validation loss plot\")\n",
    "plt.legend()\n",
    "\n",
    "plt.show()"
   ]
  },
  {
   "cell_type": "markdown",
   "id": "1c61fc1a",
   "metadata": {
    "papermill": {
     "duration": 0.054681,
     "end_time": "2023-05-08T22:31:52.115178",
     "exception": false,
     "start_time": "2023-05-08T22:31:52.060497",
     "status": "completed"
    },
    "tags": []
   },
   "source": [
    "## Woah! our simple model works quite good as we can see both the train and the val loss decreases steadily towards the start of the  epoch and with the increase in the epoch number the decrease is less steeper indicating that the model is tending towards convergence.\n",
    "\n",
    "It might have helped to train it for further epochs, we could have also checked for convergence by setting a threshold.Where when the decrease in loss is less than that of the threshold, we can consider convergence.\n"
   ]
  },
  {
   "cell_type": "code",
   "execution_count": null,
   "id": "a561b1a8",
   "metadata": {
    "papermill": {
     "duration": 0.054869,
     "end_time": "2023-05-08T22:31:52.224548",
     "exception": false,
     "start_time": "2023-05-08T22:31:52.169679",
     "status": "completed"
    },
    "tags": []
   },
   "outputs": [],
   "source": []
  },
  {
   "cell_type": "code",
   "execution_count": null,
   "id": "2b514109",
   "metadata": {
    "papermill": {
     "duration": 0.054184,
     "end_time": "2023-05-08T22:31:52.333467",
     "exception": false,
     "start_time": "2023-05-08T22:31:52.279283",
     "status": "completed"
    },
    "tags": []
   },
   "outputs": [],
   "source": []
  }
 ],
 "metadata": {
  "kernelspec": {
   "display_name": "Python 3",
   "language": "python",
   "name": "python3"
  },
  "language_info": {
   "codemirror_mode": {
    "name": "ipython",
    "version": 3
   },
   "file_extension": ".py",
   "mimetype": "text/x-python",
   "name": "python",
   "nbconvert_exporter": "python",
   "pygments_lexer": "ipython3",
   "version": "3.10.10"
  },
  "papermill": {
   "default_parameters": {},
   "duration": 15261.107704,
   "end_time": "2023-05-08T22:31:55.191938",
   "environment_variables": {},
   "exception": null,
   "input_path": "__notebook__.ipynb",
   "output_path": "__notebook__.ipynb",
   "parameters": {},
   "start_time": "2023-05-08T18:17:34.084234",
   "version": "2.4.0"
  },
  "widgets": {
   "application/vnd.jupyter.widget-state+json": {
    "state": {
     "07bd2d823a1f4c0fa54105d83c26d37a": {
      "model_module": "@jupyter-widgets/controls",
      "model_module_version": "1.5.0",
      "model_name": "HBoxModel",
      "state": {
       "_dom_classes": [],
       "_model_module": "@jupyter-widgets/controls",
       "_model_module_version": "1.5.0",
       "_model_name": "HBoxModel",
       "_view_count": null,
       "_view_module": "@jupyter-widgets/controls",
       "_view_module_version": "1.5.0",
       "_view_name": "HBoxView",
       "box_style": "",
       "children": [
        "IPY_MODEL_0cd81bc3f9c24a9fa7c53a98c35b3f3c",
        "IPY_MODEL_265e215aab8c47799d4ec57c5ca1e9bc",
        "IPY_MODEL_5b5000c542724da89e9db6747243bf50"
       ],
       "layout": "IPY_MODEL_3df8e1aaac0b4b64a7b899ca82a9ec9b"
      }
     },
     "08eb04513a084ae49e210e88330ed804": {
      "model_module": "@jupyter-widgets/controls",
      "model_module_version": "1.5.0",
      "model_name": "DescriptionStyleModel",
      "state": {
       "_model_module": "@jupyter-widgets/controls",
       "_model_module_version": "1.5.0",
       "_model_name": "DescriptionStyleModel",
       "_view_count": null,
       "_view_module": "@jupyter-widgets/base",
       "_view_module_version": "1.2.0",
       "_view_name": "StyleView",
       "description_width": ""
      }
     },
     "0cd81bc3f9c24a9fa7c53a98c35b3f3c": {
      "model_module": "@jupyter-widgets/controls",
      "model_module_version": "1.5.0",
      "model_name": "HTMLModel",
      "state": {
       "_dom_classes": [],
       "_model_module": "@jupyter-widgets/controls",
       "_model_module_version": "1.5.0",
       "_model_name": "HTMLModel",
       "_view_count": null,
       "_view_module": "@jupyter-widgets/controls",
       "_view_module_version": "1.5.0",
       "_view_name": "HTMLView",
       "description": "",
       "description_tooltip": null,
       "layout": "IPY_MODEL_e12c7cf8094b474aa0eeb7c781a40bbb",
       "placeholder": "​",
       "style": "IPY_MODEL_3a34cc8e20d84742857a75f790d9bc00",
       "value": "100%"
      }
     },
     "265e215aab8c47799d4ec57c5ca1e9bc": {
      "model_module": "@jupyter-widgets/controls",
      "model_module_version": "1.5.0",
      "model_name": "FloatProgressModel",
      "state": {
       "_dom_classes": [],
       "_model_module": "@jupyter-widgets/controls",
       "_model_module_version": "1.5.0",
       "_model_name": "FloatProgressModel",
       "_view_count": null,
       "_view_module": "@jupyter-widgets/controls",
       "_view_module_version": "1.5.0",
       "_view_name": "ProgressView",
       "bar_style": "success",
       "description": "",
       "description_tooltip": null,
       "layout": "IPY_MODEL_464bba6c68e745d3b50fb2477ac76741",
       "max": 50.0,
       "min": 0.0,
       "orientation": "horizontal",
       "style": "IPY_MODEL_834c033ba29349bca877c68bfd42277e",
       "value": 50.0
      }
     },
     "3a34cc8e20d84742857a75f790d9bc00": {
      "model_module": "@jupyter-widgets/controls",
      "model_module_version": "1.5.0",
      "model_name": "DescriptionStyleModel",
      "state": {
       "_model_module": "@jupyter-widgets/controls",
       "_model_module_version": "1.5.0",
       "_model_name": "DescriptionStyleModel",
       "_view_count": null,
       "_view_module": "@jupyter-widgets/base",
       "_view_module_version": "1.2.0",
       "_view_name": "StyleView",
       "description_width": ""
      }
     },
     "3df8e1aaac0b4b64a7b899ca82a9ec9b": {
      "model_module": "@jupyter-widgets/base",
      "model_module_version": "1.2.0",
      "model_name": "LayoutModel",
      "state": {
       "_model_module": "@jupyter-widgets/base",
       "_model_module_version": "1.2.0",
       "_model_name": "LayoutModel",
       "_view_count": null,
       "_view_module": "@jupyter-widgets/base",
       "_view_module_version": "1.2.0",
       "_view_name": "LayoutView",
       "align_content": null,
       "align_items": null,
       "align_self": null,
       "border": null,
       "bottom": null,
       "display": null,
       "flex": null,
       "flex_flow": null,
       "grid_area": null,
       "grid_auto_columns": null,
       "grid_auto_flow": null,
       "grid_auto_rows": null,
       "grid_column": null,
       "grid_gap": null,
       "grid_row": null,
       "grid_template_areas": null,
       "grid_template_columns": null,
       "grid_template_rows": null,
       "height": null,
       "justify_content": null,
       "justify_items": null,
       "left": null,
       "margin": null,
       "max_height": null,
       "max_width": null,
       "min_height": null,
       "min_width": null,
       "object_fit": null,
       "object_position": null,
       "order": null,
       "overflow": null,
       "overflow_x": null,
       "overflow_y": null,
       "padding": null,
       "right": null,
       "top": null,
       "visibility": null,
       "width": null
      }
     },
     "464bba6c68e745d3b50fb2477ac76741": {
      "model_module": "@jupyter-widgets/base",
      "model_module_version": "1.2.0",
      "model_name": "LayoutModel",
      "state": {
       "_model_module": "@jupyter-widgets/base",
       "_model_module_version": "1.2.0",
       "_model_name": "LayoutModel",
       "_view_count": null,
       "_view_module": "@jupyter-widgets/base",
       "_view_module_version": "1.2.0",
       "_view_name": "LayoutView",
       "align_content": null,
       "align_items": null,
       "align_self": null,
       "border": null,
       "bottom": null,
       "display": null,
       "flex": null,
       "flex_flow": null,
       "grid_area": null,
       "grid_auto_columns": null,
       "grid_auto_flow": null,
       "grid_auto_rows": null,
       "grid_column": null,
       "grid_gap": null,
       "grid_row": null,
       "grid_template_areas": null,
       "grid_template_columns": null,
       "grid_template_rows": null,
       "height": null,
       "justify_content": null,
       "justify_items": null,
       "left": null,
       "margin": null,
       "max_height": null,
       "max_width": null,
       "min_height": null,
       "min_width": null,
       "object_fit": null,
       "object_position": null,
       "order": null,
       "overflow": null,
       "overflow_x": null,
       "overflow_y": null,
       "padding": null,
       "right": null,
       "top": null,
       "visibility": null,
       "width": null
      }
     },
     "5b5000c542724da89e9db6747243bf50": {
      "model_module": "@jupyter-widgets/controls",
      "model_module_version": "1.5.0",
      "model_name": "HTMLModel",
      "state": {
       "_dom_classes": [],
       "_model_module": "@jupyter-widgets/controls",
       "_model_module_version": "1.5.0",
       "_model_name": "HTMLModel",
       "_view_count": null,
       "_view_module": "@jupyter-widgets/controls",
       "_view_module_version": "1.5.0",
       "_view_name": "HTMLView",
       "description": "",
       "description_tooltip": null,
       "layout": "IPY_MODEL_e3eedde0cc674a4bbbc16c34d9c4a0de",
       "placeholder": "​",
       "style": "IPY_MODEL_08eb04513a084ae49e210e88330ed804",
       "value": " 50/50 [4:13:15&lt;00:00, 303.85s/it]"
      }
     },
     "834c033ba29349bca877c68bfd42277e": {
      "model_module": "@jupyter-widgets/controls",
      "model_module_version": "1.5.0",
      "model_name": "ProgressStyleModel",
      "state": {
       "_model_module": "@jupyter-widgets/controls",
       "_model_module_version": "1.5.0",
       "_model_name": "ProgressStyleModel",
       "_view_count": null,
       "_view_module": "@jupyter-widgets/base",
       "_view_module_version": "1.2.0",
       "_view_name": "StyleView",
       "bar_color": null,
       "description_width": ""
      }
     },
     "e12c7cf8094b474aa0eeb7c781a40bbb": {
      "model_module": "@jupyter-widgets/base",
      "model_module_version": "1.2.0",
      "model_name": "LayoutModel",
      "state": {
       "_model_module": "@jupyter-widgets/base",
       "_model_module_version": "1.2.0",
       "_model_name": "LayoutModel",
       "_view_count": null,
       "_view_module": "@jupyter-widgets/base",
       "_view_module_version": "1.2.0",
       "_view_name": "LayoutView",
       "align_content": null,
       "align_items": null,
       "align_self": null,
       "border": null,
       "bottom": null,
       "display": null,
       "flex": null,
       "flex_flow": null,
       "grid_area": null,
       "grid_auto_columns": null,
       "grid_auto_flow": null,
       "grid_auto_rows": null,
       "grid_column": null,
       "grid_gap": null,
       "grid_row": null,
       "grid_template_areas": null,
       "grid_template_columns": null,
       "grid_template_rows": null,
       "height": null,
       "justify_content": null,
       "justify_items": null,
       "left": null,
       "margin": null,
       "max_height": null,
       "max_width": null,
       "min_height": null,
       "min_width": null,
       "object_fit": null,
       "object_position": null,
       "order": null,
       "overflow": null,
       "overflow_x": null,
       "overflow_y": null,
       "padding": null,
       "right": null,
       "top": null,
       "visibility": null,
       "width": null
      }
     },
     "e3eedde0cc674a4bbbc16c34d9c4a0de": {
      "model_module": "@jupyter-widgets/base",
      "model_module_version": "1.2.0",
      "model_name": "LayoutModel",
      "state": {
       "_model_module": "@jupyter-widgets/base",
       "_model_module_version": "1.2.0",
       "_model_name": "LayoutModel",
       "_view_count": null,
       "_view_module": "@jupyter-widgets/base",
       "_view_module_version": "1.2.0",
       "_view_name": "LayoutView",
       "align_content": null,
       "align_items": null,
       "align_self": null,
       "border": null,
       "bottom": null,
       "display": null,
       "flex": null,
       "flex_flow": null,
       "grid_area": null,
       "grid_auto_columns": null,
       "grid_auto_flow": null,
       "grid_auto_rows": null,
       "grid_column": null,
       "grid_gap": null,
       "grid_row": null,
       "grid_template_areas": null,
       "grid_template_columns": null,
       "grid_template_rows": null,
       "height": null,
       "justify_content": null,
       "justify_items": null,
       "left": null,
       "margin": null,
       "max_height": null,
       "max_width": null,
       "min_height": null,
       "min_width": null,
       "object_fit": null,
       "object_position": null,
       "order": null,
       "overflow": null,
       "overflow_x": null,
       "overflow_y": null,
       "padding": null,
       "right": null,
       "top": null,
       "visibility": null,
       "width": null
      }
     }
    },
    "version_major": 2,
    "version_minor": 0
   }
  }
 },
 "nbformat": 4,
 "nbformat_minor": 5
}
