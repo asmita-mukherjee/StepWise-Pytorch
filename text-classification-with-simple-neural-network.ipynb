{
 "cells": [
  {
   "cell_type": "markdown",
   "id": "95ee8395",
   "metadata": {
    "papermill": {
     "duration": 0.009133,
     "end_time": "2023-05-09T13:58:14.297982",
     "exception": false,
     "start_time": "2023-05-09T13:58:14.288849",
     "status": "completed"
    },
    "tags": []
   },
   "source": [
    "## Imports"
   ]
  },
  {
   "cell_type": "code",
   "execution_count": 1,
   "id": "7c3bac74",
   "metadata": {
    "execution": {
     "iopub.execute_input": "2023-05-09T13:58:14.316533Z",
     "iopub.status.busy": "2023-05-09T13:58:14.316190Z",
     "iopub.status.idle": "2023-05-09T13:58:14.326311Z",
     "shell.execute_reply": "2023-05-09T13:58:14.325507Z"
    },
    "papermill": {
     "duration": 0.021792,
     "end_time": "2023-05-09T13:58:14.328399",
     "exception": false,
     "start_time": "2023-05-09T13:58:14.306607",
     "status": "completed"
    },
    "tags": []
   },
   "outputs": [],
   "source": [
    "import pickle"
   ]
  },
  {
   "cell_type": "code",
   "execution_count": 2,
   "id": "c02e3a6f",
   "metadata": {
    "execution": {
     "iopub.execute_input": "2023-05-09T13:58:14.346804Z",
     "iopub.status.busy": "2023-05-09T13:58:14.346031Z",
     "iopub.status.idle": "2023-05-09T13:58:18.037595Z",
     "shell.execute_reply": "2023-05-09T13:58:18.036719Z"
    },
    "papermill": {
     "duration": 3.703037,
     "end_time": "2023-05-09T13:58:18.039967",
     "exception": false,
     "start_time": "2023-05-09T13:58:14.336930",
     "status": "completed"
    },
    "tags": []
   },
   "outputs": [],
   "source": [
    "import torch\n",
    "import torch.nn as nn"
   ]
  },
  {
   "cell_type": "code",
   "execution_count": 3,
   "id": "b5cc9c95",
   "metadata": {
    "execution": {
     "iopub.execute_input": "2023-05-09T13:58:18.059436Z",
     "iopub.status.busy": "2023-05-09T13:58:18.058584Z",
     "iopub.status.idle": "2023-05-09T13:58:18.063253Z",
     "shell.execute_reply": "2023-05-09T13:58:18.061932Z"
    },
    "papermill": {
     "duration": 0.016143,
     "end_time": "2023-05-09T13:58:18.065094",
     "exception": false,
     "start_time": "2023-05-09T13:58:18.048951",
     "status": "completed"
    },
    "tags": []
   },
   "outputs": [],
   "source": [
    "from torch.utils.data import Dataset\n",
    "from torch.utils.data import DataLoader"
   ]
  },
  {
   "cell_type": "code",
   "execution_count": 4,
   "id": "364cc3df",
   "metadata": {
    "execution": {
     "iopub.execute_input": "2023-05-09T13:58:18.083630Z",
     "iopub.status.busy": "2023-05-09T13:58:18.082843Z",
     "iopub.status.idle": "2023-05-09T13:58:18.087172Z",
     "shell.execute_reply": "2023-05-09T13:58:18.086282Z"
    },
    "papermill": {
     "duration": 0.015484,
     "end_time": "2023-05-09T13:58:18.088942",
     "exception": false,
     "start_time": "2023-05-09T13:58:18.073458",
     "status": "completed"
    },
    "tags": []
   },
   "outputs": [],
   "source": [
    "import gc"
   ]
  },
  {
   "cell_type": "markdown",
   "id": "0543d23d",
   "metadata": {
    "papermill": {
     "duration": 0.008605,
     "end_time": "2023-05-09T13:58:18.106045",
     "exception": false,
     "start_time": "2023-05-09T13:58:18.097440",
     "status": "completed"
    },
    "tags": []
   },
   "source": [
    "## Playground\n"
   ]
  },
  {
   "cell_type": "markdown",
   "id": "fc8ead89",
   "metadata": {
    "papermill": {
     "duration": 0.008145,
     "end_time": "2023-05-09T13:58:18.122667",
     "exception": false,
     "start_time": "2023-05-09T13:58:18.114522",
     "status": "completed"
    },
    "tags": []
   },
   "source": [
    "#### Trying out nn.Flatten"
   ]
  },
  {
   "cell_type": "code",
   "execution_count": 5,
   "id": "56748d0b",
   "metadata": {
    "execution": {
     "iopub.execute_input": "2023-05-09T13:58:18.141180Z",
     "iopub.status.busy": "2023-05-09T13:58:18.140336Z",
     "iopub.status.idle": "2023-05-09T13:58:18.176934Z",
     "shell.execute_reply": "2023-05-09T13:58:18.176085Z"
    },
    "papermill": {
     "duration": 0.047646,
     "end_time": "2023-05-09T13:58:18.178801",
     "exception": false,
     "start_time": "2023-05-09T13:58:18.131155",
     "status": "completed"
    },
    "tags": []
   },
   "outputs": [
    {
     "data": {
      "text/plain": [
       "torch.Size([32, 50])"
      ]
     },
     "execution_count": 5,
     "metadata": {},
     "output_type": "execute_result"
    }
   ],
   "source": [
    "m = nn.Flatten()\n",
    "\n",
    "input = torch.randn(32,2,5,5)\n",
    "output = m(input) # flattens from the dim 1 to -1 i.e (2,5,5)\n",
    "\n",
    "output.size()\n"
   ]
  },
  {
   "cell_type": "code",
   "execution_count": 6,
   "id": "70b40e8d",
   "metadata": {
    "execution": {
     "iopub.execute_input": "2023-05-09T13:58:18.197878Z",
     "iopub.status.busy": "2023-05-09T13:58:18.197118Z",
     "iopub.status.idle": "2023-05-09T13:58:18.203363Z",
     "shell.execute_reply": "2023-05-09T13:58:18.202444Z"
    },
    "papermill": {
     "duration": 0.017477,
     "end_time": "2023-05-09T13:58:18.205255",
     "exception": false,
     "start_time": "2023-05-09T13:58:18.187778",
     "status": "completed"
    },
    "tags": []
   },
   "outputs": [
    {
     "data": {
      "text/plain": [
       "torch.Size([320, 5])"
      ]
     },
     "execution_count": 6,
     "metadata": {},
     "output_type": "execute_result"
    }
   ],
   "source": [
    "m = nn.Flatten(0,2)#flattens from the dim 0 to 2 (32,2,5)\n",
    "output = m(input)\n",
    "output.shape"
   ]
  },
  {
   "cell_type": "markdown",
   "id": "de69100f",
   "metadata": {
    "papermill": {
     "duration": 0.008535,
     "end_time": "2023-05-09T13:58:18.222622",
     "exception": false,
     "start_time": "2023-05-09T13:58:18.214087",
     "status": "completed"
    },
    "tags": []
   },
   "source": [
    "Hence the flatten layer combines the elments along the axis start to end index"
   ]
  },
  {
   "cell_type": "markdown",
   "id": "f82bcf4a",
   "metadata": {
    "papermill": {
     "duration": 0.008451,
     "end_time": "2023-05-09T13:58:18.239723",
     "exception": false,
     "start_time": "2023-05-09T13:58:18.231272",
     "status": "completed"
    },
    "tags": []
   },
   "source": [
    "### Set the device"
   ]
  },
  {
   "cell_type": "markdown",
   "id": "8400fc74",
   "metadata": {
    "papermill": {
     "duration": 0.008277,
     "end_time": "2023-05-09T13:58:18.256580",
     "exception": false,
     "start_time": "2023-05-09T13:58:18.248303",
     "status": "completed"
    },
    "tags": []
   },
   "source": [
    "> This is the most important step!!"
   ]
  },
  {
   "cell_type": "code",
   "execution_count": 7,
   "id": "6b21e22a",
   "metadata": {
    "execution": {
     "iopub.execute_input": "2023-05-09T13:58:18.275194Z",
     "iopub.status.busy": "2023-05-09T13:58:18.274424Z",
     "iopub.status.idle": "2023-05-09T13:58:18.377791Z",
     "shell.execute_reply": "2023-05-09T13:58:18.376746Z"
    },
    "papermill": {
     "duration": 0.115023,
     "end_time": "2023-05-09T13:58:18.380144",
     "exception": false,
     "start_time": "2023-05-09T13:58:18.265121",
     "status": "completed"
    },
    "tags": []
   },
   "outputs": [],
   "source": [
    "device = \"cuda\" if torch.cuda.is_available() else \"cpu\""
   ]
  },
  {
   "cell_type": "markdown",
   "id": "fb0b8f45",
   "metadata": {
    "papermill": {
     "duration": 0.009141,
     "end_time": "2023-05-09T13:58:18.398784",
     "exception": false,
     "start_time": "2023-05-09T13:58:18.389643",
     "status": "completed"
    },
    "tags": []
   },
   "source": [
    "#### Load the tensors"
   ]
  },
  {
   "cell_type": "code",
   "execution_count": 8,
   "id": "a97850d4",
   "metadata": {
    "execution": {
     "iopub.execute_input": "2023-05-09T13:58:18.418329Z",
     "iopub.status.busy": "2023-05-09T13:58:18.418025Z",
     "iopub.status.idle": "2023-05-09T13:58:18.422507Z",
     "shell.execute_reply": "2023-05-09T13:58:18.421525Z"
    },
    "papermill": {
     "duration": 0.0166,
     "end_time": "2023-05-09T13:58:18.424418",
     "exception": false,
     "start_time": "2023-05-09T13:58:18.407818",
     "status": "completed"
    },
    "tags": []
   },
   "outputs": [],
   "source": [
    "def load_pickle(f_name):\n",
    "    with open(f_name,\"rb\") as f:\n",
    "        obj = pickle.load(f)\n",
    "    \n",
    "    return obj"
   ]
  },
  {
   "cell_type": "code",
   "execution_count": 9,
   "id": "a3684ea0",
   "metadata": {
    "execution": {
     "iopub.execute_input": "2023-05-09T13:58:18.444066Z",
     "iopub.status.busy": "2023-05-09T13:58:18.443261Z",
     "iopub.status.idle": "2023-05-09T13:58:54.279328Z",
     "shell.execute_reply": "2023-05-09T13:58:54.278245Z"
    },
    "papermill": {
     "duration": 35.848651,
     "end_time": "2023-05-09T13:58:54.281986",
     "exception": false,
     "start_time": "2023-05-09T13:58:18.433335",
     "status": "completed"
    },
    "tags": []
   },
   "outputs": [],
   "source": [
    "train_text_tensors = load_pickle(\"/kaggle/input/converting-text-to-tensors-ipynb/train_text_tensors.pkl\")"
   ]
  },
  {
   "cell_type": "code",
   "execution_count": 10,
   "id": "452c293a",
   "metadata": {
    "execution": {
     "iopub.execute_input": "2023-05-09T13:58:54.303536Z",
     "iopub.status.busy": "2023-05-09T13:58:54.302085Z",
     "iopub.status.idle": "2023-05-09T13:59:03.039805Z",
     "shell.execute_reply": "2023-05-09T13:59:03.038824Z"
    },
    "papermill": {
     "duration": 8.750441,
     "end_time": "2023-05-09T13:59:03.042187",
     "exception": false,
     "start_time": "2023-05-09T13:58:54.291746",
     "status": "completed"
    },
    "tags": []
   },
   "outputs": [],
   "source": [
    "test_text_tensors = load_pickle(\"/kaggle/input/converting-text-to-tensors-ipynb/test_text_tensors.pkl\")"
   ]
  },
  {
   "cell_type": "code",
   "execution_count": 11,
   "id": "1dd23155",
   "metadata": {
    "execution": {
     "iopub.execute_input": "2023-05-09T13:59:03.061867Z",
     "iopub.status.busy": "2023-05-09T13:59:03.061015Z",
     "iopub.status.idle": "2023-05-09T13:59:03.088222Z",
     "shell.execute_reply": "2023-05-09T13:59:03.087415Z"
    },
    "papermill": {
     "duration": 0.038823,
     "end_time": "2023-05-09T13:59:03.090100",
     "exception": false,
     "start_time": "2023-05-09T13:59:03.051277",
     "status": "completed"
    },
    "tags": []
   },
   "outputs": [],
   "source": [
    "train_labels_tensors = load_pickle(\"/kaggle/input/converting-text-to-tensors-ipynb/train_labels_tensors\")"
   ]
  },
  {
   "cell_type": "code",
   "execution_count": 12,
   "id": "85b04fd1",
   "metadata": {
    "execution": {
     "iopub.execute_input": "2023-05-09T13:59:03.121345Z",
     "iopub.status.busy": "2023-05-09T13:59:03.121059Z",
     "iopub.status.idle": "2023-05-09T13:59:03.148832Z",
     "shell.execute_reply": "2023-05-09T13:59:03.146864Z"
    },
    "papermill": {
     "duration": 0.053477,
     "end_time": "2023-05-09T13:59:03.152107",
     "exception": false,
     "start_time": "2023-05-09T13:59:03.098630",
     "status": "completed"
    },
    "tags": []
   },
   "outputs": [],
   "source": [
    "test_labels_tensors = load_pickle(\"/kaggle/input/converting-text-to-tensors-ipynb/test_labels_tensors\")"
   ]
  },
  {
   "cell_type": "markdown",
   "id": "43ebc805",
   "metadata": {
    "papermill": {
     "duration": 0.025078,
     "end_time": "2023-05-09T13:59:03.201620",
     "exception": false,
     "start_time": "2023-05-09T13:59:03.176542",
     "status": "completed"
    },
    "tags": []
   },
   "source": [
    "## Custom Dataset and DataLoaders"
   ]
  },
  {
   "cell_type": "code",
   "execution_count": 13,
   "id": "1c05c870",
   "metadata": {
    "execution": {
     "iopub.execute_input": "2023-05-09T13:59:03.254415Z",
     "iopub.status.busy": "2023-05-09T13:59:03.253112Z",
     "iopub.status.idle": "2023-05-09T13:59:03.263694Z",
     "shell.execute_reply": "2023-05-09T13:59:03.261890Z"
    },
    "papermill": {
     "duration": 0.041065,
     "end_time": "2023-05-09T13:59:03.267342",
     "exception": false,
     "start_time": "2023-05-09T13:59:03.226277",
     "status": "completed"
    },
    "tags": []
   },
   "outputs": [],
   "source": [
    "class TextLabelDataset(Dataset):\n",
    "    def __init__(self,text_tensor,label_tensor):\n",
    "        \n",
    "        self.text_tensor = text_tensor\n",
    "        self.label_tensor = label_tensor\n",
    "    \n",
    "    def __len__(self):\n",
    "        return len(self.text_tensor)\n",
    "    \n",
    "    def __getitem__(self,idx):\n",
    "        return self.text_tensor[idx],self.label_tensor[idx]"
   ]
  },
  {
   "cell_type": "code",
   "execution_count": 14,
   "id": "aa5fd388",
   "metadata": {
    "execution": {
     "iopub.execute_input": "2023-05-09T13:59:03.313307Z",
     "iopub.status.busy": "2023-05-09T13:59:03.312587Z",
     "iopub.status.idle": "2023-05-09T13:59:03.316876Z",
     "shell.execute_reply": "2023-05-09T13:59:03.315967Z"
    },
    "papermill": {
     "duration": 0.027456,
     "end_time": "2023-05-09T13:59:03.318693",
     "exception": false,
     "start_time": "2023-05-09T13:59:03.291237",
     "status": "completed"
    },
    "tags": []
   },
   "outputs": [],
   "source": [
    "train_dataset = TextLabelDataset(train_text_tensors,train_labels_tensors)"
   ]
  },
  {
   "cell_type": "code",
   "execution_count": 15,
   "id": "43d651ca",
   "metadata": {
    "execution": {
     "iopub.execute_input": "2023-05-09T13:59:03.336696Z",
     "iopub.status.busy": "2023-05-09T13:59:03.336436Z",
     "iopub.status.idle": "2023-05-09T13:59:03.342394Z",
     "shell.execute_reply": "2023-05-09T13:59:03.341512Z"
    },
    "papermill": {
     "duration": 0.017121,
     "end_time": "2023-05-09T13:59:03.344287",
     "exception": false,
     "start_time": "2023-05-09T13:59:03.327166",
     "status": "completed"
    },
    "tags": []
   },
   "outputs": [
    {
     "data": {
      "text/plain": [
       "<function gc.collect(generation=2)>"
      ]
     },
     "execution_count": 15,
     "metadata": {},
     "output_type": "execute_result"
    }
   ],
   "source": [
    "del train_text_tensors\n",
    "del train_labels_tensors\n",
    "gc.collect"
   ]
  },
  {
   "cell_type": "code",
   "execution_count": 16,
   "id": "75d5ef5b",
   "metadata": {
    "execution": {
     "iopub.execute_input": "2023-05-09T13:59:03.363012Z",
     "iopub.status.busy": "2023-05-09T13:59:03.362772Z",
     "iopub.status.idle": "2023-05-09T13:59:03.367706Z",
     "shell.execute_reply": "2023-05-09T13:59:03.366922Z"
    },
    "papermill": {
     "duration": 0.016342,
     "end_time": "2023-05-09T13:59:03.369605",
     "exception": false,
     "start_time": "2023-05-09T13:59:03.353263",
     "status": "completed"
    },
    "tags": []
   },
   "outputs": [],
   "source": [
    "test_dataset = TextLabelDataset(test_text_tensors,test_labels_tensors)"
   ]
  },
  {
   "cell_type": "code",
   "execution_count": 17,
   "id": "b1e5d866",
   "metadata": {
    "execution": {
     "iopub.execute_input": "2023-05-09T13:59:03.388890Z",
     "iopub.status.busy": "2023-05-09T13:59:03.388596Z",
     "iopub.status.idle": "2023-05-09T13:59:03.529578Z",
     "shell.execute_reply": "2023-05-09T13:59:03.528751Z"
    },
    "papermill": {
     "duration": 0.153011,
     "end_time": "2023-05-09T13:59:03.531521",
     "exception": false,
     "start_time": "2023-05-09T13:59:03.378510",
     "status": "completed"
    },
    "tags": []
   },
   "outputs": [
    {
     "data": {
      "text/plain": [
       "63"
      ]
     },
     "execution_count": 17,
     "metadata": {},
     "output_type": "execute_result"
    }
   ],
   "source": [
    "del test_text_tensors\n",
    "del test_labels_tensors\n",
    "gc.collect()"
   ]
  },
  {
   "cell_type": "code",
   "execution_count": 18,
   "id": "b06dd0fd",
   "metadata": {
    "execution": {
     "iopub.execute_input": "2023-05-09T13:59:03.551052Z",
     "iopub.status.busy": "2023-05-09T13:59:03.550242Z",
     "iopub.status.idle": "2023-05-09T13:59:03.554956Z",
     "shell.execute_reply": "2023-05-09T13:59:03.554098Z"
    },
    "papermill": {
     "duration": 0.016175,
     "end_time": "2023-05-09T13:59:03.556665",
     "exception": false,
     "start_time": "2023-05-09T13:59:03.540490",
     "status": "completed"
    },
    "tags": []
   },
   "outputs": [],
   "source": [
    "#batch size of 32 is too large for kaggle mem, reducing it to 4\n",
    "#if you are reducing the size of batch , also reduce the learning rate! because sgd will update after each batch. and since now the batches are small,hence more frequent updates,hence the lr should be less\n",
    "train_loader = DataLoader(train_dataset,batch_size=4,shuffle=True)"
   ]
  },
  {
   "cell_type": "code",
   "execution_count": 19,
   "id": "f9bc435d",
   "metadata": {
    "execution": {
     "iopub.execute_input": "2023-05-09T13:59:03.575307Z",
     "iopub.status.busy": "2023-05-09T13:59:03.575062Z",
     "iopub.status.idle": "2023-05-09T13:59:03.700253Z",
     "shell.execute_reply": "2023-05-09T13:59:03.699267Z"
    },
    "papermill": {
     "duration": 0.137866,
     "end_time": "2023-05-09T13:59:03.703385",
     "exception": false,
     "start_time": "2023-05-09T13:59:03.565519",
     "status": "completed"
    },
    "tags": []
   },
   "outputs": [
    {
     "data": {
      "text/plain": [
       "0"
      ]
     },
     "execution_count": 19,
     "metadata": {},
     "output_type": "execute_result"
    }
   ],
   "source": [
    "del train_dataset\n",
    "gc.collect()"
   ]
  },
  {
   "cell_type": "code",
   "execution_count": 20,
   "id": "97a4eb9c",
   "metadata": {
    "execution": {
     "iopub.execute_input": "2023-05-09T13:59:03.722474Z",
     "iopub.status.busy": "2023-05-09T13:59:03.722217Z",
     "iopub.status.idle": "2023-05-09T13:59:03.726751Z",
     "shell.execute_reply": "2023-05-09T13:59:03.725702Z"
    },
    "papermill": {
     "duration": 0.016302,
     "end_time": "2023-05-09T13:59:03.728744",
     "exception": false,
     "start_time": "2023-05-09T13:59:03.712442",
     "status": "completed"
    },
    "tags": []
   },
   "outputs": [],
   "source": [
    "test_loader = DataLoader(test_dataset,batch_size=4,shuffle=True)"
   ]
  },
  {
   "cell_type": "code",
   "execution_count": 21,
   "id": "0cff9352",
   "metadata": {
    "execution": {
     "iopub.execute_input": "2023-05-09T13:59:03.747922Z",
     "iopub.status.busy": "2023-05-09T13:59:03.747648Z",
     "iopub.status.idle": "2023-05-09T13:59:03.873650Z",
     "shell.execute_reply": "2023-05-09T13:59:03.872823Z"
    },
    "papermill": {
     "duration": 0.138094,
     "end_time": "2023-05-09T13:59:03.875602",
     "exception": false,
     "start_time": "2023-05-09T13:59:03.737508",
     "status": "completed"
    },
    "tags": []
   },
   "outputs": [
    {
     "data": {
      "text/plain": [
       "0"
      ]
     },
     "execution_count": 21,
     "metadata": {},
     "output_type": "execute_result"
    }
   ],
   "source": [
    "del test_dataset\n",
    "gc.collect()"
   ]
  },
  {
   "cell_type": "code",
   "execution_count": 22,
   "id": "a4a52ec3",
   "metadata": {
    "execution": {
     "iopub.execute_input": "2023-05-09T13:59:03.895719Z",
     "iopub.status.busy": "2023-05-09T13:59:03.894907Z",
     "iopub.status.idle": "2023-05-09T13:59:03.942948Z",
     "shell.execute_reply": "2023-05-09T13:59:03.941579Z"
    },
    "papermill": {
     "duration": 0.059886,
     "end_time": "2023-05-09T13:59:03.944890",
     "exception": false,
     "start_time": "2023-05-09T13:59:03.885004",
     "status": "completed"
    },
    "tags": []
   },
   "outputs": [
    {
     "name": "stdout",
     "output_type": "stream",
     "text": [
      "Shape of text tensor torch.Size([4, 16793])\n",
      "Shape of label tensor torch.Size([4, 3])\n"
     ]
    }
   ],
   "source": [
    "##having a sneak at one train batch\n",
    "\n",
    "for idx,data in enumerate(train_loader):\n",
    "    text_tensor,label_tensor = data\n",
    "    \n",
    "    print(f\"Shape of text tensor {text_tensor.shape}\")\n",
    "    print(f\"Shape of label tensor {label_tensor.shape}\")\n",
    "    break"
   ]
  },
  {
   "cell_type": "markdown",
   "id": "03a00864",
   "metadata": {
    "papermill": {
     "duration": 0.008795,
     "end_time": "2023-05-09T13:59:03.962747",
     "exception": false,
     "start_time": "2023-05-09T13:59:03.953952",
     "status": "completed"
    },
    "tags": []
   },
   "source": [
    "## Building a Custom Model using Model parallelism"
   ]
  },
  {
   "cell_type": "code",
   "execution_count": 23,
   "id": "05747c09",
   "metadata": {
    "execution": {
     "iopub.execute_input": "2023-05-09T13:59:03.982102Z",
     "iopub.status.busy": "2023-05-09T13:59:03.981807Z",
     "iopub.status.idle": "2023-05-09T13:59:03.988472Z",
     "shell.execute_reply": "2023-05-09T13:59:03.987569Z"
    },
    "papermill": {
     "duration": 0.018741,
     "end_time": "2023-05-09T13:59:03.990527",
     "exception": false,
     "start_time": "2023-05-09T13:59:03.971786",
     "status": "completed"
    },
    "tags": []
   },
   "outputs": [],
   "source": [
    "class TextClassification(nn.Module):\n",
    "    \n",
    "    def __init__(self,vocab_size,embed_dim,hidden_dim):\n",
    "        \n",
    "        super().__init__()\n",
    "        \n",
    "        self.embed = nn.Embedding(vocab_size,hidden_dim,padding_idx=0) #output dim = batch_size*vocab_size*hidden_dim\n",
    "        \n",
    "        #now since our matrix has the embeddings of each word in the batch of the sentences and we need the embeddings of each sentence\n",
    "        #hence we can flatten the last 2 dim\n",
    "        self.flatten = nn.Flatten() # batch_size * (vocab_size*hidden_dim)\n",
    "        \n",
    "        self.gelu1 = nn.GELU()\n",
    "        self.linear = nn.Linear(vocab_size*hidden_dim,32) #output dim = batch_size*32\n",
    "        self.gelu2 = nn.GELU()\n",
    "        \n",
    "        \n",
    "        self.final = nn.Linear(32,3)#output dim = batch_size*3\n",
    " \n",
    "    def forward(self,text_tensor):\n",
    "        output = self.embed(text_tensor)\n",
    "        output = self.flatten(output)\n",
    "        output = self.gelu1(output)\n",
    "        output = self.linear(output)\n",
    "        output = self.gelu2(output)\n",
    "        output = self.final(output)\n",
    "        \n",
    "        return output"
   ]
  },
  {
   "cell_type": "markdown",
   "id": "0c6d6ab0",
   "metadata": {
    "papermill": {
     "duration": 0.008845,
     "end_time": "2023-05-09T13:59:04.008903",
     "exception": false,
     "start_time": "2023-05-09T13:59:04.000058",
     "status": "completed"
    },
    "tags": []
   },
   "source": [
    "### Okay then! we can proceed with writing the training loop"
   ]
  },
  {
   "cell_type": "markdown",
   "id": "6fa4c817",
   "metadata": {
    "papermill": {
     "duration": 0.009026,
     "end_time": "2023-05-09T13:59:04.027022",
     "exception": false,
     "start_time": "2023-05-09T13:59:04.017996",
     "status": "completed"
    },
    "tags": []
   },
   "source": [
    "##### But wait a min!! we still have bunch of things left to do"
   ]
  },
  {
   "cell_type": "markdown",
   "id": "5d987366",
   "metadata": {
    "papermill": {
     "duration": 0.008852,
     "end_time": "2023-05-09T13:59:04.044851",
     "exception": false,
     "start_time": "2023-05-09T13:59:04.035999",
     "status": "completed"
    },
    "tags": []
   },
   "source": [
    "### Set the model to the current device i.e cpu or gpu\n",
    "\n",
    "> note: we have already set the input tensors to the device"
   ]
  },
  {
   "cell_type": "markdown",
   "id": "3520b1b8",
   "metadata": {
    "papermill": {
     "duration": 0.008984,
     "end_time": "2023-05-09T13:59:04.063057",
     "exception": false,
     "start_time": "2023-05-09T13:59:04.054073",
     "status": "completed"
    },
    "tags": []
   },
   "source": [
    "Check the length of the vocab "
   ]
  },
  {
   "cell_type": "code",
   "execution_count": 24,
   "id": "05bf6235",
   "metadata": {
    "execution": {
     "iopub.execute_input": "2023-05-09T13:59:04.083033Z",
     "iopub.status.busy": "2023-05-09T13:59:04.082117Z",
     "iopub.status.idle": "2023-05-09T13:59:05.160767Z",
     "shell.execute_reply": "2023-05-09T13:59:05.159710Z"
    },
    "papermill": {
     "duration": 1.091491,
     "end_time": "2023-05-09T13:59:05.163402",
     "exception": false,
     "start_time": "2023-05-09T13:59:04.071911",
     "status": "completed"
    },
    "tags": []
   },
   "outputs": [],
   "source": [
    "vocab = load_pickle(\"/kaggle/input/converting-text-to-tensors-ipynb/vocab.pkl\")\n",
    "vocab_len = len(vocab)"
   ]
  },
  {
   "cell_type": "code",
   "execution_count": 25,
   "id": "5fc7db6b",
   "metadata": {
    "execution": {
     "iopub.execute_input": "2023-05-09T13:59:05.186449Z",
     "iopub.status.busy": "2023-05-09T13:59:05.185904Z",
     "iopub.status.idle": "2023-05-09T13:59:09.350562Z",
     "shell.execute_reply": "2023-05-09T13:59:09.349568Z"
    },
    "papermill": {
     "duration": 4.179014,
     "end_time": "2023-05-09T13:59:09.353159",
     "exception": false,
     "start_time": "2023-05-09T13:59:05.174145",
     "status": "completed"
    },
    "tags": []
   },
   "outputs": [],
   "source": [
    "model = TextClassification(vocab_size = vocab_len,embed_dim=512,hidden_dim=128)\n",
    "model = model.to(device)\n"
   ]
  },
  {
   "cell_type": "markdown",
   "id": "0b3b89b9",
   "metadata": {
    "papermill": {
     "duration": 0.009431,
     "end_time": "2023-05-09T13:59:09.372821",
     "exception": false,
     "start_time": "2023-05-09T13:59:09.363390",
     "status": "completed"
    },
    "tags": []
   },
   "source": [
    "# Set the loss function:\n",
    "\n",
    "Since we are dealing with a classification problem here , we will use cross entopy loss function\n",
    "which basically calculates the entropy between the probability distribuition which is outputed by the model and the gold probability distribuition.\n",
    "\n",
    "The more similar the probability distribution the less will the entropy i.e the loss\n",
    "\n",
    "> Foumula for binary classification for a single instance\n",
    "loss = -(p(gold output)*log(p(predicted output)) - (1-p(gold output))*log(1-p(predicted output)))\n",
    "\n",
    "> The above can be be generalized for multiple classes\n",
    "loss = -sum for each class(p(gold output)*log(p(predicted output)))\n"
   ]
  },
  {
   "cell_type": "code",
   "execution_count": 26,
   "id": "dc79c9ab",
   "metadata": {
    "execution": {
     "iopub.execute_input": "2023-05-09T13:59:09.393806Z",
     "iopub.status.busy": "2023-05-09T13:59:09.392338Z",
     "iopub.status.idle": "2023-05-09T13:59:09.397329Z",
     "shell.execute_reply": "2023-05-09T13:59:09.396372Z"
    },
    "papermill": {
     "duration": 0.017221,
     "end_time": "2023-05-09T13:59:09.399175",
     "exception": false,
     "start_time": "2023-05-09T13:59:09.381954",
     "status": "completed"
    },
    "tags": []
   },
   "outputs": [],
   "source": [
    "loss_fn = nn.CrossEntropyLoss()"
   ]
  },
  {
   "cell_type": "markdown",
   "id": "446552b3",
   "metadata": {
    "papermill": {
     "duration": 0.008812,
     "end_time": "2023-05-09T13:59:09.417221",
     "exception": false,
     "start_time": "2023-05-09T13:59:09.408409",
     "status": "completed"
    },
    "tags": []
   },
   "source": [
    "# Set the optimizer\n",
    "\n",
    "The optimizer decides how the gradient will be updated in backpropagation.Some of the commonly known optimizers are :\n",
    "\n",
    "> 1) SGD : This is the same as mini batch gradient descent .w_new = W_old - grad_of_loss_wrt_w\n",
    "\n",
    "> 2) SGD with momentum : Now SGD can get stuck it local minima,this borrows the intuition of momentum in physics, where the momentum due to previous gradient updates can push the parameter out of its local minima and lead towards global minima.  w_new = W_old + momentum, where momentum = function(grad_wrt_w_old, previous momentum)\n",
    "\n",
    "> 3) Adagrad : Often times, using only momentum might be slow, as the gradients of many paprameters might tend to zero and not contirbute to gradient descent. Here we maintain the sums of squares of gradient and divide the learning rate of each paramater by the square root of the accualted sums of gradients for that particular parameter. Hence unlike momentum , different parameters will have different learning rates , which is better.\n",
    "\n",
    "> 4) RMSProp : Since Adagrad uses squares of gradients, it can accumulate gradients too quickly and thus cause the learning rates to drop too rapidly. RMSProp thus handles the problem of Adagrad.\n",
    "\n",
    "> 5) Adam : Adam basically combines the adavantages of momentum and rmsProp. With momentum it acheives the speed of convergence and with rmsprop every parameter gets to have its own learning rate.\n"
   ]
  },
  {
   "cell_type": "code",
   "execution_count": 27,
   "id": "718c7d35",
   "metadata": {
    "execution": {
     "iopub.execute_input": "2023-05-09T13:59:09.436246Z",
     "iopub.status.busy": "2023-05-09T13:59:09.435987Z",
     "iopub.status.idle": "2023-05-09T13:59:09.440500Z",
     "shell.execute_reply": "2023-05-09T13:59:09.439587Z"
    },
    "papermill": {
     "duration": 0.016103,
     "end_time": "2023-05-09T13:59:09.442314",
     "exception": false,
     "start_time": "2023-05-09T13:59:09.426211",
     "status": "completed"
    },
    "tags": []
   },
   "outputs": [],
   "source": [
    "#setting sgd with momentum\n",
    "#optimizer = torch.optim.SGD(model.parameters(),lr=0.0001,momentum=0.9) #this shoots off the val loss of the optima!\n",
    "\n",
    "optimizer = torch.optim.SGD(model.parameters(),lr=0.000001,momentum=0.6) #trying with a lower momentum and learning rate"
   ]
  },
  {
   "cell_type": "code",
   "execution_count": 28,
   "id": "22a72c21",
   "metadata": {
    "execution": {
     "iopub.execute_input": "2023-05-09T13:59:09.461648Z",
     "iopub.status.busy": "2023-05-09T13:59:09.461405Z",
     "iopub.status.idle": "2023-05-09T13:59:09.468635Z",
     "shell.execute_reply": "2023-05-09T13:59:09.467718Z"
    },
    "papermill": {
     "duration": 0.019228,
     "end_time": "2023-05-09T13:59:09.470447",
     "exception": false,
     "start_time": "2023-05-09T13:59:09.451219",
     "status": "completed"
    },
    "tags": []
   },
   "outputs": [],
   "source": [
    "def training_for_one_epoch(dataloader,epoch_nos):\n",
    "    '''\n",
    "        One epoch will do forward pass and backward pass for the model for the entire dataset for one iteration.\n",
    "        For convergence, we would have do forward and backward pass multiple times for the dataset\n",
    "\n",
    "    '''\n",
    "    loss_for_the_epoch = 0\n",
    "    \n",
    "    #iterate through the dataset in batches, i.e we will at a time load the chuncks(of size = batch size) of dataset\n",
    "    for idx,data in enumerate(dataloader):\n",
    "        \n",
    "        input_tensors,label_tensors = data\n",
    "        \n",
    "        input_tensors = input_tensors.to(device)\n",
    "        label_tensors = label_tensors.to(device)\n",
    "        \n",
    "        #embedding layer needs the input to be of int\n",
    "        input_tensors = input_tensors.to(torch.int)\n",
    "        \n",
    "        #label tensor required by the loss function is to be float\n",
    "        label_tensors = label_tensors.to(torch.float)\n",
    "        \n",
    "        #refer to the notebook on autograd in the repository and recall how we calculate gradients.\n",
    "        #optimizer will store the .grad value of all the parameters, hence at the start of our iteration, we will set the grads to 0\n",
    "        #this is important, as we do not want to accumulate the gradients for each batch.\n",
    "        #since we are doing sgd, we will update the gradients(via backprop) at the end of each batch and clear the gradients at the begining of each batch\n",
    "        \n",
    "        optimizer.zero_grad()\n",
    "        \n",
    "        #get the ouput of the model by doing forward pass\n",
    "        model_output = model(input_tensors)\n",
    "        \n",
    "        #compute the loss\n",
    "        loss = loss_fn(model_output,label_tensors)\n",
    "        \n",
    "        #now that we have the loss!, we would want to update all the parameters of our model by backprop\n",
    "        #and recall this step from the autograd notebook as well\n",
    "        #hence this step will calculate and update the .grad values of all the parameters in our model\n",
    "        loss.backward()\n",
    "        \n",
    "        \n",
    "        #and now that we have the gradient values of all our parameter, we would do gradient descent for the parameters. i.e upate the parameter values\n",
    "        optimizer.step()\n",
    "        \n",
    "        loss_for_the_epoch += loss.item() \n",
    "        \n",
    "        #print the loss for every 500th batch\n",
    "        if idx % 1000 == 999:\n",
    "            curr_loss = loss_for_the_epoch/1000 # loss per batch\n",
    "            print('  batch {} loss: {}'.format(idx + 1, curr_loss))\n",
    "    \n",
    "    \n",
    "    return loss_for_the_epoch/len(dataloader)\n",
    "        \n",
    "        \n",
    "        \n",
    "    "
   ]
  },
  {
   "cell_type": "markdown",
   "id": "0f0e9bff",
   "metadata": {
    "papermill": {
     "duration": 0.008835,
     "end_time": "2023-05-09T13:59:09.488300",
     "exception": false,
     "start_time": "2023-05-09T13:59:09.479465",
     "status": "completed"
    },
    "tags": []
   },
   "source": [
    "Code for Validation"
   ]
  },
  {
   "cell_type": "code",
   "execution_count": 29,
   "id": "2a8290bc",
   "metadata": {
    "execution": {
     "iopub.execute_input": "2023-05-09T13:59:09.508541Z",
     "iopub.status.busy": "2023-05-09T13:59:09.507855Z",
     "iopub.status.idle": "2023-05-09T13:59:09.513553Z",
     "shell.execute_reply": "2023-05-09T13:59:09.512835Z"
    },
    "papermill": {
     "duration": 0.017521,
     "end_time": "2023-05-09T13:59:09.515345",
     "exception": false,
     "start_time": "2023-05-09T13:59:09.497824",
     "status": "completed"
    },
    "tags": []
   },
   "outputs": [],
   "source": [
    "def validate(dataloader):\n",
    "    \n",
    "    running_loss = 0\n",
    "    \n",
    "    for idx,data in enumerate(dataloader):\n",
    "        input_tensor,label = data\n",
    "        \n",
    "        input_tensor = input_tensor.to(device)\n",
    "        label = label.to(device)\n",
    "        \n",
    "        #setting the datatype of the tensors that the model expects. Certain layers say embedding layer, requires the tensor to be of a specific datatype\n",
    "        #embedding layer needs the input to be of int\n",
    "        input_tensor = input_tensor.to(torch.int)\n",
    "        #label tensor required by the loss function is to be float as it expects logits\n",
    "        label = label.to(torch.float)\n",
    "        output = model(input_tensor)\n",
    "        \n",
    "        loss = loss_fn(output,label)\n",
    "        \n",
    "        #Hey! if you simply add loss and not loss.item() this causes a mem leak as the memory cannot be freed for the the next batch!\n",
    "        running_loss += loss.item()\n",
    "    \n",
    "    return running_loss/len(dataloader)"
   ]
  },
  {
   "cell_type": "markdown",
   "id": "cffe1499",
   "metadata": {
    "papermill": {
     "duration": 0.008685,
     "end_time": "2023-05-09T13:59:09.532906",
     "exception": false,
     "start_time": "2023-05-09T13:59:09.524221",
     "status": "completed"
    },
    "tags": []
   },
   "source": [
    "## Wuhunn!! now we can actually train our model"
   ]
  },
  {
   "cell_type": "markdown",
   "id": "a01a5157",
   "metadata": {
    "papermill": {
     "duration": 0.008947,
     "end_time": "2023-05-09T13:59:09.550768",
     "exception": false,
     "start_time": "2023-05-09T13:59:09.541821",
     "status": "completed"
    },
    "tags": []
   },
   "source": [
    "lets have a sneak whether it actually works\n"
   ]
  },
  {
   "cell_type": "code",
   "execution_count": 30,
   "id": "d29d9637",
   "metadata": {
    "execution": {
     "iopub.execute_input": "2023-05-09T13:59:09.569925Z",
     "iopub.status.busy": "2023-05-09T13:59:09.569184Z",
     "iopub.status.idle": "2023-05-09T13:59:11.822758Z",
     "shell.execute_reply": "2023-05-09T13:59:11.821756Z"
    },
    "papermill": {
     "duration": 2.26562,
     "end_time": "2023-05-09T13:59:11.825121",
     "exception": false,
     "start_time": "2023-05-09T13:59:09.559501",
     "status": "completed"
    },
    "tags": []
   },
   "outputs": [
    {
     "name": "stdout",
     "output_type": "stream",
     "text": [
      "tensor([[-0.0966,  0.1592,  0.0512],\n",
      "        [-0.0908,  0.1573,  0.0576],\n",
      "        [-0.0950,  0.1562,  0.0527],\n",
      "        [-0.0915,  0.1593,  0.0546]], device='cuda:0',\n",
      "       grad_fn=<AddmmBackward0>)\n",
      "Loss 1.0739850997924805\n"
     ]
    }
   ],
   "source": [
    "## test forward pass for one batch\n",
    "##having a sneak at one train batch\n",
    "\n",
    "for idx,data in enumerate(train_loader):\n",
    "    text_tensor,label = data\n",
    "    \n",
    "    text_tensor = text_tensor.to(device)\n",
    "    label = label.to(device)\n",
    "    \n",
    "    text_tensor = text_tensor.to(torch.int)\n",
    "    label = label.to(torch.float)\n",
    "    output = model(text_tensor)\n",
    "    print(output)\n",
    "    loss_val = loss_fn(output,label)\n",
    "    \n",
    "    print(\"Loss\",loss_val.item())\n",
    "    break"
   ]
  },
  {
   "cell_type": "code",
   "execution_count": 31,
   "id": "e791d098",
   "metadata": {
    "execution": {
     "iopub.execute_input": "2023-05-09T13:59:11.845900Z",
     "iopub.status.busy": "2023-05-09T13:59:11.845589Z",
     "iopub.status.idle": "2023-05-09T13:59:11.849696Z",
     "shell.execute_reply": "2023-05-09T13:59:11.848835Z"
    },
    "papermill": {
     "duration": 0.016476,
     "end_time": "2023-05-09T13:59:11.851550",
     "exception": false,
     "start_time": "2023-05-09T13:59:11.835074",
     "status": "completed"
    },
    "tags": []
   },
   "outputs": [],
   "source": [
    "from datetime import datetime"
   ]
  },
  {
   "cell_type": "code",
   "execution_count": 32,
   "id": "42cb429f",
   "metadata": {
    "execution": {
     "iopub.execute_input": "2023-05-09T13:59:11.870956Z",
     "iopub.status.busy": "2023-05-09T13:59:11.870250Z",
     "iopub.status.idle": "2023-05-09T13:59:11.874463Z",
     "shell.execute_reply": "2023-05-09T13:59:11.873703Z"
    },
    "papermill": {
     "duration": 0.015763,
     "end_time": "2023-05-09T13:59:11.876283",
     "exception": false,
     "start_time": "2023-05-09T13:59:11.860520",
     "status": "completed"
    },
    "tags": []
   },
   "outputs": [],
   "source": [
    "from tqdm.notebook import tqdm"
   ]
  },
  {
   "cell_type": "code",
   "execution_count": 33,
   "id": "47c41e21",
   "metadata": {
    "execution": {
     "iopub.execute_input": "2023-05-09T13:59:11.896040Z",
     "iopub.status.busy": "2023-05-09T13:59:11.895319Z",
     "iopub.status.idle": "2023-05-09T16:31:25.359987Z",
     "shell.execute_reply": "2023-05-09T16:31:25.359126Z"
    },
    "papermill": {
     "duration": 9133.514682,
     "end_time": "2023-05-09T16:31:25.400040",
     "exception": false,
     "start_time": "2023-05-09T13:59:11.885358",
     "status": "completed"
    },
    "tags": []
   },
   "outputs": [
    {
     "data": {
      "application/vnd.jupyter.widget-view+json": {
       "model_id": "d22715549a4e44b9931302b4fa7586fe",
       "version_major": 2,
       "version_minor": 0
      },
      "text/plain": [
       "  0%|          | 0/30 [00:00<?, ?it/s]"
      ]
     },
     "metadata": {},
     "output_type": "display_data"
    },
    {
     "name": "stdout",
     "output_type": "stream",
     "text": [
      "The Epoch number 1\n",
      "  batch 1000 loss: 1.1041843581795692\n",
      "  batch 2000 loss: 2.2099694800376892\n",
      "  batch 3000 loss: 3.3172927849292755\n",
      "  batch 4000 loss: 4.421799882411957\n",
      "  batch 5000 loss: 5.524002078175545\n",
      "  batch 6000 loss: 6.62643907892704\n",
      "  batch 7000 loss: 7.7303141274452205\n",
      "  batch 8000 loss: 8.835721341192722\n",
      "  batch 9000 loss: 9.937708282232284\n",
      "  batch 10000 loss: 11.037953337013722\n",
      "  batch 11000 loss: 12.139213901877403\n",
      "  batch 12000 loss: 13.238175670802594\n",
      "  batch 13000 loss: 14.338239620149135\n",
      "  batch 14000 loss: 15.437436475276947\n",
      "  batch 15000 loss: 16.53898812276125\n",
      "  batch 16000 loss: 17.63998251992464\n",
      "  batch 17000 loss: 18.74042616522312\n",
      "Validation loss for the epoch 1.0978435413598406\n",
      "Time take by the epoch 1 is 0:05:04.494604\n",
      "The Epoch number 2\n",
      "  batch 1000 loss: 1.0994697847366333\n",
      "  batch 2000 loss: 2.2007997278571128\n",
      "  batch 3000 loss: 3.297407106757164\n",
      "  batch 4000 loss: 4.3946182291507725\n",
      "  batch 5000 loss: 5.489942457675934\n",
      "  batch 6000 loss: 6.587297740280628\n",
      "  batch 7000 loss: 7.6812560138702395\n",
      "  batch 8000 loss: 8.776120813786983\n",
      "  batch 9000 loss: 9.868555435359479\n",
      "  batch 10000 loss: 10.96089268797636\n",
      "  batch 11000 loss: 12.054501377522945\n",
      "  batch 12000 loss: 13.146335066199303\n",
      "  batch 13000 loss: 14.239615761697292\n",
      "  batch 14000 loss: 15.331923397123814\n",
      "  batch 15000 loss: 16.424497375011445\n",
      "  batch 16000 loss: 17.515769549489022\n",
      "  batch 17000 loss: 18.60421666198969\n",
      "Validation loss for the epoch 1.0903439470313439\n",
      "Time take by the epoch 2 is 0:05:04.289524\n",
      "The Epoch number 3\n",
      "  batch 1000 loss: 1.091378218948841\n",
      "  batch 2000 loss: 2.180177319586277\n",
      "  batch 3000 loss: 3.26934790289402\n",
      "  batch 4000 loss: 4.35637833827734\n",
      "  batch 5000 loss: 5.445945084929466\n",
      "  batch 6000 loss: 6.535474671423435\n",
      "  batch 7000 loss: 7.623621423125267\n",
      "  batch 8000 loss: 8.710024950385094\n",
      "  batch 9000 loss: 9.796381662607192\n",
      "  batch 10000 loss: 10.884851889908314\n",
      "  batch 11000 loss: 11.97216546946764\n",
      "  batch 12000 loss: 13.056384821355342\n",
      "  batch 13000 loss: 14.143004759669305\n",
      "  batch 14000 loss: 15.228832034885883\n",
      "  batch 15000 loss: 16.31537708699703\n",
      "  batch 16000 loss: 17.401181040227414\n",
      "  batch 17000 loss: 18.485051903784274\n",
      "Validation loss for the epoch 1.0838719501377228\n",
      "Time take by the epoch 3 is 0:05:04.402799\n",
      "The Epoch number 4\n",
      "  batch 1000 loss: 1.0832908045053482\n",
      "  batch 2000 loss: 2.1661737665534018\n",
      "  batch 3000 loss: 3.2453845767378806\n",
      "  batch 4000 loss: 4.328737182438373\n",
      "  batch 5000 loss: 5.409508390069008\n",
      "  batch 6000 loss: 6.493295072436332\n",
      "  batch 7000 loss: 7.5747423350811\n",
      "  batch 8000 loss: 8.657014889240266\n",
      "  batch 9000 loss: 9.740809221744538\n",
      "  batch 10000 loss: 10.825118404626846\n",
      "  batch 11000 loss: 11.907434959173203\n",
      "  batch 12000 loss: 12.988133550941944\n",
      "  batch 13000 loss: 14.066029389083386\n",
      "  batch 14000 loss: 15.146681872606278\n",
      "  batch 15000 loss: 16.22522874337435\n",
      "  batch 16000 loss: 17.30461025673151\n",
      "  batch 17000 loss: 18.38532447952032\n",
      "Validation loss for the epoch 1.078306432702139\n",
      "Time take by the epoch 4 is 0:05:04.349392\n",
      "The Epoch number 5\n",
      "  batch 1000 loss: 1.0781423361897469\n",
      "  batch 2000 loss: 2.1539371908307077\n",
      "  batch 3000 loss: 3.2344626643061636\n",
      "  batch 4000 loss: 4.313102888941764\n",
      "  batch 5000 loss: 5.390097669780254\n",
      "  batch 6000 loss: 6.466191029548645\n",
      "  batch 7000 loss: 7.542681057155132\n",
      "  batch 8000 loss: 8.620719839215278\n",
      "  batch 9000 loss: 9.698279358506202\n",
      "  batch 10000 loss: 10.774808439671993\n",
      "  batch 11000 loss: 11.850886531114579\n",
      "  batch 12000 loss: 12.925629448533059\n",
      "  batch 13000 loss: 13.998254196822643\n",
      "  batch 14000 loss: 15.077018939971923\n",
      "  batch 15000 loss: 16.14953066945076\n",
      "  batch 16000 loss: 17.22337848752737\n",
      "  batch 17000 loss: 18.29755354464054\n",
      "Validation loss for the epoch 1.0735485595419165\n",
      "Time take by the epoch 5 is 0:05:04.217429\n",
      "The Epoch number 6\n",
      "  batch 1000 loss: 1.0739113515019416\n",
      "  batch 2000 loss: 2.1491934410333635\n",
      "  batch 3000 loss: 3.2237690861821173\n",
      "  batch 4000 loss: 4.299258936226368\n",
      "  batch 5000 loss: 5.369072086632252\n",
      "  batch 6000 loss: 6.44148111397028\n",
      "  batch 7000 loss: 7.51495898604393\n",
      "  batch 8000 loss: 8.588215409755707\n",
      "  batch 9000 loss: 9.659475710570812\n",
      "  batch 10000 loss: 10.73165310227871\n",
      "  batch 11000 loss: 11.804518378734588\n",
      "  batch 12000 loss: 12.874844102978706\n",
      "  batch 13000 loss: 13.945336540460586\n",
      "  batch 14000 loss: 15.013111288189888\n",
      "  batch 15000 loss: 16.084787298560144\n",
      "  batch 16000 loss: 17.152597008824348\n",
      "  batch 17000 loss: 18.223440704882144\n",
      "Validation loss for the epoch 1.069520664217848\n",
      "Time take by the epoch 6 is 0:05:04.023227\n",
      "The Epoch number 7\n",
      "  batch 1000 loss: 1.0730499973297118\n",
      "  batch 2000 loss: 2.1429850032925604\n",
      "  batch 3000 loss: 3.213645500123501\n",
      "  batch 4000 loss: 4.283359476745129\n",
      "  batch 5000 loss: 5.350248996496201\n",
      "  batch 6000 loss: 6.415557022809982\n",
      "  batch 7000 loss: 7.484251333713532\n",
      "  batch 8000 loss: 8.550713964104652\n",
      "  batch 9000 loss: 9.619525676846504\n",
      "  batch 10000 loss: 10.688953313231469\n",
      "  batch 11000 loss: 11.754234708607196\n",
      "  batch 12000 loss: 12.821944957494736\n",
      "  batch 13000 loss: 13.890436474740506\n",
      "  batch 14000 loss: 14.956261133551598\n",
      "  batch 15000 loss: 16.02604351603985\n",
      "  batch 16000 loss: 17.09388703852892\n",
      "  batch 17000 loss: 18.160685918450355\n",
      "Validation loss for the epoch 1.0661620347277383\n",
      "Time take by the epoch 7 is 0:05:03.966601\n",
      "The Epoch number 8\n",
      "  batch 1000 loss: 1.0663318080306052\n",
      "  batch 2000 loss: 2.1320980039834976\n",
      "  batch 3000 loss: 3.203657234430313\n",
      "  batch 4000 loss: 4.267043486952781\n",
      "  batch 5000 loss: 5.333584793329239\n",
      "  batch 6000 loss: 6.401178200364113\n",
      "  batch 7000 loss: 7.460599528670311\n",
      "  batch 8000 loss: 8.525662122249603\n",
      "  batch 9000 loss: 9.586755269944668\n",
      "  batch 10000 loss: 10.653631374835967\n",
      "  batch 11000 loss: 11.719276006400586\n",
      "  batch 12000 loss: 12.783474986553193\n",
      "  batch 13000 loss: 13.849889443814755\n",
      "  batch 14000 loss: 14.91792675024271\n",
      "  batch 15000 loss: 15.984765686273574\n",
      "  batch 16000 loss: 17.049603107094764\n",
      "  batch 17000 loss: 18.10996266883612\n",
      "Validation loss for the epoch 1.0633865220040517\n",
      "Time take by the epoch 8 is 0:05:04.058228\n",
      "The Epoch number 9\n",
      "  batch 1000 loss: 1.0630953754782677\n",
      "  batch 2000 loss: 2.1251061854362487\n",
      "  batch 3000 loss: 3.1873542168736457\n",
      "  batch 4000 loss: 4.248681897699833\n",
      "  batch 5000 loss: 5.310894242584705\n",
      "  batch 6000 loss: 6.37753962624073\n",
      "  batch 7000 loss: 7.44160637819767\n",
      "  batch 8000 loss: 8.502382039427758\n",
      "  batch 9000 loss: 9.571056437194347\n",
      "  batch 10000 loss: 10.632592567324638\n",
      "  batch 11000 loss: 11.69558068716526\n",
      "  batch 12000 loss: 12.756682908773422\n",
      "  batch 13000 loss: 13.816172831952573\n",
      "  batch 14000 loss: 14.879639022767543\n",
      "  batch 15000 loss: 15.943516126036643\n",
      "  batch 16000 loss: 17.0047853885293\n",
      "  batch 17000 loss: 18.068056540846825\n",
      "Validation loss for the epoch 1.0611194816969367\n",
      "Time take by the epoch 9 is 0:05:04.851001\n",
      "The Epoch number 10\n",
      "  batch 1000 loss: 1.0601503900289535\n",
      "  batch 2000 loss: 2.1256804928779602\n",
      "  batch 3000 loss: 3.1885309202075005\n",
      "  batch 4000 loss: 4.248050336062908\n",
      "  batch 5000 loss: 5.30809309720993\n",
      "  batch 6000 loss: 6.373623254597187\n",
      "  batch 7000 loss: 7.436633764028549\n",
      "  batch 8000 loss: 8.500726573705673\n",
      "  batch 9000 loss: 9.5631524938941\n",
      "  batch 10000 loss: 10.621454834401607\n",
      "  batch 11000 loss: 11.6850486638546\n",
      "  batch 12000 loss: 12.746772458732128\n",
      "  batch 13000 loss: 13.803968318760395\n",
      "  batch 14000 loss: 14.864707618415355\n",
      "  batch 15000 loss: 15.924216665923595\n",
      "  batch 16000 loss: 16.980896216928958\n",
      "  batch 17000 loss: 18.03711450457573\n",
      "Validation loss for the epoch 1.0592773306505028\n",
      "Time take by the epoch 10 is 0:05:04.211313\n",
      "The Epoch number 11\n",
      "  batch 1000 loss: 1.0588654323220252\n",
      "  batch 2000 loss: 2.1188102147579193\n",
      "  batch 3000 loss: 3.1822633261680604\n",
      "  batch 4000 loss: 4.245542372643947\n",
      "  batch 5000 loss: 5.306019097685814\n",
      "  batch 6000 loss: 6.3660460484027865\n",
      "  batch 7000 loss: 7.424274696409702\n",
      "  batch 8000 loss: 8.48385927182436\n",
      "  batch 9000 loss: 9.544196795105934\n",
      "  batch 10000 loss: 10.60451753795147\n",
      "  batch 11000 loss: 11.665157732963563\n",
      "  batch 12000 loss: 12.72198935097456\n",
      "  batch 13000 loss: 13.777647572100163\n",
      "  batch 14000 loss: 14.836339136898518\n",
      "  batch 15000 loss: 15.894950016796589\n",
      "  batch 16000 loss: 16.951415890693664\n",
      "  batch 17000 loss: 18.0067838229537\n",
      "Validation loss for the epoch 1.0577913204755296\n",
      "Time take by the epoch 11 is 0:05:06.177983\n",
      "The Epoch number 12\n",
      "  batch 1000 loss: 1.0590807005763054\n",
      "  batch 2000 loss: 2.1186888583898544\n",
      "  batch 3000 loss: 3.1774354395866395\n",
      "  batch 4000 loss: 4.233498844444751\n",
      "  batch 5000 loss: 5.289999896168709\n",
      "  batch 6000 loss: 6.347824550867081\n",
      "  batch 7000 loss: 7.404783728897572\n",
      "  batch 8000 loss: 8.459171378970145\n",
      "  batch 9000 loss: 9.515339177787304\n",
      "  batch 10000 loss: 10.573896708488464\n",
      "  batch 11000 loss: 11.6343116466403\n",
      "  batch 12000 loss: 12.693164719939231\n",
      "  batch 13000 loss: 13.75214260083437\n",
      "  batch 14000 loss: 14.806295790731907\n",
      "  batch 15000 loss: 15.865592321455479\n",
      "  batch 16000 loss: 16.926751695513726\n",
      "  batch 17000 loss: 17.986848200798036\n",
      "Validation loss for the epoch 1.0566034716819\n",
      "Time take by the epoch 12 is 0:05:05.979046\n",
      "The Epoch number 13\n",
      "  batch 1000 loss: 1.0555863698720933\n",
      "  batch 2000 loss: 2.114025544822216\n",
      "  batch 3000 loss: 3.175047123849392\n",
      "  batch 4000 loss: 4.2267402929067615\n",
      "  batch 5000 loss: 5.285142222166061\n",
      "  batch 6000 loss: 6.340297335088253\n",
      "  batch 7000 loss: 7.401838831543922\n",
      "  batch 8000 loss: 8.455773352980614\n",
      "  batch 9000 loss: 9.514619234919548\n",
      "  batch 10000 loss: 10.572368017971515\n",
      "  batch 11000 loss: 11.627767136454581\n",
      "  batch 12000 loss: 12.684345934271812\n",
      "  batch 13000 loss: 13.73876763010025\n",
      "  batch 14000 loss: 14.798072790265083\n",
      "  batch 15000 loss: 15.857768350541592\n",
      "  batch 16000 loss: 16.914969550788403\n",
      "  batch 17000 loss: 17.969273661196233\n",
      "Validation loss for the epoch 1.0556477971390514\n",
      "Time take by the epoch 13 is 0:05:06.211933\n",
      "The Epoch number 14\n",
      "  batch 1000 loss: 1.0571895272135734\n",
      "  batch 2000 loss: 2.108252318739891\n",
      "  batch 3000 loss: 3.1667063716053963\n",
      "  batch 4000 loss: 4.2261083536744115\n",
      "  batch 5000 loss: 5.284594950854778\n",
      "  batch 6000 loss: 6.34183602809906\n",
      "  batch 7000 loss: 7.401834338665009\n",
      "  batch 8000 loss: 8.455563033044339\n",
      "  batch 9000 loss: 9.509049665153027\n",
      "  batch 10000 loss: 10.563341291368008\n",
      "  batch 11000 loss: 11.622312227249145\n",
      "  batch 12000 loss: 12.67399579256773\n",
      "  batch 13000 loss: 13.73081064414978\n",
      "  batch 14000 loss: 14.783982128679753\n",
      "  batch 15000 loss: 15.840087100565434\n",
      "  batch 16000 loss: 16.89830535852909\n",
      "  batch 17000 loss: 17.95430972236395\n",
      "Validation loss for the epoch 1.0548751059299433\n",
      "Time take by the epoch 14 is 0:05:06.137759\n",
      "The Epoch number 15\n",
      "  batch 1000 loss: 1.0543135297894477\n",
      "  batch 2000 loss: 2.1021471952199935\n",
      "  batch 3000 loss: 3.157536763012409\n",
      "  batch 4000 loss: 4.212871869683266\n",
      "  batch 5000 loss: 5.265373579621315\n",
      "  batch 6000 loss: 6.319841584324837\n",
      "  batch 7000 loss: 7.373109599888325\n",
      "  batch 8000 loss: 8.427799953222275\n",
      "  batch 9000 loss: 9.483258992493152\n",
      "  batch 10000 loss: 10.53711685204506\n",
      "  batch 11000 loss: 11.592815371096135\n",
      "  batch 12000 loss: 12.650696484327316\n",
      "  batch 13000 loss: 13.709107874929906\n",
      "  batch 14000 loss: 14.764447405993938\n",
      "  batch 15000 loss: 15.82253744930029\n",
      "  batch 16000 loss: 16.883826785981654\n",
      "  batch 17000 loss: 17.94179886370897\n",
      "Validation loss for the epoch 1.0542512860500197\n",
      "Time take by the epoch 15 is 0:05:05.893535\n",
      "The Epoch number 16\n",
      "  batch 1000 loss: 1.0542853655815125\n",
      "  batch 2000 loss: 2.110904825627804\n",
      "  batch 3000 loss: 3.167089076578617\n",
      "  batch 4000 loss: 4.220838622748852\n",
      "  batch 5000 loss: 5.280288509070873\n",
      "  batch 6000 loss: 6.330475817799568\n",
      "  batch 7000 loss: 7.3878826884031294\n",
      "  batch 8000 loss: 8.441841627478599\n",
      "  batch 9000 loss: 9.496798110485077\n",
      "  batch 10000 loss: 10.547603737413883\n",
      "  batch 11000 loss: 11.604967433989048\n",
      "  batch 12000 loss: 12.658784273147583\n",
      "  batch 13000 loss: 13.711497414708138\n",
      "  batch 14000 loss: 14.768863859474658\n",
      "  batch 15000 loss: 15.81976957720518\n",
      "  batch 16000 loss: 16.87307680183649\n",
      "  batch 17000 loss: 17.93222746092081\n",
      "Validation loss for the epoch 1.0537352201065882\n",
      "Time take by the epoch 16 is 0:05:05.071347\n",
      "The Epoch number 17\n",
      "  batch 1000 loss: 1.0529350678920746\n",
      "  batch 2000 loss: 2.1158932332992553\n",
      "  batch 3000 loss: 3.168159487128258\n",
      "  batch 4000 loss: 4.217923686861992\n",
      "  batch 5000 loss: 5.277204476118087\n",
      "  batch 6000 loss: 6.330335141241551\n",
      "  batch 7000 loss: 7.389232124269008\n",
      "  batch 8000 loss: 8.444868722379208\n",
      "  batch 9000 loss: 9.500607673108577\n",
      "  batch 10000 loss: 10.553802791893482\n",
      "  batch 11000 loss: 11.608265405774116\n",
      "  batch 12000 loss: 12.66154399394989\n",
      "  batch 13000 loss: 13.71291272097826\n",
      "  batch 14000 loss: 14.766011282265186\n",
      "  batch 15000 loss: 15.821337141394615\n",
      "  batch 16000 loss: 16.872196735203268\n",
      "  batch 17000 loss: 17.92616563254595\n",
      "Validation loss for the epoch 1.0533060371585952\n",
      "Time take by the epoch 17 is 0:05:03.729182\n",
      "The Epoch number 18\n",
      "  batch 1000 loss: 1.0588541017770767\n",
      "  batch 2000 loss: 2.11810378152132\n",
      "  batch 3000 loss: 3.169847543954849\n",
      "  batch 4000 loss: 4.216091110050678\n",
      "  batch 5000 loss: 5.267917854309082\n",
      "  batch 6000 loss: 6.317032557249069\n",
      "  batch 7000 loss: 7.375930070281028\n",
      "  batch 8000 loss: 8.425607867658139\n",
      "  batch 9000 loss: 9.487458969712257\n",
      "  batch 10000 loss: 10.545619453430175\n",
      "  batch 11000 loss: 11.605977054774762\n",
      "  batch 12000 loss: 12.654263844013213\n",
      "  batch 13000 loss: 13.699534352958203\n",
      "  batch 14000 loss: 14.751795493781566\n",
      "  batch 15000 loss: 15.808321199536323\n",
      "  batch 16000 loss: 16.863344184637068\n",
      "  batch 17000 loss: 17.916654773950576\n",
      "Validation loss for the epoch 1.0529450192912968\n",
      "Time take by the epoch 18 is 0:05:03.926386\n",
      "The Epoch number 19\n",
      "  batch 1000 loss: 1.0439863411188126\n",
      "  batch 2000 loss: 2.098572754919529\n",
      "  batch 3000 loss: 3.146012049615383\n",
      "  batch 4000 loss: 4.2008528281450275\n",
      "  batch 5000 loss: 5.257873428106308\n",
      "  batch 6000 loss: 6.312672369658947\n",
      "  batch 7000 loss: 7.365048578739167\n",
      "  batch 8000 loss: 8.420020423471927\n",
      "  batch 9000 loss: 9.472374205350876\n",
      "  batch 10000 loss: 10.530148386657238\n",
      "  batch 11000 loss: 11.585260074079036\n",
      "  batch 12000 loss: 12.638839605450631\n",
      "  batch 13000 loss: 13.68984953892231\n",
      "  batch 14000 loss: 14.747826670050621\n",
      "  batch 15000 loss: 15.802762259840966\n",
      "  batch 16000 loss: 16.857891886770727\n",
      "  batch 17000 loss: 17.912058804214002\n",
      "Validation loss for the epoch 1.052637035964291\n",
      "Time take by the epoch 19 is 0:05:03.996262\n",
      "The Epoch number 20\n",
      "  batch 1000 loss: 1.0574358621239661\n",
      "  batch 2000 loss: 2.108400666296482\n",
      "  batch 3000 loss: 3.15718318939209\n",
      "  batch 4000 loss: 4.211659274756909\n",
      "  batch 5000 loss: 5.265781346797943\n",
      "  batch 6000 loss: 6.312015473067761\n",
      "  batch 7000 loss: 7.369794140458107\n",
      "  batch 8000 loss: 8.420945228338242\n",
      "  batch 9000 loss: 9.469645965456962\n",
      "  batch 10000 loss: 10.521118938922882\n",
      "  batch 11000 loss: 11.571894957661629\n",
      "  batch 12000 loss: 12.62854327082634\n",
      "  batch 13000 loss: 13.67546063029766\n",
      "  batch 14000 loss: 14.732210333824158\n",
      "  batch 15000 loss: 15.787995947659015\n",
      "  batch 16000 loss: 16.848369336783886\n",
      "  batch 17000 loss: 17.907335541903972\n",
      "Validation loss for the epoch 1.0523677484584533\n",
      "Time take by the epoch 20 is 0:05:03.939713\n",
      "The Epoch number 21\n",
      "  batch 1000 loss: 1.0506547438502312\n",
      "  batch 2000 loss: 2.1003090864419938\n",
      "  batch 3000 loss: 3.1542674785256386\n",
      "  batch 4000 loss: 4.2078793159723284\n",
      "  batch 5000 loss: 5.268971073389054\n",
      "  batch 6000 loss: 6.323010558962822\n",
      "  batch 7000 loss: 7.380396654784679\n",
      "  batch 8000 loss: 8.424123178422452\n",
      "  batch 9000 loss: 9.477748919665814\n",
      "  batch 10000 loss: 10.530565209686756\n",
      "  batch 11000 loss: 11.583142397999763\n",
      "  batch 12000 loss: 12.638368892729282\n",
      "  batch 13000 loss: 13.696203572154046\n",
      "  batch 14000 loss: 14.74630363380909\n",
      "  batch 15000 loss: 15.79665130573511\n",
      "  batch 16000 loss: 16.85192188155651\n",
      "  batch 17000 loss: 17.90527178686857\n",
      "Validation loss for the epoch 1.052127870110677\n",
      "Time take by the epoch 21 is 0:05:04.183539\n",
      "The Epoch number 22\n",
      "  batch 1000 loss: 1.0454419717788697\n",
      "  batch 2000 loss: 2.0977789315581323\n",
      "  batch 3000 loss: 3.148969721853733\n",
      "  batch 4000 loss: 4.209272681474686\n",
      "  batch 5000 loss: 5.263180685818195\n",
      "  batch 6000 loss: 6.316847833752632\n",
      "  batch 7000 loss: 7.372828983724117\n",
      "  batch 8000 loss: 8.429973085045814\n",
      "  batch 9000 loss: 9.478599300146103\n",
      "  batch 10000 loss: 10.533145433783531\n",
      "  batch 11000 loss: 11.590305034279824\n",
      "  batch 12000 loss: 12.637156678617\n",
      "  batch 13000 loss: 13.697359830021858\n",
      "  batch 14000 loss: 14.748555939018726\n",
      "  batch 15000 loss: 15.795822829902171\n",
      "  batch 16000 loss: 16.842609220743178\n",
      "  batch 17000 loss: 17.89875239211321\n",
      "Validation loss for the epoch 1.0519109882809383\n",
      "Time take by the epoch 22 is 0:05:03.790192\n",
      "The Epoch number 23\n",
      "  batch 1000 loss: 1.0489673572778702\n",
      "  batch 2000 loss: 2.0986782982349395\n",
      "  batch 3000 loss: 3.152159729540348\n",
      "  batch 4000 loss: 4.208781461179257\n",
      "  batch 5000 loss: 5.260115842103958\n",
      "  batch 6000 loss: 6.311774637162685\n",
      "  batch 7000 loss: 7.361904728114605\n",
      "  batch 8000 loss: 8.421362389981747\n",
      "  batch 9000 loss: 9.476541307210923\n",
      "  batch 10000 loss: 10.536044357478618\n",
      "  batch 11000 loss: 11.588942534983158\n",
      "  batch 12000 loss: 12.64182411801815\n",
      "  batch 13000 loss: 13.690907657384873\n",
      "  batch 14000 loss: 14.741716566026211\n",
      "  batch 15000 loss: 15.792992449879646\n",
      "  batch 16000 loss: 16.847248459160326\n",
      "  batch 17000 loss: 17.899373165011404\n",
      "Validation loss for the epoch 1.051712274951608\n",
      "Time take by the epoch 23 is 0:05:03.915195\n",
      "The Epoch number 24\n",
      "  batch 1000 loss: 1.0564930752515793\n",
      "  batch 2000 loss: 2.1082889875769615\n",
      "  batch 3000 loss: 3.1516670589447022\n",
      "  batch 4000 loss: 4.213515388548374\n",
      "  batch 5000 loss: 5.2654551793932916\n",
      "  batch 6000 loss: 6.316019243597984\n",
      "  batch 7000 loss: 7.374191548705101\n",
      "  batch 8000 loss: 8.419661030769348\n",
      "  batch 9000 loss: 9.47166823810339\n",
      "  batch 10000 loss: 10.526558620870114\n",
      "  batch 11000 loss: 11.581558331489562\n",
      "  batch 12000 loss: 12.62898158234358\n",
      "  batch 13000 loss: 13.682648964345455\n",
      "  batch 14000 loss: 14.738912885427474\n",
      "  batch 15000 loss: 15.792804557323455\n",
      "  batch 16000 loss: 16.846246599972247\n",
      "  batch 17000 loss: 17.894077739417554\n",
      "Validation loss for the epoch 1.0515277420213085\n",
      "Time take by the epoch 24 is 0:05:03.858721\n",
      "The Epoch number 25\n",
      "  batch 1000 loss: 1.0529603258371354\n",
      "  batch 2000 loss: 2.1085557985305785\n",
      "  batch 3000 loss: 3.165640215277672\n",
      "  batch 4000 loss: 4.220750497937202\n",
      "  batch 5000 loss: 5.273988900899887\n",
      "  batch 6000 loss: 6.32543327242136\n",
      "  batch 7000 loss: 7.37718260550499\n",
      "  batch 8000 loss: 8.43607847827673\n",
      "  batch 9000 loss: 9.485826443552972\n",
      "  batch 10000 loss: 10.53469775056839\n",
      "  batch 11000 loss: 11.58862756115198\n",
      "  batch 12000 loss: 12.644213521659374\n",
      "  batch 13000 loss: 13.694309714436532\n",
      "  batch 14000 loss: 14.740214690983295\n",
      "  batch 15000 loss: 15.786725455641747\n",
      "  batch 16000 loss: 16.83498590672016\n",
      "  batch 17000 loss: 17.889864530026912\n",
      "Validation loss for the epoch 1.0513535855158138\n",
      "Time take by the epoch 25 is 0:05:03.872209\n",
      "The Epoch number 26\n",
      "  batch 1000 loss: 1.05452219247818\n",
      "  batch 2000 loss: 2.1038934422135354\n",
      "  batch 3000 loss: 3.1533784813284873\n",
      "  batch 4000 loss: 4.206166303992271\n",
      "  batch 5000 loss: 5.256995734989643\n",
      "  batch 6000 loss: 6.314412174165249\n",
      "  batch 7000 loss: 7.365536925673485\n",
      "  batch 8000 loss: 8.418608194589615\n",
      "  batch 9000 loss: 9.471954409003258\n",
      "  batch 10000 loss: 10.52618957901001\n",
      "  batch 11000 loss: 11.572669705033302\n",
      "  batch 12000 loss: 12.624272578597068\n",
      "  batch 13000 loss: 13.679099953830242\n",
      "  batch 14000 loss: 14.733223258376121\n",
      "  batch 15000 loss: 15.781580859363078\n",
      "  batch 16000 loss: 16.835368898510932\n",
      "  batch 17000 loss: 17.88742043197155\n",
      "Validation loss for the epoch 1.0511891219206888\n",
      "Time take by the epoch 26 is 0:05:03.940664\n",
      "The Epoch number 27\n",
      "  batch 1000 loss: 1.0588947975039482\n",
      "  batch 2000 loss: 2.1060778054594995\n",
      "  batch 3000 loss: 3.152420111835003\n",
      "  batch 4000 loss: 4.207393698334694\n",
      "  batch 5000 loss: 5.265765218496322\n",
      "  batch 6000 loss: 6.318104384839534\n",
      "  batch 7000 loss: 7.365399891734123\n",
      "  batch 8000 loss: 8.412660159647464\n",
      "  batch 9000 loss: 9.471239247143268\n",
      "  batch 10000 loss: 10.534022466361522\n",
      "  batch 11000 loss: 11.584239394426346\n",
      "  batch 12000 loss: 12.630133249163627\n",
      "  batch 13000 loss: 13.677056471407413\n",
      "  batch 14000 loss: 14.732216084837914\n",
      "  batch 15000 loss: 15.775485142469407\n",
      "  batch 16000 loss: 16.827433905661106\n",
      "  batch 17000 loss: 17.882324712753295\n",
      "Validation loss for the epoch 1.0510310600631407\n",
      "Time take by the epoch 27 is 0:05:04.132008\n",
      "The Epoch number 28\n",
      "  batch 1000 loss: 1.0540949586629869\n",
      "  batch 2000 loss: 2.110397514641285\n",
      "  batch 3000 loss: 3.1563094467520716\n",
      "  batch 4000 loss: 4.2142908293008805\n",
      "  batch 5000 loss: 5.266127663135529\n",
      "  batch 6000 loss: 6.3072248349189755\n",
      "  batch 7000 loss: 7.361528304338456\n",
      "  batch 8000 loss: 8.409067924797535\n",
      "  batch 9000 loss: 9.465122986733913\n",
      "  batch 10000 loss: 10.513723333656788\n",
      "  batch 11000 loss: 11.569950997173786\n",
      "  batch 12000 loss: 12.623665262281895\n",
      "  batch 13000 loss: 13.673770475149155\n",
      "  batch 14000 loss: 14.722692943811417\n",
      "  batch 15000 loss: 15.770485664188861\n",
      "  batch 16000 loss: 16.82502143597603\n",
      "  batch 17000 loss: 17.87969404196739\n",
      "Validation loss for the epoch 1.0508788803794589\n",
      "Time take by the epoch 28 is 0:05:03.903796\n",
      "The Epoch number 29\n",
      "  batch 1000 loss: 1.0475968478322029\n",
      "  batch 2000 loss: 2.099870210707188\n",
      "  batch 3000 loss: 3.1456364535689354\n",
      "  batch 4000 loss: 4.206664422094822\n",
      "  batch 5000 loss: 5.256540293812752\n",
      "  batch 6000 loss: 6.303989238977432\n",
      "  batch 7000 loss: 7.35748449575901\n",
      "  batch 8000 loss: 8.408977552354337\n",
      "  batch 9000 loss: 9.464729460060596\n",
      "  batch 10000 loss: 10.514360827684403\n",
      "  batch 11000 loss: 11.57495623022318\n",
      "  batch 12000 loss: 12.621514765143395\n",
      "  batch 13000 loss: 13.677542578935624\n",
      "  batch 14000 loss: 14.73394290715456\n",
      "  batch 15000 loss: 15.78936888575554\n",
      "  batch 16000 loss: 16.83371332424879\n",
      "  batch 17000 loss: 17.875395918786527\n",
      "Validation loss for the epoch 1.0507309299482464\n",
      "Time take by the epoch 29 is 0:05:04.116285\n",
      "The Epoch number 30\n",
      "  batch 1000 loss: 1.0575553478598594\n",
      "  batch 2000 loss: 2.1099186299443247\n",
      "  batch 3000 loss: 3.161606282413006\n",
      "  batch 4000 loss: 4.2083047507405285\n",
      "  batch 5000 loss: 5.254915153026581\n",
      "  batch 6000 loss: 6.309768086016178\n",
      "  batch 7000 loss: 7.360748787045479\n",
      "  batch 8000 loss: 8.407902361810207\n",
      "  batch 9000 loss: 9.454360736072063\n",
      "  batch 10000 loss: 10.508225706636905\n",
      "  batch 11000 loss: 11.561157325088978\n",
      "  batch 12000 loss: 12.609435317099095\n",
      "  batch 13000 loss: 13.66141795617342\n",
      "  batch 14000 loss: 14.712619396209718\n",
      "  batch 15000 loss: 15.7665934664011\n",
      "  batch 16000 loss: 16.822900894582272\n",
      "  batch 17000 loss: 17.874497017264368\n",
      "Validation loss for the epoch 1.0505869632850342\n",
      "Time take by the epoch 30 is 0:05:03.766010\n"
     ]
    }
   ],
   "source": [
    "num_epochs = 30\n",
    "best_vloss = 1000000\n",
    "best_model = None\n",
    "\n",
    "list_of_train_loss = []\n",
    "list_of_val_loss = []\n",
    "\n",
    "for epoch in tqdm(range(num_epochs)):\n",
    "    \n",
    "    start_time = datetime.now()\n",
    "    print(f\"The Epoch number {epoch + 1}\")\n",
    "    \n",
    "    ############ Training Mode ##############################3\n",
    "    \n",
    "    #setting the model to traning mode. Now, certain layers such as batchNorm and dropout behave differently in\n",
    "    #in training and evaluation mode, hence this call helps to acheive it.\n",
    "    model.train()\n",
    "    \n",
    "    avg_loss_for_batch = training_for_one_epoch(train_loader,epoch)\n",
    "    list_of_train_loss.append(avg_loss_for_batch)\n",
    "    \n",
    "    ################ Evaluation Mode ####################\n",
    "    #turns off dropout, batchnorm, adjusts the calculations\n",
    "    \n",
    "    model.eval()\n",
    "    torch.cuda.empty_cache()\n",
    "    avg_val_loss = validate(test_loader)\n",
    "    list_of_val_loss.append(avg_val_loss)\n",
    "    \n",
    "    print(f\"Validation loss for the epoch\",avg_val_loss)\n",
    "    \n",
    "    #Saving the best model!\n",
    "    if avg_val_loss<best_vloss:\n",
    "        #clearly our model is performing better for test set now! \n",
    "        # this might be our best performance\n",
    "        best_model = model\n",
    "        best_vloss = avg_val_loss\n",
    "        model_path = \"model_{}\".format(epoch+1)\n",
    "        \n",
    "        \n",
    "    # if you are only going to use the saved model for inference save the state_dict() this does not save parameters,buffers,etc and thus saves space.\n",
    "    #hoewever if you are going to use the model for fine tuning , do torch.save(model)\n",
    "    \n",
    "    #Save the final best model\n",
    "    torch.save(best_model.state_dict(),model_path)\n",
    "    \n",
    "    \n",
    "    \n",
    "    end_time = datetime.now()\n",
    "    \n",
    "    print(f\"Time take by the epoch {epoch + 1} is {end_time-start_time}\")\n",
    "        "
   ]
  },
  {
   "cell_type": "markdown",
   "id": "b959fe4c",
   "metadata": {
    "papermill": {
     "duration": 0.036321,
     "end_time": "2023-05-09T16:31:25.473035",
     "exception": false,
     "start_time": "2023-05-09T16:31:25.436714",
     "status": "completed"
    },
    "tags": []
   },
   "source": [
    "## Plot the train and val loss"
   ]
  },
  {
   "cell_type": "code",
   "execution_count": 34,
   "id": "7acfcc36",
   "metadata": {
    "execution": {
     "iopub.execute_input": "2023-05-09T16:31:25.547383Z",
     "iopub.status.busy": "2023-05-09T16:31:25.546577Z",
     "iopub.status.idle": "2023-05-09T16:31:25.909759Z",
     "shell.execute_reply": "2023-05-09T16:31:25.908868Z"
    },
    "papermill": {
     "duration": 0.402301,
     "end_time": "2023-05-09T16:31:25.911708",
     "exception": false,
     "start_time": "2023-05-09T16:31:25.509407",
     "status": "completed"
    },
    "tags": []
   },
   "outputs": [
    {
     "data": {
      "image/png": "[encoded data removed]",
      "text/plain": [
       "<Figure size 640x480 with 1 Axes>"
      ]
     },
     "metadata": {},
     "output_type": "display_data"
    }
   ],
   "source": [
    "import matplotlib.pyplot as plt\n",
    "\n",
    "x_axis = list(range(1,num_epochs+1))\n",
    "\n",
    "\n",
    "plt.plot(x_axis,list_of_train_loss,color=\"green\",label=\"train_loss\")\n",
    "plt.plot(x_axis,list_of_val_loss,color=\"blue\",label=\"val_loss\")\n",
    "\n",
    "plt.xlabel(\"Epochs\")\n",
    "plt.ylabel(\"Loss\")\n",
    "plt.title(\"Train vs Validation loss plot\")\n",
    "plt.legend()\n",
    "\n",
    "plt.show()"
   ]
  },
  {
   "cell_type": "code",
   "execution_count": null,
   "id": "52f33993",
   "metadata": {
    "papermill": {
     "duration": 0.038711,
     "end_time": "2023-05-09T16:31:25.991169",
     "exception": false,
     "start_time": "2023-05-09T16:31:25.952458",
     "status": "completed"
    },
    "tags": []
   },
   "outputs": [],
   "source": []
  },
  {
   "cell_type": "code",
   "execution_count": null,
   "id": "0e7e9dd0",
   "metadata": {
    "papermill": {
     "duration": 0.036781,
     "end_time": "2023-05-09T16:31:26.066107",
     "exception": false,
     "start_time": "2023-05-09T16:31:26.029326",
     "status": "completed"
    },
    "tags": []
   },
   "outputs": [],
   "source": []
  }
 ],
 "metadata": {
  "kernelspec": {
   "display_name": "Python 3",
   "language": "python",
   "name": "python3"
  },
  "language_info": {
   "codemirror_mode": {
    "name": "ipython",
    "version": 3
   },
   "file_extension": ".py",
   "mimetype": "text/x-python",
   "name": "python",
   "nbconvert_exporter": "python",
   "pygments_lexer": "ipython3",
   "version": "3.10.10"
  },
  "papermill": {
   "default_parameters": {},
   "duration": 9205.031159,
   "end_time": "2023-05-09T16:31:28.973721",
   "environment_variables": {},
   "exception": null,
   "input_path": "__notebook__.ipynb",
   "output_path": "__notebook__.ipynb",
   "parameters": {},
   "start_time": "2023-05-09T13:58:03.942562",
   "version": "2.4.0"
  },
  "widgets": {
   "application/vnd.jupyter.widget-state+json": {
    "state": {
     "02759ae49e99447db5c15729764d6d86": {
      "model_module": "@jupyter-widgets/base",
      "model_module_version": "1.2.0",
      "model_name": "LayoutModel",
      "state": {
       "_model_module": "@jupyter-widgets/base",
       "_model_module_version": "1.2.0",
       "_model_name": "LayoutModel",
       "_view_count": null,
       "_view_module": "@jupyter-widgets/base",
       "_view_module_version": "1.2.0",
       "_view_name": "LayoutView",
       "align_content": null,
       "align_items": null,
       "align_self": null,
       "border": null,
       "bottom": null,
       "display": null,
       "flex": null,
       "flex_flow": null,
       "grid_area": null,
       "grid_auto_columns": null,
       "grid_auto_flow": null,
       "grid_auto_rows": null,
       "grid_column": null,
       "grid_gap": null,
       "grid_row": null,
       "grid_template_areas": null,
       "grid_template_columns": null,
       "grid_template_rows": null,
       "height": null,
       "justify_content": null,
       "justify_items": null,
       "left": null,
       "margin": null,
       "max_height": null,
       "max_width": null,
       "min_height": null,
       "min_width": null,
       "object_fit": null,
       "object_position": null,
       "order": null,
       "overflow": null,
       "overflow_x": null,
       "overflow_y": null,
       "padding": null,
       "right": null,
       "top": null,
       "visibility": null,
       "width": null
      }
     },
     "21d1d9c298b442c1b3f4f6052e7b5f83": {
      "model_module": "@jupyter-widgets/controls",
      "model_module_version": "1.5.0",
      "model_name": "DescriptionStyleModel",
      "state": {
       "_model_module": "@jupyter-widgets/controls",
       "_model_module_version": "1.5.0",
       "_model_name": "DescriptionStyleModel",
       "_view_count": null,
       "_view_module": "@jupyter-widgets/base",
       "_view_module_version": "1.2.0",
       "_view_name": "StyleView",
       "description_width": ""
      }
     },
     "2b70d96d50ef44669f60c6bc875963a7": {
      "model_module": "@jupyter-widgets/base",
      "model_module_version": "1.2.0",
      "model_name": "LayoutModel",
      "state": {
       "_model_module": "@jupyter-widgets/base",
       "_model_module_version": "1.2.0",
       "_model_name": "LayoutModel",
       "_view_count": null,
       "_view_module": "@jupyter-widgets/base",
       "_view_module_version": "1.2.0",
       "_view_name": "LayoutView",
       "align_content": null,
       "align_items": null,
       "align_self": null,
       "border": null,
       "bottom": null,
       "display": null,
       "flex": null,
       "flex_flow": null,
       "grid_area": null,
       "grid_auto_columns": null,
       "grid_auto_flow": null,
       "grid_auto_rows": null,
       "grid_column": null,
       "grid_gap": null,
       "grid_row": null,
       "grid_template_areas": null,
       "grid_template_columns": null,
       "grid_template_rows": null,
       "height": null,
       "justify_content": null,
       "justify_items": null,
       "left": null,
       "margin": null,
       "max_height": null,
       "max_width": null,
       "min_height": null,
       "min_width": null,
       "object_fit": null,
       "object_position": null,
       "order": null,
       "overflow": null,
       "overflow_x": null,
       "overflow_y": null,
       "padding": null,
       "right": null,
       "top": null,
       "visibility": null,
       "width": null
      }
     },
     "39e9d0b9da544be3b181cc8b98fdb5af": {
      "model_module": "@jupyter-widgets/base",
      "model_module_version": "1.2.0",
      "model_name": "LayoutModel",
      "state": {
       "_model_module": "@jupyter-widgets/base",
       "_model_module_version": "1.2.0",
       "_model_name": "LayoutModel",
       "_view_count": null,
       "_view_module": "@jupyter-widgets/base",
       "_view_module_version": "1.2.0",
       "_view_name": "LayoutView",
       "align_content": null,
       "align_items": null,
       "align_self": null,
       "border": null,
       "bottom": null,
       "display": null,
       "flex": null,
       "flex_flow": null,
       "grid_area": null,
       "grid_auto_columns": null,
       "grid_auto_flow": null,
       "grid_auto_rows": null,
       "grid_column": null,
       "grid_gap": null,
       "grid_row": null,
       "grid_template_areas": null,
       "grid_template_columns": null,
       "grid_template_rows": null,
       "height": null,
       "justify_content": null,
       "justify_items": null,
       "left": null,
       "margin": null,
       "max_height": null,
       "max_width": null,
       "min_height": null,
       "min_width": null,
       "object_fit": null,
       "object_position": null,
       "order": null,
       "overflow": null,
       "overflow_x": null,
       "overflow_y": null,
       "padding": null,
       "right": null,
       "top": null,
       "visibility": null,
       "width": null
      }
     },
     "411d9b66e9ea4d1e95825d8ceae4b810": {
      "model_module": "@jupyter-widgets/controls",
      "model_module_version": "1.5.0",
      "model_name": "FloatProgressModel",
      "state": {
       "_dom_classes": [],
       "_model_module": "@jupyter-widgets/controls",
       "_model_module_version": "1.5.0",
       "_model_name": "FloatProgressModel",
       "_view_count": null,
       "_view_module": "@jupyter-widgets/controls",
       "_view_module_version": "1.5.0",
       "_view_name": "ProgressView",
       "bar_style": "success",
       "description": "",
       "description_tooltip": null,
       "layout": "IPY_MODEL_2b70d96d50ef44669f60c6bc875963a7",
       "max": 30.0,
       "min": 0.0,
       "orientation": "horizontal",
       "style": "IPY_MODEL_8e129014f0774c6dbbd957324dae97c2",
       "value": 30.0
      }
     },
     "45d3fdbf152f4bc2b995e1c66f9894d5": {
      "model_module": "@jupyter-widgets/controls",
      "model_module_version": "1.5.0",
      "model_name": "DescriptionStyleModel",
      "state": {
       "_model_module": "@jupyter-widgets/controls",
       "_model_module_version": "1.5.0",
       "_model_name": "DescriptionStyleModel",
       "_view_count": null,
       "_view_module": "@jupyter-widgets/base",
       "_view_module_version": "1.2.0",
       "_view_name": "StyleView",
       "description_width": ""
      }
     },
     "731e3b267aff440791eef99318a61ef5": {
      "model_module": "@jupyter-widgets/controls",
      "model_module_version": "1.5.0",
      "model_name": "HTMLModel",
      "state": {
       "_dom_classes": [],
       "_model_module": "@jupyter-widgets/controls",
       "_model_module_version": "1.5.0",
       "_model_name": "HTMLModel",
       "_view_count": null,
       "_view_module": "@jupyter-widgets/controls",
       "_view_module_version": "1.5.0",
       "_view_name": "HTMLView",
       "description": "",
       "description_tooltip": null,
       "layout": "IPY_MODEL_02759ae49e99447db5c15729764d6d86",
       "placeholder": "​",
       "style": "IPY_MODEL_45d3fdbf152f4bc2b995e1c66f9894d5",
       "value": "100%"
      }
     },
     "8e129014f0774c6dbbd957324dae97c2": {
      "model_module": "@jupyter-widgets/controls",
      "model_module_version": "1.5.0",
      "model_name": "ProgressStyleModel",
      "state": {
       "_model_module": "@jupyter-widgets/controls",
       "_model_module_version": "1.5.0",
       "_model_name": "ProgressStyleModel",
       "_view_count": null,
       "_view_module": "@jupyter-widgets/base",
       "_view_module_version": "1.2.0",
       "_view_name": "StyleView",
       "bar_color": null,
       "description_width": ""
      }
     },
     "9448e2602e3d4184a8aa15f85d2f75e8": {
      "model_module": "@jupyter-widgets/controls",
      "model_module_version": "1.5.0",
      "model_name": "HTMLModel",
      "state": {
       "_dom_classes": [],
       "_model_module": "@jupyter-widgets/controls",
       "_model_module_version": "1.5.0",
       "_model_name": "HTMLModel",
       "_view_count": null,
       "_view_module": "@jupyter-widgets/controls",
       "_view_module_version": "1.5.0",
       "_view_name": "HTMLView",
       "description": "",
       "description_tooltip": null,
       "layout": "IPY_MODEL_39e9d0b9da544be3b181cc8b98fdb5af",
       "placeholder": "​",
       "style": "IPY_MODEL_21d1d9c298b442c1b3f4f6052e7b5f83",
       "value": " 30/30 [2:32:13&lt;00:00, 303.94s/it]"
      }
     },
     "a7b032c43ac349378ffc243ca8132ba9": {
      "model_module": "@jupyter-widgets/base",
      "model_module_version": "1.2.0",
      "model_name": "LayoutModel",
      "state": {
       "_model_module": "@jupyter-widgets/base",
       "_model_module_version": "1.2.0",
       "_model_name": "LayoutModel",
       "_view_count": null,
       "_view_module": "@jupyter-widgets/base",
       "_view_module_version": "1.2.0",
       "_view_name": "LayoutView",
       "align_content": null,
       "align_items": null,
       "align_self": null,
       "border": null,
       "bottom": null,
       "display": null,
       "flex": null,
       "flex_flow": null,
       "grid_area": null,
       "grid_auto_columns": null,
       "grid_auto_flow": null,
       "grid_auto_rows": null,
       "grid_column": null,
       "grid_gap": null,
       "grid_row": null,
       "grid_template_areas": null,
       "grid_template_columns": null,
       "grid_template_rows": null,
       "height": null,
       "justify_content": null,
       "justify_items": null,
       "left": null,
       "margin": null,
       "max_height": null,
       "max_width": null,
       "min_height": null,
       "min_width": null,
       "object_fit": null,
       "object_position": null,
       "order": null,
       "overflow": null,
       "overflow_x": null,
       "overflow_y": null,
       "padding": null,
       "right": null,
       "top": null,
       "visibility": null,
       "width": null
      }
     },
     "d22715549a4e44b9931302b4fa7586fe": {
      "model_module": "@jupyter-widgets/controls",
      "model_module_version": "1.5.0",
      "model_name": "HBoxModel",
      "state": {
       "_dom_classes": [],
       "_model_module": "@jupyter-widgets/controls",
       "_model_module_version": "1.5.0",
       "_model_name": "HBoxModel",
       "_view_count": null,
       "_view_module": "@jupyter-widgets/controls",
       "_view_module_version": "1.5.0",
       "_view_name": "HBoxView",
       "box_style": "",
       "children": [
        "IPY_MODEL_731e3b267aff440791eef99318a61ef5",
        "IPY_MODEL_411d9b66e9ea4d1e95825d8ceae4b810",
        "IPY_MODEL_9448e2602e3d4184a8aa15f85d2f75e8"
       ],
       "layout": "IPY_MODEL_a7b032c43ac349378ffc243ca8132ba9"
      }
     }
    },
    "version_major": 2,
    "version_minor": 0
   }
  }
 },
 "nbformat": 4,
 "nbformat_minor": 5
}
