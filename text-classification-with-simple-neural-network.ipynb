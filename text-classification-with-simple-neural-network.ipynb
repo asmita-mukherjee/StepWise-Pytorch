{
 "cells": [
  {
   "cell_type": "markdown",
   "id": "f482909e",
   "metadata": {
    "papermill": {
     "duration": 0.007566,
     "end_time": "2023-05-03T11:31:15.720730",
     "exception": false,
     "start_time": "2023-05-03T11:31:15.713164",
     "status": "completed"
    },
    "tags": []
   },
   "source": [
    "## Imports"
   ]
  },
  {
   "cell_type": "code",
   "execution_count": 1,
   "id": "1df34428",
   "metadata": {
    "execution": {
     "iopub.execute_input": "2023-05-03T11:31:15.736563Z",
     "iopub.status.busy": "2023-05-03T11:31:15.736152Z",
     "iopub.status.idle": "2023-05-03T11:31:15.746122Z",
     "shell.execute_reply": "2023-05-03T11:31:15.745126Z"
    },
    "papermill": {
     "duration": 0.020206,
     "end_time": "2023-05-03T11:31:15.748058",
     "exception": false,
     "start_time": "2023-05-03T11:31:15.727852",
     "status": "completed"
    },
    "tags": []
   },
   "outputs": [],
   "source": [
    "import pickle"
   ]
  },
  {
   "cell_type": "code",
   "execution_count": 2,
   "id": "13b7dc5e",
   "metadata": {
    "execution": {
     "iopub.execute_input": "2023-05-03T11:31:15.763528Z",
     "iopub.status.busy": "2023-05-03T11:31:15.763266Z",
     "iopub.status.idle": "2023-05-03T11:31:18.907148Z",
     "shell.execute_reply": "2023-05-03T11:31:18.906185Z"
    },
    "papermill": {
     "duration": 3.154362,
     "end_time": "2023-05-03T11:31:18.909679",
     "exception": false,
     "start_time": "2023-05-03T11:31:15.755317",
     "status": "completed"
    },
    "tags": []
   },
   "outputs": [],
   "source": [
    "import torch\n",
    "import torch.nn as nn"
   ]
  },
  {
   "cell_type": "code",
   "execution_count": 3,
   "id": "d522619b",
   "metadata": {
    "execution": {
     "iopub.execute_input": "2023-05-03T11:31:18.925715Z",
     "iopub.status.busy": "2023-05-03T11:31:18.925231Z",
     "iopub.status.idle": "2023-05-03T11:31:18.929755Z",
     "shell.execute_reply": "2023-05-03T11:31:18.928779Z"
    },
    "papermill": {
     "duration": 0.01463,
     "end_time": "2023-05-03T11:31:18.931807",
     "exception": false,
     "start_time": "2023-05-03T11:31:18.917177",
     "status": "completed"
    },
    "tags": []
   },
   "outputs": [],
   "source": [
    "from torch.utils.data import Dataset\n",
    "from torch.utils.data import DataLoader"
   ]
  },
  {
   "cell_type": "code",
   "execution_count": 4,
   "id": "80ff4150",
   "metadata": {
    "execution": {
     "iopub.execute_input": "2023-05-03T11:31:18.946402Z",
     "iopub.status.busy": "2023-05-03T11:31:18.946159Z",
     "iopub.status.idle": "2023-05-03T11:31:18.949814Z",
     "shell.execute_reply": "2023-05-03T11:31:18.948987Z"
    },
    "papermill": {
     "duration": 0.013162,
     "end_time": "2023-05-03T11:31:18.951661",
     "exception": false,
     "start_time": "2023-05-03T11:31:18.938499",
     "status": "completed"
    },
    "tags": []
   },
   "outputs": [],
   "source": [
    "import gc"
   ]
  },
  {
   "cell_type": "markdown",
   "id": "7e61ebe4",
   "metadata": {
    "papermill": {
     "duration": 0.006674,
     "end_time": "2023-05-03T11:31:18.965017",
     "exception": false,
     "start_time": "2023-05-03T11:31:18.958343",
     "status": "completed"
    },
    "tags": []
   },
   "source": [
    "#### Load the tensors"
   ]
  },
  {
   "cell_type": "code",
   "execution_count": 5,
   "id": "ae7b4014",
   "metadata": {
    "execution": {
     "iopub.execute_input": "2023-05-03T11:31:18.980154Z",
     "iopub.status.busy": "2023-05-03T11:31:18.979438Z",
     "iopub.status.idle": "2023-05-03T11:31:18.983995Z",
     "shell.execute_reply": "2023-05-03T11:31:18.983229Z"
    },
    "papermill": {
     "duration": 0.013798,
     "end_time": "2023-05-03T11:31:18.985785",
     "exception": false,
     "start_time": "2023-05-03T11:31:18.971987",
     "status": "completed"
    },
    "tags": []
   },
   "outputs": [],
   "source": [
    "def load_pickle(f_name):\n",
    "    with open(f_name,\"rb\") as f:\n",
    "        obj = pickle.load(f)\n",
    "    \n",
    "    return obj"
   ]
  },
  {
   "cell_type": "code",
   "execution_count": 6,
   "id": "4ac5523d",
   "metadata": {
    "execution": {
     "iopub.execute_input": "2023-05-03T11:31:19.000637Z",
     "iopub.status.busy": "2023-05-03T11:31:18.999960Z",
     "iopub.status.idle": "2023-05-03T11:31:51.510664Z",
     "shell.execute_reply": "2023-05-03T11:31:51.509747Z"
    },
    "papermill": {
     "duration": 32.520548,
     "end_time": "2023-05-03T11:31:51.512970",
     "exception": false,
     "start_time": "2023-05-03T11:31:18.992422",
     "status": "completed"
    },
    "tags": []
   },
   "outputs": [],
   "source": [
    "train_text_tensors = load_pickle(\"/kaggle/input/converting-text-to-tensors-ipynb/train_text_tensors.pkl\")"
   ]
  },
  {
   "cell_type": "code",
   "execution_count": 7,
   "id": "95a32ba1",
   "metadata": {
    "execution": {
     "iopub.execute_input": "2023-05-03T11:31:51.529767Z",
     "iopub.status.busy": "2023-05-03T11:31:51.528181Z",
     "iopub.status.idle": "2023-05-03T11:31:59.937420Z",
     "shell.execute_reply": "2023-05-03T11:31:59.935188Z"
    },
    "papermill": {
     "duration": 8.426389,
     "end_time": "2023-05-03T11:31:59.946618",
     "exception": false,
     "start_time": "2023-05-03T11:31:51.520229",
     "status": "completed"
    },
    "tags": []
   },
   "outputs": [],
   "source": [
    "test_text_tensors = load_pickle(\"/kaggle/input/converting-text-to-tensors-ipynb/test_text_tensors.pkl\")"
   ]
  },
  {
   "cell_type": "code",
   "execution_count": 8,
   "id": "32848adc",
   "metadata": {
    "execution": {
     "iopub.execute_input": "2023-05-03T11:31:59.990636Z",
     "iopub.status.busy": "2023-05-03T11:31:59.988598Z",
     "iopub.status.idle": "2023-05-03T11:32:00.014026Z",
     "shell.execute_reply": "2023-05-03T11:32:00.012032Z"
    },
    "papermill": {
     "duration": 0.051686,
     "end_time": "2023-05-03T11:32:00.018260",
     "exception": false,
     "start_time": "2023-05-03T11:31:59.966574",
     "status": "completed"
    },
    "tags": []
   },
   "outputs": [],
   "source": [
    "train_labels_tensors = load_pickle(\"/kaggle/input/converting-text-to-tensors-ipynb/train_labels_tensors\")"
   ]
  },
  {
   "cell_type": "code",
   "execution_count": 9,
   "id": "a1ec4386",
   "metadata": {
    "execution": {
     "iopub.execute_input": "2023-05-03T11:32:00.063433Z",
     "iopub.status.busy": "2023-05-03T11:32:00.061531Z",
     "iopub.status.idle": "2023-05-03T11:32:00.081074Z",
     "shell.execute_reply": "2023-05-03T11:32:00.079125Z"
    },
    "papermill": {
     "duration": 0.044973,
     "end_time": "2023-05-03T11:32:00.084975",
     "exception": false,
     "start_time": "2023-05-03T11:32:00.040002",
     "status": "completed"
    },
    "tags": []
   },
   "outputs": [],
   "source": [
    "test_labels_tensors = load_pickle(\"/kaggle/input/converting-text-to-tensors-ipynb/test_labels_tensors\")"
   ]
  },
  {
   "cell_type": "markdown",
   "id": "ff265ea2",
   "metadata": {
    "papermill": {
     "duration": 0.00665,
     "end_time": "2023-05-03T11:32:00.098761",
     "exception": false,
     "start_time": "2023-05-03T11:32:00.092111",
     "status": "completed"
    },
    "tags": []
   },
   "source": [
    "## Custom Dataset and DataLoaders"
   ]
  },
  {
   "cell_type": "code",
   "execution_count": 10,
   "id": "f427c074",
   "metadata": {
    "execution": {
     "iopub.execute_input": "2023-05-03T11:32:00.113857Z",
     "iopub.status.busy": "2023-05-03T11:32:00.113575Z",
     "iopub.status.idle": "2023-05-03T11:32:00.118627Z",
     "shell.execute_reply": "2023-05-03T11:32:00.117687Z"
    },
    "papermill": {
     "duration": 0.014558,
     "end_time": "2023-05-03T11:32:00.120423",
     "exception": false,
     "start_time": "2023-05-03T11:32:00.105865",
     "status": "completed"
    },
    "tags": []
   },
   "outputs": [],
   "source": [
    "class TextLabelDataset(Dataset):\n",
    "    def __init__(self,text_tensor,label_tensor):\n",
    "        self.text_tensor = text_tensor\n",
    "        self.label_tensor = label_tensor\n",
    "    \n",
    "    def __len__(self):\n",
    "        return len(self.text_tensor)\n",
    "    \n",
    "    def __getitem__(self,idx):\n",
    "        return self.text_tensor[idx],self.label_tensor[idx]"
   ]
  },
  {
   "cell_type": "code",
   "execution_count": 11,
   "id": "9a5ec5de",
   "metadata": {
    "execution": {
     "iopub.execute_input": "2023-05-03T11:32:00.136550Z",
     "iopub.status.busy": "2023-05-03T11:32:00.135781Z",
     "iopub.status.idle": "2023-05-03T11:32:00.140200Z",
     "shell.execute_reply": "2023-05-03T11:32:00.139337Z"
    },
    "papermill": {
     "duration": 0.014554,
     "end_time": "2023-05-03T11:32:00.141995",
     "exception": false,
     "start_time": "2023-05-03T11:32:00.127441",
     "status": "completed"
    },
    "tags": []
   },
   "outputs": [],
   "source": [
    "train_dataset = TextLabelDataset(train_text_tensors,train_labels_tensors)"
   ]
  },
  {
   "cell_type": "code",
   "execution_count": 12,
   "id": "78bd2c0c",
   "metadata": {
    "execution": {
     "iopub.execute_input": "2023-05-03T11:32:00.157041Z",
     "iopub.status.busy": "2023-05-03T11:32:00.156802Z",
     "iopub.status.idle": "2023-05-03T11:32:00.163307Z",
     "shell.execute_reply": "2023-05-03T11:32:00.162496Z"
    },
    "papermill": {
     "duration": 0.016334,
     "end_time": "2023-05-03T11:32:00.165258",
     "exception": false,
     "start_time": "2023-05-03T11:32:00.148924",
     "status": "completed"
    },
    "tags": []
   },
   "outputs": [
    {
     "data": {
      "text/plain": [
       "<function gc.collect(generation=2)>"
      ]
     },
     "execution_count": 12,
     "metadata": {},
     "output_type": "execute_result"
    }
   ],
   "source": [
    "del train_text_tensors\n",
    "del train_labels_tensors\n",
    "gc.collect"
   ]
  },
  {
   "cell_type": "code",
   "execution_count": 13,
   "id": "3aee5af9",
   "metadata": {
    "execution": {
     "iopub.execute_input": "2023-05-03T11:32:00.180698Z",
     "iopub.status.busy": "2023-05-03T11:32:00.179971Z",
     "iopub.status.idle": "2023-05-03T11:32:00.184388Z",
     "shell.execute_reply": "2023-05-03T11:32:00.183544Z"
    },
    "papermill": {
     "duration": 0.013756,
     "end_time": "2023-05-03T11:32:00.186207",
     "exception": false,
     "start_time": "2023-05-03T11:32:00.172451",
     "status": "completed"
    },
    "tags": []
   },
   "outputs": [],
   "source": [
    "test_dataset = TextLabelDataset(test_text_tensors,test_labels_tensors)"
   ]
  },
  {
   "cell_type": "code",
   "execution_count": 14,
   "id": "ba4b612d",
   "metadata": {
    "execution": {
     "iopub.execute_input": "2023-05-03T11:32:00.200857Z",
     "iopub.status.busy": "2023-05-03T11:32:00.200582Z",
     "iopub.status.idle": "2023-05-03T11:32:00.345474Z",
     "shell.execute_reply": "2023-05-03T11:32:00.344432Z"
    },
    "papermill": {
     "duration": 0.154376,
     "end_time": "2023-05-03T11:32:00.347384",
     "exception": false,
     "start_time": "2023-05-03T11:32:00.193008",
     "status": "completed"
    },
    "tags": []
   },
   "outputs": [
    {
     "data": {
      "text/plain": [
       "28"
      ]
     },
     "execution_count": 14,
     "metadata": {},
     "output_type": "execute_result"
    }
   ],
   "source": [
    "del test_text_tensors\n",
    "del test_labels_tensors\n",
    "gc.collect()"
   ]
  },
  {
   "cell_type": "code",
   "execution_count": 15,
   "id": "1e44677b",
   "metadata": {
    "execution": {
     "iopub.execute_input": "2023-05-03T11:32:00.362829Z",
     "iopub.status.busy": "2023-05-03T11:32:00.362537Z",
     "iopub.status.idle": "2023-05-03T11:32:00.367439Z",
     "shell.execute_reply": "2023-05-03T11:32:00.366640Z"
    },
    "papermill": {
     "duration": 0.014423,
     "end_time": "2023-05-03T11:32:00.369232",
     "exception": false,
     "start_time": "2023-05-03T11:32:00.354809",
     "status": "completed"
    },
    "tags": []
   },
   "outputs": [],
   "source": [
    "train_loader = DataLoader(train_dataset,batch_size=32,shuffle=True)"
   ]
  },
  {
   "cell_type": "code",
   "execution_count": 16,
   "id": "063f27de",
   "metadata": {
    "execution": {
     "iopub.execute_input": "2023-05-03T11:32:00.384636Z",
     "iopub.status.busy": "2023-05-03T11:32:00.384375Z",
     "iopub.status.idle": "2023-05-03T11:32:00.510622Z",
     "shell.execute_reply": "2023-05-03T11:32:00.509657Z"
    },
    "papermill": {
     "duration": 0.136264,
     "end_time": "2023-05-03T11:32:00.512748",
     "exception": false,
     "start_time": "2023-05-03T11:32:00.376484",
     "status": "completed"
    },
    "tags": []
   },
   "outputs": [
    {
     "data": {
      "text/plain": [
       "0"
      ]
     },
     "execution_count": 16,
     "metadata": {},
     "output_type": "execute_result"
    }
   ],
   "source": [
    "del train_dataset\n",
    "gc.collect()"
   ]
  },
  {
   "cell_type": "code",
   "execution_count": 17,
   "id": "71e14225",
   "metadata": {
    "execution": {
     "iopub.execute_input": "2023-05-03T11:32:00.530236Z",
     "iopub.status.busy": "2023-05-03T11:32:00.529495Z",
     "iopub.status.idle": "2023-05-03T11:32:00.534843Z",
     "shell.execute_reply": "2023-05-03T11:32:00.534015Z"
    },
    "papermill": {
     "duration": 0.015324,
     "end_time": "2023-05-03T11:32:00.536661",
     "exception": false,
     "start_time": "2023-05-03T11:32:00.521337",
     "status": "completed"
    },
    "tags": []
   },
   "outputs": [],
   "source": [
    "test_loader = DataLoader(test_dataset,batch_size=32,shuffle=True)"
   ]
  },
  {
   "cell_type": "code",
   "execution_count": 18,
   "id": "7e582098",
   "metadata": {
    "execution": {
     "iopub.execute_input": "2023-05-03T11:32:00.554446Z",
     "iopub.status.busy": "2023-05-03T11:32:00.553012Z",
     "iopub.status.idle": "2023-05-03T11:32:00.679696Z",
     "shell.execute_reply": "2023-05-03T11:32:00.678752Z"
    },
    "papermill": {
     "duration": 0.137425,
     "end_time": "2023-05-03T11:32:00.681688",
     "exception": false,
     "start_time": "2023-05-03T11:32:00.544263",
     "status": "completed"
    },
    "tags": []
   },
   "outputs": [
    {
     "data": {
      "text/plain": [
       "0"
      ]
     },
     "execution_count": 18,
     "metadata": {},
     "output_type": "execute_result"
    }
   ],
   "source": [
    "del test_dataset\n",
    "gc.collect()"
   ]
  },
  {
   "cell_type": "code",
   "execution_count": 19,
   "id": "feeb7bcb",
   "metadata": {
    "execution": {
     "iopub.execute_input": "2023-05-03T11:32:00.697546Z",
     "iopub.status.busy": "2023-05-03T11:32:00.697286Z",
     "iopub.status.idle": "2023-05-03T11:32:00.751750Z",
     "shell.execute_reply": "2023-05-03T11:32:00.750312Z"
    },
    "papermill": {
     "duration": 0.064361,
     "end_time": "2023-05-03T11:32:00.753676",
     "exception": false,
     "start_time": "2023-05-03T11:32:00.689315",
     "status": "completed"
    },
    "tags": []
   },
   "outputs": [
    {
     "name": "stdout",
     "output_type": "stream",
     "text": [
      "Shape of text tensor torch.Size([32, 16788])\n",
      "Shape of label tensor torch.Size([32, 3])\n"
     ]
    }
   ],
   "source": [
    "##having a sneak at one train batch\n",
    "\n",
    "for idx,data in enumerate(train_loader):\n",
    "    text_tensor,label_tensor = data\n",
    "    \n",
    "    print(f\"Shape of text tensor {text_tensor.shape}\")\n",
    "    print(f\"Shape of label tensor {label_tensor.shape}\")\n",
    "    break"
   ]
  },
  {
   "cell_type": "markdown",
   "id": "b76a2021",
   "metadata": {
    "papermill": {
     "duration": 0.00686,
     "end_time": "2023-05-03T11:32:00.767687",
     "exception": false,
     "start_time": "2023-05-03T11:32:00.760827",
     "status": "completed"
    },
    "tags": []
   },
   "source": [
    "## Building a Custom Model using Model parallelism"
   ]
  },
  {
   "cell_type": "code",
   "execution_count": 20,
   "id": "5fced5f4",
   "metadata": {
    "execution": {
     "iopub.execute_input": "2023-05-03T11:32:00.782745Z",
     "iopub.status.busy": "2023-05-03T11:32:00.782484Z",
     "iopub.status.idle": "2023-05-03T11:32:00.788443Z",
     "shell.execute_reply": "2023-05-03T11:32:00.787536Z"
    },
    "papermill": {
     "duration": 0.015696,
     "end_time": "2023-05-03T11:32:00.790376",
     "exception": false,
     "start_time": "2023-05-03T11:32:00.774680",
     "status": "completed"
    },
    "tags": []
   },
   "outputs": [],
   "source": [
    "class TextClassification(nn.Module):\n",
    "    \n",
    "    def __init__(self,vocab_size,embed_dim,hidden_dim):\n",
    "        \n",
    "        super().__init__()\n",
    "    \n",
    "        self.embed = nn.Embedding(vocab_size,hidden_dim,padding_idx=0)\n",
    "        self.gelu1 = nn.GELU()\n",
    "        self.linear = nn.Linear(hidden_dim,32)\n",
    "        self.gelu2 = nn.GELU()\n",
    "        self.final = nn.Linear(32,3)#since there are 6 classes in the dataset\n",
    "    \n",
    "    def forward(self,text_tensor):\n",
    "        output = self.embed(text_tensor)\n",
    "        output = self.gelu1(output)\n",
    "        output = self.linear(output)\n",
    "        output = self.gelu2(output)\n",
    "        output = self.final(output)\n",
    "        \n",
    "        return output"
   ]
  },
  {
   "cell_type": "code",
   "execution_count": null,
   "id": "c4a741d9",
   "metadata": {
    "papermill": {
     "duration": 0.006988,
     "end_time": "2023-05-03T11:32:00.804784",
     "exception": false,
     "start_time": "2023-05-03T11:32:00.797796",
     "status": "completed"
    },
    "tags": []
   },
   "outputs": [],
   "source": []
  },
  {
   "cell_type": "code",
   "execution_count": 21,
   "id": "01741d4e",
   "metadata": {
    "execution": {
     "iopub.execute_input": "2023-05-03T11:32:00.820019Z",
     "iopub.status.busy": "2023-05-03T11:32:00.819758Z",
     "iopub.status.idle": "2023-05-03T11:32:00.847629Z",
     "shell.execute_reply": "2023-05-03T11:32:00.846930Z"
    },
    "papermill": {
     "duration": 0.037474,
     "end_time": "2023-05-03T11:32:00.849466",
     "exception": false,
     "start_time": "2023-05-03T11:32:00.811992",
     "status": "completed"
    },
    "tags": []
   },
   "outputs": [],
   "source": [
    "model = TextClassification(vocab_size = 16772,embed_dim=512,hidden_dim=128)"
   ]
  },
  {
   "cell_type": "code",
   "execution_count": 22,
   "id": "8b3aae16",
   "metadata": {
    "execution": {
     "iopub.execute_input": "2023-05-03T11:32:00.864441Z",
     "iopub.status.busy": "2023-05-03T11:32:00.864196Z",
     "iopub.status.idle": "2023-05-03T11:32:00.867863Z",
     "shell.execute_reply": "2023-05-03T11:32:00.866974Z"
    },
    "papermill": {
     "duration": 0.013196,
     "end_time": "2023-05-03T11:32:00.869672",
     "exception": false,
     "start_time": "2023-05-03T11:32:00.856476",
     "status": "completed"
    },
    "tags": []
   },
   "outputs": [],
   "source": [
    "loss = nn.CrossEntropyLoss()"
   ]
  },
  {
   "cell_type": "code",
   "execution_count": 23,
   "id": "417e58f5",
   "metadata": {
    "execution": {
     "iopub.execute_input": "2023-05-03T11:32:00.885256Z",
     "iopub.status.busy": "2023-05-03T11:32:00.885025Z",
     "iopub.status.idle": "2023-05-03T11:32:01.604654Z",
     "shell.execute_reply": "2023-05-03T11:32:01.603451Z"
    },
    "papermill": {
     "duration": 0.729745,
     "end_time": "2023-05-03T11:32:01.606737",
     "exception": false,
     "start_time": "2023-05-03T11:32:00.876992",
     "status": "completed"
    },
    "tags": []
   },
   "outputs": [
    {
     "name": "stdout",
     "output_type": "stream",
     "text": [
      "9.697684288024902\n"
     ]
    }
   ],
   "source": [
    "## test forward pass for one batch\n",
    "##having a sneak at one train batch\n",
    "\n",
    "for idx,data in enumerate(train_loader):\n",
    "    text_tensor,label = data\n",
    "    text_tensor = text_tensor.to(torch.int)\n",
    "    label = label.to(torch.long)\n",
    "    output = model(text_tensor)\n",
    "    \n",
    "    loss_val = loss(output,label)\n",
    "    \n",
    "    print(loss_val.item())\n",
    "    break"
   ]
  },
  {
   "cell_type": "markdown",
   "id": "7f2d251b",
   "metadata": {
    "papermill": {
     "duration": 0.007374,
     "end_time": "2023-05-03T11:32:01.621447",
     "exception": false,
     "start_time": "2023-05-03T11:32:01.614073",
     "status": "completed"
    },
    "tags": []
   },
   "source": [
    "### Okay then! we can proceed with writing the training loop"
   ]
  },
  {
   "cell_type": "markdown",
   "id": "6a900b4c",
   "metadata": {
    "papermill": {
     "duration": 0.006816,
     "end_time": "2023-05-03T11:32:01.635382",
     "exception": false,
     "start_time": "2023-05-03T11:32:01.628566",
     "status": "completed"
    },
    "tags": []
   },
   "source": [
    "##### But wait a min!! we still have bunch of things left to do"
   ]
  },
  {
   "cell_type": "markdown",
   "id": "da4aceae",
   "metadata": {
    "papermill": {
     "duration": 0.006797,
     "end_time": "2023-05-03T11:32:01.649462",
     "exception": false,
     "start_time": "2023-05-03T11:32:01.642665",
     "status": "completed"
    },
    "tags": []
   },
   "source": [
    "# Set the loss function:\n",
    "\n",
    "Since we are dealing with a classification problem here , we will use cross entopy loss function\n",
    "which basically calculates the entropy between the probability distribuition which is outputed by the model and the gold probability distribuition.\n",
    "\n",
    "The more similar the probability distribution the less will the entropy i.e the loss\n",
    "\n",
    "> Foumula for binary classification for a single instance\n",
    "loss = -(p(gold output)*log(p(predicted output)) - (1-p(gold output))*log(1-p(predicted output)))\n",
    "\n",
    "> The above can be be generalized for multiple classes\n",
    "loss = -sum for each class(p(gold output)*log(p(predicted output)))\n"
   ]
  },
  {
   "cell_type": "code",
   "execution_count": 24,
   "id": "b18d486f",
   "metadata": {
    "execution": {
     "iopub.execute_input": "2023-05-03T11:32:01.666011Z",
     "iopub.status.busy": "2023-05-03T11:32:01.664519Z",
     "iopub.status.idle": "2023-05-03T11:32:01.669849Z",
     "shell.execute_reply": "2023-05-03T11:32:01.669060Z"
    },
    "papermill": {
     "duration": 0.014982,
     "end_time": "2023-05-03T11:32:01.671537",
     "exception": false,
     "start_time": "2023-05-03T11:32:01.656555",
     "status": "completed"
    },
    "tags": []
   },
   "outputs": [],
   "source": [
    "loss_fn = nn.CrossEntropyLoss()"
   ]
  },
  {
   "cell_type": "markdown",
   "id": "118106f5",
   "metadata": {
    "papermill": {
     "duration": 0.006911,
     "end_time": "2023-05-03T11:32:01.685603",
     "exception": false,
     "start_time": "2023-05-03T11:32:01.678692",
     "status": "completed"
    },
    "tags": []
   },
   "source": [
    "# Set the optimizer\n",
    "\n",
    "The optimizer decides how the gradient will be updated in backpropagation.Some of the commonly known optimizers are :\n",
    "\n",
    "> 1) SGD : This is the same as mini batch gradient descent .w_new = W_old - grad_of_loss_wrt_w\n",
    "\n",
    "> 2) SGD with momentum : Now SGD can get stuck it local minima,this borrows the intuition of momentum in physics, where the momentum due to previous gradient updates can push the parameter out of its local minima and lead towards global minima.  w_new = W_old + momentum, where momentum = function(grad_wrt_w_old, previous momentum)\n",
    "\n",
    "> 3) Adagrad : Often times, using only momentum might be slow, as the gradients of many paprameters might tend to zero and not contirbute to gradient descent. Here we maintain the sums of squares of gradient and divide the learning rate of each paramater by the square root of the accualted sums of gradients for that particular parameter. Hence unlike momentum , different parameters will have different learning rates , which is better.\n",
    "\n",
    "> 4) RMSProp : Since Adagrad uses squares of gradients, it can accumulate gradients too quickly and thus cause the learning rates to drop too rapidly. RMSProp thus handles the problem of Adagrad.\n",
    "\n",
    "> 5) Adam : Adam basically combines the adavantages of momentum and rmsProp. With momentum it acheives the speed of convergence and with rmsprop every parameter gets to have its own learning rate.\n"
   ]
  },
  {
   "cell_type": "code",
   "execution_count": 25,
   "id": "b28864e6",
   "metadata": {
    "execution": {
     "iopub.execute_input": "2023-05-03T11:32:01.701040Z",
     "iopub.status.busy": "2023-05-03T11:32:01.700556Z",
     "iopub.status.idle": "2023-05-03T11:32:01.704605Z",
     "shell.execute_reply": "2023-05-03T11:32:01.703712Z"
    },
    "papermill": {
     "duration": 0.013587,
     "end_time": "2023-05-03T11:32:01.706399",
     "exception": false,
     "start_time": "2023-05-03T11:32:01.692812",
     "status": "completed"
    },
    "tags": []
   },
   "outputs": [],
   "source": [
    "#setting sgd with momentum\n",
    "optimizer = torch.optim.SGD(model.parameters(),lr=0.001,momentum=0.9)\n"
   ]
  },
  {
   "cell_type": "code",
   "execution_count": 26,
   "id": "640cf3f6",
   "metadata": {
    "execution": {
     "iopub.execute_input": "2023-05-03T11:32:01.721669Z",
     "iopub.status.busy": "2023-05-03T11:32:01.721413Z",
     "iopub.status.idle": "2023-05-03T11:32:01.727794Z",
     "shell.execute_reply": "2023-05-03T11:32:01.726838Z"
    },
    "papermill": {
     "duration": 0.016441,
     "end_time": "2023-05-03T11:32:01.729831",
     "exception": false,
     "start_time": "2023-05-03T11:32:01.713390",
     "status": "completed"
    },
    "tags": []
   },
   "outputs": [],
   "source": [
    "def training_for_one_epoch(dataloader,epoch_nos):\n",
    "    '''\n",
    "        One epoch will do forward pass and backward pass for the model for the entire dataset for one iteration.\n",
    "        For convergence, we would have do forward and backward pass multiple times for the dataset\n",
    "\n",
    "    '''\n",
    "    loss_for_the_epoch = 0\n",
    "    \n",
    "    #iterate through the dataset in batches, i.e we will at a time load the chuncks(of size = batch size) of dataset\n",
    "    for idx,data in enumerate(dataloader):\n",
    "        \n",
    "        input_tensors,label_tensors = data\n",
    "        \n",
    "        #refer to the notebook on autograd in the repository and recall how we calculate gradients.\n",
    "        #optimizer will store the .grad value of all the parameters, hence at the start of our iteration, we will set the grads to 0\n",
    "        #this is important, as we do not want to accumulate the gradients for each batch.\n",
    "        #since we are doing sgd, we will update the gradients(via backprop) at the end of each batch and clear the gradients at the begining of each batch\n",
    "        \n",
    "        optimizer.zero_grad()\n",
    "        \n",
    "        #get the ouput of the model by doing forward pass\n",
    "        model_output = model(input_tensors)\n",
    "        \n",
    "        #compute the loss\n",
    "        loss = loss_fn(model_output,label_tensors)\n",
    "        \n",
    "        #now that we have the loss!, we would want to update all the parameters of our model by backprop\n",
    "        #and recall this step from the autograd notebook as well\n",
    "        #hence this step will calculate and update the .grad values of all the parameters in our model\n",
    "        loss.backward()\n",
    "        \n",
    "        \n",
    "        #and now that we have the gradient values of all our parameter, we would do gradient descent for the parameters. i.e upate the parameter values\n",
    "        optimizer.step()\n",
    "        \n",
    "        loss_for_the_epoch += loss.item() \n",
    "        \n",
    "        #print the loss for every 500th batch\n",
    "        if i % 500 == 0:\n",
    "            curr_loss = loss_for_the_epoch/500 # loss per batch\n",
    "            print('  batch {} loss: {}'.format(i + 1, curr_loss))\n",
    "    \n",
    "    \n",
    "    return loss_for_the_epoch/len(dataloader)\n",
    "        \n",
    "        \n",
    "        \n",
    "    "
   ]
  },
  {
   "cell_type": "markdown",
   "id": "f735331e",
   "metadata": {
    "papermill": {
     "duration": 0.007524,
     "end_time": "2023-05-03T11:32:01.744642",
     "exception": false,
     "start_time": "2023-05-03T11:32:01.737118",
     "status": "completed"
    },
    "tags": []
   },
   "source": [
    "## Wuhunn!! now we can actually train our model"
   ]
  },
  {
   "cell_type": "code",
   "execution_count": null,
   "id": "abce0fd5",
   "metadata": {
    "papermill": {
     "duration": 0.006836,
     "end_time": "2023-05-03T11:32:01.758666",
     "exception": false,
     "start_time": "2023-05-03T11:32:01.751830",
     "status": "completed"
    },
    "tags": []
   },
   "outputs": [],
   "source": []
  },
  {
   "cell_type": "code",
   "execution_count": null,
   "id": "0c85c845",
   "metadata": {
    "papermill": {
     "duration": 0.006966,
     "end_time": "2023-05-03T11:32:01.772920",
     "exception": false,
     "start_time": "2023-05-03T11:32:01.765954",
     "status": "completed"
    },
    "tags": []
   },
   "outputs": [],
   "source": []
  },
  {
   "cell_type": "code",
   "execution_count": null,
   "id": "7661b141",
   "metadata": {
    "papermill": {
     "duration": 0.007461,
     "end_time": "2023-05-03T11:32:01.787476",
     "exception": false,
     "start_time": "2023-05-03T11:32:01.780015",
     "status": "completed"
    },
    "tags": []
   },
   "outputs": [],
   "source": []
  },
  {
   "cell_type": "code",
   "execution_count": null,
   "id": "04d57e26",
   "metadata": {
    "papermill": {
     "duration": 0.007514,
     "end_time": "2023-05-03T11:32:01.802567",
     "exception": false,
     "start_time": "2023-05-03T11:32:01.795053",
     "status": "completed"
    },
    "tags": []
   },
   "outputs": [],
   "source": []
  },
  {
   "cell_type": "code",
   "execution_count": null,
   "id": "d9107025",
   "metadata": {
    "papermill": {
     "duration": 0.00738,
     "end_time": "2023-05-03T11:32:01.817502",
     "exception": false,
     "start_time": "2023-05-03T11:32:01.810122",
     "status": "completed"
    },
    "tags": []
   },
   "outputs": [],
   "source": []
  },
  {
   "cell_type": "code",
   "execution_count": null,
   "id": "68bedd8c",
   "metadata": {
    "papermill": {
     "duration": 0.007481,
     "end_time": "2023-05-03T11:32:01.832635",
     "exception": false,
     "start_time": "2023-05-03T11:32:01.825154",
     "status": "completed"
    },
    "tags": []
   },
   "outputs": [],
   "source": []
  },
  {
   "cell_type": "code",
   "execution_count": null,
   "id": "e4aca420",
   "metadata": {
    "papermill": {
     "duration": 0.007229,
     "end_time": "2023-05-03T11:32:01.847266",
     "exception": false,
     "start_time": "2023-05-03T11:32:01.840037",
     "status": "completed"
    },
    "tags": []
   },
   "outputs": [],
   "source": []
  },
  {
   "cell_type": "code",
   "execution_count": null,
   "id": "14844137",
   "metadata": {
    "papermill": {
     "duration": 0.006901,
     "end_time": "2023-05-03T11:32:01.861329",
     "exception": false,
     "start_time": "2023-05-03T11:32:01.854428",
     "status": "completed"
    },
    "tags": []
   },
   "outputs": [],
   "source": []
  }
 ],
 "metadata": {
  "kernelspec": {
   "display_name": "Python 3",
   "language": "python",
   "name": "python3"
  },
  "language_info": {
   "codemirror_mode": {
    "name": "ipython",
    "version": 3
   },
   "file_extension": ".py",
   "mimetype": "text/x-python",
   "name": "python",
   "nbconvert_exporter": "python",
   "pygments_lexer": "ipython3",
   "version": "3.10.10"
  },
  "papermill": {
   "default_parameters": {},
   "duration": 57.52133,
   "end_time": "2023-05-03T11:32:03.690769",
   "environment_variables": {},
   "exception": null,
   "input_path": "__notebook__.ipynb",
   "output_path": "__notebook__.ipynb",
   "parameters": {},
   "start_time": "2023-05-03T11:31:06.169439",
   "version": "2.4.0"
  }
 },
 "nbformat": 4,
 "nbformat_minor": 5
}
