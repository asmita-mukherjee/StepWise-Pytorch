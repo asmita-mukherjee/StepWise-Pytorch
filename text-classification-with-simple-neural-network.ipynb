{
 "cells": [
  {
   "cell_type": "markdown",
   "id": "a0a905ca",
   "metadata": {
    "papermill": {
     "duration": 0.008845,
     "end_time": "2023-05-09T05:26:57.842184",
     "exception": false,
     "start_time": "2023-05-09T05:26:57.833339",
     "status": "completed"
    },
    "tags": []
   },
   "source": [
    "## Imports"
   ]
  },
  {
   "cell_type": "code",
   "execution_count": 1,
   "id": "7b0f79b7",
   "metadata": {
    "execution": {
     "iopub.execute_input": "2023-05-09T05:26:57.860953Z",
     "iopub.status.busy": "2023-05-09T05:26:57.860307Z",
     "iopub.status.idle": "2023-05-09T05:26:57.870032Z",
     "shell.execute_reply": "2023-05-09T05:26:57.869254Z"
    },
    "papermill": {
     "duration": 0.021116,
     "end_time": "2023-05-09T05:26:57.871774",
     "exception": false,
     "start_time": "2023-05-09T05:26:57.850658",
     "status": "completed"
    },
    "tags": []
   },
   "outputs": [],
   "source": [
    "import pickle"
   ]
  },
  {
   "cell_type": "code",
   "execution_count": 2,
   "id": "f5ad3536",
   "metadata": {
    "execution": {
     "iopub.execute_input": "2023-05-09T05:26:57.890672Z",
     "iopub.status.busy": "2023-05-09T05:26:57.889889Z",
     "iopub.status.idle": "2023-05-09T05:27:04.050154Z",
     "shell.execute_reply": "2023-05-09T05:27:04.049244Z"
    },
    "papermill": {
     "duration": 6.172201,
     "end_time": "2023-05-09T05:27:04.052792",
     "exception": false,
     "start_time": "2023-05-09T05:26:57.880591",
     "status": "completed"
    },
    "tags": []
   },
   "outputs": [],
   "source": [
    "import torch\n",
    "import torch.nn as nn"
   ]
  },
  {
   "cell_type": "code",
   "execution_count": 3,
   "id": "ddad5ad2",
   "metadata": {
    "execution": {
     "iopub.execute_input": "2023-05-09T05:27:04.073599Z",
     "iopub.status.busy": "2023-05-09T05:27:04.072753Z",
     "iopub.status.idle": "2023-05-09T05:27:04.077338Z",
     "shell.execute_reply": "2023-05-09T05:27:04.076547Z"
    },
    "papermill": {
     "duration": 0.016118,
     "end_time": "2023-05-09T05:27:04.079173",
     "exception": false,
     "start_time": "2023-05-09T05:27:04.063055",
     "status": "completed"
    },
    "tags": []
   },
   "outputs": [],
   "source": [
    "from torch.utils.data import Dataset\n",
    "from torch.utils.data import DataLoader"
   ]
  },
  {
   "cell_type": "code",
   "execution_count": 4,
   "id": "b35492e9",
   "metadata": {
    "execution": {
     "iopub.execute_input": "2023-05-09T05:27:04.096947Z",
     "iopub.status.busy": "2023-05-09T05:27:04.096675Z",
     "iopub.status.idle": "2023-05-09T05:27:04.100373Z",
     "shell.execute_reply": "2023-05-09T05:27:04.099467Z"
    },
    "papermill": {
     "duration": 0.014626,
     "end_time": "2023-05-09T05:27:04.102096",
     "exception": false,
     "start_time": "2023-05-09T05:27:04.087470",
     "status": "completed"
    },
    "tags": []
   },
   "outputs": [],
   "source": [
    "import gc"
   ]
  },
  {
   "cell_type": "markdown",
   "id": "22754304",
   "metadata": {
    "papermill": {
     "duration": 0.008207,
     "end_time": "2023-05-09T05:27:04.118927",
     "exception": false,
     "start_time": "2023-05-09T05:27:04.110720",
     "status": "completed"
    },
    "tags": []
   },
   "source": [
    "## Playground\n"
   ]
  },
  {
   "cell_type": "markdown",
   "id": "535be242",
   "metadata": {
    "papermill": {
     "duration": 0.008179,
     "end_time": "2023-05-09T05:27:04.135446",
     "exception": false,
     "start_time": "2023-05-09T05:27:04.127267",
     "status": "completed"
    },
    "tags": []
   },
   "source": [
    "#### Trying out nn.Flatten"
   ]
  },
  {
   "cell_type": "code",
   "execution_count": 5,
   "id": "e5c027b5",
   "metadata": {
    "execution": {
     "iopub.execute_input": "2023-05-09T05:27:04.153842Z",
     "iopub.status.busy": "2023-05-09T05:27:04.153185Z",
     "iopub.status.idle": "2023-05-09T05:27:04.222826Z",
     "shell.execute_reply": "2023-05-09T05:27:04.222004Z"
    },
    "papermill": {
     "duration": 0.081208,
     "end_time": "2023-05-09T05:27:04.224924",
     "exception": false,
     "start_time": "2023-05-09T05:27:04.143716",
     "status": "completed"
    },
    "tags": []
   },
   "outputs": [
    {
     "data": {
      "text/plain": [
       "torch.Size([32, 50])"
      ]
     },
     "execution_count": 5,
     "metadata": {},
     "output_type": "execute_result"
    }
   ],
   "source": [
    "m = nn.Flatten()\n",
    "\n",
    "input = torch.randn(32,2,5,5)\n",
    "output = m(input) # flattens from the dim 1 to -1 i.e (2,5,5)\n",
    "\n",
    "output.size()\n"
   ]
  },
  {
   "cell_type": "code",
   "execution_count": 6,
   "id": "9aeaad6c",
   "metadata": {
    "execution": {
     "iopub.execute_input": "2023-05-09T05:27:04.243358Z",
     "iopub.status.busy": "2023-05-09T05:27:04.242648Z",
     "iopub.status.idle": "2023-05-09T05:27:04.248705Z",
     "shell.execute_reply": "2023-05-09T05:27:04.247848Z"
    },
    "papermill": {
     "duration": 0.017003,
     "end_time": "2023-05-09T05:27:04.250487",
     "exception": false,
     "start_time": "2023-05-09T05:27:04.233484",
     "status": "completed"
    },
    "tags": []
   },
   "outputs": [
    {
     "data": {
      "text/plain": [
       "torch.Size([320, 5])"
      ]
     },
     "execution_count": 6,
     "metadata": {},
     "output_type": "execute_result"
    }
   ],
   "source": [
    "m = nn.Flatten(0,2)#flattens from the dim 0 to 2 (32,2,5)\n",
    "output = m(input)\n",
    "output.shape"
   ]
  },
  {
   "cell_type": "markdown",
   "id": "d6f6dd1b",
   "metadata": {
    "papermill": {
     "duration": 0.009032,
     "end_time": "2023-05-09T05:27:04.268319",
     "exception": false,
     "start_time": "2023-05-09T05:27:04.259287",
     "status": "completed"
    },
    "tags": []
   },
   "source": [
    "Hence the flatten layer combines the elments along the axis start to end index"
   ]
  },
  {
   "cell_type": "markdown",
   "id": "916e21db",
   "metadata": {
    "papermill": {
     "duration": 0.00926,
     "end_time": "2023-05-09T05:27:04.286961",
     "exception": false,
     "start_time": "2023-05-09T05:27:04.277701",
     "status": "completed"
    },
    "tags": []
   },
   "source": [
    "### Set the device"
   ]
  },
  {
   "cell_type": "markdown",
   "id": "0c10851b",
   "metadata": {
    "papermill": {
     "duration": 0.009123,
     "end_time": "2023-05-09T05:27:04.305499",
     "exception": false,
     "start_time": "2023-05-09T05:27:04.296376",
     "status": "completed"
    },
    "tags": []
   },
   "source": [
    "> This is the most important step!!"
   ]
  },
  {
   "cell_type": "code",
   "execution_count": 7,
   "id": "292f9b11",
   "metadata": {
    "execution": {
     "iopub.execute_input": "2023-05-09T05:27:04.325754Z",
     "iopub.status.busy": "2023-05-09T05:27:04.324882Z",
     "iopub.status.idle": "2023-05-09T05:27:04.423047Z",
     "shell.execute_reply": "2023-05-09T05:27:04.422396Z"
    },
    "papermill": {
     "duration": 0.110176,
     "end_time": "2023-05-09T05:27:04.424840",
     "exception": false,
     "start_time": "2023-05-09T05:27:04.314664",
     "status": "completed"
    },
    "tags": []
   },
   "outputs": [],
   "source": [
    "device = \"cuda\" if torch.cuda.is_available() else \"cpu\""
   ]
  },
  {
   "cell_type": "markdown",
   "id": "8032011c",
   "metadata": {
    "papermill": {
     "duration": 0.008294,
     "end_time": "2023-05-09T05:27:04.441849",
     "exception": false,
     "start_time": "2023-05-09T05:27:04.433555",
     "status": "completed"
    },
    "tags": []
   },
   "source": [
    "#### Load the tensors"
   ]
  },
  {
   "cell_type": "code",
   "execution_count": 8,
   "id": "aee95246",
   "metadata": {
    "execution": {
     "iopub.execute_input": "2023-05-09T05:27:04.459990Z",
     "iopub.status.busy": "2023-05-09T05:27:04.459567Z",
     "iopub.status.idle": "2023-05-09T05:27:04.463776Z",
     "shell.execute_reply": "2023-05-09T05:27:04.462909Z"
    },
    "papermill": {
     "duration": 0.015364,
     "end_time": "2023-05-09T05:27:04.465657",
     "exception": false,
     "start_time": "2023-05-09T05:27:04.450293",
     "status": "completed"
    },
    "tags": []
   },
   "outputs": [],
   "source": [
    "def load_pickle(f_name):\n",
    "    with open(f_name,\"rb\") as f:\n",
    "        obj = pickle.load(f)\n",
    "    \n",
    "    return obj"
   ]
  },
  {
   "cell_type": "code",
   "execution_count": 9,
   "id": "a3b09cc5",
   "metadata": {
    "execution": {
     "iopub.execute_input": "2023-05-09T05:27:04.484045Z",
     "iopub.status.busy": "2023-05-09T05:27:04.483809Z",
     "iopub.status.idle": "2023-05-09T05:27:41.665234Z",
     "shell.execute_reply": "2023-05-09T05:27:41.664252Z"
    },
    "papermill": {
     "duration": 37.193181,
     "end_time": "2023-05-09T05:27:41.667746",
     "exception": false,
     "start_time": "2023-05-09T05:27:04.474565",
     "status": "completed"
    },
    "tags": []
   },
   "outputs": [],
   "source": [
    "train_text_tensors = load_pickle(\"/kaggle/input/converting-text-to-tensors-ipynb/train_text_tensors.pkl\")"
   ]
  },
  {
   "cell_type": "code",
   "execution_count": 10,
   "id": "7167edb9",
   "metadata": {
    "execution": {
     "iopub.execute_input": "2023-05-09T05:27:41.688006Z",
     "iopub.status.busy": "2023-05-09T05:27:41.687723Z",
     "iopub.status.idle": "2023-05-09T05:27:50.360324Z",
     "shell.execute_reply": "2023-05-09T05:27:50.358299Z"
    },
    "papermill": {
     "duration": 8.688104,
     "end_time": "2023-05-09T05:27:50.365455",
     "exception": false,
     "start_time": "2023-05-09T05:27:41.677351",
     "status": "completed"
    },
    "tags": []
   },
   "outputs": [],
   "source": [
    "test_text_tensors = load_pickle(\"/kaggle/input/converting-text-to-tensors-ipynb/test_text_tensors.pkl\")"
   ]
  },
  {
   "cell_type": "code",
   "execution_count": 11,
   "id": "e84510cf",
   "metadata": {
    "execution": {
     "iopub.execute_input": "2023-05-09T05:27:50.419418Z",
     "iopub.status.busy": "2023-05-09T05:27:50.417909Z",
     "iopub.status.idle": "2023-05-09T05:27:50.447359Z",
     "shell.execute_reply": "2023-05-09T05:27:50.445374Z"
    },
    "papermill": {
     "duration": 0.060692,
     "end_time": "2023-05-09T05:27:50.451357",
     "exception": false,
     "start_time": "2023-05-09T05:27:50.390665",
     "status": "completed"
    },
    "tags": []
   },
   "outputs": [],
   "source": [
    "train_labels_tensors = load_pickle(\"/kaggle/input/converting-text-to-tensors-ipynb/train_labels_tensors\")"
   ]
  },
  {
   "cell_type": "code",
   "execution_count": 12,
   "id": "b255549c",
   "metadata": {
    "execution": {
     "iopub.execute_input": "2023-05-09T05:27:50.506625Z",
     "iopub.status.busy": "2023-05-09T05:27:50.504937Z",
     "iopub.status.idle": "2023-05-09T05:27:50.527834Z",
     "shell.execute_reply": "2023-05-09T05:27:50.526013Z"
    },
    "papermill": {
     "duration": 0.054914,
     "end_time": "2023-05-09T05:27:50.532103",
     "exception": false,
     "start_time": "2023-05-09T05:27:50.477189",
     "status": "completed"
    },
    "tags": []
   },
   "outputs": [],
   "source": [
    "test_labels_tensors = load_pickle(\"/kaggle/input/converting-text-to-tensors-ipynb/test_labels_tensors\")"
   ]
  },
  {
   "cell_type": "markdown",
   "id": "06ae0481",
   "metadata": {
    "papermill": {
     "duration": 0.008298,
     "end_time": "2023-05-09T05:27:50.553370",
     "exception": false,
     "start_time": "2023-05-09T05:27:50.545072",
     "status": "completed"
    },
    "tags": []
   },
   "source": [
    "## Custom Dataset and DataLoaders"
   ]
  },
  {
   "cell_type": "code",
   "execution_count": 13,
   "id": "ce7ec9a5",
   "metadata": {
    "execution": {
     "iopub.execute_input": "2023-05-09T05:27:50.571741Z",
     "iopub.status.busy": "2023-05-09T05:27:50.571474Z",
     "iopub.status.idle": "2023-05-09T05:27:50.576675Z",
     "shell.execute_reply": "2023-05-09T05:27:50.575608Z"
    },
    "papermill": {
     "duration": 0.01708,
     "end_time": "2023-05-09T05:27:50.578859",
     "exception": false,
     "start_time": "2023-05-09T05:27:50.561779",
     "status": "completed"
    },
    "tags": []
   },
   "outputs": [],
   "source": [
    "class TextLabelDataset(Dataset):\n",
    "    def __init__(self,text_tensor,label_tensor):\n",
    "        \n",
    "        self.text_tensor = text_tensor\n",
    "        self.label_tensor = label_tensor\n",
    "    \n",
    "    def __len__(self):\n",
    "        return len(self.text_tensor)\n",
    "    \n",
    "    def __getitem__(self,idx):\n",
    "        return self.text_tensor[idx],self.label_tensor[idx]"
   ]
  },
  {
   "cell_type": "code",
   "execution_count": 14,
   "id": "e7d8bdcd",
   "metadata": {
    "execution": {
     "iopub.execute_input": "2023-05-09T05:27:50.596944Z",
     "iopub.status.busy": "2023-05-09T05:27:50.596689Z",
     "iopub.status.idle": "2023-05-09T05:27:50.601346Z",
     "shell.execute_reply": "2023-05-09T05:27:50.600513Z"
    },
    "papermill": {
     "duration": 0.015861,
     "end_time": "2023-05-09T05:27:50.603319",
     "exception": false,
     "start_time": "2023-05-09T05:27:50.587458",
     "status": "completed"
    },
    "tags": []
   },
   "outputs": [],
   "source": [
    "train_dataset = TextLabelDataset(train_text_tensors,train_labels_tensors)"
   ]
  },
  {
   "cell_type": "code",
   "execution_count": 15,
   "id": "3fef1b98",
   "metadata": {
    "execution": {
     "iopub.execute_input": "2023-05-09T05:27:50.621117Z",
     "iopub.status.busy": "2023-05-09T05:27:50.620885Z",
     "iopub.status.idle": "2023-05-09T05:27:50.626730Z",
     "shell.execute_reply": "2023-05-09T05:27:50.625896Z"
    },
    "papermill": {
     "duration": 0.016654,
     "end_time": "2023-05-09T05:27:50.628471",
     "exception": false,
     "start_time": "2023-05-09T05:27:50.611817",
     "status": "completed"
    },
    "tags": []
   },
   "outputs": [
    {
     "data": {
      "text/plain": [
       "<function gc.collect(generation=2)>"
      ]
     },
     "execution_count": 15,
     "metadata": {},
     "output_type": "execute_result"
    }
   ],
   "source": [
    "del train_text_tensors\n",
    "del train_labels_tensors\n",
    "gc.collect"
   ]
  },
  {
   "cell_type": "code",
   "execution_count": 16,
   "id": "fc01a7b8",
   "metadata": {
    "execution": {
     "iopub.execute_input": "2023-05-09T05:27:50.646975Z",
     "iopub.status.busy": "2023-05-09T05:27:50.646731Z",
     "iopub.status.idle": "2023-05-09T05:27:50.650649Z",
     "shell.execute_reply": "2023-05-09T05:27:50.649686Z"
    },
    "papermill": {
     "duration": 0.015573,
     "end_time": "2023-05-09T05:27:50.652721",
     "exception": false,
     "start_time": "2023-05-09T05:27:50.637148",
     "status": "completed"
    },
    "tags": []
   },
   "outputs": [],
   "source": [
    "test_dataset = TextLabelDataset(test_text_tensors,test_labels_tensors)"
   ]
  },
  {
   "cell_type": "code",
   "execution_count": 17,
   "id": "6fce8e12",
   "metadata": {
    "execution": {
     "iopub.execute_input": "2023-05-09T05:27:50.671441Z",
     "iopub.status.busy": "2023-05-09T05:27:50.671186Z",
     "iopub.status.idle": "2023-05-09T05:27:50.812745Z",
     "shell.execute_reply": "2023-05-09T05:27:50.811892Z"
    },
    "papermill": {
     "duration": 0.15322,
     "end_time": "2023-05-09T05:27:50.814696",
     "exception": false,
     "start_time": "2023-05-09T05:27:50.661476",
     "status": "completed"
    },
    "tags": []
   },
   "outputs": [
    {
     "data": {
      "text/plain": [
       "63"
      ]
     },
     "execution_count": 17,
     "metadata": {},
     "output_type": "execute_result"
    }
   ],
   "source": [
    "del test_text_tensors\n",
    "del test_labels_tensors\n",
    "gc.collect()"
   ]
  },
  {
   "cell_type": "code",
   "execution_count": 18,
   "id": "7f9f6c97",
   "metadata": {
    "execution": {
     "iopub.execute_input": "2023-05-09T05:27:50.835224Z",
     "iopub.status.busy": "2023-05-09T05:27:50.833760Z",
     "iopub.status.idle": "2023-05-09T05:27:50.838810Z",
     "shell.execute_reply": "2023-05-09T05:27:50.837939Z"
    },
    "papermill": {
     "duration": 0.016813,
     "end_time": "2023-05-09T05:27:50.840568",
     "exception": false,
     "start_time": "2023-05-09T05:27:50.823755",
     "status": "completed"
    },
    "tags": []
   },
   "outputs": [],
   "source": [
    "#batch size of 32 is too large for kaggle mem, reducing it to 4\n",
    "#if you are reducing the size of batch , also reduce the learning rate! because sgd will update after each batch. and since now the batches are small,hence more frequent updates,hence the lr should be less\n",
    "train_loader = DataLoader(train_dataset,batch_size=4,shuffle=True)"
   ]
  },
  {
   "cell_type": "code",
   "execution_count": 19,
   "id": "0b33977d",
   "metadata": {
    "execution": {
     "iopub.execute_input": "2023-05-09T05:27:50.859881Z",
     "iopub.status.busy": "2023-05-09T05:27:50.859635Z",
     "iopub.status.idle": "2023-05-09T05:27:50.987035Z",
     "shell.execute_reply": "2023-05-09T05:27:50.986210Z"
    },
    "papermill": {
     "duration": 0.13935,
     "end_time": "2023-05-09T05:27:50.988848",
     "exception": false,
     "start_time": "2023-05-09T05:27:50.849498",
     "status": "completed"
    },
    "tags": []
   },
   "outputs": [
    {
     "data": {
      "text/plain": [
       "0"
      ]
     },
     "execution_count": 19,
     "metadata": {},
     "output_type": "execute_result"
    }
   ],
   "source": [
    "del train_dataset\n",
    "gc.collect()"
   ]
  },
  {
   "cell_type": "code",
   "execution_count": 20,
   "id": "c711ed5d",
   "metadata": {
    "execution": {
     "iopub.execute_input": "2023-05-09T05:27:51.008488Z",
     "iopub.status.busy": "2023-05-09T05:27:51.008216Z",
     "iopub.status.idle": "2023-05-09T05:27:51.013509Z",
     "shell.execute_reply": "2023-05-09T05:27:51.012497Z"
    },
    "papermill": {
     "duration": 0.017372,
     "end_time": "2023-05-09T05:27:51.015266",
     "exception": false,
     "start_time": "2023-05-09T05:27:50.997894",
     "status": "completed"
    },
    "tags": []
   },
   "outputs": [],
   "source": [
    "test_loader = DataLoader(test_dataset,batch_size=4,shuffle=True)"
   ]
  },
  {
   "cell_type": "code",
   "execution_count": 21,
   "id": "3db9bbda",
   "metadata": {
    "execution": {
     "iopub.execute_input": "2023-05-09T05:27:51.034627Z",
     "iopub.status.busy": "2023-05-09T05:27:51.034141Z",
     "iopub.status.idle": "2023-05-09T05:27:51.157660Z",
     "shell.execute_reply": "2023-05-09T05:27:51.156617Z"
    },
    "papermill": {
     "duration": 0.135902,
     "end_time": "2023-05-09T05:27:51.160380",
     "exception": false,
     "start_time": "2023-05-09T05:27:51.024478",
     "status": "completed"
    },
    "tags": []
   },
   "outputs": [
    {
     "data": {
      "text/plain": [
       "0"
      ]
     },
     "execution_count": 21,
     "metadata": {},
     "output_type": "execute_result"
    }
   ],
   "source": [
    "del test_dataset\n",
    "gc.collect()"
   ]
  },
  {
   "cell_type": "code",
   "execution_count": 22,
   "id": "de9110f7",
   "metadata": {
    "execution": {
     "iopub.execute_input": "2023-05-09T05:27:51.179953Z",
     "iopub.status.busy": "2023-05-09T05:27:51.179690Z",
     "iopub.status.idle": "2023-05-09T05:27:51.256288Z",
     "shell.execute_reply": "2023-05-09T05:27:51.254749Z"
    },
    "papermill": {
     "duration": 0.088483,
     "end_time": "2023-05-09T05:27:51.258279",
     "exception": false,
     "start_time": "2023-05-09T05:27:51.169796",
     "status": "completed"
    },
    "tags": []
   },
   "outputs": [
    {
     "name": "stdout",
     "output_type": "stream",
     "text": [
      "Shape of text tensor torch.Size([4, 16793])\n",
      "Shape of label tensor torch.Size([4, 3])\n"
     ]
    }
   ],
   "source": [
    "##having a sneak at one train batch\n",
    "\n",
    "for idx,data in enumerate(train_loader):\n",
    "    text_tensor,label_tensor = data\n",
    "    \n",
    "    print(f\"Shape of text tensor {text_tensor.shape}\")\n",
    "    print(f\"Shape of label tensor {label_tensor.shape}\")\n",
    "    break"
   ]
  },
  {
   "cell_type": "markdown",
   "id": "40fe5066",
   "metadata": {
    "papermill": {
     "duration": 0.008706,
     "end_time": "2023-05-09T05:27:51.276575",
     "exception": false,
     "start_time": "2023-05-09T05:27:51.267869",
     "status": "completed"
    },
    "tags": []
   },
   "source": [
    "## Building a Custom Model using Model parallelism"
   ]
  },
  {
   "cell_type": "code",
   "execution_count": 23,
   "id": "fc04e156",
   "metadata": {
    "execution": {
     "iopub.execute_input": "2023-05-09T05:27:51.296682Z",
     "iopub.status.busy": "2023-05-09T05:27:51.295936Z",
     "iopub.status.idle": "2023-05-09T05:27:51.303238Z",
     "shell.execute_reply": "2023-05-09T05:27:51.302232Z"
    },
    "papermill": {
     "duration": 0.019211,
     "end_time": "2023-05-09T05:27:51.305246",
     "exception": false,
     "start_time": "2023-05-09T05:27:51.286035",
     "status": "completed"
    },
    "tags": []
   },
   "outputs": [],
   "source": [
    "class TextClassification(nn.Module):\n",
    "    \n",
    "    def __init__(self,vocab_size,embed_dim,hidden_dim):\n",
    "        \n",
    "        super().__init__()\n",
    "        \n",
    "        self.embed = nn.Embedding(vocab_size,hidden_dim,padding_idx=0) #output dim = batch_size*vocab_size*hidden_dim\n",
    "        \n",
    "        #now since our matrix has the embeddings of each word in the batch of the sentences and we need the embeddings of each sentence\n",
    "        #hence we can flatten the last 2 dim\n",
    "        self.flatten = nn.Flatten() # batch_size * (vocab_size*hidden_dim)\n",
    "        \n",
    "        self.gelu1 = nn.GELU()\n",
    "        self.linear = nn.Linear(vocab_size*hidden_dim,32) #output dim = batch_size*32\n",
    "        self.gelu2 = nn.GELU()\n",
    "        \n",
    "        \n",
    "        self.final = nn.Linear(32,3)#output dim = batch_size*3\n",
    " \n",
    "    def forward(self,text_tensor):\n",
    "        output = self.embed(text_tensor)\n",
    "        output = self.flatten(output)\n",
    "        output = self.gelu1(output)\n",
    "        output = self.linear(output)\n",
    "        output = self.gelu2(output)\n",
    "        output = self.final(output)\n",
    "        \n",
    "        return output"
   ]
  },
  {
   "cell_type": "markdown",
   "id": "97d2678b",
   "metadata": {
    "papermill": {
     "duration": 0.009168,
     "end_time": "2023-05-09T05:27:51.323736",
     "exception": false,
     "start_time": "2023-05-09T05:27:51.314568",
     "status": "completed"
    },
    "tags": []
   },
   "source": [
    "### Okay then! we can proceed with writing the training loop"
   ]
  },
  {
   "cell_type": "markdown",
   "id": "e1712f9e",
   "metadata": {
    "papermill": {
     "duration": 0.00872,
     "end_time": "2023-05-09T05:27:51.341341",
     "exception": false,
     "start_time": "2023-05-09T05:27:51.332621",
     "status": "completed"
    },
    "tags": []
   },
   "source": [
    "##### But wait a min!! we still have bunch of things left to do"
   ]
  },
  {
   "cell_type": "markdown",
   "id": "4888792b",
   "metadata": {
    "papermill": {
     "duration": 0.008791,
     "end_time": "2023-05-09T05:27:51.359399",
     "exception": false,
     "start_time": "2023-05-09T05:27:51.350608",
     "status": "completed"
    },
    "tags": []
   },
   "source": [
    "### Set the model to the current device i.e cpu or gpu\n",
    "\n",
    "> note: we have already set the input tensors to the device"
   ]
  },
  {
   "cell_type": "markdown",
   "id": "17a60ee3",
   "metadata": {
    "papermill": {
     "duration": 0.008627,
     "end_time": "2023-05-09T05:27:51.377161",
     "exception": false,
     "start_time": "2023-05-09T05:27:51.368534",
     "status": "completed"
    },
    "tags": []
   },
   "source": [
    "Check the length of the vocab "
   ]
  },
  {
   "cell_type": "code",
   "execution_count": 24,
   "id": "af531e5c",
   "metadata": {
    "execution": {
     "iopub.execute_input": "2023-05-09T05:27:51.396101Z",
     "iopub.status.busy": "2023-05-09T05:27:51.395850Z",
     "iopub.status.idle": "2023-05-09T05:27:52.865579Z",
     "shell.execute_reply": "2023-05-09T05:27:52.864628Z"
    },
    "papermill": {
     "duration": 1.481842,
     "end_time": "2023-05-09T05:27:52.868066",
     "exception": false,
     "start_time": "2023-05-09T05:27:51.386224",
     "status": "completed"
    },
    "tags": []
   },
   "outputs": [],
   "source": [
    "vocab = load_pickle(\"/kaggle/input/converting-text-to-tensors-ipynb/vocab.pkl\")\n",
    "vocab_len = len(vocab)"
   ]
  },
  {
   "cell_type": "code",
   "execution_count": 25,
   "id": "a12b5700",
   "metadata": {
    "execution": {
     "iopub.execute_input": "2023-05-09T05:27:52.889372Z",
     "iopub.status.busy": "2023-05-09T05:27:52.888179Z",
     "iopub.status.idle": "2023-05-09T05:27:58.202179Z",
     "shell.execute_reply": "2023-05-09T05:27:58.201230Z"
    },
    "papermill": {
     "duration": 5.326857,
     "end_time": "2023-05-09T05:27:58.204555",
     "exception": false,
     "start_time": "2023-05-09T05:27:52.877698",
     "status": "completed"
    },
    "tags": []
   },
   "outputs": [],
   "source": [
    "model = TextClassification(vocab_size = vocab_len,embed_dim=512,hidden_dim=128)\n",
    "model = model.to(device)\n"
   ]
  },
  {
   "cell_type": "markdown",
   "id": "f814f302",
   "metadata": {
    "papermill": {
     "duration": 0.008832,
     "end_time": "2023-05-09T05:27:58.222687",
     "exception": false,
     "start_time": "2023-05-09T05:27:58.213855",
     "status": "completed"
    },
    "tags": []
   },
   "source": [
    "# Set the loss function:\n",
    "\n",
    "Since we are dealing with a classification problem here , we will use cross entopy loss function\n",
    "which basically calculates the entropy between the probability distribuition which is outputed by the model and the gold probability distribuition.\n",
    "\n",
    "The more similar the probability distribution the less will the entropy i.e the loss\n",
    "\n",
    "> Foumula for binary classification for a single instance\n",
    "loss = -(p(gold output)*log(p(predicted output)) - (1-p(gold output))*log(1-p(predicted output)))\n",
    "\n",
    "> The above can be be generalized for multiple classes\n",
    "loss = -sum for each class(p(gold output)*log(p(predicted output)))\n"
   ]
  },
  {
   "cell_type": "code",
   "execution_count": 26,
   "id": "01e0c74b",
   "metadata": {
    "execution": {
     "iopub.execute_input": "2023-05-09T05:27:58.242605Z",
     "iopub.status.busy": "2023-05-09T05:27:58.242044Z",
     "iopub.status.idle": "2023-05-09T05:27:58.247395Z",
     "shell.execute_reply": "2023-05-09T05:27:58.246506Z"
    },
    "papermill": {
     "duration": 0.017337,
     "end_time": "2023-05-09T05:27:58.249319",
     "exception": false,
     "start_time": "2023-05-09T05:27:58.231982",
     "status": "completed"
    },
    "tags": []
   },
   "outputs": [],
   "source": [
    "loss_fn = nn.CrossEntropyLoss()"
   ]
  },
  {
   "cell_type": "markdown",
   "id": "05a54662",
   "metadata": {
    "papermill": {
     "duration": 0.009657,
     "end_time": "2023-05-09T05:27:58.268175",
     "exception": false,
     "start_time": "2023-05-09T05:27:58.258518",
     "status": "completed"
    },
    "tags": []
   },
   "source": [
    "# Set the optimizer\n",
    "\n",
    "The optimizer decides how the gradient will be updated in backpropagation.Some of the commonly known optimizers are :\n",
    "\n",
    "> 1) SGD : This is the same as mini batch gradient descent .w_new = W_old - grad_of_loss_wrt_w\n",
    "\n",
    "> 2) SGD with momentum : Now SGD can get stuck it local minima,this borrows the intuition of momentum in physics, where the momentum due to previous gradient updates can push the parameter out of its local minima and lead towards global minima.  w_new = W_old + momentum, where momentum = function(grad_wrt_w_old, previous momentum)\n",
    "\n",
    "> 3) Adagrad : Often times, using only momentum might be slow, as the gradients of many paprameters might tend to zero and not contirbute to gradient descent. Here we maintain the sums of squares of gradient and divide the learning rate of each paramater by the square root of the accualted sums of gradients for that particular parameter. Hence unlike momentum , different parameters will have different learning rates , which is better.\n",
    "\n",
    "> 4) RMSProp : Since Adagrad uses squares of gradients, it can accumulate gradients too quickly and thus cause the learning rates to drop too rapidly. RMSProp thus handles the problem of Adagrad.\n",
    "\n",
    "> 5) Adam : Adam basically combines the adavantages of momentum and rmsProp. With momentum it acheives the speed of convergence and with rmsprop every parameter gets to have its own learning rate.\n"
   ]
  },
  {
   "cell_type": "code",
   "execution_count": 27,
   "id": "f7378f7c",
   "metadata": {
    "execution": {
     "iopub.execute_input": "2023-05-09T05:27:58.288594Z",
     "iopub.status.busy": "2023-05-09T05:27:58.287823Z",
     "iopub.status.idle": "2023-05-09T05:27:58.293006Z",
     "shell.execute_reply": "2023-05-09T05:27:58.292177Z"
    },
    "papermill": {
     "duration": 0.01747,
     "end_time": "2023-05-09T05:27:58.294884",
     "exception": false,
     "start_time": "2023-05-09T05:27:58.277414",
     "status": "completed"
    },
    "tags": []
   },
   "outputs": [],
   "source": [
    "#setting sgd with momentum\n",
    "#optimizer = torch.optim.SGD(model.parameters(),lr=0.0001,momentum=0.9) #this shoots off the val loss of the optima!\n",
    "\n",
    "optimizer = torch.optim.SGD(model.parameters(),lr=0.000001,momentum=0.6) #trying with a lower momentum and learning rate"
   ]
  },
  {
   "cell_type": "code",
   "execution_count": 28,
   "id": "31298ecb",
   "metadata": {
    "execution": {
     "iopub.execute_input": "2023-05-09T05:27:58.314822Z",
     "iopub.status.busy": "2023-05-09T05:27:58.314555Z",
     "iopub.status.idle": "2023-05-09T05:27:58.322060Z",
     "shell.execute_reply": "2023-05-09T05:27:58.321109Z"
    },
    "papermill": {
     "duration": 0.019702,
     "end_time": "2023-05-09T05:27:58.324060",
     "exception": false,
     "start_time": "2023-05-09T05:27:58.304358",
     "status": "completed"
    },
    "tags": []
   },
   "outputs": [],
   "source": [
    "def training_for_one_epoch(dataloader,epoch_nos):\n",
    "    '''\n",
    "        One epoch will do forward pass and backward pass for the model for the entire dataset for one iteration.\n",
    "        For convergence, we would have do forward and backward pass multiple times for the dataset\n",
    "\n",
    "    '''\n",
    "    loss_for_the_epoch = 0\n",
    "    \n",
    "    #iterate through the dataset in batches, i.e we will at a time load the chuncks(of size = batch size) of dataset\n",
    "    for idx,data in enumerate(dataloader):\n",
    "        \n",
    "        input_tensors,label_tensors = data\n",
    "        \n",
    "        input_tensors = input_tensors.to(device)\n",
    "        label_tensors = label_tensors.to(device)\n",
    "        \n",
    "        #embedding layer needs the input to be of int\n",
    "        input_tensors = input_tensors.to(torch.int)\n",
    "        \n",
    "        #label tensor required by the loss function is to be float\n",
    "        label_tensors = label_tensors.to(torch.float)\n",
    "        \n",
    "        #refer to the notebook on autograd in the repository and recall how we calculate gradients.\n",
    "        #optimizer will store the .grad value of all the parameters, hence at the start of our iteration, we will set the grads to 0\n",
    "        #this is important, as we do not want to accumulate the gradients for each batch.\n",
    "        #since we are doing sgd, we will update the gradients(via backprop) at the end of each batch and clear the gradients at the begining of each batch\n",
    "        \n",
    "        optimizer.zero_grad()\n",
    "        \n",
    "        #get the ouput of the model by doing forward pass\n",
    "        model_output = model(input_tensors)\n",
    "        \n",
    "        #compute the loss\n",
    "        loss = loss_fn(model_output,label_tensors)\n",
    "        \n",
    "        #now that we have the loss!, we would want to update all the parameters of our model by backprop\n",
    "        #and recall this step from the autograd notebook as well\n",
    "        #hence this step will calculate and update the .grad values of all the parameters in our model\n",
    "        loss.backward()\n",
    "        \n",
    "        \n",
    "        #and now that we have the gradient values of all our parameter, we would do gradient descent for the parameters. i.e upate the parameter values\n",
    "        optimizer.step()\n",
    "        \n",
    "        loss_for_the_epoch += loss.item() \n",
    "        \n",
    "        #print the loss for every 500th batch\n",
    "        if idx % 1000 == 999:\n",
    "            curr_loss = loss_for_the_epoch/1000 # loss per batch\n",
    "            print('  batch {} loss: {}'.format(idx + 1, curr_loss))\n",
    "    \n",
    "    \n",
    "    return loss_for_the_epoch/len(dataloader)\n",
    "        \n",
    "        \n",
    "        \n",
    "    "
   ]
  },
  {
   "cell_type": "markdown",
   "id": "4ba40a04",
   "metadata": {
    "papermill": {
     "duration": 0.008659,
     "end_time": "2023-05-09T05:27:58.341795",
     "exception": false,
     "start_time": "2023-05-09T05:27:58.333136",
     "status": "completed"
    },
    "tags": []
   },
   "source": [
    "Code for Validation"
   ]
  },
  {
   "cell_type": "code",
   "execution_count": 29,
   "id": "6467262a",
   "metadata": {
    "execution": {
     "iopub.execute_input": "2023-05-09T05:27:58.361533Z",
     "iopub.status.busy": "2023-05-09T05:27:58.360982Z",
     "iopub.status.idle": "2023-05-09T05:27:58.367153Z",
     "shell.execute_reply": "2023-05-09T05:27:58.366401Z"
    },
    "papermill": {
     "duration": 0.017829,
     "end_time": "2023-05-09T05:27:58.368963",
     "exception": false,
     "start_time": "2023-05-09T05:27:58.351134",
     "status": "completed"
    },
    "tags": []
   },
   "outputs": [],
   "source": [
    "def validate(dataloader):\n",
    "    \n",
    "    running_loss = 0\n",
    "    \n",
    "    for idx,data in enumerate(dataloader):\n",
    "        input_tensor,label = data\n",
    "        \n",
    "        input_tensor = input_tensor.to(device)\n",
    "        label = label.to(device)\n",
    "        \n",
    "        #setting the datatype of the tensors that the model expects. Certain layers say embedding layer, requires the tensor to be of a specific datatype\n",
    "        #embedding layer needs the input to be of int\n",
    "        input_tensor = input_tensor.to(torch.int)\n",
    "        #label tensor required by the loss function is to be float as it expects logits\n",
    "        label = label.to(torch.float)\n",
    "        output = model(input_tensor)\n",
    "        \n",
    "        loss = loss_fn(output,label)\n",
    "        \n",
    "        #Hey! if you simply add loss and not loss.item() this causes a mem leak as the memory cannot be freed for the the next batch!\n",
    "        running_loss += loss.item()\n",
    "    \n",
    "    return running_loss/len(dataloader)"
   ]
  },
  {
   "cell_type": "markdown",
   "id": "a757fe25",
   "metadata": {
    "papermill": {
     "duration": 0.008964,
     "end_time": "2023-05-09T05:27:58.386743",
     "exception": false,
     "start_time": "2023-05-09T05:27:58.377779",
     "status": "completed"
    },
    "tags": []
   },
   "source": [
    "## Wuhunn!! now we can actually train our model"
   ]
  },
  {
   "cell_type": "markdown",
   "id": "ba944c4c",
   "metadata": {
    "papermill": {
     "duration": 0.00903,
     "end_time": "2023-05-09T05:27:58.405059",
     "exception": false,
     "start_time": "2023-05-09T05:27:58.396029",
     "status": "completed"
    },
    "tags": []
   },
   "source": [
    "lets have a sneak whether it actually works\n"
   ]
  },
  {
   "cell_type": "code",
   "execution_count": 30,
   "id": "b457b9d2",
   "metadata": {
    "execution": {
     "iopub.execute_input": "2023-05-09T05:27:58.424787Z",
     "iopub.status.busy": "2023-05-09T05:27:58.424079Z",
     "iopub.status.idle": "2023-05-09T05:28:01.952474Z",
     "shell.execute_reply": "2023-05-09T05:28:01.950119Z"
    },
    "papermill": {
     "duration": 3.541446,
     "end_time": "2023-05-09T05:28:01.955460",
     "exception": false,
     "start_time": "2023-05-09T05:27:58.414014",
     "status": "completed"
    },
    "tags": []
   },
   "outputs": [
    {
     "name": "stdout",
     "output_type": "stream",
     "text": [
      "tensor([[ 0.0302, -0.1186,  0.0280],\n",
      "        [ 0.0287, -0.1169,  0.0324],\n",
      "        [ 0.0268, -0.1165,  0.0314],\n",
      "        [ 0.0306, -0.1171,  0.0313]], device='cuda:0',\n",
      "       grad_fn=<AddmmBackward0>)\n",
      "Loss 1.126376748085022\n"
     ]
    }
   ],
   "source": [
    "## test forward pass for one batch\n",
    "##having a sneak at one train batch\n",
    "\n",
    "for idx,data in enumerate(train_loader):\n",
    "    text_tensor,label = data\n",
    "    \n",
    "    text_tensor = text_tensor.to(device)\n",
    "    label = label.to(device)\n",
    "    \n",
    "    text_tensor = text_tensor.to(torch.int)\n",
    "    label = label.to(torch.float)\n",
    "    output = model(text_tensor)\n",
    "    print(output)\n",
    "    loss_val = loss_fn(output,label)\n",
    "    \n",
    "    print(\"Loss\",loss_val.item())\n",
    "    break"
   ]
  },
  {
   "cell_type": "code",
   "execution_count": 31,
   "id": "498e0515",
   "metadata": {
    "execution": {
     "iopub.execute_input": "2023-05-09T05:28:01.992772Z",
     "iopub.status.busy": "2023-05-09T05:28:01.992143Z",
     "iopub.status.idle": "2023-05-09T05:28:01.999852Z",
     "shell.execute_reply": "2023-05-09T05:28:01.998213Z"
    },
    "papermill": {
     "duration": 0.027711,
     "end_time": "2023-05-09T05:28:02.004932",
     "exception": false,
     "start_time": "2023-05-09T05:28:01.977221",
     "status": "completed"
    },
    "tags": []
   },
   "outputs": [],
   "source": [
    "from datetime import datetime"
   ]
  },
  {
   "cell_type": "code",
   "execution_count": 32,
   "id": "419be0d7",
   "metadata": {
    "execution": {
     "iopub.execute_input": "2023-05-09T05:28:02.033034Z",
     "iopub.status.busy": "2023-05-09T05:28:02.032472Z",
     "iopub.status.idle": "2023-05-09T05:28:02.036344Z",
     "shell.execute_reply": "2023-05-09T05:28:02.035565Z"
    },
    "papermill": {
     "duration": 0.023113,
     "end_time": "2023-05-09T05:28:02.041590",
     "exception": false,
     "start_time": "2023-05-09T05:28:02.018477",
     "status": "completed"
    },
    "tags": []
   },
   "outputs": [],
   "source": [
    "from tqdm.notebook import tqdm"
   ]
  },
  {
   "cell_type": "code",
   "execution_count": 33,
   "id": "76053cce",
   "metadata": {
    "execution": {
     "iopub.execute_input": "2023-05-09T05:28:02.068806Z",
     "iopub.status.busy": "2023-05-09T05:28:02.068184Z",
     "iopub.status.idle": "2023-05-09T06:18:42.837119Z",
     "shell.execute_reply": "2023-05-09T06:18:42.836245Z"
    },
    "papermill": {
     "duration": 3040.794361,
     "end_time": "2023-05-09T06:18:42.849213",
     "exception": false,
     "start_time": "2023-05-09T05:28:02.054852",
     "status": "completed"
    },
    "tags": []
   },
   "outputs": [
    {
     "data": {
      "application/vnd.jupyter.widget-view+json": {
       "model_id": "b3ed2a802ff648db95b5027ce2d430ec",
       "version_major": 2,
       "version_minor": 0
      },
      "text/plain": [
       "  0%|          | 0/10 [00:00<?, ?it/s]"
      ]
     },
     "metadata": {},
     "output_type": "display_data"
    },
    {
     "name": "stdout",
     "output_type": "stream",
     "text": [
      "The Epoch number 1\n",
      "  batch 1000 loss: 1.1109645541906357\n",
      "  batch 2000 loss: 2.2200720365047455\n",
      "  batch 3000 loss: 3.331002398967743\n",
      "  batch 4000 loss: 4.442197232365608\n",
      "  batch 5000 loss: 5.55017722427845\n",
      "  batch 6000 loss: 6.657099437475204\n",
      "  batch 7000 loss: 7.764658496499061\n",
      "  batch 8000 loss: 8.871872761130334\n",
      "  batch 9000 loss: 9.979402863740921\n",
      "  batch 10000 loss: 11.087598024845123\n",
      "  batch 11000 loss: 12.193571444869042\n",
      "  batch 12000 loss: 13.298691054344177\n",
      "  batch 13000 loss: 14.403151559352875\n",
      "  batch 14000 loss: 15.508973129987716\n",
      "  batch 15000 loss: 16.614494693040847\n",
      "  batch 16000 loss: 17.720746749520302\n",
      "  batch 17000 loss: 18.824143127799033\n",
      "Validation loss for the epoch 1.1039581007084158\n",
      "Time take by the epoch 1 is 0:05:04.429335\n",
      "The Epoch number 2\n",
      "  batch 1000 loss: 1.103320370078087\n",
      "  batch 2000 loss: 2.206060411810875\n",
      "  batch 3000 loss: 3.3109579626321795\n",
      "  batch 4000 loss: 4.413638509273529\n",
      "  batch 5000 loss: 5.516389053583145\n",
      "  batch 6000 loss: 6.6175456792116165\n",
      "  batch 7000 loss: 7.719424672961235\n",
      "  batch 8000 loss: 8.821092272520065\n",
      "  batch 9000 loss: 9.92245027256012\n",
      "  batch 10000 loss: 11.022550345420838\n",
      "  batch 11000 loss: 12.120507217764855\n",
      "  batch 12000 loss: 13.219568947792053\n",
      "  batch 13000 loss: 14.317921059250832\n",
      "  batch 14000 loss: 15.414903569936753\n",
      "  batch 15000 loss: 16.513176168441774\n",
      "  batch 16000 loss: 17.610252351164817\n",
      "  batch 17000 loss: 18.70888619685173\n",
      "Validation loss for the epoch 1.0975411641815798\n",
      "Time take by the epoch 2 is 0:05:04.070492\n",
      "The Epoch number 3\n",
      "  batch 1000 loss: 1.0966801142692566\n",
      "  batch 2000 loss: 2.193546658039093\n",
      "  batch 3000 loss: 3.2886951444149015\n",
      "  batch 4000 loss: 4.38558089530468\n",
      "  batch 5000 loss: 5.482010026454925\n",
      "  batch 6000 loss: 6.577281827092171\n",
      "  batch 7000 loss: 7.673085847258568\n",
      "  batch 8000 loss: 8.769448827147484\n",
      "  batch 9000 loss: 9.864707137584686\n",
      "  batch 10000 loss: 10.959016135334968\n",
      "  batch 11000 loss: 12.051874633073806\n",
      "  batch 12000 loss: 13.145437255144119\n",
      "  batch 13000 loss: 14.237431836128234\n",
      "  batch 14000 loss: 15.331038037538528\n",
      "  batch 15000 loss: 16.4241194794178\n",
      "  batch 16000 loss: 17.515806312441825\n",
      "  batch 17000 loss: 18.607889401435852\n",
      "Validation loss for the epoch 1.0919350484753958\n",
      "Time take by the epoch 3 is 0:05:04.003167\n",
      "The Epoch number 4\n",
      "  batch 1000 loss: 1.0913789469003676\n",
      "  batch 2000 loss: 2.182046525835991\n",
      "  batch 3000 loss: 3.2731625555753707\n",
      "  batch 4000 loss: 4.363545547723771\n",
      "  batch 5000 loss: 5.451603620290756\n",
      "  batch 6000 loss: 6.541922647595405\n",
      "  batch 7000 loss: 7.631012106537819\n",
      "  batch 8000 loss: 8.720737263083459\n",
      "  batch 9000 loss: 9.809922722816466\n",
      "  batch 10000 loss: 10.901791778206825\n",
      "  batch 11000 loss: 11.989448456168175\n",
      "  batch 12000 loss: 13.07775601184368\n",
      "  batch 13000 loss: 14.167814428329468\n",
      "  batch 14000 loss: 15.256022697091103\n",
      "  batch 15000 loss: 16.342789004802704\n",
      "  batch 16000 loss: 17.43035837960243\n",
      "  batch 17000 loss: 18.51926038014889\n",
      "Validation loss for the epoch 1.0870125726241429\n",
      "Time take by the epoch 4 is 0:05:04.035718\n",
      "The Epoch number 5\n",
      "  batch 1000 loss: 1.086350947201252\n",
      "  batch 2000 loss: 2.17213657861948\n",
      "  batch 3000 loss: 3.2597917932868006\n",
      "  batch 4000 loss: 4.346301491558552\n",
      "  batch 5000 loss: 5.431664490520954\n",
      "  batch 6000 loss: 6.517443837940693\n",
      "  batch 7000 loss: 7.603195940136909\n",
      "  batch 8000 loss: 8.689149845659733\n",
      "  batch 9000 loss: 9.77408416992426\n",
      "  batch 10000 loss: 10.859125915288924\n",
      "  batch 11000 loss: 11.944148709356785\n",
      "  batch 12000 loss: 13.027831408023834\n",
      "  batch 13000 loss: 14.111904136300087\n",
      "  batch 14000 loss: 15.194475250780583\n",
      "  batch 15000 loss: 16.276720215916633\n",
      "  batch 16000 loss: 17.360704574108123\n",
      "  batch 17000 loss: 18.44276352006197\n",
      "Validation loss for the epoch 1.0826844623807017\n",
      "Time take by the epoch 5 is 0:05:04.085080\n",
      "The Epoch number 6\n",
      "  batch 1000 loss: 1.082406526863575\n",
      "  batch 2000 loss: 2.1657142805457115\n",
      "  batch 3000 loss: 3.248854942560196\n",
      "  batch 4000 loss: 4.328977434158325\n",
      "  batch 5000 loss: 5.411721995413304\n",
      "  batch 6000 loss: 6.4917442824840546\n",
      "  batch 7000 loss: 7.573393468320369\n",
      "  batch 8000 loss: 8.654861687541008\n",
      "  batch 9000 loss: 9.735350879132747\n",
      "  batch 10000 loss: 10.817965968072414\n",
      "  batch 11000 loss: 11.898038624286652\n",
      "  batch 12000 loss: 12.97934276407957\n",
      "  batch 13000 loss: 14.058477863967418\n",
      "  batch 14000 loss: 15.138563870668412\n",
      "  batch 15000 loss: 16.215534088730813\n",
      "  batch 16000 loss: 17.29422396695614\n",
      "  batch 17000 loss: 18.37478540080786\n",
      "Validation loss for the epoch 1.0788781225722706\n",
      "Time take by the epoch 6 is 0:05:04.027582\n",
      "The Epoch number 7\n",
      "  batch 1000 loss: 1.0782184357643128\n",
      "  batch 2000 loss: 2.157292874634266\n",
      "  batch 3000 loss: 3.2357637610435486\n",
      "  batch 4000 loss: 4.3157858098745345\n",
      "  batch 5000 loss: 5.394028995335102\n",
      "  batch 6000 loss: 6.471734481930732\n",
      "  batch 7000 loss: 7.548345258653164\n",
      "  batch 8000 loss: 8.62832133203745\n",
      "  batch 9000 loss: 9.704062351167202\n",
      "  batch 10000 loss: 10.781906018197537\n",
      "  batch 11000 loss: 11.858112275123597\n",
      "  batch 12000 loss: 12.935434679389\n",
      "  batch 13000 loss: 14.013428346514702\n",
      "  batch 14000 loss: 15.090326942622662\n",
      "  batch 15000 loss: 16.165914428949357\n",
      "  batch 16000 loss: 17.24158301061392\n",
      "  batch 17000 loss: 18.315994133472444\n",
      "Validation loss for the epoch 1.0755335314181647\n",
      "Time take by the epoch 7 is 0:05:03.991246\n",
      "The Epoch number 8\n",
      "  batch 1000 loss: 1.0732653628587723\n",
      "  batch 2000 loss: 2.1492087315917017\n",
      "  batch 3000 loss: 3.2238531175255773\n",
      "  batch 4000 loss: 4.296337340414524\n",
      "  batch 5000 loss: 5.372882990658283\n",
      "  batch 6000 loss: 6.44689788466692\n",
      "  batch 7000 loss: 7.525100639104843\n",
      "  batch 8000 loss: 8.60163063454628\n",
      "  batch 9000 loss: 9.673653176486493\n",
      "  batch 10000 loss: 10.748389033555984\n",
      "  batch 11000 loss: 11.82376540273428\n",
      "  batch 12000 loss: 12.898169878184795\n",
      "  batch 13000 loss: 13.970121408998967\n",
      "  batch 14000 loss: 15.04437308973074\n",
      "  batch 15000 loss: 16.117388785600664\n",
      "  batch 16000 loss: 17.189495908796786\n",
      "  batch 17000 loss: 18.26271183806658\n",
      "Validation loss for the epoch 1.0726063674344706\n",
      "Time take by the epoch 8 is 0:05:04.034092\n",
      "The Epoch number 9\n",
      "  batch 1000 loss: 1.072854577243328\n",
      "  batch 2000 loss: 2.1448420825004577\n",
      "  batch 3000 loss: 3.216115712404251\n",
      "  batch 4000 loss: 4.287717758715153\n",
      "  batch 5000 loss: 5.360246746003628\n",
      "  batch 6000 loss: 6.432493783473968\n",
      "  batch 7000 loss: 7.505171701908112\n",
      "  batch 8000 loss: 8.580346000194549\n",
      "  batch 9000 loss: 9.65277023512125\n",
      "  batch 10000 loss: 10.723172130703926\n",
      "  batch 11000 loss: 11.793371777534485\n",
      "  batch 12000 loss: 12.864066341340543\n",
      "  batch 13000 loss: 13.937750000596047\n",
      "  batch 14000 loss: 15.007674065351486\n",
      "  batch 15000 loss: 16.079726991951464\n",
      "  batch 16000 loss: 17.150587926745416\n",
      "  batch 17000 loss: 18.22050926810503\n",
      "Validation loss for the epoch 1.0700468290291\n",
      "Time take by the epoch 9 is 0:05:03.998511\n",
      "The Epoch number 10\n",
      "  batch 1000 loss: 1.0690707926750183\n",
      "  batch 2000 loss: 2.139979743540287\n",
      "  batch 3000 loss: 3.212069065988064\n",
      "  batch 4000 loss: 4.280219483315944\n",
      "  batch 5000 loss: 5.346664438724518\n",
      "  batch 6000 loss: 6.417183469355106\n",
      "  batch 7000 loss: 7.486384921491146\n",
      "  batch 8000 loss: 8.554838355720044\n",
      "  batch 9000 loss: 9.62414717400074\n",
      "  batch 10000 loss: 10.693505274116992\n",
      "  batch 11000 loss: 11.761914077043533\n",
      "  batch 12000 loss: 12.829186766684055\n",
      "  batch 13000 loss: 13.89882602572441\n",
      "  batch 14000 loss: 14.968108102738857\n",
      "  batch 15000 loss: 16.03998777937889\n",
      "  batch 16000 loss: 17.111444818079473\n",
      "  batch 17000 loss: 18.179361629903315\n",
      "Validation loss for the epoch 1.0678199908473365\n",
      "Time take by the epoch 10 is 0:05:04.053151\n"
     ]
    }
   ],
   "source": [
    "num_epochs = 10\n",
    "best_vloss = 1000000\n",
    "best_model = None\n",
    "\n",
    "list_of_train_loss = []\n",
    "list_of_val_loss = []\n",
    "\n",
    "for epoch in tqdm(range(num_epochs)):\n",
    "    \n",
    "    start_time = datetime.now()\n",
    "    print(f\"The Epoch number {epoch + 1}\")\n",
    "    \n",
    "    ############ Training Mode ##############################3\n",
    "    \n",
    "    #setting the model to traning mode. Now, certain layers such as batchNorm and dropout behave differently in\n",
    "    #in training and evaluation mode, hence this call helps to acheive it.\n",
    "    model.train()\n",
    "    \n",
    "    avg_loss_for_batch = training_for_one_epoch(train_loader,epoch)\n",
    "    list_of_train_loss.append(avg_loss_for_batch)\n",
    "    \n",
    "    ################ Evaluation Mode ####################\n",
    "    #turns off dropout, batchnorm, adjusts the calculations\n",
    "    \n",
    "    model.eval()\n",
    "    torch.cuda.empty_cache()\n",
    "    avg_val_loss = validate(test_loader)\n",
    "    list_of_val_loss.append(avg_val_loss)\n",
    "    \n",
    "    print(f\"Validation loss for the epoch\",avg_val_loss)\n",
    "    \n",
    "    #Saving the best model!\n",
    "    if avg_val_loss<best_vloss:\n",
    "        #clearly our model is performing better for test set now! \n",
    "        # this might be our best performance\n",
    "        best_model = model\n",
    "        best_vloss = avg_val_loss\n",
    "        model_path = \"model_{}\".format(epoch+1)\n",
    "        \n",
    "        \n",
    "    # if you are only going to use the saved model for inference save the state_dict() this does not save parameters,buffers,etc and thus saves space.\n",
    "    #hoewever if you are going to use the model for fine tuning , do torch.save(model)\n",
    "    \n",
    "    #Save the final best model\n",
    "    torch.save(best_model.state_dict(),model_path)\n",
    "    \n",
    "    \n",
    "    \n",
    "    end_time = datetime.now()\n",
    "    \n",
    "    print(f\"Time take by the epoch {epoch + 1} is {end_time-start_time}\")\n",
    "        "
   ]
  },
  {
   "cell_type": "markdown",
   "id": "94c906ca",
   "metadata": {
    "papermill": {
     "duration": 0.018692,
     "end_time": "2023-05-09T06:18:42.886535",
     "exception": false,
     "start_time": "2023-05-09T06:18:42.867843",
     "status": "completed"
    },
    "tags": []
   },
   "source": [
    "## Plot the train and val loss"
   ]
  },
  {
   "cell_type": "code",
   "execution_count": 34,
   "id": "6819dddb",
   "metadata": {
    "execution": {
     "iopub.execute_input": "2023-05-09T06:18:42.925518Z",
     "iopub.status.busy": "2023-05-09T06:18:42.924795Z",
     "iopub.status.idle": "2023-05-09T06:18:43.307936Z",
     "shell.execute_reply": "2023-05-09T06:18:43.307075Z"
    },
    "papermill": {
     "duration": 0.404857,
     "end_time": "2023-05-09T06:18:43.310018",
     "exception": false,
     "start_time": "2023-05-09T06:18:42.905161",
     "status": "completed"
    },
    "tags": []
   },
   "outputs": [
    {
     "data": {
      "image/png": "[encoded data removed]",
      "text/plain": [
       "<Figure size 640x480 with 1 Axes>"
      ]
     },
     "metadata": {},
     "output_type": "display_data"
    }
   ],
   "source": [
    "import matplotlib.pyplot as plt\n",
    "\n",
    "x_axis = list(range(1,num_epochs+1))\n",
    "\n",
    "\n",
    "plt.plot(x_axis,list_of_train_loss,color=\"green\",label=\"train_loss\")\n",
    "plt.plot(x_axis,list_of_val_loss,color=\"blue\",label=\"val_loss\")\n",
    "\n",
    "plt.xlabel(\"Epochs\")\n",
    "plt.ylabel(\"Loss\")\n",
    "plt.title(\"Train vs Validation loss plot\")\n",
    "plt.legend()\n",
    "\n",
    "plt.show()"
   ]
  },
  {
   "cell_type": "code",
   "execution_count": null,
   "id": "dd53f8d1",
   "metadata": {
    "papermill": {
     "duration": 0.018697,
     "end_time": "2023-05-09T06:18:43.348275",
     "exception": false,
     "start_time": "2023-05-09T06:18:43.329578",
     "status": "completed"
    },
    "tags": []
   },
   "outputs": [],
   "source": []
  },
  {
   "cell_type": "code",
   "execution_count": null,
   "id": "12c98fdc",
   "metadata": {
    "papermill": {
     "duration": 0.019319,
     "end_time": "2023-05-09T06:18:43.387437",
     "exception": false,
     "start_time": "2023-05-09T06:18:43.368118",
     "status": "completed"
    },
    "tags": []
   },
   "outputs": [],
   "source": []
  }
 ],
 "metadata": {
  "kernelspec": {
   "display_name": "Python 3",
   "language": "python",
   "name": "python3"
  },
  "language_info": {
   "codemirror_mode": {
    "name": "ipython",
    "version": 3
   },
   "file_extension": ".py",
   "mimetype": "text/x-python",
   "name": "python",
   "nbconvert_exporter": "python",
   "pygments_lexer": "ipython3",
   "version": "3.10.10"
  },
  "papermill": {
   "default_parameters": {},
   "duration": 3121.891012,
   "end_time": "2023-05-09T06:18:46.639015",
   "environment_variables": {},
   "exception": null,
   "input_path": "__notebook__.ipynb",
   "output_path": "__notebook__.ipynb",
   "parameters": {},
   "start_time": "2023-05-09T05:26:44.748003",
   "version": "2.4.0"
  },
  "widgets": {
   "application/vnd.jupyter.widget-state+json": {
    "state": {
     "05c998c0d2bf4a9494f6f8c0ecbc0f0a": {
      "model_module": "@jupyter-widgets/controls",
      "model_module_version": "1.5.0",
      "model_name": "DescriptionStyleModel",
      "state": {
       "_model_module": "@jupyter-widgets/controls",
       "_model_module_version": "1.5.0",
       "_model_name": "DescriptionStyleModel",
       "_view_count": null,
       "_view_module": "@jupyter-widgets/base",
       "_view_module_version": "1.2.0",
       "_view_name": "StyleView",
       "description_width": ""
      }
     },
     "2cb9046684244849827861075b46fea5": {
      "model_module": "@jupyter-widgets/controls",
      "model_module_version": "1.5.0",
      "model_name": "FloatProgressModel",
      "state": {
       "_dom_classes": [],
       "_model_module": "@jupyter-widgets/controls",
       "_model_module_version": "1.5.0",
       "_model_name": "FloatProgressModel",
       "_view_count": null,
       "_view_module": "@jupyter-widgets/controls",
       "_view_module_version": "1.5.0",
       "_view_name": "ProgressView",
       "bar_style": "success",
       "description": "",
       "description_tooltip": null,
       "layout": "IPY_MODEL_5c262f7f07794a44b5ed1f473102ade9",
       "max": 10.0,
       "min": 0.0,
       "orientation": "horizontal",
       "style": "IPY_MODEL_98e77744c9c54055838a10b56e7d3539",
       "value": 10.0
      }
     },
     "5c262f7f07794a44b5ed1f473102ade9": {
      "model_module": "@jupyter-widgets/base",
      "model_module_version": "1.2.0",
      "model_name": "LayoutModel",
      "state": {
       "_model_module": "@jupyter-widgets/base",
       "_model_module_version": "1.2.0",
       "_model_name": "LayoutModel",
       "_view_count": null,
       "_view_module": "@jupyter-widgets/base",
       "_view_module_version": "1.2.0",
       "_view_name": "LayoutView",
       "align_content": null,
       "align_items": null,
       "align_self": null,
       "border": null,
       "bottom": null,
       "display": null,
       "flex": null,
       "flex_flow": null,
       "grid_area": null,
       "grid_auto_columns": null,
       "grid_auto_flow": null,
       "grid_auto_rows": null,
       "grid_column": null,
       "grid_gap": null,
       "grid_row": null,
       "grid_template_areas": null,
       "grid_template_columns": null,
       "grid_template_rows": null,
       "height": null,
       "justify_content": null,
       "justify_items": null,
       "left": null,
       "margin": null,
       "max_height": null,
       "max_width": null,
       "min_height": null,
       "min_width": null,
       "object_fit": null,
       "object_position": null,
       "order": null,
       "overflow": null,
       "overflow_x": null,
       "overflow_y": null,
       "padding": null,
       "right": null,
       "top": null,
       "visibility": null,
       "width": null
      }
     },
     "6686720a521c4f43829d446b6af081a9": {
      "model_module": "@jupyter-widgets/controls",
      "model_module_version": "1.5.0",
      "model_name": "HTMLModel",
      "state": {
       "_dom_classes": [],
       "_model_module": "@jupyter-widgets/controls",
       "_model_module_version": "1.5.0",
       "_model_name": "HTMLModel",
       "_view_count": null,
       "_view_module": "@jupyter-widgets/controls",
       "_view_module_version": "1.5.0",
       "_view_name": "HTMLView",
       "description": "",
       "description_tooltip": null,
       "layout": "IPY_MODEL_a2cfcd96b14d4678a233150ccca7937b",
       "placeholder": "​",
       "style": "IPY_MODEL_90e483062e784060895ee031aeae6b98",
       "value": "100%"
      }
     },
     "90e483062e784060895ee031aeae6b98": {
      "model_module": "@jupyter-widgets/controls",
      "model_module_version": "1.5.0",
      "model_name": "DescriptionStyleModel",
      "state": {
       "_model_module": "@jupyter-widgets/controls",
       "_model_module_version": "1.5.0",
       "_model_name": "DescriptionStyleModel",
       "_view_count": null,
       "_view_module": "@jupyter-widgets/base",
       "_view_module_version": "1.2.0",
       "_view_name": "StyleView",
       "description_width": ""
      }
     },
     "98e77744c9c54055838a10b56e7d3539": {
      "model_module": "@jupyter-widgets/controls",
      "model_module_version": "1.5.0",
      "model_name": "ProgressStyleModel",
      "state": {
       "_model_module": "@jupyter-widgets/controls",
       "_model_module_version": "1.5.0",
       "_model_name": "ProgressStyleModel",
       "_view_count": null,
       "_view_module": "@jupyter-widgets/base",
       "_view_module_version": "1.2.0",
       "_view_name": "StyleView",
       "bar_color": null,
       "description_width": ""
      }
     },
     "a2cfcd96b14d4678a233150ccca7937b": {
      "model_module": "@jupyter-widgets/base",
      "model_module_version": "1.2.0",
      "model_name": "LayoutModel",
      "state": {
       "_model_module": "@jupyter-widgets/base",
       "_model_module_version": "1.2.0",
       "_model_name": "LayoutModel",
       "_view_count": null,
       "_view_module": "@jupyter-widgets/base",
       "_view_module_version": "1.2.0",
       "_view_name": "LayoutView",
       "align_content": null,
       "align_items": null,
       "align_self": null,
       "border": null,
       "bottom": null,
       "display": null,
       "flex": null,
       "flex_flow": null,
       "grid_area": null,
       "grid_auto_columns": null,
       "grid_auto_flow": null,
       "grid_auto_rows": null,
       "grid_column": null,
       "grid_gap": null,
       "grid_row": null,
       "grid_template_areas": null,
       "grid_template_columns": null,
       "grid_template_rows": null,
       "height": null,
       "justify_content": null,
       "justify_items": null,
       "left": null,
       "margin": null,
       "max_height": null,
       "max_width": null,
       "min_height": null,
       "min_width": null,
       "object_fit": null,
       "object_position": null,
       "order": null,
       "overflow": null,
       "overflow_x": null,
       "overflow_y": null,
       "padding": null,
       "right": null,
       "top": null,
       "visibility": null,
       "width": null
      }
     },
     "ab7f71cdcdee4129bf8f954769592784": {
      "model_module": "@jupyter-widgets/controls",
      "model_module_version": "1.5.0",
      "model_name": "HTMLModel",
      "state": {
       "_dom_classes": [],
       "_model_module": "@jupyter-widgets/controls",
       "_model_module_version": "1.5.0",
       "_model_name": "HTMLModel",
       "_view_count": null,
       "_view_module": "@jupyter-widgets/controls",
       "_view_module_version": "1.5.0",
       "_view_name": "HTMLView",
       "description": "",
       "description_tooltip": null,
       "layout": "IPY_MODEL_e90c6a3209a04b3293edd729a4bd7754",
       "placeholder": "​",
       "style": "IPY_MODEL_05c998c0d2bf4a9494f6f8c0ecbc0f0a",
       "value": " 10/10 [50:40&lt;00:00, 304.04s/it]"
      }
     },
     "b3ed2a802ff648db95b5027ce2d430ec": {
      "model_module": "@jupyter-widgets/controls",
      "model_module_version": "1.5.0",
      "model_name": "HBoxModel",
      "state": {
       "_dom_classes": [],
       "_model_module": "@jupyter-widgets/controls",
       "_model_module_version": "1.5.0",
       "_model_name": "HBoxModel",
       "_view_count": null,
       "_view_module": "@jupyter-widgets/controls",
       "_view_module_version": "1.5.0",
       "_view_name": "HBoxView",
       "box_style": "",
       "children": [
        "IPY_MODEL_6686720a521c4f43829d446b6af081a9",
        "IPY_MODEL_2cb9046684244849827861075b46fea5",
        "IPY_MODEL_ab7f71cdcdee4129bf8f954769592784"
       ],
       "layout": "IPY_MODEL_ef21d7ab96fc40e792d15832cb9785af"
      }
     },
     "e90c6a3209a04b3293edd729a4bd7754": {
      "model_module": "@jupyter-widgets/base",
      "model_module_version": "1.2.0",
      "model_name": "LayoutModel",
      "state": {
       "_model_module": "@jupyter-widgets/base",
       "_model_module_version": "1.2.0",
       "_model_name": "LayoutModel",
       "_view_count": null,
       "_view_module": "@jupyter-widgets/base",
       "_view_module_version": "1.2.0",
       "_view_name": "LayoutView",
       "align_content": null,
       "align_items": null,
       "align_self": null,
       "border": null,
       "bottom": null,
       "display": null,
       "flex": null,
       "flex_flow": null,
       "grid_area": null,
       "grid_auto_columns": null,
       "grid_auto_flow": null,
       "grid_auto_rows": null,
       "grid_column": null,
       "grid_gap": null,
       "grid_row": null,
       "grid_template_areas": null,
       "grid_template_columns": null,
       "grid_template_rows": null,
       "height": null,
       "justify_content": null,
       "justify_items": null,
       "left": null,
       "margin": null,
       "max_height": null,
       "max_width": null,
       "min_height": null,
       "min_width": null,
       "object_fit": null,
       "object_position": null,
       "order": null,
       "overflow": null,
       "overflow_x": null,
       "overflow_y": null,
       "padding": null,
       "right": null,
       "top": null,
       "visibility": null,
       "width": null
      }
     },
     "ef21d7ab96fc40e792d15832cb9785af": {
      "model_module": "@jupyter-widgets/base",
      "model_module_version": "1.2.0",
      "model_name": "LayoutModel",
      "state": {
       "_model_module": "@jupyter-widgets/base",
       "_model_module_version": "1.2.0",
       "_model_name": "LayoutModel",
       "_view_count": null,
       "_view_module": "@jupyter-widgets/base",
       "_view_module_version": "1.2.0",
       "_view_name": "LayoutView",
       "align_content": null,
       "align_items": null,
       "align_self": null,
       "border": null,
       "bottom": null,
       "display": null,
       "flex": null,
       "flex_flow": null,
       "grid_area": null,
       "grid_auto_columns": null,
       "grid_auto_flow": null,
       "grid_auto_rows": null,
       "grid_column": null,
       "grid_gap": null,
       "grid_row": null,
       "grid_template_areas": null,
       "grid_template_columns": null,
       "grid_template_rows": null,
       "height": null,
       "justify_content": null,
       "justify_items": null,
       "left": null,
       "margin": null,
       "max_height": null,
       "max_width": null,
       "min_height": null,
       "min_width": null,
       "object_fit": null,
       "object_position": null,
       "order": null,
       "overflow": null,
       "overflow_x": null,
       "overflow_y": null,
       "padding": null,
       "right": null,
       "top": null,
       "visibility": null,
       "width": null
      }
     }
    },
    "version_major": 2,
    "version_minor": 0
   }
  }
 },
 "nbformat": 4,
 "nbformat_minor": 5
}
